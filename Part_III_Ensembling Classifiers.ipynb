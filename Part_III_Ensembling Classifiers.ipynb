{
 "cells": [
  {
   "cell_type": "markdown",
   "metadata": {},
   "source": [
    "\n",
    "# ensembling classifiers internally using sampling\n",
    "\n",
    "##### Authors: Guillaume Lemaitre <g.lemaitre58@gmail.com>\n",
    "\n",
    "part of script below was cited from:\n",
    "ref. https://imbalanced-learn.readthedocs.io/en/stable/auto_examples/ensemble/plot_comparison_ensemble_classifier.html#sphx-glr-auto-examples-ensemble-plot-comparison-ensemble-classifier-py\n"
   ]
  },
  {
   "cell_type": "code",
   "execution_count": 1,
   "metadata": {},
   "outputs": [
    {
     "name": "stderr",
     "output_type": "stream",
     "text": [
      "C:\\ProgramData\\Anaconda3\\Lib\\site-packages\\dask\\config.py:168: YAMLLoadWarning: calling yaml.load() without Loader=... is deprecated, as the default Loader is unsafe. Please read https://msg.pyyaml.org/load for full details.\n",
      "  data = yaml.load(f.read()) or {}\n",
      "C:\\ProgramData\\Anaconda3\\Lib\\site-packages\\dask\\dataframe\\utils.py:13: FutureWarning: pandas.util.testing is deprecated. Use the functions in the public API at pandas.testing instead.\n",
      "  import pandas.util.testing as tm\n",
      "C:\\ProgramData\\Anaconda3\\Lib\\site-packages\\distributed\\config.py:20: YAMLLoadWarning: calling yaml.load() without Loader=... is deprecated, as the default Loader is unsafe. Please read https://msg.pyyaml.org/load for full details.\n",
      "  defaults = yaml.load(f)\n"
     ]
    }
   ],
   "source": [
    "# Authors: Guillaume Lemaitre <g.lemaitre58@gmail.com>\n",
    "# License: MIT\n",
    "\n",
    "import itertools\n",
    "import pandas as pd\n",
    "\n",
    "import matplotlib.pyplot as plt\n",
    "import numpy as np\n",
    "\n",
    "from sklearn.model_selection import train_test_split\n",
    "from sklearn.ensemble import BaggingClassifier\n",
    "from sklearn.ensemble import RandomForestClassifier\n",
    "from sklearn.ensemble import AdaBoostClassifier\n",
    "from sklearn.tree import DecisionTreeClassifier\n",
    "from sklearn.metrics import confusion_matrix, classification_report\n",
    "from sklearn.metrics import balanced_accuracy_score\n",
    "\n",
    "from imblearn.ensemble import BalancedBaggingClassifier\n",
    "from imblearn.ensemble import BalancedRandomForestClassifier\n",
    "from imblearn.ensemble import EasyEnsembleClassifier\n",
    "from imblearn.ensemble import RUSBoostClassifier\n",
    "\n",
    "from imblearn.metrics import geometric_mean_score\n",
    "from sklearn.linear_model import LogisticRegression\n",
    "from sklearn.metrics import roc_auc_score, roc_curve\n",
    "from xgboost import XGBClassifier"
   ]
  },
  {
   "cell_type": "code",
   "execution_count": 2,
   "metadata": {},
   "outputs": [],
   "source": [
    "from helper import *"
   ]
  },
  {
   "cell_type": "code",
   "execution_count": 3,
   "metadata": {},
   "outputs": [],
   "source": [
    "def evaluate_trained_model(lr, X_train, y_train, X_test, y_test):\n",
    "    print('clf report for the testing set:')\n",
    "    print(classification_report(y_test, lr.predict(X_test)))\n",
    "    print('the roc_auc score is:{:0.2f}'.format(roc_auc_score(y_test, lr.predict(X_test))))\n",
    "    \n",
    "    print('clf report for the training set:')\n",
    "    print(classification_report(y_train, lr.predict(X_train)))\n",
    "    print('the roc_auc score is:{:0.2f}'.format(roc_auc_score(y_train, lr.predict(X_train))))"
   ]
  },
  {
   "cell_type": "markdown",
   "metadata": {},
   "source": [
    "# Load the data set\n"
   ]
  },
  {
   "cell_type": "code",
   "execution_count": 4,
   "metadata": {},
   "outputs": [],
   "source": [
    "data = pd.read_pickle(\"mailout_train_cleaned.pkl\")\n",
    "# data = data.drop_duplicates(subset= data.columns[:-1:])\n",
    "data.drop_duplicates(inplace=True)"
   ]
  },
  {
   "cell_type": "code",
   "execution_count": 5,
   "metadata": {},
   "outputs": [],
   "source": [
    "X = data.iloc[:, 0:-1:]\n",
    "y = data.iloc[:, -1]"
   ]
  },
  {
   "cell_type": "code",
   "execution_count": 6,
   "metadata": {},
   "outputs": [],
   "source": [
    "# split into train/test sets\n",
    "X_train, X_test, y_train, y_test = train_test_split(X, y, random_state=42, stratify=y)"
   ]
  },
  {
   "cell_type": "code",
   "execution_count": 7,
   "metadata": {},
   "outputs": [],
   "source": [
    "for col in X.columns:\n",
    "    if any(isinstance(y,(str)) for y in X[col].unique()):  \n",
    "        print('{:}, {:}'.format( col , X[col].unique()))"
   ]
  },
  {
   "cell_type": "markdown",
   "metadata": {},
   "source": [
    "\n",
    "\n"
   ]
  },
  {
   "cell_type": "code",
   "execution_count": 8,
   "metadata": {},
   "outputs": [],
   "source": [
    "def train_clf(model, model_name, ax, X_train = X_train, y_train = y_train, X_test = X_test, y_test = y_test):\n",
    "    model.fit(X_train, y_train)\n",
    "    y_pred_model = model.predict(X_test)\n",
    "    ra_score = roc_auc_score( y_test, y_pred_model)\n",
    "    print('{:} ROC AUC accuracy: {:.2f}:'.format(model_name, roc_auc_score( y_test, y_pred_model)))\n",
    "\n",
    "    cm_model = confusion_matrix(y_test, y_pred_model)\n",
    "    \n",
    "    if ax is not None:\n",
    "        plot_confusion_matrix(cm_model, classes= [0,1], ax=ax,\n",
    "                          title= '{:}'.format(model_name))\n",
    "    \n",
    "    return cm_model, ra_score"
   ]
  },
  {
   "cell_type": "code",
   "execution_count": 9,
   "metadata": {},
   "outputs": [],
   "source": [
    "n_e = 50 \n",
    "seed = 0\n",
    "\n",
    "base_estimator = AdaBoostClassifier(n_estimators=10)\n",
    "models = dict({\n",
    "#     \"DecisionTree\": DecisionTreeClassifier(),\n",
    "#     \"Bagging\": BaggingClassifier(n_estimators=n_e, random_state=seed, n_jobs=-1),\n",
    "    \"BalancedBagging\": BalancedBaggingClassifier(n_estimators=n_e, random_state=seed,n_jobs=-1),\n",
    "#     \"RandomForest\":RandomForestClassifier(n_estimators=n_e, random_state=seed, n_jobs=-1),\n",
    "    \"BalancedRandomForest\": BalancedRandomForestClassifier(n_estimators=n_e, random_state=seed, n_jobs=-1),\n",
    "#     \"AdaBoost\": AdaBoostClassifier(n_estimators=10),\n",
    "    \"EasyEnsemble\":EasyEnsembleClassifier(n_estimators=10,base_estimator=base_estimator,n_jobs=-1),\n",
    "    \"RUSBoost\":RUSBoostClassifier(n_estimators=10,base_estimator=base_estimator),\n",
    "#     \"XGB\":XGBClassifier()\n",
    "    })"
   ]
  },
  {
   "cell_type": "code",
   "execution_count": 10,
   "metadata": {
    "scrolled": false
   },
   "outputs": [
    {
     "name": "stdout",
     "output_type": "stream",
     "text": [
      "BalancedBagging ROC AUC accuracy: 0.77:\n",
      "BalancedRandomForest ROC AUC accuracy: 0.74:\n",
      "EasyEnsemble ROC AUC accuracy: 0.78:\n",
      "RUSBoost ROC AUC accuracy: 0.78:\n"
     ]
    },
    {
     "data": {
      "image/png": "[encoded data removed]",
      "text/plain": [
       "<Figure size 864x648 with 6 Axes>"
      ]
     },
     "metadata": {
      "needs_background": "light"
     },
     "output_type": "display_data"
    }
   ],
   "source": [
    "fig, ax = plt.subplots(int(np.ceil(len(models)/3)), 3, figsize=(12,9))\n",
    "\n",
    "for idx, item in enumerate(models.items()):\n",
    "    train_clf(model=item[1], model_name=item[0], ax=ax[idx//3, idx%3])"
   ]
  },
  {
   "cell_type": "markdown",
   "metadata": {},
   "source": [
    "# use the subset to retrain the model"
   ]
  },
  {
   "cell_type": "code",
   "execution_count": 11,
   "metadata": {},
   "outputs": [],
   "source": [
    "features_importance = pd.DataFrame(item[1].feature_importances_, columns=['importance'])"
   ]
  },
  {
   "cell_type": "code",
   "execution_count": 12,
   "metadata": {},
   "outputs": [],
   "source": [
    "features_importance['feature_names']=X.columns"
   ]
  },
  {
   "cell_type": "code",
   "execution_count": 13,
   "metadata": {},
   "outputs": [],
   "source": [
    "features_importance_sorted = features_importance.sort_values(by = ['importance'], ascending=False)"
   ]
  },
  {
   "cell_type": "code",
   "execution_count": 14,
   "metadata": {},
   "outputs": [],
   "source": [
    "base_estimator = AdaBoostClassifier(n_estimators=10)\n",
    "model = EasyEnsembleClassifier(n_estimators=10, base_estimator=base_estimator,n_jobs=-1)"
   ]
  },
  {
   "cell_type": "code",
   "execution_count": 15,
   "metadata": {},
   "outputs": [
    {
     "name": "stdout",
     "output_type": "stream",
     "text": [
      "clf with 3 features ROC AUC accuracy: 0.78:\n",
      "clf with 8 features ROC AUC accuracy: 0.78:\n",
      "clf with 13 features ROC AUC accuracy: 0.78:\n",
      "clf with 18 features ROC AUC accuracy: 0.78:\n",
      "clf with 23 features ROC AUC accuracy: 0.78:\n",
      "clf with 28 features ROC AUC accuracy: 0.78:\n",
      "clf with 33 features ROC AUC accuracy: 0.78:\n",
      "clf with 38 features ROC AUC accuracy: 0.78:\n",
      "clf with 43 features ROC AUC accuracy: 0.78:\n",
      "clf with 48 features ROC AUC accuracy: 0.78:\n",
      "clf with 1151 features ROC AUC accuracy: 0.78:\n"
     ]
    }
   ],
   "source": [
    "scores = []\n",
    "feature_counts = np.arange(3, 50, 5)\n",
    "feature_counts = np.append(feature_counts, len(features_importance))\n",
    "cms = []\n",
    "\n",
    "for feature_count in feature_counts:\n",
    "    subset_features = features_importance_sorted.iloc[:feature_count]['feature_names']\n",
    "    X_train_sub, X_test_sub = X_train[subset_features], X_test[subset_features]\n",
    "    cm, score = train_clf(model, 'clf with {:} features'.format(feature_count), ax = None , X_train = X_train_sub, y_train = y_train, X_test = X_test_sub, y_test = y_test)\n",
    "    scores.append(score)\n",
    "    cms.append(cm)"
   ]
  },
  {
   "cell_type": "code",
   "execution_count": 16,
   "metadata": {},
   "outputs": [],
   "source": [
    "most_relavent_features = feature_counts[np.argmax(scores)]\n",
    "subset_features = features_importance_sorted.iloc[:most_relavent_features]['feature_names']"
   ]
  },
  {
   "cell_type": "code",
   "execution_count": 17,
   "metadata": {},
   "outputs": [
    {
     "data": {
      "text/html": [
       "<div>\n",
       "<style scoped>\n",
       "    .dataframe tbody tr th:only-of-type {\n",
       "        vertical-align: middle;\n",
       "    }\n",
       "\n",
       "    .dataframe tbody tr th {\n",
       "        vertical-align: top;\n",
       "    }\n",
       "\n",
       "    .dataframe thead th {\n",
       "        text-align: right;\n",
       "    }\n",
       "</style>\n",
       "<table border=\"1\" class=\"dataframe\">\n",
       "  <thead>\n",
       "    <tr style=\"text-align: right;\">\n",
       "      <th></th>\n",
       "      <th>importance</th>\n",
       "      <th>feature_names</th>\n",
       "    </tr>\n",
       "  </thead>\n",
       "  <tbody>\n",
       "    <tr>\n",
       "      <th>918</th>\n",
       "      <td>0.10</td>\n",
       "      <td>D19_SOZIALES_1.0</td>\n",
       "    </tr>\n",
       "    <tr>\n",
       "      <th>11</th>\n",
       "      <td>0.04</td>\n",
       "      <td>GEBURTSJAHR</td>\n",
       "    </tr>\n",
       "    <tr>\n",
       "      <th>382</th>\n",
       "      <td>0.04</td>\n",
       "      <td>D19_LETZTER_KAUF_BRANCHE_26.0</td>\n",
       "    </tr>\n",
       "    <tr>\n",
       "      <th>9</th>\n",
       "      <td>0.03</td>\n",
       "      <td>EINGEZOGENAM_HH_JAHR</td>\n",
       "    </tr>\n",
       "    <tr>\n",
       "      <th>952</th>\n",
       "      <td>0.03</td>\n",
       "      <td>FINANZ_SPARER</td>\n",
       "    </tr>\n",
       "    <tr>\n",
       "      <th>1015</th>\n",
       "      <td>0.03</td>\n",
       "      <td>KBA05_ZUL4</td>\n",
       "    </tr>\n",
       "    <tr>\n",
       "      <th>971</th>\n",
       "      <td>0.02</td>\n",
       "      <td>KBA05_DIESEL</td>\n",
       "    </tr>\n",
       "    <tr>\n",
       "      <th>975</th>\n",
       "      <td>0.02</td>\n",
       "      <td>KBA05_HERST2</td>\n",
       "    </tr>\n",
       "    <tr>\n",
       "      <th>1094</th>\n",
       "      <td>0.02</td>\n",
       "      <td>KBA13_KW_90</td>\n",
       "    </tr>\n",
       "    <tr>\n",
       "      <th>12</th>\n",
       "      <td>0.02</td>\n",
       "      <td>KBA13_ANZAHL_PKW</td>\n",
       "    </tr>\n",
       "  </tbody>\n",
       "</table>\n",
       "</div>"
      ],
      "text/plain": [
       "      importance                  feature_names\n",
       "918         0.10               D19_SOZIALES_1.0\n",
       "11          0.04                    GEBURTSJAHR\n",
       "382         0.04  D19_LETZTER_KAUF_BRANCHE_26.0\n",
       "9           0.03           EINGEZOGENAM_HH_JAHR\n",
       "952         0.03                  FINANZ_SPARER\n",
       "1015        0.03                     KBA05_ZUL4\n",
       "971         0.02                   KBA05_DIESEL\n",
       "975         0.02                   KBA05_HERST2\n",
       "1094        0.02                    KBA13_KW_90\n",
       "12          0.02               KBA13_ANZAHL_PKW"
      ]
     },
     "execution_count": 17,
     "metadata": {},
     "output_type": "execute_result"
    }
   ],
   "source": [
    "features_importance_sorted.head(10)"
   ]
  },
  {
   "cell_type": "markdown",
   "metadata": {},
   "source": [
    "# fine tune the model using grid_search_cv"
   ]
  },
  {
   "cell_type": "code",
   "execution_count": 18,
   "metadata": {},
   "outputs": [],
   "source": [
    "from sklearn.model_selection import StratifiedKFold\n",
    "from sklearn.model_selection import GridSearchCV "
   ]
  },
  {
   "cell_type": "code",
   "execution_count": 19,
   "metadata": {},
   "outputs": [
    {
     "name": "stdout",
     "output_type": "stream",
     "text": [
      "Fitting 5 folds for each of 9 candidates, totalling 45 fits\n"
     ]
    },
    {
     "name": "stderr",
     "output_type": "stream",
     "text": [
      "[Parallel(n_jobs=6)]: Using backend LokyBackend with 6 concurrent workers.\n",
      "[Parallel(n_jobs=6)]: Done  45 out of  45 | elapsed: 10.3min finished\n"
     ]
    },
    {
     "data": {
      "text/plain": [
       "0.7926607733289688"
      ]
     },
     "execution_count": 19,
     "metadata": {},
     "output_type": "execute_result"
    }
   ],
   "source": [
    "base_estimator = AdaBoostClassifier()\n",
    "clf = EasyEnsembleClassifier(base_estimator=base_estimator)\n",
    "\n",
    "cv = StratifiedKFold(n_splits= 5, shuffle=True, random_state= 42) \n",
    "param_grid = [{'base_estimator__n_estimators':[30], \n",
    "               \"base_estimator\": [EasyEnsembleClassifier(),\n",
    "                                  RUSBoostClassifier(),\n",
    "                                  BalancedBaggingClassifier()\n",
    "                                 ],\n",
    "               'n_estimators':[10, 30, 50], \n",
    "               'warm_start':[False]\n",
    "              }]\n",
    "score = 'roc_auc'\n",
    "grid = GridSearchCV( clf, param_grid, scoring= score, n_jobs= 6, verbose=1, cv = cv)\n",
    "\n",
    "grid.fit(X[subset_features], y)\n",
    "\n",
    "grid.best_score_"
   ]
  },
  {
   "cell_type": "code",
   "execution_count": 20,
   "metadata": {},
   "outputs": [],
   "source": [
    "# grid.get_params()"
   ]
  },
  {
   "cell_type": "code",
   "execution_count": 21,
   "metadata": {},
   "outputs": [
    {
     "data": {
      "text/plain": [
       "{'base_estimator': RUSBoostClassifier(n_estimators=30),\n",
       " 'base_estimator__n_estimators': 30,\n",
       " 'n_estimators': 50,\n",
       " 'warm_start': False}"
      ]
     },
     "execution_count": 21,
     "metadata": {},
     "output_type": "execute_result"
    }
   ],
   "source": [
    "grid.best_params_"
   ]
  },
  {
   "cell_type": "code",
   "execution_count": 22,
   "metadata": {},
   "outputs": [
    {
     "data": {
      "text/plain": [
       "array([0.78342612, 0.78847662, 0.78964111, 0.79199267, 0.79167427,\n",
       "       0.79266077, 0.77183993, 0.77326049, 0.77438792])"
      ]
     },
     "execution_count": 22,
     "metadata": {},
     "output_type": "execute_result"
    }
   ],
   "source": [
    "grid.cv_results_['mean_test_score']"
   ]
  },
  {
   "cell_type": "code",
   "execution_count": 23,
   "metadata": {
    "scrolled": false
   },
   "outputs": [
    {
     "data": {
      "text/plain": [
       "0.7926607733289688"
      ]
     },
     "execution_count": 23,
     "metadata": {},
     "output_type": "execute_result"
    }
   ],
   "source": [
    "grid.best_score_"
   ]
  },
  {
   "cell_type": "markdown",
   "metadata": {},
   "source": [
    "# Part 3: Kaggle Competition\n",
    "\n",
    "Now that you've created a model to predict which individuals are most likely to respond to a mailout campaign, it's time to test that model in competition through Kaggle. If you click on the link here, you'll be taken to the competition page where, if you have a Kaggle account, you can enter. If you're one of the top performers, you may have the chance to be contacted by a hiring manager from Arvato or Bertelsmann for an interview!\n",
    "\n",
    "Your entry to the competition should be a CSV file with two columns. The first column should be a copy of \"LNR\", which acts as an ID number for each individual in the \"TEST\" partition. The second column, \"RESPONSE\", should be some measure of how likely each individual became a customer – this might not be a straightforward probability. As you should have found in Part 2, there is a large output class imbalance, where most individuals did not respond to the mailout. Thus, predicting individual classes and using accuracy does not seem to be an appropriate performance evaluation method. Instead, the competition will be using AUC to evaluate performance. The exact values of the \"RESPONSE\" column do not matter as much: only that the higher values try to capture as many of the actual customers as possible, early in the ROC curve sweep."
   ]
  },
  {
   "cell_type": "code",
   "execution_count": 24,
   "metadata": {},
   "outputs": [
    {
     "name": "stderr",
     "output_type": "stream",
     "text": [
      "C:\\ProgramData\\Anaconda3\\Lib\\site-packages\\IPython\\core\\interactiveshell.py:3049: DtypeWarning: Columns (18,19) have mixed types.Specify dtype option on import or set low_memory=False.\n",
      "  interactivity=interactivity, compiler=compiler, result=result)\n"
     ]
    }
   ],
   "source": [
    "mail_out_test = pd.read_pickle(\"mailout_test_cleaned.pkl\")\n",
    "mailout_test = pd.read_csv('./data/Udacity_MAILOUT_052018_TEST.csv', sep=';')"
   ]
  },
  {
   "cell_type": "code",
   "execution_count": 31,
   "metadata": {},
   "outputs": [
    {
     "data": {
      "text/plain": [
       "918                  D19_SOZIALES_1.0\n",
       "11                        GEBURTSJAHR\n",
       "382     D19_LETZTER_KAUF_BRANCHE_26.0\n",
       "9                EINGEZOGENAM_HH_JAHR\n",
       "952                     FINANZ_SPARER\n",
       "1015                       KBA05_ZUL4\n",
       "971                      KBA05_DIESEL\n",
       "975                      KBA05_HERST2\n",
       "1094                      KBA13_KW_90\n",
       "12                   KBA13_ANZAHL_PKW\n",
       "966                    KBA05_AUTOQUOT\n",
       "961                      KBA05_ANHANG\n",
       "994                        KBA05_MOD3\n",
       "1065             KBA13_HERST_BMW_BENZ\n",
       "978                      KBA05_HERST5\n",
       "1060                  KBA13_HALTER_60\n",
       "906                      WOHNLAGE_3.0\n",
       "1070                  KBA13_KMH_0_140\n",
       "1071                    KBA13_KMH_110\n",
       "392        D19_NAHRUNGSERGAENZUNG_0.0\n",
       "905                      WOHNLAGE_2.0\n",
       "1150                   W_KEIT_KIND_HH\n",
       "1075                    KBA13_KMH_210\n",
       "791         PRAEGENDE_JUGENDJAHRE_1.0\n",
       "1053                  KBA13_HALTER_25\n",
       "271                  D19_BIO_OEKO_0.0\n",
       "797         PRAEGENDE_JUGENDJAHRE_7.0\n",
       "631                   KBA05_MOTOR_1.0\n",
       "366     D19_LETZTER_KAUF_BRANCHE_10.0\n",
       "1097                     KBA13_NISSAN\n",
       "1081         KBA13_KRSHERST_FORD_OPEL\n",
       "135               CAMEO_DEU_2015_39.0\n",
       "666                    KOMBIALTER_4.0\n",
       "126               CAMEO_DEU_2015_30.0\n",
       "977                      KBA05_HERST4\n",
       "976                      KBA05_HERST3\n",
       "449       D19_TELKO_OFFLINE_DATUM_5.0\n",
       "190                     CJT_TYP_4_2.0\n",
       "Name: feature_names, dtype: object"
      ]
     },
     "execution_count": 31,
     "metadata": {},
     "output_type": "execute_result"
    }
   ],
   "source": [
    "subset_features"
   ]
  },
  {
   "cell_type": "code",
   "execution_count": 25,
   "metadata": {},
   "outputs": [],
   "source": [
    "pre_dictions = grid.predict(mail_out_test[subset_features])"
   ]
  },
  {
   "cell_type": "code",
   "execution_count": 26,
   "metadata": {},
   "outputs": [],
   "source": [
    "test_prob = grid.predict_proba(mail_out_test[subset_features])"
   ]
  },
  {
   "cell_type": "code",
   "execution_count": 27,
   "metadata": {},
   "outputs": [],
   "source": [
    "mailout_test['RESPONSE'] = test_prob[:,1:2]"
   ]
  },
  {
   "cell_type": "code",
   "execution_count": 28,
   "metadata": {},
   "outputs": [],
   "source": [
    "to_submission = mailout_test[['LNR', \"RESPONSE\"]]"
   ]
  },
  {
   "cell_type": "code",
   "execution_count": 30,
   "metadata": {},
   "outputs": [],
   "source": [
    "to_submission.to_csv('thrid_trial.csv', index=None)"
   ]
  },
  {
   "cell_type": "code",
   "execution_count": null,
   "metadata": {},
   "outputs": [],
   "source": []
  }
 ],
 "metadata": {
  "kernelspec": {
   "display_name": "Python 3",
   "language": "python",
   "name": "python3"
  },
  "language_info": {
   "codemirror_mode": {
    "name": "ipython",
    "version": 3
   },
   "file_extension": ".py",
   "mimetype": "text/x-python",
   "name": "python",
   "nbconvert_exporter": "python",
   "pygments_lexer": "ipython3",
   "version": "3.7.3"
  },
  "toc": {
   "base_numbering": 1,
   "nav_menu": {},
   "number_sections": true,
   "sideBar": true,
   "skip_h1_title": false,
   "title_cell": "Table of Contents",
   "title_sidebar": "Contents",
   "toc_cell": false,
   "toc_position": {},
   "toc_section_display": true,
   "toc_window_display": false
  }
 },
 "nbformat": 4,
 "nbformat_minor": 1
}

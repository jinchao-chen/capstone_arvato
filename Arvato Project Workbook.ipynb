{
 "cells": [
  {
   "cell_type": "markdown",
   "metadata": {},
   "source": [
    "# Capstone Project: Create a Customer Segmentation Report for Arvato Financial Services\n",
    "\n",
    "In this project, you will analyze demographics data for customers of a mail-order sales company in Germany, comparing it against demographics information for the general population. You'll use unsupervised learning techniques to perform customer segmentation, identifying the parts of the population that best describe the core customer base of the company. Then, you'll apply what you've learned on a third dataset with demographics information for targets of a marketing campaign for the company, and use a model to predict which individuals are most likely to convert into becoming customers for the company. The data that you will use has been provided by our partners at Bertelsmann Arvato Analytics, and represents a real-life data science task.\n",
    "\n",
    "If you completed the first term of this program, you will be familiar with the first part of this project, from the unsupervised learning project. The versions of those two datasets used in this project will include many more features and has not been pre-cleaned. You are also free to choose whatever approach you'd like to analyzing the data rather than follow pre-determined steps. In your work on this project, make sure that you carefully document your steps and decisions, since your main deliverable for this project will be a blog post reporting your findings."
   ]
  },
  {
   "cell_type": "markdown",
   "metadata": {},
   "source": [
    "to do list\n",
    "\n",
    "- principle component analysis\n",
    "- use different data umputing method for the data \n",
    "- what is the difference between pd.get_dummies and sklearn \n",
    "- data-refraction to amk"
   ]
  },
  {
   "cell_type": "code",
   "execution_count": 76,
   "metadata": {},
   "outputs": [],
   "source": [
    "# import libraries here; add more as necessary\n",
    "import numpy as np\n",
    "import pandas as pd\n",
    "import matplotlib.pyplot as plt\n",
    "import seaborn as sns\n",
    "import pandas_profiling \n",
    "# magic word for producing visualizations in notebook\n",
    "# %matplotlib inline"
   ]
  },
  {
   "cell_type": "code",
   "execution_count": 77,
   "metadata": {},
   "outputs": [],
   "source": [
    "def drop_columns(df, threshold = 0.5):\n",
    "    \"\"\"Drop columns where the ratio of nan's surpass threshold\n",
    "    \n",
    "    Input:\n",
    "    \n",
    "    \n",
    "    Return:\n",
    "    \"\"\"\n",
    "    columns = df.columns\n",
    "    filtered_col = df.isnull().mean() > threshold \n",
    "    columns_to_drop = columns[filtered_col] \n",
    "    df = df.drop(columns= columns_to_drop)\n",
    "    \n",
    "    return df"
   ]
  },
  {
   "cell_type": "code",
   "execution_count": 78,
   "metadata": {},
   "outputs": [],
   "source": [
    "def drop_rows(df, threshold = 0.5):\n",
    "    \"\"\"Drop rows where the ratio of nan's surpass threshold\"\"\"\n",
    "    \n",
    "    rows = df.index.values[df.isna().mean(axis = 1)> threshold]\n",
    "    df = df.drop(rows)\n",
    "    \n",
    "    return df"
   ]
  },
  {
   "cell_type": "code",
   "execution_count": 79,
   "metadata": {},
   "outputs": [],
   "source": [
    "def hist_nan(df, axis = 0):\n",
    "    \"\"\"histogram for the percentage of missing values\n",
    "    \"\"\"\n",
    "    \n",
    "    plt.hist(df.isna().mean(axis = axis))\n",
    "    ax = plt.gca()\n",
    "    ax.set_xlabel('% of missing values');\n",
    "    \n",
    "    if axis ==0:\n",
    "        ax.set_ylabel('column count');\n",
    "    else:\n",
    "        ax.set_ylabel('row count');\n",
    "    \n",
    "    return ax "
   ]
  },
  {
   "cell_type": "code",
   "execution_count": 80,
   "metadata": {},
   "outputs": [],
   "source": [
    "def feature_description(col):\n",
    "    feature_mapping = pd.read_excel(\n",
    "        'DIAS Attributes - Values 2017.xlsx', header=[1], usecols=[1, 2, 3, 4], index_col=[0, 1])\n",
    "    \n",
    "    return feature_mapping[col]"
   ]
  },
  {
   "cell_type": "code",
   "execution_count": 81,
   "metadata": {},
   "outputs": [],
   "source": [
    "# pandas_profili"
   ]
  },
  {
   "cell_type": "markdown",
   "metadata": {},
   "source": [
    "## Part 0: Get to Know the Data"
   ]
  },
  {
   "cell_type": "markdown",
   "metadata": {},
   "source": [
    "There are four data files associated with this project:\n",
    "\n",
    "- `Udacity_AZDIAS_052018.csv`: Demographics data for the general population of Germany; 891 211 persons (rows) x 366 features (columns).\n",
    "- `Udacity_CUSTOMERS_052018.csv`: Demographics data for customers of a mail-order company; 191 652 persons (rows) x 369 features (columns).\n",
    "- `Udacity_MAILOUT_052018_TRAIN.csv`: Demographics data for individuals who were targets of a marketing campaign; 42 982 persons (rows) x 367 (columns).\n",
    "- `Udacity_MAILOUT_052018_TEST.csv`: Demographics data for individuals who were targets of a marketing campaign; 42 833 persons (rows) x 366 (columns).\n",
    "\n",
    "Each row of the demographics files represents a single person, but also includes information outside of individuals, including information about their household, building, and neighborhood. Use the information from the first two files to figure out how customers (\"CUSTOMERS\") are similar to or differ from the general population at large (\"AZDIAS\"), then use your analysis to make predictions on the other two files (\"MAILOUT\"), predicting which recipients are most likely to become a customer for the mail-order company.\n",
    "\n",
    "The \"CUSTOMERS\" file contains three extra columns ('CUSTOMER_GROUP', 'ONLINE_PURCHASE', and 'PRODUCT_GROUP'), which provide broad information about the customers depicted in the file. The original \"MAILOUT\" file included one additional column, \"RESPONSE\", which indicated whether or not each recipient became a customer of the company. For the \"TRAIN\" subset, this column has been retained, but in the \"TEST\" subset it has been removed; it is against that withheld column that your final predictions will be assessed in the Kaggle competition.\n",
    "\n",
    "Otherwise, all of the remaining columns are the same between the three data files. For more information about the columns depicted in the files, you can refer to two Excel spreadsheets provided in the workspace. [One of them](./DIAS Information Levels - Attributes 2017.xlsx) is a top-level list of attributes and descriptions, organized by informational category. [The other](./DIAS Attributes - Values 2017.xlsx) is a detailed mapping of data values for each feature in alphabetical order.\n",
    "\n",
    "In the below cell, we've provided some initial code to load in the first two datasets. Note for all of the `.csv` data files in this project that they're semicolon (`;`) delimited, so an additional argument in the [`read_csv()`](https://pandas.pydata.org/pandas-docs/stable/generated/pandas.read_csv.html) call has been included to read in the data properly. Also, considering the size of the datasets, it may take some time for them to load completely.\n",
    "\n",
    "You'll notice when the data is loaded in that a warning message will immediately pop up. Before you really start digging into the modeling and analysis, you're going to need to perform some cleaning. Take some time to browse the structure of the data and look over the informational spreadsheets to understand the data values. Make some decisions on which features to keep, which features to drop, and if any revisions need to be made on data formats. It'll be a good idea to create a function with pre-processing steps, since you'll need to clean all of the datasets before you work with them."
   ]
  },
  {
   "cell_type": "code",
   "execution_count": 82,
   "metadata": {
    "scrolled": true
   },
   "outputs": [],
   "source": [
    "# load in the data"
   ]
  },
  {
   "cell_type": "code",
   "execution_count": 83,
   "metadata": {},
   "outputs": [],
   "source": [
    "# customers = pd.read_csv(\n",
    "#     './data/Udacity_CUSTOMERS_052018.csv', sep=';', low_memory=False)\n",
    "# azdias = pd.read_csv('./data/Udacity_AZDIAS_052018.csv',\n",
    "#                      sep=';', low_memory=False)"
   ]
  },
  {
   "cell_type": "code",
   "execution_count": 84,
   "metadata": {},
   "outputs": [],
   "source": [
    "azdias = pd.read_csv('./data/Udacity_AZDIAS_052018.csv',\n",
    "                     sep=';', low_memory=False, nrows = 5000, )\n",
    "\n",
    "del azdias['LNR']"
   ]
  },
  {
   "cell_type": "code",
   "execution_count": 85,
   "metadata": {},
   "outputs": [],
   "source": [
    "feat_info = pd.read_csv('AZDIAS_Feature_Summary.csv', sep=';')"
   ]
  },
  {
   "cell_type": "code",
   "execution_count": 86,
   "metadata": {},
   "outputs": [
    {
     "data": {
      "text/plain": [
       "365"
      ]
     },
     "execution_count": 86,
     "metadata": {},
     "output_type": "execute_result"
    }
   ],
   "source": [
    "len(azdias.columns)"
   ]
  },
  {
   "cell_type": "markdown",
   "metadata": {},
   "source": [
    "## feature summary\n",
    "\n",
    "I will first load the 'DIAS Attributes - Values 2017.xlsx' to understand how the missing or unkonwn values are handled in the data set. \n",
    "\n",
    "\n",
    "- Assign missing or unknown codes\n",
    "    - The values for 'unknown', 'unknown / no main age detectable', 'no transactions known' or 'no transaction known' where used to define these codes.\n",
    "    \n",
    "- identify the data types\n",
    "    - if contain numeric treated as numeric\n",
    "    - else: treat the data as categorical \n",
    "    - identify if there is any non-numeric values in data, or else it needs to be transformed"
   ]
  },
  {
   "cell_type": "markdown",
   "metadata": {},
   "source": [
    "### missing_or_unknown value encoding"
   ]
  },
  {
   "cell_type": "code",
   "execution_count": 87,
   "metadata": {},
   "outputs": [],
   "source": [
    "df_features = pd.read_excel(\n",
    "    'DIAS Attributes - Values 2017.xlsx', header=[1], usecols=[1, 3, 4], index_col=[0, 1])\n",
    "\n",
    "df_features = df_features.reset_index()"
   ]
  },
  {
   "cell_type": "code",
   "execution_count": 88,
   "metadata": {},
   "outputs": [],
   "source": [
    "search_for = '|'.join(['no transactions', 'unknown'])\n",
    "nan_idx = df_features['Meaning'].str.contains(search_for, na=False)\n",
    "\n",
    "# values assigned to each attributes when missing or unknow\n",
    "df_features_nan = df_features[nan_idx].copy().reset_index(drop=True)"
   ]
  },
  {
   "cell_type": "code",
   "execution_count": 89,
   "metadata": {},
   "outputs": [],
   "source": [
    "def split_value(x):\n",
    "    \"\"\"For attributes that multiple values can represent the missing/unknown, split the value and return a list\n",
    "\n",
    "    e.g. in 'ALTERSKATEGORIE_GROB' the unknown is recored using ('-1','0'). \n",
    "    by applying this function, the value is transformed to be [-1,0]\n",
    "    \"\"\"\n",
    "    try:\n",
    "        return [int(a) for a in x.split(',')]\n",
    "    except:\n",
    "        return [x]"
   ]
  },
  {
   "cell_type": "code",
   "execution_count": 90,
   "metadata": {},
   "outputs": [],
   "source": [
    "df_features_nan['Value'] = df_features_nan['Value'].apply(split_value)"
   ]
  },
  {
   "cell_type": "code",
   "execution_count": 91,
   "metadata": {},
   "outputs": [],
   "source": [
    "df_features_nan.to_csv('feature_nan.csv')"
   ]
  },
  {
   "cell_type": "markdown",
   "metadata": {},
   "source": [
    "#### identify data type \n",
    "\n",
    "- numeric column contains 'numeric'\n",
    "- other columns to be treated as categorical"
   ]
  },
  {
   "cell_type": "code",
   "execution_count": 92,
   "metadata": {},
   "outputs": [],
   "source": [
    "to_drop = []"
   ]
  },
  {
   "cell_type": "code",
   "execution_count": 93,
   "metadata": {},
   "outputs": [],
   "source": [
    "num_cols_idx = df_features['Meaning'].str.contains('numeric', na = False)\n",
    "num_cols = df_features.loc[num_cols_idx, 'Attribute'].unique()\n",
    "cat_cols = df_features.loc[~num_cols_idx, 'Attribute'].unique()"
   ]
  },
  {
   "cell_type": "code",
   "execution_count": 94,
   "metadata": {},
   "outputs": [],
   "source": [
    "ord_cols_idx = df_features['Meaning'].str.contains('very high', na = False)\n",
    "ord_cols = df_features.loc[ord_cols_idx, 'Attribute'].unique()"
   ]
  },
  {
   "cell_type": "code",
   "execution_count": 164,
   "metadata": {
    "scrolled": false
   },
   "outputs": [],
   "source": [
    "# for col in azdias.select_dtypes('object').columns:\n",
    "#     print('='*50)\n",
    "#     print(col)\n",
    "#     print('-'*50)\n",
    "#     print(azdias[col].unique())\n",
    "#     print('='*50)"
   ]
  },
  {
   "cell_type": "code",
   "execution_count": 165,
   "metadata": {},
   "outputs": [
    {
     "data": {
      "text/plain": [
       "Index(['CAMEO_DEU_2015', 'CAMEO_DEUG_2015', 'OST_WEST_KZ'], dtype='object')"
      ]
     },
     "execution_count": 165,
     "metadata": {},
     "output_type": "execute_result"
    }
   ],
   "source": [
    "azdias.select_dtypes('object').columns"
   ]
  },
  {
   "cell_type": "code",
   "execution_count": 166,
   "metadata": {},
   "outputs": [],
   "source": [
    "# these two columns not included in feature meta data file\n",
    "# LETZTER_KAUF_BRANCHE: last purchase sector\n",
    "# EINGEFUEGT_AM: INSERTED ON\n",
    "# These two columns are not too relavent\n",
    "\n",
    "to_drop.extend(['D19_LETZTER_KAUF_BRANCHE', 'EINGEFUEGT_AM'])\n",
    "to_label_encoder = ['CAMEO_DEU_2015', 'CAMEO_DEUG_2015', 'CAMEO_INTL_2015', 'OST_WEST_KZ']"
   ]
  },
  {
   "cell_type": "code",
   "execution_count": 98,
   "metadata": {},
   "outputs": [],
   "source": []
  },
  {
   "cell_type": "markdown",
   "metadata": {},
   "source": [
    "in column ['CAMEO_DEU_2015', 'CAMEO_DEUG_2015', 'CAMEO_INTL_2015'] there are unknown values encoded as 'X' or 'XX'. it is therefore necessary to replace them with np.nan"
   ]
  },
  {
   "cell_type": "markdown",
   "metadata": {},
   "source": [
    "### replace the values in with np.nan"
   ]
  },
  {
   "cell_type": "code",
   "execution_count": 99,
   "metadata": {
    "scrolled": false
   },
   "outputs": [
    {
     "data": {
      "text/plain": [
       "<AxesSubplot:xlabel='% of missing values', ylabel='column count'>"
      ]
     },
     "execution_count": 99,
     "metadata": {},
     "output_type": "execute_result"
    },
    {
     "data": {
      "image/png": "[encoded data removed]",
      "text/plain": [
       "<Figure size 576x396 with 1 Axes>"
      ]
     },
     "metadata": {},
     "output_type": "display_data"
    }
   ],
   "source": [
    "# hist before updating the dataframe\n",
    "hist_nan(azdias, axis=0)"
   ]
  },
  {
   "cell_type": "code",
   "execution_count": 100,
   "metadata": {},
   "outputs": [],
   "source": [
    "# compare the columns in the attributes table and the azdias table"
   ]
  },
  {
   "cell_type": "code",
   "execution_count": 101,
   "metadata": {
    "scrolled": true
   },
   "outputs": [
    {
     "name": "stdout",
     "output_type": "stream",
     "text": [
      "BIP_FLAG is not contained in the data\n",
      "CAMEO_DEUINTL_2015 is not contained in the data\n",
      "D19_KK_KUNDENTYP is not contained in the data\n",
      "GEOSCORE_KLS7 is not contained in the data\n",
      "HAUSHALTSSTRUKTUR is not contained in the data\n",
      "KBA13_CCM_1400_2500 is not contained in the data\n",
      "SOHO_FLAG is not contained in the data\n",
      "WACHSTUMSGEBIET_NB is not contained in the data\n"
     ]
    }
   ],
   "source": [
    "for idx, row in df_features_nan.iterrows():\n",
    "    try:\n",
    "        azdias[row.Attribute].replace(row.Value, np.nan, inplace = True)\n",
    "    except:\n",
    "        print(\"{:} is not contained in the data\".format(row.Attribute))"
   ]
  },
  {
   "cell_type": "code",
   "execution_count": 102,
   "metadata": {},
   "outputs": [
    {
     "data": {
      "text/plain": [
       "array([nan,  9.,  8.,  3.,  4.,  5.,  6.,  2.,  7.,  1.])"
      ]
     },
     "execution_count": 102,
     "metadata": {},
     "output_type": "execute_result"
    }
   ],
   "source": [
    "# Sanity check\n",
    "azdias['WOHNDAUER_2008'].unique()"
   ]
  },
  {
   "cell_type": "code",
   "execution_count": 103,
   "metadata": {},
   "outputs": [
    {
     "data": {
      "text/plain": [
       "<AxesSubplot:xlabel='% of missing values', ylabel='column count'>"
      ]
     },
     "execution_count": 103,
     "metadata": {},
     "output_type": "execute_result"
    },
    {
     "data": {
      "image/png": "[encoded data removed]",
      "text/plain": [
       "<Figure size 576x396 with 1 Axes>"
      ]
     },
     "metadata": {},
     "output_type": "display_data"
    }
   ],
   "source": [
    "hist_nan(azdias, axis= 0 )"
   ]
  },
  {
   "cell_type": "markdown",
   "metadata": {},
   "source": [
    "#### Drop attributes not inlcuded in summary table\n",
    "\n",
    "we are not sure about how those data were encoded, as it doesn't provide much information. as a first attemp, i will discard those information "
   ]
  },
  {
   "cell_type": "code",
   "execution_count": 104,
   "metadata": {},
   "outputs": [
    {
     "name": "stdout",
     "output_type": "stream",
     "text": [
      "['DSL_FLAG', 'D19_VERSI_OFFLINE_DATUM', 'D19_BANKEN_REST', 'D19_TELKO_MOBILE', 'CJT_TYP_3', 'D19_KOSMETIK', 'CJT_TYP_1', 'D19_HANDWERK', 'RT_SCHNAEPPCHEN', 'KBA13_ANTG4', 'EINGEFUEGT_AM', 'KBA13_ANTG2', 'D19_BUCH_CD', 'CJT_TYP_5', 'D19_LETZTER_KAUF_BRANCHE', 'D19_VERSI_DATUM', 'KBA13_BAUMAX', 'VK_DHT4A', 'CJT_TYP_6', 'KBA13_GBZ', 'VK_DISTANZ', 'ARBEIT', 'D19_VERSI_ONLINE_DATUM', 'KBA13_ANTG3', 'VK_ZG11', 'EXTSEL992', 'ALTER_KIND4', 'D19_SAMMELARTIKEL', 'KBA13_CCM_1401_2500', 'D19_NAHRUNGSERGAENZUNG', 'CJT_KATALOGNUTZER', 'D19_VERSI_ONLINE_QUOTE_12', 'EINGEZOGENAM_HH_JAHR', 'ALTER_KIND1', 'D19_SONSTIGE', 'KBA13_HHZ', 'D19_VERSAND_REST', 'AKT_DAT_KL', 'D19_VERSICHERUNGEN', 'D19_HAUS_DEKO', 'D19_LOTTO', 'ALTER_KIND3', 'MOBI_RASTER', 'ALTERSKATEGORIE_FEIN', 'KONSUMZELLE', 'CJT_TYP_2', 'VHA', 'D19_SCHUHE', 'D19_RATGEBER', 'VHN', 'D19_BANKEN_GROSS', 'UMFELD_JUNG', 'D19_ENERGIE', 'D19_VOLLSORTIMENT', 'RT_UEBERGROESSE', 'STRUKTURTYP', 'D19_BILDUNG', 'D19_BANKEN_LOKAL', 'D19_TECHNIK', 'D19_LEBENSMITTEL', 'D19_REISEN', 'CAMEO_INTL_2015', 'UMFELD_ALT', 'D19_BEKLEIDUNG_GEH', 'ANZ_STATISTISCHE_HAUSHALTE', 'D19_BANKEN_DIREKT', 'CJT_TYP_4', 'D19_TELKO_REST', 'FIRMENDICHTE', 'SOHO_KZ', 'D19_DROGERIEARTIKEL', 'KBA13_KMH_210', 'D19_BIO_OEKO', 'D19_SOZIALES', 'D19_KONSUMTYP_MAX', 'HH_DELTA_FLAG', 'KK_KUNDENTYP', 'D19_FREIZEIT', 'ANZ_KINDER', 'VERDICHTUNGSRAUM', 'D19_WEIN_FEINKOST', 'D19_BEKLEIDUNG_REST', 'D19_DIGIT_SERV', 'UNGLEICHENN_FLAG', 'D19_TELKO_ONLINE_QUOTE_12', 'KBA13_ANTG1', 'D19_KINDERARTIKEL', 'D19_TIERARTIKEL', 'D19_GARTEN', 'GEMEINDETYP', 'ALTER_KIND2', 'RT_KEIN_ANREIZ', 'KOMBIALTER']\n"
     ]
    }
   ],
   "source": [
    "to_drop = list(set(azdias.columns) - set(df_features.Attribute))\n",
    "print(to_drop) "
   ]
  },
  {
   "cell_type": "code",
   "execution_count": 105,
   "metadata": {},
   "outputs": [],
   "source": [
    "azdias = azdias.drop(columns=to_drop)"
   ]
  },
  {
   "cell_type": "code",
   "execution_count": 106,
   "metadata": {},
   "outputs": [
    {
     "name": "stdout",
     "output_type": "stream",
     "text": [
      "CAMEO_DEU_2015, [nan '8A' '4C' '2A' '6B' '8C' '4A' '2D' '1A' '1E' '9D' '5C' '8B' '7A' '5D'\n",
      " '9E' '9B' '1B' '3D' '4E' '4B' '3C' '5A' '7B' '9A' '6D' '6E' '2C' '7C'\n",
      " '9C' '7D' '5E' '1D' '8D' '6C' '6A' '5B' '4D' '3A' '2B' '7E' '3B' '6F'\n",
      " '5F' '1C' 'XX']\n",
      "CAMEO_DEUG_2015, [nan '8' '4' '2' '6' '1' '9' '5' '7' '3' 'X']\n",
      "OST_WEST_KZ, [nan 'W' 'O']\n"
     ]
    }
   ],
   "source": [
    "# Sanity check if it still contains strings\n",
    "for col in azdias.columns:\n",
    "    if any(isinstance(y,(str)) for y in azdias[col].unique()):  \n",
    "        print('{:}, {:}'.format( col , azdias[col].unique()))"
   ]
  },
  {
   "cell_type": "code",
   "execution_count": 107,
   "metadata": {},
   "outputs": [],
   "source": [
    "azdias.replace(['X','XX'], np.nan, inplace=True);"
   ]
  },
  {
   "cell_type": "code",
   "execution_count": 108,
   "metadata": {
    "scrolled": true
   },
   "outputs": [
    {
     "name": "stdout",
     "output_type": "stream",
     "text": [
      "CAMEO_DEU_2015, [nan '8A' '4C' '2A' '6B' '8C' '4A' '2D' '1A' '1E' '9D' '5C' '8B' '7A' '5D'\n",
      " '9E' '9B' '1B' '3D' '4E' '4B' '3C' '5A' '7B' '9A' '6D' '6E' '2C' '7C'\n",
      " '9C' '7D' '5E' '1D' '8D' '6C' '6A' '5B' '4D' '3A' '2B' '7E' '3B' '6F'\n",
      " '5F' '1C']\n",
      "CAMEO_DEUG_2015, [nan '8' '4' '2' '6' '1' '9' '5' '7' '3']\n",
      "OST_WEST_KZ, [nan 'W' 'O']\n"
     ]
    }
   ],
   "source": [
    "for col in azdias.columns:\n",
    "    if any(isinstance(y,(str)) for y in azdias[col].unique()):  \n",
    "        print('{:}, {:}'.format( col , azdias[col].unique()))"
   ]
  },
  {
   "cell_type": "code",
   "execution_count": 109,
   "metadata": {},
   "outputs": [],
   "source": [
    "to_lable_encoder = []"
   ]
  },
  {
   "cell_type": "markdown",
   "metadata": {},
   "source": [
    "#### To - do \n",
    "\n",
    "- Further data cleaning is required for columns above \n",
    "    - CAMEO_DEU_2015: replace XX with np.nan, the rest are categorical, not sure how to deal with it yet. \n",
    "    - CAMEO_DEUG_2015: replace X with np.nan\n",
    "    - OST_WEST_KZ: catgorical\n",
    "        - label-encoder\n"
   ]
  },
  {
   "cell_type": "markdown",
   "metadata": {},
   "source": [
    "#### Drop rows and columns where the portion of nan's exceedes the threshold"
   ]
  },
  {
   "cell_type": "code",
   "execution_count": 110,
   "metadata": {},
   "outputs": [],
   "source": [
    "# In order to know what to do with the outlier rows, we should see if the distribution of data values on columns that are not missing data (or are missing very little data) are similar or different between the two groups. \n",
    "# Select at least five of these columns and compare the distribution of values."
   ]
  },
  {
   "cell_type": "code",
   "execution_count": 111,
   "metadata": {},
   "outputs": [],
   "source": [
    "# split into two dataframes based on ratio of nan's "
   ]
  },
  {
   "cell_type": "code",
   "execution_count": 112,
   "metadata": {},
   "outputs": [],
   "source": [
    "def compare_hist(df1, df2, col, density = False):\n",
    "\n",
    "    fig, ax = plt.subplots(2, sharex=True)\n",
    "\n",
    "    ax[0].hist(df1[col].dropna(), color='lightblue', alpha=0.5,\n",
    "               density=density, bins=len(df1[col].unique()))\n",
    "    ax[1].hist(df2[col].dropna(), color='salmon', alpha=0.5,\n",
    "               density=density, bins=len(df1[col].unique()))\n",
    "\n",
    "    ax[0].title.set_text('Distribution AFTER removing the rows')\n",
    "    ax[1].title.set_text('Distribution BEFORE removing the rows')\n",
    "\n",
    "    ax[1].set_xlabel(col)\n",
    "    ax[0].set_ylabel('percentage')\n",
    "    ax[1].set_ylabel('percentage')"
   ]
  },
  {
   "cell_type": "code",
   "execution_count": 113,
   "metadata": {},
   "outputs": [],
   "source": [
    "threshold = 0.3\n",
    "idx_to_drop = azdias.isna().mean(axis = 1) > threshold\n",
    "_df = azdias.loc[~idx_to_drop]\n",
    "# df_2 = azdias.loc[idx_to_drop]"
   ]
  },
  {
   "cell_type": "code",
   "execution_count": 114,
   "metadata": {
    "scrolled": true
   },
   "outputs": [],
   "source": [
    "# Select five attributes from the list, and compare the distribution of two dfs"
   ]
  },
  {
   "cell_type": "code",
   "execution_count": 115,
   "metadata": {
    "scrolled": false
   },
   "outputs": [
    {
     "data": {
      "image/png": "[encoded data removed]",
      "text/plain": [
       "<Figure size 576x396 with 2 Axes>"
      ]
     },
     "metadata": {},
     "output_type": "display_data"
    },
    {
     "data": {
      "image/png": "[encoded data removed]",
      "text/plain": [
       "<Figure size 576x396 with 2 Axes>"
      ]
     },
     "metadata": {},
     "output_type": "display_data"
    },
    {
     "data": {
      "image/png": "[encoded data removed]",
      "text/plain": [
       "<Figure size 576x396 with 2 Axes>"
      ]
     },
     "metadata": {},
     "output_type": "display_data"
    },
    {
     "data": {
      "image/png": "[encoded data removed]",
      "text/plain": [
       "<Figure size 576x396 with 2 Axes>"
      ]
     },
     "metadata": {},
     "output_type": "display_data"
    },
    {
     "data": {
      "image/png": "[encoded data removed]",
      "text/plain": [
       "<Figure size 576x396 with 2 Axes>"
      ]
     },
     "metadata": {},
     "output_type": "display_data"
    }
   ],
   "source": [
    "test_cols = np.random.choice(azdias.columns, 5)\n",
    "\n",
    "for test_col in test_cols: \n",
    "    compare_hist(_df, azdias, test_col, density=True)"
   ]
  },
  {
   "cell_type": "code",
   "execution_count": 116,
   "metadata": {
    "scrolled": true
   },
   "outputs": [],
   "source": [
    "# fig, ax = plt.subplots(2, sharex=True)\n",
    "\n",
    "# sns.countplot(x= test_cols[0], data=_df, ax= ax[0])\n",
    "# sns.countplot(x= test_cols[0], data=azdias, ax= ax[1])\n",
    "\n",
    "# ax[0].title.set_text('Distribution AFTER removing the rows')\n",
    "# ax[1].title.set_text('Distribution BEFORE removing the rows')"
   ]
  },
  {
   "cell_type": "markdown",
   "metadata": {},
   "source": [
    "distributions of non-missing features look similar between the data with many missing values and the data with few or no missing values, then we could argue that simply dropping those points from the analysis won't present a major issue. "
   ]
  },
  {
   "cell_type": "code",
   "execution_count": 117,
   "metadata": {},
   "outputs": [],
   "source": [
    "azdias = drop_columns(azdias, threshold = 0.3)\n",
    "azdias = drop_rows(azdias, threshold = 0.3)"
   ]
  },
  {
   "cell_type": "markdown",
   "metadata": {},
   "source": [
    "#### Imputing, replace the nan's with either the mean median or mode"
   ]
  },
  {
   "cell_type": "code",
   "execution_count": 118,
   "metadata": {
    "scrolled": true
   },
   "outputs": [
    {
     "name": "stdout",
     "output_type": "stream",
     "text": [
      "We will drop 59 columns, since they are highly correlated to other data in the dataframe\n"
     ]
    }
   ],
   "source": [
    "# Use the correlation matrix to remove the highly correlated columns\n",
    "\n",
    "corr_matrix = azdias.corr().abs()\n",
    "upper = corr_matrix.where(\n",
    "    np.triu(np.ones(corr_matrix.shape), k=1).astype(np.bool))\n",
    "# Find index of feature columns with correlation greater than 0.95\n",
    "to_drop = [column for column in upper.columns if any(upper[column] > 0.70)]\n",
    "\n",
    "# print(to_drop)\n",
    "print(\"We will drop {:} columns, since they are highly correlated to other data in the dataframe\".format(\n",
    "    len(to_drop)))\n",
    "\n",
    "# To do: perform a sanity check"
   ]
  },
  {
   "cell_type": "code",
   "execution_count": 119,
   "metadata": {},
   "outputs": [],
   "source": [
    "azdias.drop(columns=to_drop, inplace=True)"
   ]
  },
  {
   "cell_type": "code",
   "execution_count": 120,
   "metadata": {
    "scrolled": false
   },
   "outputs": [],
   "source": [
    "## Summary of nans for  each column\n",
    "# NaN count in columns where\n",
    "azdias_nan  = azdias.isna().mean() * 100 #portion of NaN\n",
    "azdias_nan_ = azdias_nan.loc[azdias_nan>0]"
   ]
  },
  {
   "cell_type": "code",
   "execution_count": 121,
   "metadata": {},
   "outputs": [
    {
     "data": {
      "text/plain": [
       "<AxesSubplot:>"
      ]
     },
     "execution_count": 121,
     "metadata": {},
     "output_type": "execute_result"
    },
    {
     "data": {
      "image/png": "[encoded data removed]",
      "text/plain": [
       "<Figure size 1152x288 with 1 Axes>"
      ]
     },
     "metadata": {},
     "output_type": "display_data"
    }
   ],
   "source": [
    "azdias_nan_.plot(kind = 'bar', figsize = (16,4))"
   ]
  },
  {
   "cell_type": "markdown",
   "metadata": {},
   "source": [
    "#### how to deal with nan's?"
   ]
  },
  {
   "cell_type": "markdown",
   "metadata": {},
   "source": [
    "#### Select and Re-Encode Features\n",
    "\n",
    "Checking for missing data isn't the only way in which you can prepare a dataset for analysis. Since the unsupervised learning techniques to be used will only work on data that is encoded numerically, you need to make a few encoding changes or additional assumptions to be able to make progress. In addition, while almost all of the values in the dataset are encoded using numbers, not all of them represent numeric values. \n",
    "\n",
    "- For numeric and interval data, these features needs to be scaled \n",
    "- Most of the variables in the dataset are ordinal in nature. While ordinal values may technically be non-linear in spacing, make the simplifying assumption that the ordinal variables can be treated as being interval in nature (that is, kept without any changes). -> to be scaled\n",
    "- Special handling may be necessary for the remaining two variable types: categorical\n",
    "- Mixed data is also treated the same way as cat-data\n",
    "\n",
    "\n",
    "\n",
    "to do: \n",
    "- identify the categorical data, and mixed values"
   ]
  },
  {
   "cell_type": "code",
   "execution_count": 122,
   "metadata": {},
   "outputs": [
    {
     "name": "stdout",
     "output_type": "stream",
     "text": [
      "==================================================\n",
      "ANZ_HAUSHALTE_AKTIV\n",
      "--------------------------------------------------\n",
      "[ 11.  10.   1.   3.   5.   4.   6.   2.   9.   0.  14.  13.   8.   7.\n",
      "  44.  25.  36. 272.  33.  15.  12.  22.  21.  20.  23.  18.  27.  24.\n",
      "  31.  39.  16.  19.  30.  17.  29.  61.  54.  88.  49.  60.  38.  34.\n",
      "  35.  62.  26.  45.  42.  28.  77.  47.  50. 236. 137.  43.  52.  41.\n",
      "  76.  63.  32.  40.  37.  59.  53.  57. 118.  95.  78.  70.  46.  73.\n",
      "  67. 154.  80. 102.  92. 126.  48.  94.  71.  66.  68.  81.  69. 121.\n",
      " 258.]\n",
      "==================================================\n",
      "ANZ_HH_TITEL\n",
      "--------------------------------------------------\n",
      "[ 0.  1.  5. nan  2.  3.  7.  4.  6.]\n",
      "==================================================\n",
      "ANZ_PERSONEN\n",
      "--------------------------------------------------\n",
      "[ 2.  1.  0.  4.  3.  5.  6.  7.  8. 12.  9.]\n",
      "==================================================\n",
      "ANZ_TITEL\n",
      "--------------------------------------------------\n",
      "[0. 1. 2.]\n",
      "==================================================\n",
      "GEBURTSJAHR\n",
      "--------------------------------------------------\n",
      "[1996 1979 1957 1963 1943    0 1964 1974 1975 1941 1993 1988 1991 1966\n",
      " 1949 1982 1972 1990 1985 1989 1948 1935 1997 1994 1987 2002 1950 1965\n",
      " 1978 1958 1944 1967 1977 1960 1970 1973 1971 1937 1947 1926 1954 1946\n",
      " 1981 1962 1992 2008 1976 1928 1927 1968 1940 1952 1961 2006 1938 1945\n",
      " 1942 1984 1930 1980 1959 1986 1931 1955 1983 2010 1951 1921 1929 1939\n",
      " 2001 1995 1956 1953 1969 2012 1934 1913 1914 1922 2004 1936 2009 2003\n",
      " 2013 1998 2007 1932 2005 1923 1925 1933 2017 2000 1999 2014 1920]\n",
      "==================================================\n",
      "KBA13_ANZAHL_PKW\n",
      "--------------------------------------------------\n",
      "[ 963.  712.  596. ...  101.  119. 1180.]\n",
      "==================================================\n",
      "MIN_GEBAEUDEJAHR\n",
      "--------------------------------------------------\n",
      "[1992. 1997. 2005. 2009. 1994. 1996. 1991. 1993. 1995. 2003. 2006. 2000.\n",
      " 1990. 2004. 1999. 1998. 2001. 2007. 2002. 1989. 2012. 2008. 1987. 2010.\n",
      " 1988. 2011. 1985.]\n"
     ]
    }
   ],
   "source": [
    "for col in num_cols:\n",
    "    print('='*50)\n",
    "    print(col)\n",
    "    print('-'*50)\n",
    "    print(azdias[col].unique())"
   ]
  },
  {
   "cell_type": "code",
   "execution_count": 123,
   "metadata": {},
   "outputs": [
    {
     "data": {
      "text/plain": [
       "array([1996., 1979., 1957., 1963., 1943.,   nan, 1964., 1974., 1975.,\n",
       "       1941., 1993., 1988., 1991., 1966., 1949., 1982., 1972., 1990.,\n",
       "       1985., 1989., 1948., 1935., 1997., 1994., 1987., 2002., 1950.,\n",
       "       1965., 1978., 1958., 1944., 1967., 1977., 1960., 1970., 1973.,\n",
       "       1971., 1937., 1947., 1926., 1954., 1946., 1981., 1962., 1992.,\n",
       "       2008., 1976., 1928., 1927., 1968., 1940., 1952., 1961., 2006.,\n",
       "       1938., 1945., 1942., 1984., 1930., 1980., 1959., 1986., 1931.,\n",
       "       1955., 1983., 2010., 1951., 1921., 1929., 1939., 2001., 1995.,\n",
       "       1956., 1953., 1969., 2012., 1934., 1913., 1914., 1922., 2004.,\n",
       "       1936., 2009., 2003., 2013., 1998., 2007., 1932., 2005., 1923.,\n",
       "       1925., 1933., 2017., 2000., 1999., 2014., 1920.])"
      ]
     },
     "execution_count": 123,
     "metadata": {},
     "output_type": "execute_result"
    }
   ],
   "source": [
    "# Replace o in GEBURTSJAHR as np.nan\n",
    "azdias['GEBURTSJAHR'].replace(0, np.nan, inplace=True)\n",
    "# Sanity check\n",
    "azdias['GEBURTSJAHR'].unique()"
   ]
  },
  {
   "cell_type": "code",
   "execution_count": 124,
   "metadata": {},
   "outputs": [
    {
     "data": {
      "text/plain": [
       "<AxesSubplot:xlabel='% of missing values', ylabel='column count'>"
      ]
     },
     "execution_count": 124,
     "metadata": {},
     "output_type": "execute_result"
    },
    {
     "data": {
      "image/png": "[encoded data removed]",
      "text/plain": [
       "<Figure size 576x396 with 1 Axes>"
      ]
     },
     "metadata": {},
     "output_type": "display_data"
    }
   ],
   "source": [
    "hist_nan(azdias)"
   ]
  },
  {
   "cell_type": "markdown",
   "metadata": {},
   "source": [
    "#### Imputing missing value"
   ]
  },
  {
   "cell_type": "code",
   "execution_count": 125,
   "metadata": {},
   "outputs": [],
   "source": [
    "from sklearn import preprocessing\n",
    "from sklearn.impute import SimpleImputer"
   ]
  },
  {
   "cell_type": "code",
   "execution_count": 126,
   "metadata": {},
   "outputs": [],
   "source": [
    "# Replace NaN using the most frequent item in each column\n",
    "imp = SimpleImputer(missing_values=np.nan, strategy='most_frequent')\n",
    "\n",
    "azdias_transformed = pd.DataFrame(imp.fit_transform(azdias))\n",
    "azdias_transformed.columns= azdias.columns\n",
    "azdias_transformed.index=azdias.index"
   ]
  },
  {
   "cell_type": "code",
   "execution_count": 127,
   "metadata": {
    "scrolled": true
   },
   "outputs": [
    {
     "data": {
      "text/plain": [
       "array(['ANZ_HAUSHALTE_AKTIV', 'ANZ_HH_TITEL', 'ANZ_PERSONEN', 'ANZ_TITEL',\n",
       "       'GEBURTSJAHR', 'KBA13_ANZAHL_PKW', 'MIN_GEBAEUDEJAHR'],\n",
       "      dtype=object)"
      ]
     },
     "execution_count": 127,
     "metadata": {},
     "output_type": "execute_result"
    }
   ],
   "source": [
    "num_cols"
   ]
  },
  {
   "cell_type": "code",
   "execution_count": 162,
   "metadata": {},
   "outputs": [],
   "source": [
    "cat_cols = list(set(azdias.columns) - set(ord_cols) - set(num_cols))"
   ]
  },
  {
   "cell_type": "code",
   "execution_count": 129,
   "metadata": {},
   "outputs": [
    {
     "name": "stdout",
     "output_type": "stream",
     "text": [
      "CAMEO_DEU_2015, ['8A' '4C' '2A' '6B' '8C' '4A' '2D' '1A' '1E' '9D' '5C' '7A' '5D' '9E'\n",
      " '9B' '1B' '8B' '3D' nan '4E' '4B' '3C' '5A' '7B' '9A' '6D' '6E' '2C' '7C'\n",
      " '9C' '7D' '5E' '1D' '8D' '6C' '6A' '5B' '4D' '3A' '2B' '7E' '3B' '6F'\n",
      " '5F' '1C']\n",
      "CAMEO_DEUG_2015, ['8' '4' '2' '6' '1' '9' '5' '7' '3' nan]\n",
      "OST_WEST_KZ, ['W' 'O']\n"
     ]
    }
   ],
   "source": [
    "for col in azdias.columns:\n",
    "    if any(isinstance(y,(str)) for y in azdias[col].unique()):  \n",
    "        print('{:}, {:}'.format( col , azdias[col].unique()))"
   ]
  },
  {
   "cell_type": "code",
   "execution_count": 167,
   "metadata": {},
   "outputs": [],
   "source": [
    "# to_label_encoder = ['CAMEO_DEU_2015', 'CAMEO_DEUG_2015', 'OST_WEST_KZ']"
   ]
  },
  {
   "cell_type": "code",
   "execution_count": 131,
   "metadata": {},
   "outputs": [],
   "source": [
    "le = preprocessing.LabelEncoder()\n",
    "\n",
    "for col in to_label_encoder:\n",
    "    try:\n",
    "        azdias_transformed[col] = le.fit_transform(azdias_transformed[col])\n",
    "    except:\n",
    "        print('{:} not in dataframe anymore'.format(col))"
   ]
  },
  {
   "cell_type": "code",
   "execution_count": 156,
   "metadata": {},
   "outputs": [],
   "source": [
    "azdias_transformed = pd.get_dummies(azdias_transformed, drop_first= True, columns = cat_cols.extend(to_label_encoder))"
   ]
  },
  {
   "cell_type": "code",
   "execution_count": null,
   "metadata": {},
   "outputs": [],
   "source": []
  },
  {
   "cell_type": "markdown",
   "metadata": {},
   "source": [
    "## Part 1: Customer Segmentation Report\n",
    "\n",
    "The main bulk of your analysis will come in this part of the project. Here, you should use unsupervised learning techniques to describe the relationship between the demographics of the company's existing customers and the general population of Germany. By the end of this part, you should be able to describe parts of the general population that are more likely to be part of the mail-order company's main customer base, and which parts of the general population are less so."
   ]
  },
  {
   "cell_type": "code",
   "execution_count": null,
   "metadata": {},
   "outputs": [],
   "source": []
  },
  {
   "cell_type": "markdown",
   "metadata": {},
   "source": [
    "## Part 2: Supervised Learning Model\n",
    "\n",
    "Now that you've found which parts of the population are more likely to be customers of the mail-order company, it's time to build a prediction model. Each of the rows in the \"MAILOUT\" data files represents an individual that was targeted for a mailout campaign. Ideally, we should be able to use the demographic information from each individual to decide whether or not it will be worth it to include that person in the campaign.\n",
    "\n",
    "The \"MAILOUT\" data has been split into two approximately equal parts, each with almost 43 000 data rows. In this part, you can verify your model with the \"TRAIN\" partition, which includes a column, \"RESPONSE\", that states whether or not a person became a customer of the company following the campaign. In the next part, you'll need to create predictions on the \"TEST\" partition, where the \"RESPONSE\" column has been withheld."
   ]
  },
  {
   "cell_type": "code",
   "execution_count": 62,
   "metadata": {},
   "outputs": [
    {
     "ename": "FileNotFoundError",
     "evalue": "[Errno 2] No such file or directory: '../../data/Term2/capstone/arvato_data/Udacity_MAILOUT_052018_TRAIN.csv'",
     "output_type": "error",
     "traceback": [
      "\u001b[0;31m---------------------------------------------------------------------------\u001b[0m",
      "\u001b[0;31mFileNotFoundError\u001b[0m                         Traceback (most recent call last)",
      "\u001b[0;32m<ipython-input-62-47db2225acf8>\u001b[0m in \u001b[0;36m<module>\u001b[0;34m\u001b[0m\n\u001b[0;32m----> 1\u001b[0;31m \u001b[0mmailout_train\u001b[0m \u001b[0;34m=\u001b[0m \u001b[0mpd\u001b[0m\u001b[0;34m.\u001b[0m\u001b[0mread_csv\u001b[0m\u001b[0;34m(\u001b[0m\u001b[0;34m'../../data/Term2/capstone/arvato_data/Udacity_MAILOUT_052018_TRAIN.csv'\u001b[0m\u001b[0;34m,\u001b[0m \u001b[0msep\u001b[0m\u001b[0;34m=\u001b[0m\u001b[0;34m';'\u001b[0m\u001b[0;34m)\u001b[0m\u001b[0;34m\u001b[0m\u001b[0;34m\u001b[0m\u001b[0m\n\u001b[0m",
      "\u001b[0;32m~/opt/anaconda3/lib/python3.8/site-packages/pandas/io/parsers.py\u001b[0m in \u001b[0;36mread_csv\u001b[0;34m(filepath_or_buffer, sep, delimiter, header, names, index_col, usecols, squeeze, prefix, mangle_dupe_cols, dtype, engine, converters, true_values, false_values, skipinitialspace, skiprows, skipfooter, nrows, na_values, keep_default_na, na_filter, verbose, skip_blank_lines, parse_dates, infer_datetime_format, keep_date_col, date_parser, dayfirst, cache_dates, iterator, chunksize, compression, thousands, decimal, lineterminator, quotechar, quoting, doublequote, escapechar, comment, encoding, dialect, error_bad_lines, warn_bad_lines, delim_whitespace, low_memory, memory_map, float_precision)\u001b[0m\n\u001b[1;32m    684\u001b[0m     )\n\u001b[1;32m    685\u001b[0m \u001b[0;34m\u001b[0m\u001b[0m\n\u001b[0;32m--> 686\u001b[0;31m     \u001b[0;32mreturn\u001b[0m \u001b[0m_read\u001b[0m\u001b[0;34m(\u001b[0m\u001b[0mfilepath_or_buffer\u001b[0m\u001b[0;34m,\u001b[0m \u001b[0mkwds\u001b[0m\u001b[0;34m)\u001b[0m\u001b[0;34m\u001b[0m\u001b[0;34m\u001b[0m\u001b[0m\n\u001b[0m\u001b[1;32m    687\u001b[0m \u001b[0;34m\u001b[0m\u001b[0m\n\u001b[1;32m    688\u001b[0m \u001b[0;34m\u001b[0m\u001b[0m\n",
      "\u001b[0;32m~/opt/anaconda3/lib/python3.8/site-packages/pandas/io/parsers.py\u001b[0m in \u001b[0;36m_read\u001b[0;34m(filepath_or_buffer, kwds)\u001b[0m\n\u001b[1;32m    450\u001b[0m \u001b[0;34m\u001b[0m\u001b[0m\n\u001b[1;32m    451\u001b[0m     \u001b[0;31m# Create the parser.\u001b[0m\u001b[0;34m\u001b[0m\u001b[0;34m\u001b[0m\u001b[0;34m\u001b[0m\u001b[0m\n\u001b[0;32m--> 452\u001b[0;31m     \u001b[0mparser\u001b[0m \u001b[0;34m=\u001b[0m \u001b[0mTextFileReader\u001b[0m\u001b[0;34m(\u001b[0m\u001b[0mfp_or_buf\u001b[0m\u001b[0;34m,\u001b[0m \u001b[0;34m**\u001b[0m\u001b[0mkwds\u001b[0m\u001b[0;34m)\u001b[0m\u001b[0;34m\u001b[0m\u001b[0;34m\u001b[0m\u001b[0m\n\u001b[0m\u001b[1;32m    453\u001b[0m \u001b[0;34m\u001b[0m\u001b[0m\n\u001b[1;32m    454\u001b[0m     \u001b[0;32mif\u001b[0m \u001b[0mchunksize\u001b[0m \u001b[0;32mor\u001b[0m \u001b[0miterator\u001b[0m\u001b[0;34m:\u001b[0m\u001b[0;34m\u001b[0m\u001b[0;34m\u001b[0m\u001b[0m\n",
      "\u001b[0;32m~/opt/anaconda3/lib/python3.8/site-packages/pandas/io/parsers.py\u001b[0m in \u001b[0;36m__init__\u001b[0;34m(self, f, engine, **kwds)\u001b[0m\n\u001b[1;32m    934\u001b[0m             \u001b[0mself\u001b[0m\u001b[0;34m.\u001b[0m\u001b[0moptions\u001b[0m\u001b[0;34m[\u001b[0m\u001b[0;34m\"has_index_names\"\u001b[0m\u001b[0;34m]\u001b[0m \u001b[0;34m=\u001b[0m \u001b[0mkwds\u001b[0m\u001b[0;34m[\u001b[0m\u001b[0;34m\"has_index_names\"\u001b[0m\u001b[0;34m]\u001b[0m\u001b[0;34m\u001b[0m\u001b[0;34m\u001b[0m\u001b[0m\n\u001b[1;32m    935\u001b[0m \u001b[0;34m\u001b[0m\u001b[0m\n\u001b[0;32m--> 936\u001b[0;31m         \u001b[0mself\u001b[0m\u001b[0;34m.\u001b[0m\u001b[0m_make_engine\u001b[0m\u001b[0;34m(\u001b[0m\u001b[0mself\u001b[0m\u001b[0;34m.\u001b[0m\u001b[0mengine\u001b[0m\u001b[0;34m)\u001b[0m\u001b[0;34m\u001b[0m\u001b[0;34m\u001b[0m\u001b[0m\n\u001b[0m\u001b[1;32m    937\u001b[0m \u001b[0;34m\u001b[0m\u001b[0m\n\u001b[1;32m    938\u001b[0m     \u001b[0;32mdef\u001b[0m \u001b[0mclose\u001b[0m\u001b[0;34m(\u001b[0m\u001b[0mself\u001b[0m\u001b[0;34m)\u001b[0m\u001b[0;34m:\u001b[0m\u001b[0;34m\u001b[0m\u001b[0;34m\u001b[0m\u001b[0m\n",
      "\u001b[0;32m~/opt/anaconda3/lib/python3.8/site-packages/pandas/io/parsers.py\u001b[0m in \u001b[0;36m_make_engine\u001b[0;34m(self, engine)\u001b[0m\n\u001b[1;32m   1166\u001b[0m     \u001b[0;32mdef\u001b[0m \u001b[0m_make_engine\u001b[0m\u001b[0;34m(\u001b[0m\u001b[0mself\u001b[0m\u001b[0;34m,\u001b[0m \u001b[0mengine\u001b[0m\u001b[0;34m=\u001b[0m\u001b[0;34m\"c\"\u001b[0m\u001b[0;34m)\u001b[0m\u001b[0;34m:\u001b[0m\u001b[0;34m\u001b[0m\u001b[0;34m\u001b[0m\u001b[0m\n\u001b[1;32m   1167\u001b[0m         \u001b[0;32mif\u001b[0m \u001b[0mengine\u001b[0m \u001b[0;34m==\u001b[0m \u001b[0;34m\"c\"\u001b[0m\u001b[0;34m:\u001b[0m\u001b[0;34m\u001b[0m\u001b[0;34m\u001b[0m\u001b[0m\n\u001b[0;32m-> 1168\u001b[0;31m             \u001b[0mself\u001b[0m\u001b[0;34m.\u001b[0m\u001b[0m_engine\u001b[0m \u001b[0;34m=\u001b[0m \u001b[0mCParserWrapper\u001b[0m\u001b[0;34m(\u001b[0m\u001b[0mself\u001b[0m\u001b[0;34m.\u001b[0m\u001b[0mf\u001b[0m\u001b[0;34m,\u001b[0m \u001b[0;34m**\u001b[0m\u001b[0mself\u001b[0m\u001b[0;34m.\u001b[0m\u001b[0moptions\u001b[0m\u001b[0;34m)\u001b[0m\u001b[0;34m\u001b[0m\u001b[0;34m\u001b[0m\u001b[0m\n\u001b[0m\u001b[1;32m   1169\u001b[0m         \u001b[0;32melse\u001b[0m\u001b[0;34m:\u001b[0m\u001b[0;34m\u001b[0m\u001b[0;34m\u001b[0m\u001b[0m\n\u001b[1;32m   1170\u001b[0m             \u001b[0;32mif\u001b[0m \u001b[0mengine\u001b[0m \u001b[0;34m==\u001b[0m \u001b[0;34m\"python\"\u001b[0m\u001b[0;34m:\u001b[0m\u001b[0;34m\u001b[0m\u001b[0;34m\u001b[0m\u001b[0m\n",
      "\u001b[0;32m~/opt/anaconda3/lib/python3.8/site-packages/pandas/io/parsers.py\u001b[0m in \u001b[0;36m__init__\u001b[0;34m(self, src, **kwds)\u001b[0m\n\u001b[1;32m   1996\u001b[0m         \u001b[0mkwds\u001b[0m\u001b[0;34m[\u001b[0m\u001b[0;34m\"usecols\"\u001b[0m\u001b[0;34m]\u001b[0m \u001b[0;34m=\u001b[0m \u001b[0mself\u001b[0m\u001b[0;34m.\u001b[0m\u001b[0musecols\u001b[0m\u001b[0;34m\u001b[0m\u001b[0;34m\u001b[0m\u001b[0m\n\u001b[1;32m   1997\u001b[0m \u001b[0;34m\u001b[0m\u001b[0m\n\u001b[0;32m-> 1998\u001b[0;31m         \u001b[0mself\u001b[0m\u001b[0;34m.\u001b[0m\u001b[0m_reader\u001b[0m \u001b[0;34m=\u001b[0m \u001b[0mparsers\u001b[0m\u001b[0;34m.\u001b[0m\u001b[0mTextReader\u001b[0m\u001b[0;34m(\u001b[0m\u001b[0msrc\u001b[0m\u001b[0;34m,\u001b[0m \u001b[0;34m**\u001b[0m\u001b[0mkwds\u001b[0m\u001b[0;34m)\u001b[0m\u001b[0;34m\u001b[0m\u001b[0;34m\u001b[0m\u001b[0m\n\u001b[0m\u001b[1;32m   1999\u001b[0m         \u001b[0mself\u001b[0m\u001b[0;34m.\u001b[0m\u001b[0munnamed_cols\u001b[0m \u001b[0;34m=\u001b[0m \u001b[0mself\u001b[0m\u001b[0;34m.\u001b[0m\u001b[0m_reader\u001b[0m\u001b[0;34m.\u001b[0m\u001b[0munnamed_cols\u001b[0m\u001b[0;34m\u001b[0m\u001b[0;34m\u001b[0m\u001b[0m\n\u001b[1;32m   2000\u001b[0m \u001b[0;34m\u001b[0m\u001b[0m\n",
      "\u001b[0;32mpandas/_libs/parsers.pyx\u001b[0m in \u001b[0;36mpandas._libs.parsers.TextReader.__cinit__\u001b[0;34m()\u001b[0m\n",
      "\u001b[0;32mpandas/_libs/parsers.pyx\u001b[0m in \u001b[0;36mpandas._libs.parsers.TextReader._setup_parser_source\u001b[0;34m()\u001b[0m\n",
      "\u001b[0;31mFileNotFoundError\u001b[0m: [Errno 2] No such file or directory: '../../data/Term2/capstone/arvato_data/Udacity_MAILOUT_052018_TRAIN.csv'"
     ]
    }
   ],
   "source": [
    "mailout_train = pd.read_csv('../../data/Term2/capstone/arvato_data/Udacity_MAILOUT_052018_TRAIN.csv', sep=';')"
   ]
  },
  {
   "cell_type": "code",
   "execution_count": null,
   "metadata": {},
   "outputs": [],
   "source": []
  },
  {
   "cell_type": "markdown",
   "metadata": {},
   "source": [
    "## Part 3: Kaggle Competition\n",
    "\n",
    "Now that you've created a model to predict which individuals are most likely to respond to a mailout campaign, it's time to test that model in competition through Kaggle. If you click on the link [here](http://www.kaggle.com/t/21e6d45d4c574c7fa2d868f0e8c83140), you'll be taken to the competition page where, if you have a Kaggle account, you can enter. If you're one of the top performers, you may have the chance to be contacted by a hiring manager from Arvato or Bertelsmann for an interview!\n",
    "\n",
    "Your entry to the competition should be a CSV file with two columns. The first column should be a copy of \"LNR\", which acts as an ID number for each individual in the \"TEST\" partition. The second column, \"RESPONSE\", should be some measure of how likely each individual became a customer – this might not be a straightforward probability. As you should have found in Part 2, there is a large output class imbalance, where most individuals did not respond to the mailout. Thus, predicting individual classes and using accuracy does not seem to be an appropriate performance evaluation method. Instead, the competition will be using AUC to evaluate performance. The exact values of the \"RESPONSE\" column do not matter as much: only that the higher values try to capture as many of the actual customers as possible, early in the ROC curve sweep."
   ]
  },
  {
   "cell_type": "code",
   "execution_count": null,
   "metadata": {},
   "outputs": [],
   "source": [
    "mailout_test = pd.read_csv('../../data/Term2/capstone/arvato_data/Udacity_MAILOUT_052018_TEST.csv', sep=';')"
   ]
  },
  {
   "cell_type": "code",
   "execution_count": null,
   "metadata": {},
   "outputs": [],
   "source": []
  }
 ],
 "metadata": {
  "kernelspec": {
   "display_name": "Python 3",
   "language": "python",
   "name": "python3"
  },
  "language_info": {
   "codemirror_mode": {
    "name": "ipython",
    "version": 3
   },
   "file_extension": ".py",
   "mimetype": "text/x-python",
   "name": "python",
   "nbconvert_exporter": "python",
   "pygments_lexer": "ipython3",
   "version": "3.8.1"
  }
 },
 "nbformat": 4,
 "nbformat_minor": 2
}

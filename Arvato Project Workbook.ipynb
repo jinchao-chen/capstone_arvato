{
 "cells": [
  {
   "cell_type": "markdown",
   "metadata": {},
   "source": [
    "# Capstone Project: Create a Customer Segmentation Report for Arvato Financial Services\n",
    "\n",
    "In this project, you will analyze demographics data for customers of a mail-order sales company in Germany, comparing it against demographics information for the general population. You'll use unsupervised learning techniques to perform customer segmentation, identifying the parts of the population that best describe the core customer base of the company. Then, you'll apply what you've learned on a third dataset with demographics information for targets of a marketing campaign for the company, and use a model to predict which individuals are most likely to convert into becoming customers for the company. The data that you will use has been provided by our partners at Bertelsmann Arvato Analytics, and represents a real-life data science task."
   ]
  },
  {
   "cell_type": "markdown",
   "metadata": {},
   "source": [
    "to do list\n",
    "\n",
    "- ~create a data cleaning function ()~\n",
    "- ~principle component analysis~ \n",
    "- use different data imputing method for the data \n",
    "- ~code-refraction to make it easier~\n",
    "- include sklearn pipeline/customized transfer functions\n",
    "- create a separate data cleaning pipleine for mailout data"
   ]
  },
  {
   "cell_type": "code",
   "execution_count": 1,
   "metadata": {},
   "outputs": [],
   "source": [
    "# import libraries here; add more as necessary\n",
    "import numpy as np\n",
    "import pandas as pd\n",
    "import matplotlib.pyplot as plt\n",
    "import seaborn as sns\n",
    "# import pandas_profiling \n",
    "from helper import *\n",
    "%matplotlib inline"
   ]
  },
  {
   "cell_type": "code",
   "execution_count": 2,
   "metadata": {},
   "outputs": [],
   "source": [
    "def feature_count(azdias_features):\n",
    "    print( 'Demographics data file contains {:} features'.format(len(azdias.columns)))"
   ]
  },
  {
   "cell_type": "code",
   "execution_count": 3,
   "metadata": {},
   "outputs": [],
   "source": [
    "def get_features( feat_summary, typ , azdias = None):\n",
    "    \"\"\"Get the features as per feature type\n",
    "    \"\"\"\n",
    "    cat_cols = feat_summary.loc[ feat_summary['type'] ==  typ, 'Attribute'].values\n",
    "    \n",
    "    if azdias is None:\n",
    "        cat_cols = cat_cols\n",
    "    else:\n",
    "        cat_cols = np.intersect1d(cat_cols, azdias.columns)\n",
    "        \n",
    "    return cat_cols"
   ]
  },
  {
   "cell_type": "code",
   "execution_count": 4,
   "metadata": {},
   "outputs": [],
   "source": [
    "def data_cleaning(df, feat_summary, nan_threshold, features_to_keep):\n",
    "    \"\"\"clean data frame, drop redundant columns/rows\n",
    "    Args: \n",
    "        df:  input data frame \n",
    "        feat_summary: meta data summary \n",
    "        nan_theshold (float): threshold for dropping rows and columns, if the ratio of nan exceedes it(<1)\n",
    "\n",
    "    Retruns:\n",
    "        df(pd.DataFrame): pandas dataframe withe reduced dimension\n",
    "    \"\"\"\n",
    "    # drop attributes not explained in meta data file\n",
    "    print('# step 1: drop attributes not explained in meta data file ')\n",
    "#     features_to_keep = np.intersect1d(df.columns, feat_summary.Attribute)\n",
    "    df = df[features_to_keep].copy()\n",
    "#     feature_count(df)\n",
    "\n",
    "    # Update NaN according feat-summary\n",
    "    print('# step 2: replace missing values or unknowns as np.nan')\n",
    "    df = unkown_mapping(df, feat_summary)\n",
    "    # Unknown of some features are encoded as 'X' or 'XX', replace them as np.nan, we will convert the others\n",
    "    df.replace(['X', 'XX'], np.nan, inplace=True)\n",
    "\n",
    "#     # Drop nan if portion exceedes the threshold\n",
    "#     print('# step 3: drop columns and rows mostly nan\\'s')\n",
    "#     df = drop_columns(df, threshold=nan_threshold)\n",
    "#     df = drop_rows(df, threshold=nan_threshold)\n",
    "\n",
    "    return df"
   ]
  },
  {
   "cell_type": "code",
   "execution_count": 5,
   "metadata": {},
   "outputs": [],
   "source": [
    "def print_pca(pca_df, pca_n, n):\n",
    "    \"\"\"based on the outcomes of PCA, print the mostly and least weighte of the i-th PCA\n",
    "\n",
    "    Args: \n",
    "        pca_df (dataframe): outcomes of PCA with pca in rows and features in columns \n",
    "        pca_n (int): the (i+1)-th component to print\n",
    "        n (int): features to include in summary table \n",
    "\n",
    "    Returns:\n",
    "        None\n",
    "    \"\"\"\n",
    "\n",
    "    # Highest\n",
    "    print(\"PCA {:}\".format(pca_n))\n",
    "    print(\"{:} attributes with the HIGHEST weight\".format(n))\n",
    "    pca1 = pca_df.loc[pca_n].sort_values(\n",
    "        ascending=False).head(n).reset_index().copy()\n",
    "    pca1.columns = ['Attribute', 'Weight']\n",
    "    pca1['Description'] = pca1['Attribute'].apply(\n",
    "        lambda x: lookup_description(df_features, x))\n",
    "    display(pca1)\n",
    "\n",
    "    # Lowset\n",
    "    print(\"{:} attributes with the LOWEST weight\".format(n))\n",
    "    pca2 = pca_df.loc[pca_n].sort_values(\n",
    "        ascending=False).tail(n).reset_index().copy()\n",
    "    pca2.columns = ['Attribute', 'Weight']\n",
    "    pca2['Description'] = pca2['Attribute'].apply(\n",
    "        lambda x: lookup_description(df_features, x))\n",
    "    display(pca2)"
   ]
  },
  {
   "cell_type": "markdown",
   "metadata": {},
   "source": [
    "# Part 0: Get to Know the Data"
   ]
  },
  {
   "cell_type": "markdown",
   "metadata": {},
   "source": [
    "There are four data files associated with this project:\n",
    "\n",
    "- `Udacity_AZDIAS_052018.csv`: Demographics data for the general population of Germany; 891 211 persons (rows) x 366 features (columns).\n",
    "- `Udacity_CUSTOMERS_052018.csv`: Demographics data for customers of a mail-order company; 191 652 persons (rows) x 369 features (columns).\n",
    "- `Udacity_MAILOUT_052018_TRAIN.csv`: Demographics data for individuals who were targets of a marketing campaign; 42 982 persons (rows) x 367 (columns).\n",
    "- `Udacity_MAILOUT_052018_TEST.csv`: Demographics data for individuals who were targets of a marketing campaign; 42 833 persons (rows) x 366 (columns).\n",
    "\n",
    "Each row of the demographics files represents a single person, but also includes information outside of individuals, including information about their household, building, and neighborhood. Use the information from the first two files to figure out how customers (\"CUSTOMERS\") are similar to or differ from the general population at large (\"AZDIAS\"), then use your analysis to make predictions on the other two files (\"MAILOUT\"), predicting which recipients are most likely to become a customer for the mail-order company.\n",
    "\n",
    "The \"CUSTOMERS\" file contains three extra columns ('CUSTOMER_GROUP', 'ONLINE_PURCHASE', and 'PRODUCT_GROUP'), which provide broad information about the customers depicted in the file. The original \"MAILOUT\" file included one additional column, \"RESPONSE\", which indicated whether or not each recipient became a customer of the company. For the \"TRAIN\" subset, this column has been retained, but in the \"TEST\" subset it has been removed; it is against that withheld column that your final predictions will be assessed in the Kaggle competition.\n",
    "\n",
    "Otherwise, all of the remaining columns are the same between the three data files. For more information about the columns depicted in the files, you can refer to two Excel spreadsheets provided in the workspace. [One of them](./DIAS Information Levels - Attributes 2017.xlsx) is a top-level list of attributes and descriptions, organized by informational category. [The other](./DIAS Attributes - Values 2017.xlsx) is a detailed mapping of data values for each feature in alphabetical order.\n",
    "\n",
    "In the below cell, we've provided some initial code to load in the first two datasets. Note for all of the `.csv` data files in this project that they're semicolon (`;`) delimited, so an additional argument in the [`read_csv()`](https://pandas.pydata.org/pandas-docs/stable/generated/pandas.read_csv.html) call has been included to read in the data properly. Also, considering the size of the datasets, it may take some time for them to load completely."
   ]
  },
  {
   "cell_type": "code",
   "execution_count": 6,
   "metadata": {
    "scrolled": true
   },
   "outputs": [],
   "source": [
    "# load in the data"
   ]
  },
  {
   "cell_type": "code",
   "execution_count": 223,
   "metadata": {},
   "outputs": [],
   "source": [
    "dtype={'CAMEO_DEUG_2015': 'object', 'CAMEO_INTL_2015': 'object'}"
   ]
  },
  {
   "cell_type": "code",
   "execution_count": 224,
   "metadata": {},
   "outputs": [],
   "source": [
    "customers = pd.read_csv(\n",
    "    './data/Udacity_CUSTOMERS_052018.csv', sep=';',  dtype= dtype, nrows=5000)"
   ]
  },
  {
   "cell_type": "code",
   "execution_count": 225,
   "metadata": {
    "scrolled": true
   },
   "outputs": [
    {
     "data": {
      "text/plain": [
       "Index(['LNR', 'AGER_TYP', 'AKT_DAT_KL', 'ALTER_HH', 'ALTER_KIND1',\n",
       "       'ALTER_KIND2', 'ALTER_KIND3', 'ALTER_KIND4', 'ALTERSKATEGORIE_FEIN',\n",
       "       'ANZ_HAUSHALTE_AKTIV',\n",
       "       ...\n",
       "       'VK_ZG11', 'W_KEIT_KIND_HH', 'WOHNDAUER_2008', 'WOHNLAGE', 'ZABEOTYP',\n",
       "       'PRODUCT_GROUP', 'CUSTOMER_GROUP', 'ONLINE_PURCHASE', 'ANREDE_KZ',\n",
       "       'ALTERSKATEGORIE_GROB'],\n",
       "      dtype='object', length=369)"
      ]
     },
     "execution_count": 225,
     "metadata": {},
     "output_type": "execute_result"
    }
   ],
   "source": [
    "customers.columns"
   ]
  },
  {
   "cell_type": "code",
   "execution_count": 226,
   "metadata": {},
   "outputs": [],
   "source": [
    "azdias = pd.read_csv('./data/Udacity_AZDIAS_052018.csv',\n",
    "                     sep=';', dtype = dtype, nrows=5000 )\n",
    "\n",
    "del azdias['LNR']"
   ]
  },
  {
   "cell_type": "code",
   "execution_count": 227,
   "metadata": {},
   "outputs": [
    {
     "data": {
      "text/html": [
       "<div>\n",
       "<style scoped>\n",
       "    .dataframe tbody tr th:only-of-type {\n",
       "        vertical-align: middle;\n",
       "    }\n",
       "\n",
       "    .dataframe tbody tr th {\n",
       "        vertical-align: top;\n",
       "    }\n",
       "\n",
       "    .dataframe thead th {\n",
       "        text-align: right;\n",
       "    }\n",
       "</style>\n",
       "<table border=\"1\" class=\"dataframe\">\n",
       "  <thead>\n",
       "    <tr style=\"text-align: right;\">\n",
       "      <th></th>\n",
       "      <th>AGER_TYP</th>\n",
       "      <th>AKT_DAT_KL</th>\n",
       "      <th>ALTER_HH</th>\n",
       "      <th>ALTER_KIND1</th>\n",
       "      <th>ALTER_KIND2</th>\n",
       "      <th>ALTER_KIND3</th>\n",
       "      <th>ALTER_KIND4</th>\n",
       "      <th>ALTERSKATEGORIE_FEIN</th>\n",
       "      <th>ANZ_HAUSHALTE_AKTIV</th>\n",
       "      <th>ANZ_HH_TITEL</th>\n",
       "      <th>...</th>\n",
       "      <th>VHN</th>\n",
       "      <th>VK_DHT4A</th>\n",
       "      <th>VK_DISTANZ</th>\n",
       "      <th>VK_ZG11</th>\n",
       "      <th>W_KEIT_KIND_HH</th>\n",
       "      <th>WOHNDAUER_2008</th>\n",
       "      <th>WOHNLAGE</th>\n",
       "      <th>ZABEOTYP</th>\n",
       "      <th>ANREDE_KZ</th>\n",
       "      <th>ALTERSKATEGORIE_GROB</th>\n",
       "    </tr>\n",
       "  </thead>\n",
       "  <tbody>\n",
       "    <tr>\n",
       "      <th>0</th>\n",
       "      <td>-1</td>\n",
       "      <td>NaN</td>\n",
       "      <td>NaN</td>\n",
       "      <td>NaN</td>\n",
       "      <td>NaN</td>\n",
       "      <td>NaN</td>\n",
       "      <td>NaN</td>\n",
       "      <td>NaN</td>\n",
       "      <td>NaN</td>\n",
       "      <td>NaN</td>\n",
       "      <td>...</td>\n",
       "      <td>NaN</td>\n",
       "      <td>NaN</td>\n",
       "      <td>NaN</td>\n",
       "      <td>NaN</td>\n",
       "      <td>NaN</td>\n",
       "      <td>NaN</td>\n",
       "      <td>NaN</td>\n",
       "      <td>3</td>\n",
       "      <td>1</td>\n",
       "      <td>2</td>\n",
       "    </tr>\n",
       "    <tr>\n",
       "      <th>1</th>\n",
       "      <td>-1</td>\n",
       "      <td>9.0</td>\n",
       "      <td>0.0</td>\n",
       "      <td>NaN</td>\n",
       "      <td>NaN</td>\n",
       "      <td>NaN</td>\n",
       "      <td>NaN</td>\n",
       "      <td>21.0</td>\n",
       "      <td>11.0</td>\n",
       "      <td>0.0</td>\n",
       "      <td>...</td>\n",
       "      <td>4.0</td>\n",
       "      <td>8.0</td>\n",
       "      <td>11.0</td>\n",
       "      <td>10.0</td>\n",
       "      <td>3.0</td>\n",
       "      <td>9.0</td>\n",
       "      <td>4.0</td>\n",
       "      <td>5</td>\n",
       "      <td>2</td>\n",
       "      <td>1</td>\n",
       "    </tr>\n",
       "    <tr>\n",
       "      <th>2</th>\n",
       "      <td>-1</td>\n",
       "      <td>9.0</td>\n",
       "      <td>17.0</td>\n",
       "      <td>NaN</td>\n",
       "      <td>NaN</td>\n",
       "      <td>NaN</td>\n",
       "      <td>NaN</td>\n",
       "      <td>17.0</td>\n",
       "      <td>10.0</td>\n",
       "      <td>0.0</td>\n",
       "      <td>...</td>\n",
       "      <td>2.0</td>\n",
       "      <td>9.0</td>\n",
       "      <td>9.0</td>\n",
       "      <td>6.0</td>\n",
       "      <td>3.0</td>\n",
       "      <td>9.0</td>\n",
       "      <td>2.0</td>\n",
       "      <td>5</td>\n",
       "      <td>2</td>\n",
       "      <td>3</td>\n",
       "    </tr>\n",
       "    <tr>\n",
       "      <th>3</th>\n",
       "      <td>2</td>\n",
       "      <td>1.0</td>\n",
       "      <td>13.0</td>\n",
       "      <td>NaN</td>\n",
       "      <td>NaN</td>\n",
       "      <td>NaN</td>\n",
       "      <td>NaN</td>\n",
       "      <td>13.0</td>\n",
       "      <td>1.0</td>\n",
       "      <td>0.0</td>\n",
       "      <td>...</td>\n",
       "      <td>0.0</td>\n",
       "      <td>7.0</td>\n",
       "      <td>10.0</td>\n",
       "      <td>11.0</td>\n",
       "      <td>NaN</td>\n",
       "      <td>9.0</td>\n",
       "      <td>7.0</td>\n",
       "      <td>3</td>\n",
       "      <td>2</td>\n",
       "      <td>4</td>\n",
       "    </tr>\n",
       "    <tr>\n",
       "      <th>4</th>\n",
       "      <td>-1</td>\n",
       "      <td>1.0</td>\n",
       "      <td>20.0</td>\n",
       "      <td>NaN</td>\n",
       "      <td>NaN</td>\n",
       "      <td>NaN</td>\n",
       "      <td>NaN</td>\n",
       "      <td>14.0</td>\n",
       "      <td>3.0</td>\n",
       "      <td>0.0</td>\n",
       "      <td>...</td>\n",
       "      <td>2.0</td>\n",
       "      <td>3.0</td>\n",
       "      <td>5.0</td>\n",
       "      <td>4.0</td>\n",
       "      <td>2.0</td>\n",
       "      <td>9.0</td>\n",
       "      <td>3.0</td>\n",
       "      <td>4</td>\n",
       "      <td>1</td>\n",
       "      <td>3</td>\n",
       "    </tr>\n",
       "    <tr>\n",
       "      <th>...</th>\n",
       "      <td>...</td>\n",
       "      <td>...</td>\n",
       "      <td>...</td>\n",
       "      <td>...</td>\n",
       "      <td>...</td>\n",
       "      <td>...</td>\n",
       "      <td>...</td>\n",
       "      <td>...</td>\n",
       "      <td>...</td>\n",
       "      <td>...</td>\n",
       "      <td>...</td>\n",
       "      <td>...</td>\n",
       "      <td>...</td>\n",
       "      <td>...</td>\n",
       "      <td>...</td>\n",
       "      <td>...</td>\n",
       "      <td>...</td>\n",
       "      <td>...</td>\n",
       "      <td>...</td>\n",
       "      <td>...</td>\n",
       "      <td>...</td>\n",
       "    </tr>\n",
       "    <tr>\n",
       "      <th>4995</th>\n",
       "      <td>-1</td>\n",
       "      <td>4.0</td>\n",
       "      <td>19.0</td>\n",
       "      <td>NaN</td>\n",
       "      <td>NaN</td>\n",
       "      <td>NaN</td>\n",
       "      <td>NaN</td>\n",
       "      <td>19.0</td>\n",
       "      <td>2.0</td>\n",
       "      <td>0.0</td>\n",
       "      <td>...</td>\n",
       "      <td>1.0</td>\n",
       "      <td>2.0</td>\n",
       "      <td>3.0</td>\n",
       "      <td>7.0</td>\n",
       "      <td>6.0</td>\n",
       "      <td>4.0</td>\n",
       "      <td>3.0</td>\n",
       "      <td>4</td>\n",
       "      <td>2</td>\n",
       "      <td>1</td>\n",
       "    </tr>\n",
       "    <tr>\n",
       "      <th>4996</th>\n",
       "      <td>-1</td>\n",
       "      <td>1.0</td>\n",
       "      <td>14.0</td>\n",
       "      <td>NaN</td>\n",
       "      <td>NaN</td>\n",
       "      <td>NaN</td>\n",
       "      <td>NaN</td>\n",
       "      <td>14.0</td>\n",
       "      <td>1.0</td>\n",
       "      <td>0.0</td>\n",
       "      <td>...</td>\n",
       "      <td>2.0</td>\n",
       "      <td>2.0</td>\n",
       "      <td>3.0</td>\n",
       "      <td>3.0</td>\n",
       "      <td>3.0</td>\n",
       "      <td>9.0</td>\n",
       "      <td>7.0</td>\n",
       "      <td>3</td>\n",
       "      <td>2</td>\n",
       "      <td>4</td>\n",
       "    </tr>\n",
       "    <tr>\n",
       "      <th>4997</th>\n",
       "      <td>-1</td>\n",
       "      <td>9.0</td>\n",
       "      <td>15.0</td>\n",
       "      <td>16.0</td>\n",
       "      <td>NaN</td>\n",
       "      <td>NaN</td>\n",
       "      <td>NaN</td>\n",
       "      <td>15.0</td>\n",
       "      <td>2.0</td>\n",
       "      <td>0.0</td>\n",
       "      <td>...</td>\n",
       "      <td>4.0</td>\n",
       "      <td>3.0</td>\n",
       "      <td>6.0</td>\n",
       "      <td>4.0</td>\n",
       "      <td>1.0</td>\n",
       "      <td>9.0</td>\n",
       "      <td>1.0</td>\n",
       "      <td>1</td>\n",
       "      <td>1</td>\n",
       "      <td>3</td>\n",
       "    </tr>\n",
       "    <tr>\n",
       "      <th>4998</th>\n",
       "      <td>-1</td>\n",
       "      <td>1.0</td>\n",
       "      <td>12.0</td>\n",
       "      <td>NaN</td>\n",
       "      <td>NaN</td>\n",
       "      <td>NaN</td>\n",
       "      <td>NaN</td>\n",
       "      <td>12.0</td>\n",
       "      <td>2.0</td>\n",
       "      <td>1.0</td>\n",
       "      <td>...</td>\n",
       "      <td>3.0</td>\n",
       "      <td>NaN</td>\n",
       "      <td>NaN</td>\n",
       "      <td>NaN</td>\n",
       "      <td>6.0</td>\n",
       "      <td>9.0</td>\n",
       "      <td>1.0</td>\n",
       "      <td>3</td>\n",
       "      <td>2</td>\n",
       "      <td>1</td>\n",
       "    </tr>\n",
       "    <tr>\n",
       "      <th>4999</th>\n",
       "      <td>-1</td>\n",
       "      <td>1.0</td>\n",
       "      <td>18.0</td>\n",
       "      <td>NaN</td>\n",
       "      <td>NaN</td>\n",
       "      <td>NaN</td>\n",
       "      <td>NaN</td>\n",
       "      <td>16.0</td>\n",
       "      <td>1.0</td>\n",
       "      <td>0.0</td>\n",
       "      <td>...</td>\n",
       "      <td>1.0</td>\n",
       "      <td>4.0</td>\n",
       "      <td>7.0</td>\n",
       "      <td>6.0</td>\n",
       "      <td>3.0</td>\n",
       "      <td>6.0</td>\n",
       "      <td>2.0</td>\n",
       "      <td>2</td>\n",
       "      <td>1</td>\n",
       "      <td>4</td>\n",
       "    </tr>\n",
       "  </tbody>\n",
       "</table>\n",
       "<p>5000 rows × 365 columns</p>\n",
       "</div>"
      ],
      "text/plain": [
       "      AGER_TYP  AKT_DAT_KL  ALTER_HH  ALTER_KIND1  ALTER_KIND2  ALTER_KIND3  \\\n",
       "0           -1         NaN       NaN          NaN          NaN          NaN   \n",
       "1           -1         9.0       0.0          NaN          NaN          NaN   \n",
       "2           -1         9.0      17.0          NaN          NaN          NaN   \n",
       "3            2         1.0      13.0          NaN          NaN          NaN   \n",
       "4           -1         1.0      20.0          NaN          NaN          NaN   \n",
       "...        ...         ...       ...          ...          ...          ...   \n",
       "4995        -1         4.0      19.0          NaN          NaN          NaN   \n",
       "4996        -1         1.0      14.0          NaN          NaN          NaN   \n",
       "4997        -1         9.0      15.0         16.0          NaN          NaN   \n",
       "4998        -1         1.0      12.0          NaN          NaN          NaN   \n",
       "4999        -1         1.0      18.0          NaN          NaN          NaN   \n",
       "\n",
       "      ALTER_KIND4  ALTERSKATEGORIE_FEIN  ANZ_HAUSHALTE_AKTIV  ANZ_HH_TITEL  \\\n",
       "0             NaN                   NaN                  NaN           NaN   \n",
       "1             NaN                  21.0                 11.0           0.0   \n",
       "2             NaN                  17.0                 10.0           0.0   \n",
       "3             NaN                  13.0                  1.0           0.0   \n",
       "4             NaN                  14.0                  3.0           0.0   \n",
       "...           ...                   ...                  ...           ...   \n",
       "4995          NaN                  19.0                  2.0           0.0   \n",
       "4996          NaN                  14.0                  1.0           0.0   \n",
       "4997          NaN                  15.0                  2.0           0.0   \n",
       "4998          NaN                  12.0                  2.0           1.0   \n",
       "4999          NaN                  16.0                  1.0           0.0   \n",
       "\n",
       "      ...  VHN  VK_DHT4A  VK_DISTANZ  VK_ZG11  W_KEIT_KIND_HH  WOHNDAUER_2008  \\\n",
       "0     ...  NaN       NaN         NaN      NaN             NaN             NaN   \n",
       "1     ...  4.0       8.0        11.0     10.0             3.0             9.0   \n",
       "2     ...  2.0       9.0         9.0      6.0             3.0             9.0   \n",
       "3     ...  0.0       7.0        10.0     11.0             NaN             9.0   \n",
       "4     ...  2.0       3.0         5.0      4.0             2.0             9.0   \n",
       "...   ...  ...       ...         ...      ...             ...             ...   \n",
       "4995  ...  1.0       2.0         3.0      7.0             6.0             4.0   \n",
       "4996  ...  2.0       2.0         3.0      3.0             3.0             9.0   \n",
       "4997  ...  4.0       3.0         6.0      4.0             1.0             9.0   \n",
       "4998  ...  3.0       NaN         NaN      NaN             6.0             9.0   \n",
       "4999  ...  1.0       4.0         7.0      6.0             3.0             6.0   \n",
       "\n",
       "     WOHNLAGE ZABEOTYP ANREDE_KZ  ALTERSKATEGORIE_GROB  \n",
       "0         NaN        3         1                     2  \n",
       "1         4.0        5         2                     1  \n",
       "2         2.0        5         2                     3  \n",
       "3         7.0        3         2                     4  \n",
       "4         3.0        4         1                     3  \n",
       "...       ...      ...       ...                   ...  \n",
       "4995      3.0        4         2                     1  \n",
       "4996      7.0        3         2                     4  \n",
       "4997      1.0        1         1                     3  \n",
       "4998      1.0        3         2                     1  \n",
       "4999      2.0        2         1                     4  \n",
       "\n",
       "[5000 rows x 365 columns]"
      ]
     },
     "execution_count": 227,
     "metadata": {},
     "output_type": "execute_result"
    }
   ],
   "source": [
    "azdias"
   ]
  },
  {
   "cell_type": "code",
   "execution_count": 228,
   "metadata": {},
   "outputs": [
    {
     "data": {
      "text/plain": [
       "Index(['LNR', 'AGER_TYP', 'AKT_DAT_KL', 'ALTER_HH', 'ALTER_KIND1',\n",
       "       'ALTER_KIND2', 'ALTER_KIND3', 'ALTER_KIND4', 'ALTERSKATEGORIE_FEIN',\n",
       "       'ANZ_HAUSHALTE_AKTIV',\n",
       "       ...\n",
       "       'VK_DHT4A', 'VK_DISTANZ', 'VK_ZG11', 'W_KEIT_KIND_HH', 'WOHNDAUER_2008',\n",
       "       'WOHNLAGE', 'ZABEOTYP', 'RESPONSE', 'ANREDE_KZ',\n",
       "       'ALTERSKATEGORIE_GROB'],\n",
       "      dtype='object', length=367)"
      ]
     },
     "execution_count": 228,
     "metadata": {},
     "output_type": "execute_result"
    }
   ],
   "source": [
    "mailout_train.columns"
   ]
  },
  {
   "cell_type": "markdown",
   "metadata": {},
   "source": [
    "## meta data summary\n",
    "\n",
    "I will first load the 'DIAS Attributes - Values 2017.xlsx' to understand how the missing or unkonwn values are handled in the data set. \n",
    "\n",
    "- determine columns or features to keep\n",
    "\n",
    "- Assign missing or unknown codes\n",
    "    - The values for 'unknown', 'unknown / no main age detectable', 'no transactions known' or 'no transaction known' where used to define these codes.\n",
    "    \n",
    "- identify the data types\n",
    "\n",
    "meta data summary is completed in a different notebook. Hereby, we will load the summary csv file and make use of the information"
   ]
  },
  {
   "cell_type": "code",
   "execution_count": 229,
   "metadata": {},
   "outputs": [
    {
     "data": {
      "text/html": [
       "<div>\n",
       "<style scoped>\n",
       "    .dataframe tbody tr th:only-of-type {\n",
       "        vertical-align: middle;\n",
       "    }\n",
       "\n",
       "    .dataframe tbody tr th {\n",
       "        vertical-align: top;\n",
       "    }\n",
       "\n",
       "    .dataframe thead th {\n",
       "        text-align: right;\n",
       "    }\n",
       "</style>\n",
       "<table border=\"1\" class=\"dataframe\">\n",
       "  <thead>\n",
       "    <tr style=\"text-align: right;\">\n",
       "      <th></th>\n",
       "      <th>Attribute</th>\n",
       "      <th>type</th>\n",
       "      <th>Value</th>\n",
       "    </tr>\n",
       "  </thead>\n",
       "  <tbody>\n",
       "    <tr>\n",
       "      <th>0</th>\n",
       "      <td>AGER_TYP</td>\n",
       "      <td>categorical</td>\n",
       "      <td>[-1]</td>\n",
       "    </tr>\n",
       "    <tr>\n",
       "      <th>1</th>\n",
       "      <td>ALTERSKATEGORIE_GROB</td>\n",
       "      <td>categorical</td>\n",
       "      <td>[-1, 0]</td>\n",
       "    </tr>\n",
       "    <tr>\n",
       "      <th>2</th>\n",
       "      <td>ALTER_HH</td>\n",
       "      <td>ordinal</td>\n",
       "      <td>[0]</td>\n",
       "    </tr>\n",
       "    <tr>\n",
       "      <th>3</th>\n",
       "      <td>ANREDE_KZ</td>\n",
       "      <td>categorical</td>\n",
       "      <td>[-1, 0]</td>\n",
       "    </tr>\n",
       "    <tr>\n",
       "      <th>4</th>\n",
       "      <td>ANZ_HAUSHALTE_AKTIV</td>\n",
       "      <td>numerical</td>\n",
       "      <td>0</td>\n",
       "    </tr>\n",
       "  </tbody>\n",
       "</table>\n",
       "</div>"
      ],
      "text/plain": [
       "              Attribute         type    Value\n",
       "0              AGER_TYP  categorical     [-1]\n",
       "1  ALTERSKATEGORIE_GROB  categorical  [-1, 0]\n",
       "2              ALTER_HH      ordinal      [0]\n",
       "3             ANREDE_KZ  categorical  [-1, 0]\n",
       "4   ANZ_HAUSHALTE_AKTIV    numerical        0"
      ]
     },
     "execution_count": 229,
     "metadata": {},
     "output_type": "execute_result"
    }
   ],
   "source": [
    "feat_summary = pd.read_pickle('feat_summary.pkl')\n",
    "feat_summary.head()"
   ]
  },
  {
   "cell_type": "code",
   "execution_count": 230,
   "metadata": {},
   "outputs": [
    {
     "data": {
      "text/html": [
       "<div>\n",
       "<style scoped>\n",
       "    .dataframe tbody tr th:only-of-type {\n",
       "        vertical-align: middle;\n",
       "    }\n",
       "\n",
       "    .dataframe tbody tr th {\n",
       "        vertical-align: top;\n",
       "    }\n",
       "\n",
       "    .dataframe thead th {\n",
       "        text-align: right;\n",
       "    }\n",
       "</style>\n",
       "<table border=\"1\" class=\"dataframe\">\n",
       "  <thead>\n",
       "    <tr style=\"text-align: right;\">\n",
       "      <th></th>\n",
       "      <th>Attribute</th>\n",
       "      <th>type</th>\n",
       "      <th>Value</th>\n",
       "    </tr>\n",
       "  </thead>\n",
       "  <tbody>\n",
       "    <tr>\n",
       "      <th>273</th>\n",
       "      <td>OST_WEST_KZ</td>\n",
       "      <td>categorical</td>\n",
       "      <td>[-1]</td>\n",
       "    </tr>\n",
       "  </tbody>\n",
       "</table>\n",
       "</div>"
      ],
      "text/plain": [
       "       Attribute         type Value\n",
       "273  OST_WEST_KZ  categorical  [-1]"
      ]
     },
     "execution_count": 230,
     "metadata": {},
     "output_type": "execute_result"
    }
   ],
   "source": [
    "feat_summary.loc[feat_summary[\"Attribute\"] =='OST_WEST_KZ']"
   ]
  },
  {
   "cell_type": "markdown",
   "metadata": {},
   "source": [
    "##  drop columns not explained in the meta data file "
   ]
  },
  {
   "cell_type": "code",
   "execution_count": 231,
   "metadata": {},
   "outputs": [],
   "source": [
    "# Update: to keep the features, or else it may cause feature drain, investigate the values \n",
    "\n",
    "# features_to_keep = np.intersect1d(azdias.columns, feat_summary.Attribute)\n",
    "# azdias = azdias[features_to_keep]  \n",
    "# print( 'demographic data file contains {:} features'.format(len(azdias.columns)))"
   ]
  },
  {
   "cell_type": "code",
   "execution_count": 240,
   "metadata": {},
   "outputs": [
    {
     "name": "stdout",
     "output_type": "stream",
     "text": [
      "there are in total 99 features not expalined in the meta data file\n"
     ]
    }
   ],
   "source": [
    "cols_not_explained = np.setdiff1d(azdias.columns, feat_summary.Attribute)\n",
    "print(\"there are in total {:} features not expalined in the meta data file\".format(len(cols_not_explained)))"
   ]
  },
  {
   "cell_type": "code",
   "execution_count": 241,
   "metadata": {},
   "outputs": [
    {
     "data": {
      "text/html": [
       "<div>\n",
       "<style scoped>\n",
       "    .dataframe tbody tr th:only-of-type {\n",
       "        vertical-align: middle;\n",
       "    }\n",
       "\n",
       "    .dataframe tbody tr th {\n",
       "        vertical-align: top;\n",
       "    }\n",
       "\n",
       "    .dataframe thead th {\n",
       "        text-align: right;\n",
       "    }\n",
       "</style>\n",
       "<table border=\"1\" class=\"dataframe\">\n",
       "  <thead>\n",
       "    <tr style=\"text-align: right;\">\n",
       "      <th></th>\n",
       "      <th>AKT_DAT_KL</th>\n",
       "      <th>ALTERSKATEGORIE_FEIN</th>\n",
       "      <th>ALTER_KIND1</th>\n",
       "      <th>ALTER_KIND2</th>\n",
       "      <th>ALTER_KIND3</th>\n",
       "      <th>ALTER_KIND4</th>\n",
       "      <th>ANZ_KINDER</th>\n",
       "      <th>ANZ_STATISTISCHE_HAUSHALTE</th>\n",
       "      <th>ARBEIT</th>\n",
       "      <th>CJT_KATALOGNUTZER</th>\n",
       "      <th>...</th>\n",
       "      <th>STRUKTURTYP</th>\n",
       "      <th>UMFELD_ALT</th>\n",
       "      <th>UMFELD_JUNG</th>\n",
       "      <th>UNGLEICHENN_FLAG</th>\n",
       "      <th>VERDICHTUNGSRAUM</th>\n",
       "      <th>VHA</th>\n",
       "      <th>VHN</th>\n",
       "      <th>VK_DHT4A</th>\n",
       "      <th>VK_DISTANZ</th>\n",
       "      <th>VK_ZG11</th>\n",
       "    </tr>\n",
       "  </thead>\n",
       "  <tbody>\n",
       "    <tr>\n",
       "      <th>count</th>\n",
       "      <td>4380.000000</td>\n",
       "      <td>3320.000000</td>\n",
       "      <td>432.000000</td>\n",
       "      <td>161.000000</td>\n",
       "      <td>37.000000</td>\n",
       "      <td>1.0</td>\n",
       "      <td>4380.000000</td>\n",
       "      <td>4267.000000</td>\n",
       "      <td>4242.000000</td>\n",
       "      <td>4972.000000</td>\n",
       "      <td>...</td>\n",
       "      <td>4241.000000</td>\n",
       "      <td>4233.000000</td>\n",
       "      <td>4233.000000</td>\n",
       "      <td>4380.000000</td>\n",
       "      <td>4241.000000</td>\n",
       "      <td>4380.000000</td>\n",
       "      <td>4101.000000</td>\n",
       "      <td>4367.000000</td>\n",
       "      <td>4367.00000</td>\n",
       "      <td>4367.000000</td>\n",
       "    </tr>\n",
       "    <tr>\n",
       "      <th>mean</th>\n",
       "      <td>4.456393</td>\n",
       "      <td>13.835241</td>\n",
       "      <td>11.706019</td>\n",
       "      <td>13.571429</td>\n",
       "      <td>14.648649</td>\n",
       "      <td>10.0</td>\n",
       "      <td>0.155479</td>\n",
       "      <td>7.421608</td>\n",
       "      <td>3.168317</td>\n",
       "      <td>3.380732</td>\n",
       "      <td>...</td>\n",
       "      <td>2.530064</td>\n",
       "      <td>3.220647</td>\n",
       "      <td>3.997165</td>\n",
       "      <td>0.097032</td>\n",
       "      <td>4.745107</td>\n",
       "      <td>0.450000</td>\n",
       "      <td>2.388198</td>\n",
       "      <td>6.007786</td>\n",
       "      <td>7.57362</td>\n",
       "      <td>5.995878</td>\n",
       "    </tr>\n",
       "    <tr>\n",
       "      <th>std</th>\n",
       "      <td>3.623043</td>\n",
       "      <td>5.081644</td>\n",
       "      <td>4.190273</td>\n",
       "      <td>3.268628</td>\n",
       "      <td>2.859839</td>\n",
       "      <td>NaN</td>\n",
       "      <td>0.500997</td>\n",
       "      <td>12.854705</td>\n",
       "      <td>1.012283</td>\n",
       "      <td>1.489470</td>\n",
       "      <td>...</td>\n",
       "      <td>0.755548</td>\n",
       "      <td>1.240457</td>\n",
       "      <td>1.109544</td>\n",
       "      <td>0.296035</td>\n",
       "      <td>8.766890</td>\n",
       "      <td>1.163898</td>\n",
       "      <td>1.184657</td>\n",
       "      <td>2.845371</td>\n",
       "      <td>3.23071</td>\n",
       "      <td>2.758734</td>\n",
       "    </tr>\n",
       "    <tr>\n",
       "      <th>min</th>\n",
       "      <td>1.000000</td>\n",
       "      <td>0.000000</td>\n",
       "      <td>2.000000</td>\n",
       "      <td>5.000000</td>\n",
       "      <td>8.000000</td>\n",
       "      <td>10.0</td>\n",
       "      <td>0.000000</td>\n",
       "      <td>1.000000</td>\n",
       "      <td>1.000000</td>\n",
       "      <td>1.000000</td>\n",
       "      <td>...</td>\n",
       "      <td>1.000000</td>\n",
       "      <td>1.000000</td>\n",
       "      <td>1.000000</td>\n",
       "      <td>0.000000</td>\n",
       "      <td>0.000000</td>\n",
       "      <td>0.000000</td>\n",
       "      <td>0.000000</td>\n",
       "      <td>1.000000</td>\n",
       "      <td>1.00000</td>\n",
       "      <td>1.000000</td>\n",
       "    </tr>\n",
       "    <tr>\n",
       "      <th>25%</th>\n",
       "      <td>1.000000</td>\n",
       "      <td>11.000000</td>\n",
       "      <td>8.000000</td>\n",
       "      <td>11.000000</td>\n",
       "      <td>13.000000</td>\n",
       "      <td>10.0</td>\n",
       "      <td>0.000000</td>\n",
       "      <td>1.000000</td>\n",
       "      <td>3.000000</td>\n",
       "      <td>2.000000</td>\n",
       "      <td>...</td>\n",
       "      <td>2.000000</td>\n",
       "      <td>2.000000</td>\n",
       "      <td>3.000000</td>\n",
       "      <td>0.000000</td>\n",
       "      <td>0.000000</td>\n",
       "      <td>0.000000</td>\n",
       "      <td>2.000000</td>\n",
       "      <td>3.000000</td>\n",
       "      <td>6.00000</td>\n",
       "      <td>4.000000</td>\n",
       "    </tr>\n",
       "    <tr>\n",
       "      <th>50%</th>\n",
       "      <td>3.000000</td>\n",
       "      <td>15.000000</td>\n",
       "      <td>12.000000</td>\n",
       "      <td>14.000000</td>\n",
       "      <td>16.000000</td>\n",
       "      <td>10.0</td>\n",
       "      <td>0.000000</td>\n",
       "      <td>4.000000</td>\n",
       "      <td>3.000000</td>\n",
       "      <td>4.000000</td>\n",
       "      <td>...</td>\n",
       "      <td>3.000000</td>\n",
       "      <td>3.000000</td>\n",
       "      <td>4.000000</td>\n",
       "      <td>0.000000</td>\n",
       "      <td>1.000000</td>\n",
       "      <td>0.000000</td>\n",
       "      <td>2.000000</td>\n",
       "      <td>6.000000</td>\n",
       "      <td>8.00000</td>\n",
       "      <td>6.000000</td>\n",
       "    </tr>\n",
       "    <tr>\n",
       "      <th>75%</th>\n",
       "      <td>9.000000</td>\n",
       "      <td>17.000000</td>\n",
       "      <td>15.000000</td>\n",
       "      <td>17.000000</td>\n",
       "      <td>17.000000</td>\n",
       "      <td>10.0</td>\n",
       "      <td>0.000000</td>\n",
       "      <td>9.000000</td>\n",
       "      <td>4.000000</td>\n",
       "      <td>5.000000</td>\n",
       "      <td>...</td>\n",
       "      <td>3.000000</td>\n",
       "      <td>4.000000</td>\n",
       "      <td>5.000000</td>\n",
       "      <td>0.000000</td>\n",
       "      <td>5.000000</td>\n",
       "      <td>0.000000</td>\n",
       "      <td>3.000000</td>\n",
       "      <td>8.500000</td>\n",
       "      <td>10.00000</td>\n",
       "      <td>8.000000</td>\n",
       "    </tr>\n",
       "    <tr>\n",
       "      <th>max</th>\n",
       "      <td>9.000000</td>\n",
       "      <td>25.000000</td>\n",
       "      <td>18.000000</td>\n",
       "      <td>18.000000</td>\n",
       "      <td>18.000000</td>\n",
       "      <td>10.0</td>\n",
       "      <td>4.000000</td>\n",
       "      <td>292.000000</td>\n",
       "      <td>9.000000</td>\n",
       "      <td>5.000000</td>\n",
       "      <td>...</td>\n",
       "      <td>3.000000</td>\n",
       "      <td>5.000000</td>\n",
       "      <td>5.000000</td>\n",
       "      <td>1.000000</td>\n",
       "      <td>45.000000</td>\n",
       "      <td>5.000000</td>\n",
       "      <td>4.000000</td>\n",
       "      <td>11.000000</td>\n",
       "      <td>13.00000</td>\n",
       "      <td>11.000000</td>\n",
       "    </tr>\n",
       "  </tbody>\n",
       "</table>\n",
       "<p>8 rows × 95 columns</p>\n",
       "</div>"
      ],
      "text/plain": [
       "        AKT_DAT_KL  ALTERSKATEGORIE_FEIN  ALTER_KIND1  ALTER_KIND2  \\\n",
       "count  4380.000000           3320.000000   432.000000   161.000000   \n",
       "mean      4.456393             13.835241    11.706019    13.571429   \n",
       "std       3.623043              5.081644     4.190273     3.268628   \n",
       "min       1.000000              0.000000     2.000000     5.000000   \n",
       "25%       1.000000             11.000000     8.000000    11.000000   \n",
       "50%       3.000000             15.000000    12.000000    14.000000   \n",
       "75%       9.000000             17.000000    15.000000    17.000000   \n",
       "max       9.000000             25.000000    18.000000    18.000000   \n",
       "\n",
       "       ALTER_KIND3  ALTER_KIND4   ANZ_KINDER  ANZ_STATISTISCHE_HAUSHALTE  \\\n",
       "count    37.000000          1.0  4380.000000                 4267.000000   \n",
       "mean     14.648649         10.0     0.155479                    7.421608   \n",
       "std       2.859839          NaN     0.500997                   12.854705   \n",
       "min       8.000000         10.0     0.000000                    1.000000   \n",
       "25%      13.000000         10.0     0.000000                    1.000000   \n",
       "50%      16.000000         10.0     0.000000                    4.000000   \n",
       "75%      17.000000         10.0     0.000000                    9.000000   \n",
       "max      18.000000         10.0     4.000000                  292.000000   \n",
       "\n",
       "            ARBEIT  CJT_KATALOGNUTZER  ...  STRUKTURTYP   UMFELD_ALT  \\\n",
       "count  4242.000000        4972.000000  ...  4241.000000  4233.000000   \n",
       "mean      3.168317           3.380732  ...     2.530064     3.220647   \n",
       "std       1.012283           1.489470  ...     0.755548     1.240457   \n",
       "min       1.000000           1.000000  ...     1.000000     1.000000   \n",
       "25%       3.000000           2.000000  ...     2.000000     2.000000   \n",
       "50%       3.000000           4.000000  ...     3.000000     3.000000   \n",
       "75%       4.000000           5.000000  ...     3.000000     4.000000   \n",
       "max       9.000000           5.000000  ...     3.000000     5.000000   \n",
       "\n",
       "       UMFELD_JUNG  UNGLEICHENN_FLAG  VERDICHTUNGSRAUM          VHA  \\\n",
       "count  4233.000000       4380.000000       4241.000000  4380.000000   \n",
       "mean      3.997165          0.097032          4.745107     0.450000   \n",
       "std       1.109544          0.296035          8.766890     1.163898   \n",
       "min       1.000000          0.000000          0.000000     0.000000   \n",
       "25%       3.000000          0.000000          0.000000     0.000000   \n",
       "50%       4.000000          0.000000          1.000000     0.000000   \n",
       "75%       5.000000          0.000000          5.000000     0.000000   \n",
       "max       5.000000          1.000000         45.000000     5.000000   \n",
       "\n",
       "               VHN     VK_DHT4A  VK_DISTANZ      VK_ZG11  \n",
       "count  4101.000000  4367.000000  4367.00000  4367.000000  \n",
       "mean      2.388198     6.007786     7.57362     5.995878  \n",
       "std       1.184657     2.845371     3.23071     2.758734  \n",
       "min       0.000000     1.000000     1.00000     1.000000  \n",
       "25%       2.000000     3.000000     6.00000     4.000000  \n",
       "50%       2.000000     6.000000     8.00000     6.000000  \n",
       "75%       3.000000     8.500000    10.00000     8.000000  \n",
       "max       4.000000    11.000000    13.00000    11.000000  \n",
       "\n",
       "[8 rows x 95 columns]"
      ]
     },
     "execution_count": 241,
     "metadata": {},
     "output_type": "execute_result"
    }
   ],
   "source": [
    "azdias[cols_not_explained].describe()"
   ]
  },
  {
   "cell_type": "code",
   "execution_count": 244,
   "metadata": {},
   "outputs": [
    {
     "data": {
      "text/plain": [
       "AKT_DAT_KL              0.1240\n",
       "ALTERSKATEGORIE_FEIN    0.3360\n",
       "ALTER_KIND1             0.9136\n",
       "ALTER_KIND2             0.9678\n",
       "ALTER_KIND3             0.9926\n",
       "                         ...  \n",
       "VHA                     0.1240\n",
       "VHN                     0.1798\n",
       "VK_DHT4A                0.1266\n",
       "VK_DISTANZ              0.1266\n",
       "VK_ZG11                 0.1266\n",
       "Length: 99, dtype: float64"
      ]
     },
     "execution_count": 244,
     "metadata": {},
     "output_type": "execute_result"
    }
   ],
   "source": [
    "azdias[cols_not_explained].isna().mean()"
   ]
  },
  {
   "cell_type": "code",
   "execution_count": 246,
   "metadata": {},
   "outputs": [
    {
     "data": {
      "text/plain": [
       "array(['AKT_DAT_KL', 'ALTERSKATEGORIE_FEIN', 'ALTER_KIND1', 'ALTER_KIND2',\n",
       "       'ALTER_KIND3', 'ALTER_KIND4', 'ANZ_KINDER',\n",
       "       'ANZ_STATISTISCHE_HAUSHALTE', 'ARBEIT', 'CAMEO_DEU_2015',\n",
       "       'CAMEO_INTL_2015', 'CJT_KATALOGNUTZER', 'CJT_TYP_1', 'CJT_TYP_2',\n",
       "       'CJT_TYP_3', 'CJT_TYP_4', 'CJT_TYP_5', 'CJT_TYP_6',\n",
       "       'D19_BANKEN_DIREKT', 'D19_BANKEN_GROSS', 'D19_BANKEN_LOKAL',\n",
       "       'D19_BANKEN_REST', 'D19_BEKLEIDUNG_GEH', 'D19_BEKLEIDUNG_REST',\n",
       "       'D19_BILDUNG', 'D19_BIO_OEKO', 'D19_BUCH_CD', 'D19_DIGIT_SERV',\n",
       "       'D19_DROGERIEARTIKEL', 'D19_ENERGIE', 'D19_FREIZEIT', 'D19_GARTEN',\n",
       "       'D19_HANDWERK', 'D19_HAUS_DEKO', 'D19_KINDERARTIKEL',\n",
       "       'D19_KONSUMTYP_MAX', 'D19_KOSMETIK', 'D19_LEBENSMITTEL',\n",
       "       'D19_LETZTER_KAUF_BRANCHE', 'D19_LOTTO', 'D19_NAHRUNGSERGAENZUNG',\n",
       "       'D19_RATGEBER', 'D19_REISEN', 'D19_SAMMELARTIKEL', 'D19_SCHUHE',\n",
       "       'D19_SONSTIGE', 'D19_SOZIALES', 'D19_TECHNIK', 'D19_TELKO_MOBILE',\n",
       "       'D19_TELKO_ONLINE_QUOTE_12', 'D19_TELKO_REST', 'D19_TIERARTIKEL',\n",
       "       'D19_VERSAND_REST', 'D19_VERSICHERUNGEN', 'D19_VERSI_DATUM',\n",
       "       'D19_VERSI_OFFLINE_DATUM', 'D19_VERSI_ONLINE_DATUM',\n",
       "       'D19_VERSI_ONLINE_QUOTE_12', 'D19_VOLLSORTIMENT',\n",
       "       'D19_WEIN_FEINKOST', 'DSL_FLAG', 'EINGEFUEGT_AM',\n",
       "       'EINGEZOGENAM_HH_JAHR', 'EXTSEL992', 'FIRMENDICHTE', 'GEMEINDETYP',\n",
       "       'HH_DELTA_FLAG', 'KBA13_ANTG1', 'KBA13_ANTG2', 'KBA13_ANTG3',\n",
       "       'KBA13_ANTG4', 'KBA13_BAUMAX', 'KBA13_CCM_1401_2500', 'KBA13_GBZ',\n",
       "       'KBA13_HHZ', 'KBA13_KMH_210', 'KK_KUNDENTYP', 'KOMBIALTER',\n",
       "       'KONSUMZELLE', 'LP_FAMILIE_FEIN', 'LP_LEBENSPHASE_FEIN',\n",
       "       'LP_STATUS_FEIN', 'MIN_GEBAEUDEJAHR', 'MOBI_RASTER',\n",
       "       'PRAEGENDE_JUGENDJAHRE', 'RT_KEIN_ANREIZ', 'RT_SCHNAEPPCHEN',\n",
       "       'RT_UEBERGROESSE', 'SOHO_KZ', 'STRUKTURTYP', 'UMFELD_ALT',\n",
       "       'UMFELD_JUNG', 'UNGLEICHENN_FLAG', 'VERDICHTUNGSRAUM', 'VHA',\n",
       "       'VHN', 'VK_DHT4A', 'VK_DISTANZ', 'VK_ZG11'], dtype=object)"
      ]
     },
     "execution_count": 246,
     "metadata": {},
     "output_type": "execute_result"
    }
   ],
   "source": [
    "cols_not_explained"
   ]
  },
  {
   "cell_type": "code",
   "execution_count": 247,
   "metadata": {},
   "outputs": [],
   "source": [
    "# azdias[cols_not_explained].isnumeric()"
   ]
  },
  {
   "cell_type": "markdown",
   "metadata": {},
   "source": [
    "## convert missing values or unknowns to 'nan's'"
   ]
  },
  {
   "cell_type": "code",
   "execution_count": 212,
   "metadata": {
    "scrolled": false
   },
   "outputs": [
    {
     "data": {
      "text/plain": [
       "<matplotlib.axes._subplots.AxesSubplot at 0x1a802f2f7f0>"
      ]
     },
     "execution_count": 212,
     "metadata": {},
     "output_type": "execute_result"
    },
    {
     "data": {
      "image/png": "[encoded data removed]",
      "text/plain": [
       "<Figure size 576x396 with 1 Axes>"
      ]
     },
     "metadata": {},
     "output_type": "display_data"
    }
   ],
   "source": [
    "# hist before updating the dataframe\n",
    "hist_nan(azdias, axis=0)"
   ]
  },
  {
   "cell_type": "code",
   "execution_count": 213,
   "metadata": {
    "scrolled": true
   },
   "outputs": [
    {
     "name": "stderr",
     "output_type": "stream",
     "text": [
      "C:\\ProgramData\\Anaconda3\\Lib\\site-packages\\pandas\\core\\generic.py:6746: SettingWithCopyWarning: \n",
      "A value is trying to be set on a copy of a slice from a DataFrame\n",
      "\n",
      "See the caveats in the documentation: https://pandas.pydata.org/pandas-docs/stable/user_guide/indexing.html#returning-a-view-versus-a-copy\n",
      "  self._update_inplace(new_data)\n"
     ]
    }
   ],
   "source": [
    "azdias = unkown_mapping(azdias, feat_summary)"
   ]
  },
  {
   "cell_type": "code",
   "execution_count": 214,
   "metadata": {},
   "outputs": [
    {
     "data": {
      "text/plain": [
       "<matplotlib.axes._subplots.AxesSubplot at 0x1a805809128>"
      ]
     },
     "execution_count": 214,
     "metadata": {},
     "output_type": "execute_result"
    },
    {
     "data": {
      "image/png": "[encoded data removed]",
      "text/plain": [
       "<Figure size 576x396 with 1 Axes>"
      ]
     },
     "metadata": {},
     "output_type": "display_data"
    }
   ],
   "source": [
    "# Histgram after updating the unknown/missing vlaue encoding\n",
    "hist_nan(azdias, axis=0)"
   ]
  },
  {
   "cell_type": "code",
   "execution_count": 215,
   "metadata": {},
   "outputs": [
    {
     "name": "stdout",
     "output_type": "stream",
     "text": [
      "CAMEO_DEUG_2015, [nan '8' '4' '2' '6' '1' '9' '5' '7' '3' 'X']\n",
      "OST_WEST_KZ, [nan 'W' 'O']\n"
     ]
    }
   ],
   "source": [
    "# Check if the dataframe still contain any strings or any other non-numeric values \n",
    "for col in azdias.columns:\n",
    "    if any(isinstance(y,(str)) for y in azdias[col].unique()):  \n",
    "        print('{:}, {:}'.format( col , azdias[col].unique()))"
   ]
  },
  {
   "cell_type": "code",
   "execution_count": 216,
   "metadata": {},
   "outputs": [
    {
     "name": "stderr",
     "output_type": "stream",
     "text": [
      "C:\\ProgramData\\Anaconda3\\Lib\\site-packages\\pandas\\core\\frame.py:4172: SettingWithCopyWarning: \n",
      "A value is trying to be set on a copy of a slice from a DataFrame\n",
      "\n",
      "See the caveats in the documentation: https://pandas.pydata.org/pandas-docs/stable/user_guide/indexing.html#returning-a-view-versus-a-copy\n",
      "  method=method,\n"
     ]
    }
   ],
   "source": [
    "# Unknown of some features are encoded as 'X' or 'XX', replace them as np.nan, we will convert the others \n",
    "azdias.replace(['X','XX'], np.nan, inplace=True)"
   ]
  },
  {
   "cell_type": "code",
   "execution_count": 217,
   "metadata": {},
   "outputs": [],
   "source": [
    "azdias.to_pickle('azdias.pkl')"
   ]
  },
  {
   "cell_type": "markdown",
   "metadata": {},
   "source": [
    "##  Drop rows that have large number of missing"
   ]
  },
  {
   "cell_type": "markdown",
   "metadata": {},
   "source": [
    "distributions of non-missing features look similar between the data with many missing values and the data with few or no missing values, then we could argue that simply dropping those points from the analysis won't present a major issue. "
   ]
  },
  {
   "cell_type": "code",
   "execution_count": 218,
   "metadata": {
    "scrolled": true
   },
   "outputs": [
    {
     "name": "stdout",
     "output_type": "stream",
     "text": [
      "Demographics data file contains 245 features\n"
     ]
    }
   ],
   "source": [
    "threshold = 0.3\n",
    "azdias = drop_columns(azdias, threshold = 0.6)\n",
    "azdias = drop_rows(azdias, threshold = 0.6)\n",
    "feature_count(azdias)"
   ]
  },
  {
   "cell_type": "code",
   "execution_count": 219,
   "metadata": {},
   "outputs": [],
   "source": [
    "col_to_keep = azdias.columns"
   ]
  },
  {
   "cell_type": "code",
   "execution_count": 220,
   "metadata": {},
   "outputs": [
    {
     "data": {
      "text/plain": [
       "245"
      ]
     },
     "execution_count": 220,
     "metadata": {},
     "output_type": "execute_result"
    }
   ],
   "source": [
    "len(col_to_keep)"
   ]
  },
  {
   "cell_type": "markdown",
   "metadata": {},
   "source": [
    "## replace nan's "
   ]
  },
  {
   "cell_type": "markdown",
   "metadata": {},
   "source": [
    "### Imputing, replace the nan's with either the mean median or mode"
   ]
  },
  {
   "cell_type": "code",
   "execution_count": 24,
   "metadata": {
    "scrolled": false
   },
   "outputs": [],
   "source": [
    "## Summary of nans for  each column\n",
    "# NaN count in columns where\n",
    "azdias_nan  = azdias.isna().mean() * 100 #portion of NaN\n",
    "azdias_nan_ = azdias_nan.loc[azdias_nan>0]"
   ]
  },
  {
   "cell_type": "code",
   "execution_count": 25,
   "metadata": {},
   "outputs": [
    {
     "data": {
      "text/plain": [
       "<matplotlib.axes._subplots.AxesSubplot at 0x1a87bbf5cc0>"
      ]
     },
     "execution_count": 25,
     "metadata": {},
     "output_type": "execute_result"
    },
    {
     "data": {
      "image/png": "[encoded data removed]",
      "text/plain": [
       "<Figure size 1152x288 with 1 Axes>"
      ]
     },
     "metadata": {
      "needs_background": "light"
     },
     "output_type": "display_data"
    }
   ],
   "source": [
    "azdias_nan_.plot(kind = 'bar', figsize = (16,4))"
   ]
  },
  {
   "cell_type": "markdown",
   "metadata": {},
   "source": [
    "#### Select and Re-Encode Features\n",
    "\n",
    "Checking for missing data isn't the only way in which you can prepare a dataset for analysis. Since the unsupervised learning techniques to be used will only work on data that is encoded numerically, you need to make a few encoding changes or additional assumptions to be able to make progress. In addition, while almost all of the values in the dataset are encoded using numbers, not all of them represent numeric values. \n",
    "\n",
    "- For numeric and interval data, these features needs to be scaled \n",
    "- Most of the variables in the dataset are ordinal in nature. While ordinal values may technically be non-linear in spacing, make the simplifying assumption that the ordinal variables can be treated as being interval in nature (that is, kept without any changes). -> to be scaled\n",
    "- Special handling may be necessary for the remaining two variable types: categorical\n",
    "- Mixed data is also treated the same way as cat-data"
   ]
  },
  {
   "cell_type": "code",
   "execution_count": 26,
   "metadata": {
    "scrolled": false
   },
   "outputs": [
    {
     "data": {
      "text/plain": [
       "<matplotlib.axes._subplots.AxesSubplot at 0x1a87cc47940>"
      ]
     },
     "execution_count": 26,
     "metadata": {},
     "output_type": "execute_result"
    },
    {
     "data": {
      "image/png": "[encoded data removed]",
      "text/plain": [
       "<Figure size 432x288 with 1 Axes>"
      ]
     },
     "metadata": {
      "needs_background": "light"
     },
     "output_type": "display_data"
    }
   ],
   "source": [
    "hist_nan(azdias)"
   ]
  },
  {
   "cell_type": "code",
   "execution_count": 27,
   "metadata": {},
   "outputs": [
    {
     "name": "stdout",
     "output_type": "stream",
     "text": [
      "CAMEO_DEUG_2015, ['8' '4' '2' '6' '1' '9' '5' '7' '3' nan]\n",
      "OST_WEST_KZ, ['W' 'O']\n"
     ]
    }
   ],
   "source": [
    "for col in azdias.columns:\n",
    "    if any(isinstance(y,(str)) for y in azdias[col].unique()):  \n",
    "        print('{:}, {:}'.format( col , azdias[col].unique()))"
   ]
  },
  {
   "cell_type": "markdown",
   "metadata": {},
   "source": [
    "#### Imputing missing value"
   ]
  },
  {
   "cell_type": "code",
   "execution_count": 28,
   "metadata": {},
   "outputs": [],
   "source": [
    "from sklearn import preprocessing\n",
    "from sklearn.impute import SimpleImputer"
   ]
  },
  {
   "cell_type": "code",
   "execution_count": 29,
   "metadata": {},
   "outputs": [],
   "source": [
    "# Replace NaN using the most frequent item in each column\n",
    "imp = SimpleImputer(missing_values=np.nan, strategy='most_frequent')\n",
    "\n",
    "azdias_transformed = pd.DataFrame(imp.fit_transform(azdias))\n",
    "azdias_transformed.columns= azdias.columns\n",
    "azdias_transformed.index=azdias.index"
   ]
  },
  {
   "cell_type": "markdown",
   "metadata": {},
   "source": [
    "#### handle cat features"
   ]
  },
  {
   "cell_type": "code",
   "execution_count": 30,
   "metadata": {},
   "outputs": [],
   "source": [
    "to_label_encoder = [\"OST_WEST_KZ\"]"
   ]
  },
  {
   "cell_type": "code",
   "execution_count": 31,
   "metadata": {},
   "outputs": [],
   "source": [
    "le = preprocessing.LabelEncoder()\n",
    "\n",
    "for col in to_label_encoder:\n",
    "    try:\n",
    "        azdias_transformed[col] = le.fit_transform(azdias_transformed[col])\n",
    "    except:\n",
    "        print('{:} not in dataframe'.format(col))"
   ]
  },
  {
   "cell_type": "code",
   "execution_count": 32,
   "metadata": {},
   "outputs": [],
   "source": [
    "cat_cols = get_features(feat_summary, typ = \"categorical\", azdias=azdias_transformed)"
   ]
  },
  {
   "cell_type": "code",
   "execution_count": 33,
   "metadata": {},
   "outputs": [],
   "source": [
    "# cat_cols = feat_summary.loc[ feat_summary['type'] == 'categorical', 'Attribute'].values\n",
    "# cat_cols = np.intersect1d(cat_cols, azdias.columns)\n",
    "\n",
    "azdias_transformed[cat_cols] = azdias_transformed[cat_cols].astype('category')\n",
    "azdias_transformed = pd.get_dummies(azdias_transformed, drop_first= True, columns= cat_cols)"
   ]
  },
  {
   "cell_type": "markdown",
   "metadata": {},
   "source": [
    "## Feature Transformation\n",
    "\n",
    "Before we apply dimensionality reduction techniques to the data, we need to perform feature scaling so that the principal component vectors are not influenced by the natural differences in scale for features. Starting from this part of the project, you'll want to keep an eye on the API reference page for sklearn to help you navigate to all of the classes and functions that you'll need. In this substep, you'll need to check the following:\n",
    "sklearn requires that data not have missing values in order for its estimators to work properly. So, before applying the scaler to your data, make sure that you've cleaned the DataFrame of the remaining missing values. \n",
    "\n",
    "This can be as simple as just removing all data points with missing data, or applying an Imputer to replace all missing values. You might also try a more complicated procedure where you temporarily remove missing values in order to compute the scaling parameters before re-introducing those missing values and applying imputation. Think about how much missing data you have and what possible effects each approach might have on your analysis, and justify your decision in the discussion section below.\n",
    "\n",
    "For the actual scaling function, a StandardScaler instance is suggested, scaling each feature to mean 0 and standard deviation 1.\n",
    "\n",
    "For these classes, you can make use of the .fit_transform() method to both fit a procedure to the data as well as apply the transformation to the data at the same time. Don't forget to keep the fit sklearn objects handy, since you'll be applying them to the customer demographics data towards the end of the project."
   ]
  },
  {
   "cell_type": "markdown",
   "metadata": {},
   "source": [
    "apply feature scaling to the numeric columns. ordinal values converted to [0,1] already. therefore there is no need to convert those columns "
   ]
  },
  {
   "cell_type": "code",
   "execution_count": 34,
   "metadata": {},
   "outputs": [
    {
     "name": "stdout",
     "output_type": "stream",
     "text": [
      "['ANZ_HAUSHALTE_AKTIV' 'ANZ_PERSONEN']\n"
     ]
    },
    {
     "data": {
      "image/png": "[encoded data removed]",
      "text/plain": [
       "<Figure size 432x288 with 1 Axes>"
      ]
     },
     "metadata": {
      "needs_background": "light"
     },
     "output_type": "display_data"
    },
    {
     "data": {
      "image/png": "[encoded data removed]",
      "text/plain": [
       "<Figure size 432x288 with 1 Axes>"
      ]
     },
     "metadata": {
      "needs_background": "light"
     },
     "output_type": "display_data"
    }
   ],
   "source": [
    "num_cols = get_features(feat_summary, 'numerical',azdias_transformed, )\n",
    "print(num_cols)\n",
    "\n",
    "for col in num_cols:\n",
    "    fig, ax = plt.subplots()\n",
    "    plt.hist(azdias_transformed[col])\n",
    "    plt.title(col)"
   ]
  },
  {
   "cell_type": "markdown",
   "metadata": {},
   "source": [
    "From the histogram of the data, we notice that data is not normal distributed. it is therefore decided to use the min_max scaler to scale "
   ]
  },
  {
   "cell_type": "code",
   "execution_count": 35,
   "metadata": {},
   "outputs": [],
   "source": [
    "from sklearn.preprocessing import MinMaxScaler\n",
    "scaler = MinMaxScaler()\n",
    "azdias_transformed[num_cols] = scaler.fit_transform(azdias_transformed[num_cols])"
   ]
  },
  {
   "cell_type": "code",
   "execution_count": 36,
   "metadata": {},
   "outputs": [],
   "source": [
    "ord_cols = get_features( feat_summary, 'ordinal',azdias_transformed)"
   ]
  },
  {
   "cell_type": "code",
   "execution_count": 37,
   "metadata": {},
   "outputs": [],
   "source": [
    "# from sklearn.preprocessing import MinMaxScaler\n",
    "scaler = MinMaxScaler()\n",
    "azdias_transformed[ord_cols] = scaler.fit_transform(azdias_transformed[ord_cols])"
   ]
  },
  {
   "cell_type": "code",
   "execution_count": 38,
   "metadata": {
    "scrolled": false
   },
   "outputs": [
    {
     "data": {
      "text/html": [
       "<div>\n",
       "<style scoped>\n",
       "    .dataframe tbody tr th:only-of-type {\n",
       "        vertical-align: middle;\n",
       "    }\n",
       "\n",
       "    .dataframe tbody tr th {\n",
       "        vertical-align: top;\n",
       "    }\n",
       "\n",
       "    .dataframe thead th {\n",
       "        text-align: right;\n",
       "    }\n",
       "</style>\n",
       "<table border=\"1\" class=\"dataframe\">\n",
       "  <thead>\n",
       "    <tr style=\"text-align: right;\">\n",
       "      <th></th>\n",
       "      <th>ANZ_HAUSHALTE_AKTIV</th>\n",
       "      <th>ANZ_PERSONEN</th>\n",
       "      <th>BALLRAUM</th>\n",
       "      <th>CAMEO_DEUG_2015</th>\n",
       "      <th>EWDICHTE</th>\n",
       "      <th>FINANZ_ANLEGER</th>\n",
       "      <th>FINANZ_HAUSBAUER</th>\n",
       "      <th>FINANZ_MINIMALIST</th>\n",
       "      <th>FINANZ_SPARER</th>\n",
       "      <th>FINANZ_UNAUFFAELLIGER</th>\n",
       "      <th>...</th>\n",
       "      <th>RETOURTYP_BK_S_5.0</th>\n",
       "      <th>SHOPPER_TYP_1.0</th>\n",
       "      <th>SHOPPER_TYP_2.0</th>\n",
       "      <th>SHOPPER_TYP_3.0</th>\n",
       "      <th>VERS_TYP_2.0</th>\n",
       "      <th>ZABEOTYP_2</th>\n",
       "      <th>ZABEOTYP_3</th>\n",
       "      <th>ZABEOTYP_4</th>\n",
       "      <th>ZABEOTYP_5</th>\n",
       "      <th>ZABEOTYP_6</th>\n",
       "    </tr>\n",
       "  </thead>\n",
       "  <tbody>\n",
       "    <tr>\n",
       "      <th>1</th>\n",
       "      <td>0.03690</td>\n",
       "      <td>0.090909</td>\n",
       "      <td>0.833333</td>\n",
       "      <td>0.875</td>\n",
       "      <td>0.4</td>\n",
       "      <td>1.00</td>\n",
       "      <td>1.00</td>\n",
       "      <td>0.00</td>\n",
       "      <td>1.00</td>\n",
       "      <td>0.75</td>\n",
       "      <td>...</td>\n",
       "      <td>0</td>\n",
       "      <td>0</td>\n",
       "      <td>0</td>\n",
       "      <td>1</td>\n",
       "      <td>1</td>\n",
       "      <td>0</td>\n",
       "      <td>0</td>\n",
       "      <td>0</td>\n",
       "      <td>1</td>\n",
       "      <td>0</td>\n",
       "    </tr>\n",
       "    <tr>\n",
       "      <th>2</th>\n",
       "      <td>0.03321</td>\n",
       "      <td>0.000000</td>\n",
       "      <td>0.166667</td>\n",
       "      <td>0.375</td>\n",
       "      <td>0.6</td>\n",
       "      <td>0.25</td>\n",
       "      <td>1.00</td>\n",
       "      <td>0.00</td>\n",
       "      <td>0.75</td>\n",
       "      <td>0.50</td>\n",
       "      <td>...</td>\n",
       "      <td>0</td>\n",
       "      <td>0</td>\n",
       "      <td>1</td>\n",
       "      <td>0</td>\n",
       "      <td>0</td>\n",
       "      <td>0</td>\n",
       "      <td>0</td>\n",
       "      <td>0</td>\n",
       "      <td>1</td>\n",
       "      <td>0</td>\n",
       "    </tr>\n",
       "    <tr>\n",
       "      <th>3</th>\n",
       "      <td>0.00000</td>\n",
       "      <td>0.000000</td>\n",
       "      <td>0.500000</td>\n",
       "      <td>0.125</td>\n",
       "      <td>0.2</td>\n",
       "      <td>0.25</td>\n",
       "      <td>0.25</td>\n",
       "      <td>0.75</td>\n",
       "      <td>0.25</td>\n",
       "      <td>0.00</td>\n",
       "      <td>...</td>\n",
       "      <td>0</td>\n",
       "      <td>1</td>\n",
       "      <td>0</td>\n",
       "      <td>0</td>\n",
       "      <td>0</td>\n",
       "      <td>0</td>\n",
       "      <td>1</td>\n",
       "      <td>0</td>\n",
       "      <td>0</td>\n",
       "      <td>0</td>\n",
       "    </tr>\n",
       "    <tr>\n",
       "      <th>4</th>\n",
       "      <td>0.00738</td>\n",
       "      <td>0.272727</td>\n",
       "      <td>0.166667</td>\n",
       "      <td>0.625</td>\n",
       "      <td>0.8</td>\n",
       "      <td>0.00</td>\n",
       "      <td>0.25</td>\n",
       "      <td>0.75</td>\n",
       "      <td>0.50</td>\n",
       "      <td>0.50</td>\n",
       "      <td>...</td>\n",
       "      <td>1</td>\n",
       "      <td>0</td>\n",
       "      <td>1</td>\n",
       "      <td>0</td>\n",
       "      <td>1</td>\n",
       "      <td>0</td>\n",
       "      <td>0</td>\n",
       "      <td>1</td>\n",
       "      <td>0</td>\n",
       "      <td>0</td>\n",
       "    </tr>\n",
       "    <tr>\n",
       "      <th>5</th>\n",
       "      <td>0.01476</td>\n",
       "      <td>0.000000</td>\n",
       "      <td>0.833333</td>\n",
       "      <td>0.875</td>\n",
       "      <td>0.2</td>\n",
       "      <td>0.25</td>\n",
       "      <td>1.00</td>\n",
       "      <td>0.50</td>\n",
       "      <td>0.00</td>\n",
       "      <td>0.25</td>\n",
       "      <td>...</td>\n",
       "      <td>0</td>\n",
       "      <td>0</td>\n",
       "      <td>0</td>\n",
       "      <td>0</td>\n",
       "      <td>1</td>\n",
       "      <td>0</td>\n",
       "      <td>0</td>\n",
       "      <td>1</td>\n",
       "      <td>0</td>\n",
       "      <td>0</td>\n",
       "    </tr>\n",
       "    <tr>\n",
       "      <th>...</th>\n",
       "      <td>...</td>\n",
       "      <td>...</td>\n",
       "      <td>...</td>\n",
       "      <td>...</td>\n",
       "      <td>...</td>\n",
       "      <td>...</td>\n",
       "      <td>...</td>\n",
       "      <td>...</td>\n",
       "      <td>...</td>\n",
       "      <td>...</td>\n",
       "      <td>...</td>\n",
       "      <td>...</td>\n",
       "      <td>...</td>\n",
       "      <td>...</td>\n",
       "      <td>...</td>\n",
       "      <td>...</td>\n",
       "      <td>...</td>\n",
       "      <td>...</td>\n",
       "      <td>...</td>\n",
       "      <td>...</td>\n",
       "      <td>...</td>\n",
       "    </tr>\n",
       "    <tr>\n",
       "      <th>4995</th>\n",
       "      <td>0.00369</td>\n",
       "      <td>0.090909</td>\n",
       "      <td>0.166667</td>\n",
       "      <td>0.625</td>\n",
       "      <td>0.8</td>\n",
       "      <td>0.00</td>\n",
       "      <td>0.25</td>\n",
       "      <td>0.75</td>\n",
       "      <td>0.75</td>\n",
       "      <td>1.00</td>\n",
       "      <td>...</td>\n",
       "      <td>0</td>\n",
       "      <td>1</td>\n",
       "      <td>0</td>\n",
       "      <td>0</td>\n",
       "      <td>1</td>\n",
       "      <td>0</td>\n",
       "      <td>0</td>\n",
       "      <td>1</td>\n",
       "      <td>0</td>\n",
       "      <td>0</td>\n",
       "    </tr>\n",
       "    <tr>\n",
       "      <th>4996</th>\n",
       "      <td>0.00000</td>\n",
       "      <td>0.181818</td>\n",
       "      <td>0.666667</td>\n",
       "      <td>0.375</td>\n",
       "      <td>0.4</td>\n",
       "      <td>0.75</td>\n",
       "      <td>0.00</td>\n",
       "      <td>1.00</td>\n",
       "      <td>0.25</td>\n",
       "      <td>0.00</td>\n",
       "      <td>...</td>\n",
       "      <td>0</td>\n",
       "      <td>0</td>\n",
       "      <td>0</td>\n",
       "      <td>1</td>\n",
       "      <td>0</td>\n",
       "      <td>0</td>\n",
       "      <td>1</td>\n",
       "      <td>0</td>\n",
       "      <td>0</td>\n",
       "      <td>0</td>\n",
       "    </tr>\n",
       "    <tr>\n",
       "      <th>4997</th>\n",
       "      <td>0.00369</td>\n",
       "      <td>0.090909</td>\n",
       "      <td>0.000000</td>\n",
       "      <td>0.000</td>\n",
       "      <td>0.8</td>\n",
       "      <td>0.00</td>\n",
       "      <td>0.00</td>\n",
       "      <td>1.00</td>\n",
       "      <td>0.25</td>\n",
       "      <td>1.00</td>\n",
       "      <td>...</td>\n",
       "      <td>0</td>\n",
       "      <td>1</td>\n",
       "      <td>0</td>\n",
       "      <td>0</td>\n",
       "      <td>0</td>\n",
       "      <td>0</td>\n",
       "      <td>0</td>\n",
       "      <td>0</td>\n",
       "      <td>0</td>\n",
       "      <td>0</td>\n",
       "    </tr>\n",
       "    <tr>\n",
       "      <th>4998</th>\n",
       "      <td>0.00369</td>\n",
       "      <td>0.090909</td>\n",
       "      <td>0.833333</td>\n",
       "      <td>0.000</td>\n",
       "      <td>0.4</td>\n",
       "      <td>0.00</td>\n",
       "      <td>0.50</td>\n",
       "      <td>1.00</td>\n",
       "      <td>0.00</td>\n",
       "      <td>0.25</td>\n",
       "      <td>...</td>\n",
       "      <td>1</td>\n",
       "      <td>1</td>\n",
       "      <td>0</td>\n",
       "      <td>0</td>\n",
       "      <td>1</td>\n",
       "      <td>0</td>\n",
       "      <td>1</td>\n",
       "      <td>0</td>\n",
       "      <td>0</td>\n",
       "      <td>0</td>\n",
       "    </tr>\n",
       "    <tr>\n",
       "      <th>4999</th>\n",
       "      <td>0.00000</td>\n",
       "      <td>0.090909</td>\n",
       "      <td>0.000000</td>\n",
       "      <td>0.125</td>\n",
       "      <td>1.0</td>\n",
       "      <td>0.00</td>\n",
       "      <td>0.00</td>\n",
       "      <td>1.00</td>\n",
       "      <td>0.25</td>\n",
       "      <td>0.50</td>\n",
       "      <td>...</td>\n",
       "      <td>0</td>\n",
       "      <td>0</td>\n",
       "      <td>0</td>\n",
       "      <td>0</td>\n",
       "      <td>0</td>\n",
       "      <td>1</td>\n",
       "      <td>0</td>\n",
       "      <td>0</td>\n",
       "      <td>0</td>\n",
       "      <td>0</td>\n",
       "    </tr>\n",
       "  </tbody>\n",
       "</table>\n",
       "<p>4161 rows × 285 columns</p>\n",
       "</div>"
      ],
      "text/plain": [
       "      ANZ_HAUSHALTE_AKTIV  ANZ_PERSONEN  BALLRAUM  CAMEO_DEUG_2015  EWDICHTE  \\\n",
       "1                 0.03690      0.090909  0.833333            0.875       0.4   \n",
       "2                 0.03321      0.000000  0.166667            0.375       0.6   \n",
       "3                 0.00000      0.000000  0.500000            0.125       0.2   \n",
       "4                 0.00738      0.272727  0.166667            0.625       0.8   \n",
       "5                 0.01476      0.000000  0.833333            0.875       0.2   \n",
       "...                   ...           ...       ...              ...       ...   \n",
       "4995              0.00369      0.090909  0.166667            0.625       0.8   \n",
       "4996              0.00000      0.181818  0.666667            0.375       0.4   \n",
       "4997              0.00369      0.090909  0.000000            0.000       0.8   \n",
       "4998              0.00369      0.090909  0.833333            0.000       0.4   \n",
       "4999              0.00000      0.090909  0.000000            0.125       1.0   \n",
       "\n",
       "      FINANZ_ANLEGER  FINANZ_HAUSBAUER  FINANZ_MINIMALIST  FINANZ_SPARER  \\\n",
       "1               1.00              1.00               0.00           1.00   \n",
       "2               0.25              1.00               0.00           0.75   \n",
       "3               0.25              0.25               0.75           0.25   \n",
       "4               0.00              0.25               0.75           0.50   \n",
       "5               0.25              1.00               0.50           0.00   \n",
       "...              ...               ...                ...            ...   \n",
       "4995            0.00              0.25               0.75           0.75   \n",
       "4996            0.75              0.00               1.00           0.25   \n",
       "4997            0.00              0.00               1.00           0.25   \n",
       "4998            0.00              0.50               1.00           0.00   \n",
       "4999            0.00              0.00               1.00           0.25   \n",
       "\n",
       "      FINANZ_UNAUFFAELLIGER  ...  RETOURTYP_BK_S_5.0  SHOPPER_TYP_1.0  \\\n",
       "1                      0.75  ...                   0                0   \n",
       "2                      0.50  ...                   0                0   \n",
       "3                      0.00  ...                   0                1   \n",
       "4                      0.50  ...                   1                0   \n",
       "5                      0.25  ...                   0                0   \n",
       "...                     ...  ...                 ...              ...   \n",
       "4995                   1.00  ...                   0                1   \n",
       "4996                   0.00  ...                   0                0   \n",
       "4997                   1.00  ...                   0                1   \n",
       "4998                   0.25  ...                   1                1   \n",
       "4999                   0.50  ...                   0                0   \n",
       "\n",
       "      SHOPPER_TYP_2.0  SHOPPER_TYP_3.0  VERS_TYP_2.0  ZABEOTYP_2  ZABEOTYP_3  \\\n",
       "1                   0                1             1           0           0   \n",
       "2                   1                0             0           0           0   \n",
       "3                   0                0             0           0           1   \n",
       "4                   1                0             1           0           0   \n",
       "5                   0                0             1           0           0   \n",
       "...               ...              ...           ...         ...         ...   \n",
       "4995                0                0             1           0           0   \n",
       "4996                0                1             0           0           1   \n",
       "4997                0                0             0           0           0   \n",
       "4998                0                0             1           0           1   \n",
       "4999                0                0             0           1           0   \n",
       "\n",
       "      ZABEOTYP_4  ZABEOTYP_5  ZABEOTYP_6  \n",
       "1              0           1           0  \n",
       "2              0           1           0  \n",
       "3              0           0           0  \n",
       "4              1           0           0  \n",
       "5              1           0           0  \n",
       "...          ...         ...         ...  \n",
       "4995           1           0           0  \n",
       "4996           0           0           0  \n",
       "4997           0           0           0  \n",
       "4998           0           0           0  \n",
       "4999           0           0           0  \n",
       "\n",
       "[4161 rows x 285 columns]"
      ]
     },
     "execution_count": 38,
     "metadata": {},
     "output_type": "execute_result"
    }
   ],
   "source": [
    "azdias_transformed"
   ]
  },
  {
   "cell_type": "code",
   "execution_count": 39,
   "metadata": {},
   "outputs": [],
   "source": [
    "# for col in azdias_transformed.columns:\n",
    "    \n",
    "#     try:\n",
    "#         plt.figure(figsize=(16, 8))\n",
    "#         ax = sns.distplot(azdias_transformed[col])\n",
    "#         ax.figure.savefig('./dist/{:}.png'.format(col))\n",
    "#         plt.close()\n",
    "#     except:\n",
    "#         print('{} is not numeric'.format(col))"
   ]
  },
  {
   "cell_type": "markdown",
   "metadata": {},
   "source": [
    "# Part 1: Customer Segmentation Report\n",
    "\n",
    "The main bulk of your analysis will come in this part of the project. Here, you should use unsupervised learning techniques to describe the relationship between the demographics of the company's existing customers and the general population of Germany. By the end of this part, you should be able to describe parts of the general population that are more likely to be part of the mail-order company's main customer base, and which parts of the general population are less so."
   ]
  },
  {
   "cell_type": "markdown",
   "metadata": {},
   "source": [
    "## PCA"
   ]
  },
  {
   "cell_type": "code",
   "execution_count": 40,
   "metadata": {},
   "outputs": [],
   "source": [
    "# azdias_transformed"
   ]
  },
  {
   "cell_type": "code",
   "execution_count": 41,
   "metadata": {},
   "outputs": [],
   "source": [
    "# Apply PCA to the data.\n",
    "from sklearn.decomposition import PCA\n",
    "\n",
    "# n_components = 360\n",
    "pca = PCA()\n",
    "\n",
    "azdias_pca = pca.fit_transform(azdias_transformed)"
   ]
  },
  {
   "cell_type": "code",
   "execution_count": 42,
   "metadata": {},
   "outputs": [
    {
     "data": {
      "text/plain": [
       "(-14.640000000000002, 100.0)"
      ]
     },
     "execution_count": 42,
     "metadata": {},
     "output_type": "execute_result"
    },
    {
     "data": {
      "image/png": "[encoded data removed]",
      "text/plain": [
       "<Figure size 432x288 with 1 Axes>"
      ]
     },
     "metadata": {
      "needs_background": "light"
     },
     "output_type": "display_data"
    }
   ],
   "source": [
    "features = np.arange(pca.n_components_)\n",
    "plt.bar(features, pca.explained_variance_ratio_)\n",
    "plt.xlabel('PCA features')\n",
    "plt.ylabel('variance %')\n",
    "# plt.xticks(features)\n",
    "plt.xlim(right = 100)"
   ]
  },
  {
   "cell_type": "code",
   "execution_count": 43,
   "metadata": {},
   "outputs": [
    {
     "data": {
      "image/png": "[encoded data removed]",
      "text/plain": [
       "<Figure size 720x432 with 1 Axes>"
      ]
     },
     "metadata": {
      "needs_background": "light"
     },
     "output_type": "display_data"
    }
   ],
   "source": [
    "n_components = 300\n",
    "ind = np.arange(pca.n_components_)\n",
    "vals = pca.explained_variance_ratio_\n",
    "\n",
    "plt.figure(figsize=(10, 6))\n",
    "\n",
    "ax = plt.subplot()\n",
    "cumvals = np.cumsum(vals)\n",
    "ax.bar(ind, vals)\n",
    "ax.plot(ind, cumvals)\n",
    "\n",
    "for i in range(n_components):\n",
    "    ax.set_xlabel(\"Principal Component\")\n",
    "    ax.set_ylabel(\"Variance Explained (%)\")"
   ]
  },
  {
   "cell_type": "code",
   "execution_count": 44,
   "metadata": {},
   "outputs": [],
   "source": [
    "# Re-apply PCA to the data while selecting for number of components to retain.\n",
    "\n",
    "n_components = features[cumvals > 0.90][0]  # determine the required principle componenth to retian 99% variance\n",
    "pca = PCA(n_components)\n",
    "azdias_pca = pca.fit_transform(azdias_transformed)"
   ]
  },
  {
   "cell_type": "code",
   "execution_count": 45,
   "metadata": {},
   "outputs": [
    {
     "name": "stdout",
     "output_type": "stream",
     "text": [
      "we will consider to include 132 PCA's in further analysis\n"
     ]
    }
   ],
   "source": [
    "print(\"we will consider to include {:} PCA\\'s in further analysis\".format(n_components))"
   ]
  },
  {
   "cell_type": "markdown",
   "metadata": {},
   "source": [
    "## Interpretation of the PCA"
   ]
  },
  {
   "cell_type": "code",
   "execution_count": 46,
   "metadata": {},
   "outputs": [],
   "source": [
    "pca_df = pd.DataFrame(pca.components_)\n",
    "pca_df.columns = azdias_transformed.columns"
   ]
  },
  {
   "cell_type": "code",
   "execution_count": 47,
   "metadata": {},
   "outputs": [
    {
     "data": {
      "text/html": [
       "<div>\n",
       "<style scoped>\n",
       "    .dataframe tbody tr th:only-of-type {\n",
       "        vertical-align: middle;\n",
       "    }\n",
       "\n",
       "    .dataframe tbody tr th {\n",
       "        vertical-align: top;\n",
       "    }\n",
       "\n",
       "    .dataframe thead th {\n",
       "        text-align: right;\n",
       "    }\n",
       "</style>\n",
       "<table border=\"1\" class=\"dataframe\">\n",
       "  <thead>\n",
       "    <tr style=\"text-align: right;\">\n",
       "      <th></th>\n",
       "      <th>ANZ_HAUSHALTE_AKTIV</th>\n",
       "      <th>ANZ_PERSONEN</th>\n",
       "      <th>BALLRAUM</th>\n",
       "      <th>CAMEO_DEUG_2015</th>\n",
       "      <th>EWDICHTE</th>\n",
       "      <th>FINANZ_ANLEGER</th>\n",
       "      <th>FINANZ_HAUSBAUER</th>\n",
       "      <th>FINANZ_MINIMALIST</th>\n",
       "      <th>FINANZ_SPARER</th>\n",
       "      <th>FINANZ_UNAUFFAELLIGER</th>\n",
       "      <th>...</th>\n",
       "      <th>RETOURTYP_BK_S_5.0</th>\n",
       "      <th>SHOPPER_TYP_1.0</th>\n",
       "      <th>SHOPPER_TYP_2.0</th>\n",
       "      <th>SHOPPER_TYP_3.0</th>\n",
       "      <th>VERS_TYP_2.0</th>\n",
       "      <th>ZABEOTYP_2</th>\n",
       "      <th>ZABEOTYP_3</th>\n",
       "      <th>ZABEOTYP_4</th>\n",
       "      <th>ZABEOTYP_5</th>\n",
       "      <th>ZABEOTYP_6</th>\n",
       "    </tr>\n",
       "  </thead>\n",
       "  <tbody>\n",
       "    <tr>\n",
       "      <th>0</th>\n",
       "      <td>0.014338</td>\n",
       "      <td>-0.019027</td>\n",
       "      <td>-0.062554</td>\n",
       "      <td>0.151132</td>\n",
       "      <td>0.116534</td>\n",
       "      <td>0.071000</td>\n",
       "      <td>0.139775</td>\n",
       "      <td>-0.157663</td>\n",
       "      <td>0.104859</td>\n",
       "      <td>0.022779</td>\n",
       "      <td>...</td>\n",
       "      <td>0.004229</td>\n",
       "      <td>0.008825</td>\n",
       "      <td>0.048001</td>\n",
       "      <td>-0.044712</td>\n",
       "      <td>0.030210</td>\n",
       "      <td>-0.023582</td>\n",
       "      <td>-0.010436</td>\n",
       "      <td>0.043449</td>\n",
       "      <td>0.053456</td>\n",
       "      <td>0.023899</td>\n",
       "    </tr>\n",
       "    <tr>\n",
       "      <th>1</th>\n",
       "      <td>0.009844</td>\n",
       "      <td>-0.010619</td>\n",
       "      <td>-0.146125</td>\n",
       "      <td>0.043910</td>\n",
       "      <td>0.178213</td>\n",
       "      <td>-0.083591</td>\n",
       "      <td>0.054966</td>\n",
       "      <td>-0.053431</td>\n",
       "      <td>0.006849</td>\n",
       "      <td>0.030060</td>\n",
       "      <td>...</td>\n",
       "      <td>0.086977</td>\n",
       "      <td>0.022389</td>\n",
       "      <td>-0.005350</td>\n",
       "      <td>0.013830</td>\n",
       "      <td>0.068488</td>\n",
       "      <td>-0.003889</td>\n",
       "      <td>0.024485</td>\n",
       "      <td>-0.026112</td>\n",
       "      <td>0.004159</td>\n",
       "      <td>0.013339</td>\n",
       "    </tr>\n",
       "    <tr>\n",
       "      <th>2</th>\n",
       "      <td>0.003187</td>\n",
       "      <td>-0.009832</td>\n",
       "      <td>-0.013362</td>\n",
       "      <td>0.029209</td>\n",
       "      <td>0.033490</td>\n",
       "      <td>-0.191791</td>\n",
       "      <td>0.084590</td>\n",
       "      <td>0.096323</td>\n",
       "      <td>-0.250523</td>\n",
       "      <td>-0.220960</td>\n",
       "      <td>...</td>\n",
       "      <td>0.203960</td>\n",
       "      <td>-0.077658</td>\n",
       "      <td>0.007291</td>\n",
       "      <td>0.116336</td>\n",
       "      <td>0.017662</td>\n",
       "      <td>-0.011712</td>\n",
       "      <td>0.288981</td>\n",
       "      <td>-0.149150</td>\n",
       "      <td>-0.082226</td>\n",
       "      <td>0.002009</td>\n",
       "    </tr>\n",
       "    <tr>\n",
       "      <th>3</th>\n",
       "      <td>0.000466</td>\n",
       "      <td>-0.002623</td>\n",
       "      <td>-0.027862</td>\n",
       "      <td>0.001584</td>\n",
       "      <td>0.025059</td>\n",
       "      <td>-0.162717</td>\n",
       "      <td>-0.040982</td>\n",
       "      <td>0.137230</td>\n",
       "      <td>-0.081337</td>\n",
       "      <td>-0.064876</td>\n",
       "      <td>...</td>\n",
       "      <td>0.086657</td>\n",
       "      <td>0.077599</td>\n",
       "      <td>-0.144388</td>\n",
       "      <td>-0.043900</td>\n",
       "      <td>-0.023619</td>\n",
       "      <td>-0.021116</td>\n",
       "      <td>-0.021289</td>\n",
       "      <td>-0.069311</td>\n",
       "      <td>-0.026090</td>\n",
       "      <td>0.036482</td>\n",
       "    </tr>\n",
       "    <tr>\n",
       "      <th>4</th>\n",
       "      <td>0.000473</td>\n",
       "      <td>-0.002850</td>\n",
       "      <td>0.026160</td>\n",
       "      <td>0.038808</td>\n",
       "      <td>-0.039098</td>\n",
       "      <td>-0.032927</td>\n",
       "      <td>-0.045474</td>\n",
       "      <td>0.059184</td>\n",
       "      <td>-0.041336</td>\n",
       "      <td>-0.093946</td>\n",
       "      <td>...</td>\n",
       "      <td>0.143283</td>\n",
       "      <td>0.066674</td>\n",
       "      <td>0.042231</td>\n",
       "      <td>-0.112669</td>\n",
       "      <td>0.219516</td>\n",
       "      <td>-0.016446</td>\n",
       "      <td>0.112238</td>\n",
       "      <td>-0.054231</td>\n",
       "      <td>-0.045398</td>\n",
       "      <td>0.031854</td>\n",
       "    </tr>\n",
       "    <tr>\n",
       "      <th>...</th>\n",
       "      <td>...</td>\n",
       "      <td>...</td>\n",
       "      <td>...</td>\n",
       "      <td>...</td>\n",
       "      <td>...</td>\n",
       "      <td>...</td>\n",
       "      <td>...</td>\n",
       "      <td>...</td>\n",
       "      <td>...</td>\n",
       "      <td>...</td>\n",
       "      <td>...</td>\n",
       "      <td>...</td>\n",
       "      <td>...</td>\n",
       "      <td>...</td>\n",
       "      <td>...</td>\n",
       "      <td>...</td>\n",
       "      <td>...</td>\n",
       "      <td>...</td>\n",
       "      <td>...</td>\n",
       "      <td>...</td>\n",
       "      <td>...</td>\n",
       "    </tr>\n",
       "    <tr>\n",
       "      <th>127</th>\n",
       "      <td>-0.004098</td>\n",
       "      <td>-0.002556</td>\n",
       "      <td>-0.044828</td>\n",
       "      <td>-0.108799</td>\n",
       "      <td>0.002500</td>\n",
       "      <td>-0.016158</td>\n",
       "      <td>-0.029219</td>\n",
       "      <td>-0.003073</td>\n",
       "      <td>-0.008301</td>\n",
       "      <td>-0.001697</td>\n",
       "      <td>...</td>\n",
       "      <td>0.001547</td>\n",
       "      <td>0.032793</td>\n",
       "      <td>0.032845</td>\n",
       "      <td>-0.027216</td>\n",
       "      <td>-0.013171</td>\n",
       "      <td>-0.110352</td>\n",
       "      <td>0.028044</td>\n",
       "      <td>-0.003358</td>\n",
       "      <td>0.013533</td>\n",
       "      <td>0.050192</td>\n",
       "    </tr>\n",
       "    <tr>\n",
       "      <th>128</th>\n",
       "      <td>-0.003355</td>\n",
       "      <td>0.001160</td>\n",
       "      <td>0.207014</td>\n",
       "      <td>0.134143</td>\n",
       "      <td>0.018011</td>\n",
       "      <td>0.021390</td>\n",
       "      <td>0.027615</td>\n",
       "      <td>0.005131</td>\n",
       "      <td>0.006468</td>\n",
       "      <td>0.013096</td>\n",
       "      <td>...</td>\n",
       "      <td>0.017659</td>\n",
       "      <td>0.003953</td>\n",
       "      <td>0.007488</td>\n",
       "      <td>0.062480</td>\n",
       "      <td>0.070295</td>\n",
       "      <td>0.030527</td>\n",
       "      <td>0.000919</td>\n",
       "      <td>0.006504</td>\n",
       "      <td>-0.040511</td>\n",
       "      <td>-0.008555</td>\n",
       "    </tr>\n",
       "    <tr>\n",
       "      <th>129</th>\n",
       "      <td>-0.007863</td>\n",
       "      <td>-0.003554</td>\n",
       "      <td>-0.002380</td>\n",
       "      <td>-0.021350</td>\n",
       "      <td>-0.106682</td>\n",
       "      <td>0.008730</td>\n",
       "      <td>0.082523</td>\n",
       "      <td>-0.026218</td>\n",
       "      <td>-0.025887</td>\n",
       "      <td>0.029715</td>\n",
       "      <td>...</td>\n",
       "      <td>0.006810</td>\n",
       "      <td>0.023797</td>\n",
       "      <td>0.058368</td>\n",
       "      <td>0.020042</td>\n",
       "      <td>0.003602</td>\n",
       "      <td>0.055275</td>\n",
       "      <td>-0.040510</td>\n",
       "      <td>0.015889</td>\n",
       "      <td>0.072964</td>\n",
       "      <td>-0.007795</td>\n",
       "    </tr>\n",
       "    <tr>\n",
       "      <th>130</th>\n",
       "      <td>0.004206</td>\n",
       "      <td>0.001482</td>\n",
       "      <td>-0.094366</td>\n",
       "      <td>0.015102</td>\n",
       "      <td>0.007172</td>\n",
       "      <td>0.037839</td>\n",
       "      <td>0.098678</td>\n",
       "      <td>-0.020162</td>\n",
       "      <td>-0.018297</td>\n",
       "      <td>0.002955</td>\n",
       "      <td>...</td>\n",
       "      <td>0.005594</td>\n",
       "      <td>-0.018069</td>\n",
       "      <td>-0.026577</td>\n",
       "      <td>-0.004489</td>\n",
       "      <td>0.027905</td>\n",
       "      <td>0.017842</td>\n",
       "      <td>-0.016327</td>\n",
       "      <td>-0.028870</td>\n",
       "      <td>-0.016662</td>\n",
       "      <td>-0.026645</td>\n",
       "    </tr>\n",
       "    <tr>\n",
       "      <th>131</th>\n",
       "      <td>0.002529</td>\n",
       "      <td>0.001084</td>\n",
       "      <td>0.127944</td>\n",
       "      <td>0.065131</td>\n",
       "      <td>-0.024357</td>\n",
       "      <td>-0.003743</td>\n",
       "      <td>0.049220</td>\n",
       "      <td>0.024174</td>\n",
       "      <td>0.029378</td>\n",
       "      <td>0.016780</td>\n",
       "      <td>...</td>\n",
       "      <td>-0.003189</td>\n",
       "      <td>-0.005112</td>\n",
       "      <td>0.002844</td>\n",
       "      <td>0.005515</td>\n",
       "      <td>-0.011133</td>\n",
       "      <td>-0.062139</td>\n",
       "      <td>0.004199</td>\n",
       "      <td>0.014569</td>\n",
       "      <td>-0.036871</td>\n",
       "      <td>0.037121</td>\n",
       "    </tr>\n",
       "  </tbody>\n",
       "</table>\n",
       "<p>132 rows × 285 columns</p>\n",
       "</div>"
      ],
      "text/plain": [
       "     ANZ_HAUSHALTE_AKTIV  ANZ_PERSONEN  BALLRAUM  CAMEO_DEUG_2015  EWDICHTE  \\\n",
       "0               0.014338     -0.019027 -0.062554         0.151132  0.116534   \n",
       "1               0.009844     -0.010619 -0.146125         0.043910  0.178213   \n",
       "2               0.003187     -0.009832 -0.013362         0.029209  0.033490   \n",
       "3               0.000466     -0.002623 -0.027862         0.001584  0.025059   \n",
       "4               0.000473     -0.002850  0.026160         0.038808 -0.039098   \n",
       "..                   ...           ...       ...              ...       ...   \n",
       "127            -0.004098     -0.002556 -0.044828        -0.108799  0.002500   \n",
       "128            -0.003355      0.001160  0.207014         0.134143  0.018011   \n",
       "129            -0.007863     -0.003554 -0.002380        -0.021350 -0.106682   \n",
       "130             0.004206      0.001482 -0.094366         0.015102  0.007172   \n",
       "131             0.002529      0.001084  0.127944         0.065131 -0.024357   \n",
       "\n",
       "     FINANZ_ANLEGER  FINANZ_HAUSBAUER  FINANZ_MINIMALIST  FINANZ_SPARER  \\\n",
       "0          0.071000          0.139775          -0.157663       0.104859   \n",
       "1         -0.083591          0.054966          -0.053431       0.006849   \n",
       "2         -0.191791          0.084590           0.096323      -0.250523   \n",
       "3         -0.162717         -0.040982           0.137230      -0.081337   \n",
       "4         -0.032927         -0.045474           0.059184      -0.041336   \n",
       "..              ...               ...                ...            ...   \n",
       "127       -0.016158         -0.029219          -0.003073      -0.008301   \n",
       "128        0.021390          0.027615           0.005131       0.006468   \n",
       "129        0.008730          0.082523          -0.026218      -0.025887   \n",
       "130        0.037839          0.098678          -0.020162      -0.018297   \n",
       "131       -0.003743          0.049220           0.024174       0.029378   \n",
       "\n",
       "     FINANZ_UNAUFFAELLIGER  ...  RETOURTYP_BK_S_5.0  SHOPPER_TYP_1.0  \\\n",
       "0                 0.022779  ...            0.004229         0.008825   \n",
       "1                 0.030060  ...            0.086977         0.022389   \n",
       "2                -0.220960  ...            0.203960        -0.077658   \n",
       "3                -0.064876  ...            0.086657         0.077599   \n",
       "4                -0.093946  ...            0.143283         0.066674   \n",
       "..                     ...  ...                 ...              ...   \n",
       "127              -0.001697  ...            0.001547         0.032793   \n",
       "128               0.013096  ...            0.017659         0.003953   \n",
       "129               0.029715  ...            0.006810         0.023797   \n",
       "130               0.002955  ...            0.005594        -0.018069   \n",
       "131               0.016780  ...           -0.003189        -0.005112   \n",
       "\n",
       "     SHOPPER_TYP_2.0  SHOPPER_TYP_3.0  VERS_TYP_2.0  ZABEOTYP_2  ZABEOTYP_3  \\\n",
       "0           0.048001        -0.044712      0.030210   -0.023582   -0.010436   \n",
       "1          -0.005350         0.013830      0.068488   -0.003889    0.024485   \n",
       "2           0.007291         0.116336      0.017662   -0.011712    0.288981   \n",
       "3          -0.144388        -0.043900     -0.023619   -0.021116   -0.021289   \n",
       "4           0.042231        -0.112669      0.219516   -0.016446    0.112238   \n",
       "..               ...              ...           ...         ...         ...   \n",
       "127         0.032845        -0.027216     -0.013171   -0.110352    0.028044   \n",
       "128         0.007488         0.062480      0.070295    0.030527    0.000919   \n",
       "129         0.058368         0.020042      0.003602    0.055275   -0.040510   \n",
       "130        -0.026577        -0.004489      0.027905    0.017842   -0.016327   \n",
       "131         0.002844         0.005515     -0.011133   -0.062139    0.004199   \n",
       "\n",
       "     ZABEOTYP_4  ZABEOTYP_5  ZABEOTYP_6  \n",
       "0      0.043449    0.053456    0.023899  \n",
       "1     -0.026112    0.004159    0.013339  \n",
       "2     -0.149150   -0.082226    0.002009  \n",
       "3     -0.069311   -0.026090    0.036482  \n",
       "4     -0.054231   -0.045398    0.031854  \n",
       "..          ...         ...         ...  \n",
       "127   -0.003358    0.013533    0.050192  \n",
       "128    0.006504   -0.040511   -0.008555  \n",
       "129    0.015889    0.072964   -0.007795  \n",
       "130   -0.028870   -0.016662   -0.026645  \n",
       "131    0.014569   -0.036871    0.037121  \n",
       "\n",
       "[132 rows x 285 columns]"
      ]
     },
     "execution_count": 47,
     "metadata": {},
     "output_type": "execute_result"
    }
   ],
   "source": [
    "pca_df"
   ]
  },
  {
   "cell_type": "code",
   "execution_count": 48,
   "metadata": {},
   "outputs": [
    {
     "data": {
      "text/plain": [
       "Index(['EWDICHTE', 'KBA13_HERST_BMW_BENZ', 'KBA13_SEG_SPORTWAGEN',\n",
       "       'KBA13_SITZE_4'],\n",
       "      dtype='object')"
      ]
     },
     "execution_count": 48,
     "metadata": {},
     "output_type": "execute_result"
    }
   ],
   "source": [
    "pca_df.loc[1].sort_values(ascending=False).iloc[:4].index"
   ]
  },
  {
   "cell_type": "code",
   "execution_count": 49,
   "metadata": {},
   "outputs": [],
   "source": [
    "df_features = pd.read_excel(\n",
    "    'DIAS Information Levels - Attributes 2017.xlsx', header=[1], usecols=[2, 3], index_col=[0])\n",
    "df_features = df_features.reset_index()"
   ]
  },
  {
   "cell_type": "code",
   "execution_count": 50,
   "metadata": {},
   "outputs": [],
   "source": [
    "def lookup_description(df_features, key):\n",
    "    try:\n",
    "        description = df_features.loc[df_features[\"Attribute\"] == key, \"Description\"].values[0]\n",
    "    except:\n",
    "        # For dummied value, split and remove the suffix in the dummies \n",
    "        key = '_'.join(key.split(\"_\")[:-1])\n",
    "        description = df_features.loc[df_features[\"Attribute\"] == key, \"Description\"].values[0]\n",
    "    return description"
   ]
  },
  {
   "cell_type": "code",
   "execution_count": 51,
   "metadata": {},
   "outputs": [],
   "source": [
    "## TO do, to analyze the weight of each PCA"
   ]
  },
  {
   "cell_type": "code",
   "execution_count": 52,
   "metadata": {
    "scrolled": false
   },
   "outputs": [
    {
     "name": "stdout",
     "output_type": "stream",
     "text": [
      "PCA 0\n",
      "5 attributes with the HIGHEST weight\n"
     ]
    },
    {
     "data": {
      "text/html": [
       "<div>\n",
       "<style scoped>\n",
       "    .dataframe tbody tr th:only-of-type {\n",
       "        vertical-align: middle;\n",
       "    }\n",
       "\n",
       "    .dataframe tbody tr th {\n",
       "        vertical-align: top;\n",
       "    }\n",
       "\n",
       "    .dataframe thead th {\n",
       "        text-align: right;\n",
       "    }\n",
       "</style>\n",
       "<table border=\"1\" class=\"dataframe\">\n",
       "  <thead>\n",
       "    <tr style=\"text-align: right;\">\n",
       "      <th></th>\n",
       "      <th>Attribute</th>\n",
       "      <th>Weight</th>\n",
       "      <th>Description</th>\n",
       "    </tr>\n",
       "  </thead>\n",
       "  <tbody>\n",
       "    <tr>\n",
       "      <th>0</th>\n",
       "      <td>PLZ8_BAUMAX</td>\n",
       "      <td>0.183069</td>\n",
       "      <td>most common building-type within the PLZ8</td>\n",
       "    </tr>\n",
       "    <tr>\n",
       "      <th>1</th>\n",
       "      <td>PLZ8_ANTG4</td>\n",
       "      <td>0.181772</td>\n",
       "      <td>number of &gt;10 family houses in the PLZ8</td>\n",
       "    </tr>\n",
       "    <tr>\n",
       "      <th>2</th>\n",
       "      <td>PLZ8_ANTG3</td>\n",
       "      <td>0.164538</td>\n",
       "      <td>number of 6-10 family houses in the PLZ8</td>\n",
       "    </tr>\n",
       "    <tr>\n",
       "      <th>3</th>\n",
       "      <td>HH_EINKOMMEN_SCORE</td>\n",
       "      <td>0.152105</td>\n",
       "      <td>estimated household_net_income</td>\n",
       "    </tr>\n",
       "    <tr>\n",
       "      <th>4</th>\n",
       "      <td>CAMEO_DEUG_2015</td>\n",
       "      <td>0.151132</td>\n",
       "      <td>CAMEO_4.0: uppergroup</td>\n",
       "    </tr>\n",
       "  </tbody>\n",
       "</table>\n",
       "</div>"
      ],
      "text/plain": [
       "            Attribute    Weight                                Description\n",
       "0         PLZ8_BAUMAX  0.183069  most common building-type within the PLZ8\n",
       "1          PLZ8_ANTG4  0.181772    number of >10 family houses in the PLZ8\n",
       "2          PLZ8_ANTG3  0.164538   number of 6-10 family houses in the PLZ8\n",
       "3  HH_EINKOMMEN_SCORE  0.152105            estimated household_net_income \n",
       "4     CAMEO_DEUG_2015  0.151132                      CAMEO_4.0: uppergroup"
      ]
     },
     "metadata": {},
     "output_type": "display_data"
    },
    {
     "name": "stdout",
     "output_type": "stream",
     "text": [
      "5 attributes with the LOWEST weight\n"
     ]
    },
    {
     "data": {
      "text/html": [
       "<div>\n",
       "<style scoped>\n",
       "    .dataframe tbody tr th:only-of-type {\n",
       "        vertical-align: middle;\n",
       "    }\n",
       "\n",
       "    .dataframe tbody tr th {\n",
       "        vertical-align: top;\n",
       "    }\n",
       "\n",
       "    .dataframe thead th {\n",
       "        text-align: right;\n",
       "    }\n",
       "</style>\n",
       "<table border=\"1\" class=\"dataframe\">\n",
       "  <thead>\n",
       "    <tr style=\"text-align: right;\">\n",
       "      <th></th>\n",
       "      <th>Attribute</th>\n",
       "      <th>Weight</th>\n",
       "      <th>Description</th>\n",
       "    </tr>\n",
       "  </thead>\n",
       "  <tbody>\n",
       "    <tr>\n",
       "      <th>0</th>\n",
       "      <td>MOBI_REGIO</td>\n",
       "      <td>-0.141595</td>\n",
       "      <td>moving patterns</td>\n",
       "    </tr>\n",
       "    <tr>\n",
       "      <th>1</th>\n",
       "      <td>KBA05_GBZ</td>\n",
       "      <td>-0.154915</td>\n",
       "      <td>number of buildings in the microcell</td>\n",
       "    </tr>\n",
       "    <tr>\n",
       "      <th>2</th>\n",
       "      <td>FINANZ_MINIMALIST</td>\n",
       "      <td>-0.157663</td>\n",
       "      <td>financial typology: low financial interest</td>\n",
       "    </tr>\n",
       "    <tr>\n",
       "      <th>3</th>\n",
       "      <td>KBA05_ANTG1</td>\n",
       "      <td>-0.171425</td>\n",
       "      <td>number of 1-2 family houses in the cell</td>\n",
       "    </tr>\n",
       "    <tr>\n",
       "      <th>4</th>\n",
       "      <td>LP_STATUS_GROB</td>\n",
       "      <td>-0.189625</td>\n",
       "      <td>social status rough</td>\n",
       "    </tr>\n",
       "  </tbody>\n",
       "</table>\n",
       "</div>"
      ],
      "text/plain": [
       "           Attribute    Weight                                 Description\n",
       "0         MOBI_REGIO -0.141595                             moving patterns\n",
       "1          KBA05_GBZ -0.154915        number of buildings in the microcell\n",
       "2  FINANZ_MINIMALIST -0.157663  financial typology: low financial interest\n",
       "3        KBA05_ANTG1 -0.171425     number of 1-2 family houses in the cell\n",
       "4     LP_STATUS_GROB -0.189625                         social status rough"
      ]
     },
     "metadata": {},
     "output_type": "display_data"
    }
   ],
   "source": [
    "for i in np.arange(1):\n",
    "    print_pca( pca_df, i, 5)"
   ]
  },
  {
   "cell_type": "markdown",
   "metadata": {},
   "source": [
    "## clustering"
   ]
  },
  {
   "cell_type": "code",
   "execution_count": 53,
   "metadata": {},
   "outputs": [
    {
     "data": {
      "image/png": "[encoded data removed]",
      "text/plain": [
       "<Figure size 432x288 with 1 Axes>"
      ]
     },
     "metadata": {
      "needs_background": "light"
     },
     "output_type": "display_data"
    }
   ],
   "source": [
    "from sklearn.cluster import KMeans\n",
    "\n",
    "clusters = 50\n",
    "\n",
    "scores = [KMeans(n_clusters=i+2).fit(azdias_pca).inertia_ for i in range(clusters)]\n",
    "sns.lineplot(np.arange(clusters) + 2, scores)\n",
    "plt.xlabel('Number of clusters')\n",
    "plt.ylabel(\"Inertia\")\n",
    "plt.title(\"Inertia of KMeans versus number of clusters\");"
   ]
  },
  {
   "cell_type": "code",
   "execution_count": 54,
   "metadata": {},
   "outputs": [
    {
     "name": "stderr",
     "output_type": "stream",
     "text": [
      "C:\\ProgramData\\Anaconda3\\Lib\\site-packages\\sklearn\\base.py:213: FutureWarning: From version 0.24, get_params will raise an AttributeError if a parameter cannot be retrieved as an instance attribute. Previously it would return None.\n",
      "  FutureWarning)\n"
     ]
    },
    {
     "data": {
      "text/plain": [
       "KElbowVisualizer(ax=<matplotlib.axes._subplots.AxesSubplot object at 0x000001A87FF76438>,\n",
       "                 k=None, model=None)"
      ]
     },
     "execution_count": 54,
     "metadata": {},
     "output_type": "execute_result"
    },
    {
     "data": {
      "image/png": "[encoded data removed]",
      "text/plain": [
       "<Figure size 576x396 with 2 Axes>"
      ]
     },
     "metadata": {},
     "output_type": "display_data"
    }
   ],
   "source": [
    "from yellowbrick.cluster import KElbowVisualizer\n",
    "model = KMeans()\n",
    "visualizer = KElbowVisualizer(model, k=(4, 40))\n",
    "visualizer.fit(azdias_pca)   "
   ]
  },
  {
   "cell_type": "code",
   "execution_count": 55,
   "metadata": {},
   "outputs": [
    {
     "data": {
      "text/plain": [
       "15"
      ]
     },
     "execution_count": 55,
     "metadata": {},
     "output_type": "execute_result"
    }
   ],
   "source": [
    "visualizer.elbow_value_"
   ]
  },
  {
   "cell_type": "markdown",
   "metadata": {},
   "source": [
    "## pre-processing pipeline"
   ]
  },
  {
   "cell_type": "code",
   "execution_count": 56,
   "metadata": {},
   "outputs": [],
   "source": [
    "from sklearn.base import BaseEstimator, TransformerMixin\n",
    "from sklearn.preprocessing import OneHotEncoder, StandardScaler\n",
    "from sklearn.impute import SimpleImputer\n",
    "from sklearn.pipeline import FeatureUnion, Pipeline \n",
    "from sklearn.compose import ColumnTransformer\n",
    "\n",
    "#Custom Transformer that extracts columns passed as argument to its constructor \n",
    "class FeatureReduction( BaseEstimator, TransformerMixin ):\n",
    "    #Class Constructor \n",
    "    def __init__( self, feat_summary, nan_threshold, features_to_keep ):\n",
    "        self._feat_summary = feat_summary\n",
    "        self._nan_threshold = nan_threshold\n",
    "        self._features_to_keep = features_to_keep\n",
    "    \n",
    "    #Return self nothing else to do here    \n",
    "    def fit( self, X, y = None ):\n",
    "        return self \n",
    "    \n",
    "    #Method that describes what we need this transformer to do\n",
    "    def transform( self, X, y = None ):\n",
    "        return data_cleaning(X, self._feat_summary, self._nan_threshold, self._features_to_keep)"
   ]
  },
  {
   "cell_type": "code",
   "execution_count": 57,
   "metadata": {},
   "outputs": [],
   "source": [
    "features_to_keep = azdias.columns.values"
   ]
  },
  {
   "cell_type": "code",
   "execution_count": 98,
   "metadata": {},
   "outputs": [],
   "source": [
    "num_cols = get_features(feat_summary, typ=\"numerical\", azdias=azdias)\n",
    "cat_cols = get_features(feat_summary, typ=\"categorical\", azdias=azdias)\n",
    "ord_cols = get_features(feat_summary, typ=\"ordinal\", azdias=azdias)\n",
    "\n",
    "num_transformer = Pipeline(steps=[\n",
    "    ('imputer', SimpleImputer(missing_values=np.nan, strategy='median')),\n",
    "    ('scaler', MinMaxScaler())])\n",
    "\n",
    "cat_transformer = Pipeline(steps=[\n",
    "    ('imputer', SimpleImputer(missing_values=np.nan, strategy='most_frequent')),\n",
    "    ('onehot', OneHotEncoder(drop='first'))])\n",
    "\n",
    "ord_transformer = Pipeline(steps=[\n",
    "    ('imputer', SimpleImputer(missing_values=np.nan, strategy='median')),\n",
    "    ('scaler', MinMaxScaler())])\n",
    "\n",
    "combined_pipe = ColumnTransformer(\n",
    "    transformers=[\n",
    "        ('num', num_transformer, num_cols),\n",
    "        ('cat', cat_transformer, cat_cols),\n",
    "        ('ord', ord_transformer, ord_cols)],\n",
    "    sparse_threshold=0)\n",
    "\n",
    "pre_processing = Pipeline(steps=[\n",
    "('reduce_dimension', FeatureReduction(feat_summary, nan_threshold = 0.3, features_to_keep = features_to_keep)), \n",
    "('combined_pipe', combined_pipe)])"
   ]
  },
  {
   "cell_type": "code",
   "execution_count": 99,
   "metadata": {
    "scrolled": false
   },
   "outputs": [
    {
     "name": "stdout",
     "output_type": "stream",
     "text": [
      "# step 1: drop attributes not explained in meta data file \n",
      "# step 2: replace missing values or unknowns as np.nan\n"
     ]
    }
   ],
   "source": [
    "transformed_data = pre_processing.fit_transform(azdias)#combined_pipe.fit_transform(azdias)\n",
    "cat_cols_transformed = pre_processing['combined_pipe'].transformers_[1][1]['onehot']\\\n",
    "                   .get_feature_names(cat_cols)\n",
    "# df_clean = pd.DataFrame(transformed_data, columns= np.concatenate([num_cols, cat_cols_transformed, ord_cols]))"
   ]
  },
  {
   "cell_type": "code",
   "execution_count": 100,
   "metadata": {},
   "outputs": [
    {
     "name": "stdout",
     "output_type": "stream",
     "text": [
      "# step 1: drop attributes not explained in meta data file \n",
      "# step 2: replace missing values or unknowns as np.nan\n"
     ]
    }
   ],
   "source": [
    "transformed_data = pre_processing.fit_transform(customers)#combined_pipe.fit_transform(azdias)\n",
    "cat_cols_transformed = pre_processing['combined_pipe'].transformers_[1][1]['onehot']\\\n",
    "                   .get_feature_names(cat_cols)\n",
    "df_clean_customer = pd.DataFrame(transformed_data, columns= np.concatenate([num_cols, cat_cols_transformed, ord_cols]))"
   ]
  },
  {
   "cell_type": "markdown",
   "metadata": {},
   "source": [
    "## unsuperivised learning pipeline"
   ]
  },
  {
   "cell_type": "code",
   "execution_count": 101,
   "metadata": {},
   "outputs": [],
   "source": [
    "pca_n = n_components \n",
    "n_clusters = 11"
   ]
  },
  {
   "cell_type": "code",
   "execution_count": 102,
   "metadata": {},
   "outputs": [],
   "source": [
    "pipeline = Pipeline([('kmeans', KMeans(n_clusters=n_clusters))])"
   ]
  },
  {
   "cell_type": "code",
   "execution_count": 103,
   "metadata": {},
   "outputs": [],
   "source": [
    "pipeline.fit(df_clean)\n",
    "pop_cluster = pipeline.predict(df_clean)\n",
    "cust_cluster = pipeline.predict(df_clean_customer)"
   ]
  },
  {
   "cell_type": "code",
   "execution_count": 104,
   "metadata": {},
   "outputs": [
    {
     "data": {
      "image/png": "[encoded data removed]",
      "text/plain": [
       "<Figure size 1080x360 with 1 Axes>"
      ]
     },
     "metadata": {},
     "output_type": "display_data"
    }
   ],
   "source": [
    "df_cust = pd.DataFrame()\n",
    "df_cust['cluster'] = cust_cluster\n",
    "df_cust['group'] = 'customers'\n",
    "\n",
    "df_pop = pd.DataFrame()\n",
    "df_pop['cluster'] = pop_cluster\n",
    "df_pop['group'] = 'general_population'\n",
    "\n",
    "df = pd.concat([df_cust, df_pop])\n",
    "\n",
    "# sns.countplot(x ='cluster', hue = \"group\", data = df)\n",
    "x, y = 'cluster', 'group'\n",
    "df1 = df.groupby(x)[y].value_counts(normalize=True).mul(100)\n",
    "df1 = df1.rename('percent').reset_index()\n",
    "\n",
    "g = sns.catplot(x=x,y='percent',hue=y, kind='bar',data=df1)\n",
    "g.fig.set_size_inches(15,5)\n",
    "\n",
    "ax = g.axes.flatten()[0]\n",
    "ax.set_ylabel('propotion [%]')\n",
    "ax.set_title('propotions of each cluster in general population and customer data');"
   ]
  },
  {
   "cell_type": "code",
   "execution_count": 105,
   "metadata": {},
   "outputs": [],
   "source": [
    "# Difference in percentage between two groups"
   ]
  },
  {
   "cell_type": "code",
   "execution_count": 106,
   "metadata": {},
   "outputs": [
    {
     "data": {
      "text/plain": [
       "<pandas.core.groupby.generic.SeriesGroupBy object at 0x000001A8333E5F60>"
      ]
     },
     "execution_count": 106,
     "metadata": {},
     "output_type": "execute_result"
    }
   ],
   "source": [
    "df1.sort_values('cluster').groupby(by='group')['percent']"
   ]
  },
  {
   "cell_type": "code",
   "execution_count": 107,
   "metadata": {},
   "outputs": [
    {
     "data": {
      "text/html": [
       "<div>\n",
       "<style scoped>\n",
       "    .dataframe tbody tr th:only-of-type {\n",
       "        vertical-align: middle;\n",
       "    }\n",
       "\n",
       "    .dataframe tbody tr th {\n",
       "        vertical-align: top;\n",
       "    }\n",
       "\n",
       "    .dataframe thead th {\n",
       "        text-align: right;\n",
       "    }\n",
       "</style>\n",
       "<table border=\"1\" class=\"dataframe\">\n",
       "  <thead>\n",
       "    <tr style=\"text-align: right;\">\n",
       "      <th>group</th>\n",
       "      <th>customers</th>\n",
       "      <th>general_population</th>\n",
       "    </tr>\n",
       "    <tr>\n",
       "      <th>cluster</th>\n",
       "      <th></th>\n",
       "      <th></th>\n",
       "    </tr>\n",
       "  </thead>\n",
       "  <tbody>\n",
       "    <tr>\n",
       "      <th>0</th>\n",
       "      <td>79.665190</td>\n",
       "      <td>20.334810</td>\n",
       "    </tr>\n",
       "    <tr>\n",
       "      <th>1</th>\n",
       "      <td>20.809249</td>\n",
       "      <td>79.190751</td>\n",
       "    </tr>\n",
       "    <tr>\n",
       "      <th>2</th>\n",
       "      <td>65.217391</td>\n",
       "      <td>34.782609</td>\n",
       "    </tr>\n",
       "    <tr>\n",
       "      <th>3</th>\n",
       "      <td>15.953307</td>\n",
       "      <td>84.046693</td>\n",
       "    </tr>\n",
       "    <tr>\n",
       "      <th>4</th>\n",
       "      <td>71.971496</td>\n",
       "      <td>28.028504</td>\n",
       "    </tr>\n",
       "    <tr>\n",
       "      <th>5</th>\n",
       "      <td>23.238095</td>\n",
       "      <td>76.761905</td>\n",
       "    </tr>\n",
       "    <tr>\n",
       "      <th>6</th>\n",
       "      <td>20.860927</td>\n",
       "      <td>79.139073</td>\n",
       "    </tr>\n",
       "    <tr>\n",
       "      <th>7</th>\n",
       "      <td>4.032258</td>\n",
       "      <td>95.967742</td>\n",
       "    </tr>\n",
       "    <tr>\n",
       "      <th>8</th>\n",
       "      <td>52.744630</td>\n",
       "      <td>47.255370</td>\n",
       "    </tr>\n",
       "    <tr>\n",
       "      <th>9</th>\n",
       "      <td>27.944573</td>\n",
       "      <td>72.055427</td>\n",
       "    </tr>\n",
       "    <tr>\n",
       "      <th>10</th>\n",
       "      <td>52.667984</td>\n",
       "      <td>47.332016</td>\n",
       "    </tr>\n",
       "  </tbody>\n",
       "</table>\n",
       "</div>"
      ],
      "text/plain": [
       "group    customers  general_population\n",
       "cluster                               \n",
       "0        79.665190           20.334810\n",
       "1        20.809249           79.190751\n",
       "2        65.217391           34.782609\n",
       "3        15.953307           84.046693\n",
       "4        71.971496           28.028504\n",
       "5        23.238095           76.761905\n",
       "6        20.860927           79.139073\n",
       "7         4.032258           95.967742\n",
       "8        52.744630           47.255370\n",
       "9        27.944573           72.055427\n",
       "10       52.667984           47.332016"
      ]
     },
     "execution_count": 107,
     "metadata": {},
     "output_type": "execute_result"
    }
   ],
   "source": [
    "df1.pivot('cluster', 'group', 'percent')"
   ]
  },
  {
   "cell_type": "markdown",
   "metadata": {},
   "source": [
    "### difference between two data groups"
   ]
  },
  {
   "cell_type": "code",
   "execution_count": 69,
   "metadata": {},
   "outputs": [],
   "source": [
    "df_diff = df1.pivot('cluster', 'group', 'percent').assign(diff = lambda x: x.customers - x.general_population).reset_index()"
   ]
  },
  {
   "cell_type": "code",
   "execution_count": 70,
   "metadata": {},
   "outputs": [
    {
     "data": {
      "image/png": "[encoded data removed]",
      "text/plain": [
       "<Figure size 576x396 with 1 Axes>"
      ]
     },
     "metadata": {},
     "output_type": "display_data"
    }
   ],
   "source": [
    "ax = sns.barplot(x = 'cluster', y = 'diff', data = df_diff)\n",
    "ax.set_title('difference in propotion of the clusters, between customer and general polulation');"
   ]
  },
  {
   "cell_type": "code",
   "execution_count": 71,
   "metadata": {},
   "outputs": [],
   "source": [
    "# extract distrance to center for the first 10 principle components\n",
    "cluster_df = pd.DataFrame(pipeline.named_steps['kmeans'].cluster_centers_[:,:10])"
   ]
  },
  {
   "cell_type": "code",
   "execution_count": 72,
   "metadata": {},
   "outputs": [],
   "source": [
    "# cluster centers shows how each gathers around for each centers at each dimension. meaning data points of this cluster will have a value close to the center of this diemnsion"
   ]
  },
  {
   "cell_type": "markdown",
   "metadata": {},
   "source": [
    "### heatmap for pca"
   ]
  },
  {
   "cell_type": "code",
   "execution_count": 73,
   "metadata": {},
   "outputs": [
    {
     "data": {
      "text/plain": [
       "Text(52.0, 0.5, 'clusters')"
      ]
     },
     "execution_count": 73,
     "metadata": {},
     "output_type": "execute_result"
    },
    {
     "data": {
      "image/png": "[encoded data removed]",
      "text/plain": [
       "<Figure size 576x396 with 2 Axes>"
      ]
     },
     "metadata": {},
     "output_type": "display_data"
    }
   ],
   "source": [
    "cmap = sns.diverging_palette(220, 20, as_cmap=True)\n",
    "ax = sns.heatmap(cluster_df, annot=True, cmap = cmap,fmt='0.1f')\n",
    "ax.axes.set_xlabel('PCA')\n",
    "ax.axes.set_ylabel('clusters')"
   ]
  },
  {
   "cell_type": "code",
   "execution_count": 74,
   "metadata": {},
   "outputs": [],
   "source": [
    "## How to further interprete it? Over presented? Underpresented? "
   ]
  },
  {
   "cell_type": "markdown",
   "metadata": {},
   "source": [
    "# Part 2: Supervised Learning Model\n",
    "\n",
    "Now that you've found which parts of the population are more likely to be customers of the mail-order company, it's time to build a prediction model. Each of the rows in the \"MAILOUT\" data files represents an individual that was targeted for a mailout campaign. Ideally, we should be able to use the demographic information from each individual to decide whether or not it will be worth it to include that person in the campaign.\n",
    "\n",
    "The \"MAILOUT\" data has been split into two approximately equal parts, each with almost 43 000 data rows. In this part, you can verify your model with the \"TRAIN\" partition, which includes a column, \"RESPONSE\", that states whether or not a person became a customer of the company following the campaign. In the next part, you'll need to create predictions on the \"TEST\" partition, where the \"RESPONSE\" column has been withheld."
   ]
  },
  {
   "cell_type": "code",
   "execution_count": 75,
   "metadata": {},
   "outputs": [],
   "source": [
    "mailout_train = pd.read_csv('./data/Udacity_MAILOUT_052018_TRAIN.csv', sep=';', dtype = dtype)"
   ]
  },
  {
   "cell_type": "code",
   "execution_count": 83,
   "metadata": {},
   "outputs": [
    {
     "name": "stdout",
     "output_type": "stream",
     "text": [
      "['LNR', 'AGER_TYP', 'AKT_DAT_KL', 'ALTER_HH', 'ALTER_KIND1', 'ALTER_KIND2', 'ALTER_KIND3', 'ALTER_KIND4', 'ALTERSKATEGORIE_FEIN', 'ANZ_HH_TITEL', 'ANZ_KINDER', 'ANZ_STATISTISCHE_HAUSHALTE', 'ANZ_TITEL', 'ARBEIT', 'CAMEO_DEU_2015', 'CAMEO_INTL_2015', 'CJT_KATALOGNUTZER', 'CJT_TYP_1', 'CJT_TYP_2', 'CJT_TYP_3', 'CJT_TYP_4', 'CJT_TYP_5', 'CJT_TYP_6', 'D19_BANKEN_ANZ_12', 'D19_BANKEN_ANZ_24', 'D19_BANKEN_DATUM', 'D19_BANKEN_DIREKT', 'D19_BANKEN_GROSS', 'D19_BANKEN_LOKAL', 'D19_BANKEN_OFFLINE_DATUM', 'D19_BANKEN_ONLINE_DATUM', 'D19_BANKEN_ONLINE_QUOTE_12', 'D19_BANKEN_REST', 'D19_BEKLEIDUNG_GEH', 'D19_BEKLEIDUNG_REST', 'D19_BILDUNG', 'D19_BIO_OEKO', 'D19_BUCH_CD', 'D19_DIGIT_SERV', 'D19_DROGERIEARTIKEL', 'D19_ENERGIE', 'D19_FREIZEIT', 'D19_GARTEN', 'D19_GESAMT_ANZ_12', 'D19_GESAMT_ANZ_24', 'D19_GESAMT_DATUM', 'D19_GESAMT_OFFLINE_DATUM', 'D19_GESAMT_ONLINE_DATUM', 'D19_GESAMT_ONLINE_QUOTE_12', 'D19_HANDWERK', 'D19_HAUS_DEKO', 'D19_KINDERARTIKEL', 'D19_KONSUMTYP', 'D19_KONSUMTYP_MAX', 'D19_KOSMETIK', 'D19_LEBENSMITTEL', 'D19_LETZTER_KAUF_BRANCHE', 'D19_LOTTO', 'D19_NAHRUNGSERGAENZUNG', 'D19_RATGEBER', 'D19_REISEN', 'D19_SAMMELARTIKEL', 'D19_SCHUHE', 'D19_SONSTIGE', 'D19_SOZIALES', 'D19_TECHNIK', 'D19_TELKO_ANZ_12', 'D19_TELKO_ANZ_24', 'D19_TELKO_DATUM', 'D19_TELKO_MOBILE', 'D19_TELKO_OFFLINE_DATUM', 'D19_TELKO_ONLINE_DATUM', 'D19_TELKO_ONLINE_QUOTE_12', 'D19_TELKO_REST', 'D19_TIERARTIKEL', 'D19_VERSAND_ANZ_12', 'D19_VERSAND_ANZ_24', 'D19_VERSAND_DATUM', 'D19_VERSAND_OFFLINE_DATUM', 'D19_VERSAND_ONLINE_DATUM', 'D19_VERSAND_ONLINE_QUOTE_12', 'D19_VERSAND_REST', 'D19_VERSI_ANZ_12', 'D19_VERSI_ANZ_24', 'D19_VERSI_DATUM', 'D19_VERSI_OFFLINE_DATUM', 'D19_VERSI_ONLINE_DATUM', 'D19_VERSI_ONLINE_QUOTE_12', 'D19_VERSICHERUNGEN', 'D19_VOLLSORTIMENT', 'D19_WEIN_FEINKOST', 'DSL_FLAG', 'EINGEFUEGT_AM', 'EINGEZOGENAM_HH_JAHR', 'EXTSEL992', 'FIRMENDICHTE', 'GEBURTSJAHR', 'GEMEINDETYP', 'HH_DELTA_FLAG', 'KBA05_BAUMAX', 'KBA13_ANTG1', 'KBA13_ANTG2', 'KBA13_ANTG3', 'KBA13_ANTG4', 'KBA13_BAUMAX', 'KBA13_CCM_1401_2500', 'KBA13_GBZ', 'KBA13_HHZ', 'KBA13_KMH_210', 'KK_KUNDENTYP', 'KOMBIALTER', 'KONSUMZELLE', 'LP_FAMILIE_FEIN', 'LP_LEBENSPHASE_FEIN', 'LP_STATUS_FEIN', 'MIN_GEBAEUDEJAHR', 'MOBI_RASTER', 'PRAEGENDE_JUGENDJAHRE', 'RT_KEIN_ANREIZ', 'RT_SCHNAEPPCHEN', 'RT_UEBERGROESSE', 'SOHO_KZ', 'STRUKTURTYP', 'TITEL_KZ', 'UMFELD_ALT', 'UMFELD_JUNG', 'UNGLEICHENN_FLAG', 'VERDICHTUNGSRAUM', 'VHA', 'VHN', 'VK_DHT4A', 'VK_DISTANZ', 'VK_ZG11', 'RESPONSE']\n"
     ]
    }
   ],
   "source": [
    "# comapre two data set, get the names of columns in general population, but not in the training set\n",
    "col_diff = [col for col in mailout_train.columns if col not in azdias.columns]\n",
    "print(col_diff)"
   ]
  },
  {
   "cell_type": "code",
   "execution_count": 87,
   "metadata": {
    "scrolled": true
   },
   "outputs": [
    {
     "name": "stdout",
     "output_type": "stream",
     "text": [
      "total records: 42962\n",
      "who became customers: 532\n",
      "who did not become customers: 42430\n",
      "na's in the RESPONSE column: 0\n",
      "ratio who became a customer: 1.24%\n"
     ]
    }
   ],
   "source": [
    "mailout_train.groupby(by ='RESPONSE')['RESPONSE'].count()/len(mailout_train)*100\n",
    "\n",
    "n_records = len(mailout_train)\n",
    "n_customer = (mailout_train['RESPONSE'] ==1).sum()\n",
    "n_not_customer =  (mailout_train['RESPONSE'] ==0).sum()\n",
    "n_na =  mailout_train[\"RESPONSE\"].isna().sum()\n",
    "customer_perc = n_customer/n_records*100\n",
    "\n",
    "# Print the results\n",
    "print(\"total records: {:}\".format(n_records))\n",
    "print(\"who became customers: {:}\".format(n_customer))\n",
    "print(\"who did not become customers: {:}\".format(n_not_customer))\n",
    "print(\"na\\'s in the RESPONSE column: {:}\".format(n_na))\n",
    "print(\"ratio who became a customer: {:0.2f}%\".format(customer_perc))"
   ]
  },
  {
   "cell_type": "code",
   "execution_count": 130,
   "metadata": {},
   "outputs": [
    {
     "name": "stdout",
     "output_type": "stream",
     "text": [
      "# step 1: drop attributes not explained in meta data file \n",
      "# step 2: replace missing values or unknowns as np.nan\n"
     ]
    }
   ],
   "source": [
    "transformed_data = pre_processing.fit_transform(mailout_train)#combined_pipe.fit_transform(azdias)\n",
    "cat_cols_transformed = pre_processing['combined_pipe'].transformers_[1][1]['onehot']\\\n",
    "                   .get_feature_names(cat_cols)\n",
    "df_clean_customer = pd.DataFrame(transformed_data, columns= np.concatenate([num_cols, cat_cols_transformed, ord_cols]))"
   ]
  },
  {
   "cell_type": "code",
   "execution_count": 173,
   "metadata": {},
   "outputs": [
    {
     "data": {
      "text/plain": [
       "Index(['ANZ_HAUSHALTE_AKTIV', 'ANZ_PERSONEN', 'ALTERSKATEGORIE_GROB_2',\n",
       "       'ALTERSKATEGORIE_GROB_3', 'ALTERSKATEGORIE_GROB_4',\n",
       "       'ALTERSKATEGORIE_GROB_9', 'ANREDE_KZ_2', 'CJT_GESAMTTYP_2.0',\n",
       "       'CJT_GESAMTTYP_3.0', 'CJT_GESAMTTYP_4.0',\n",
       "       ...\n",
       "       'SEMIO_PFLICHT', 'SEMIO_RAT', 'SEMIO_REL', 'SEMIO_SOZ', 'SEMIO_TRADV',\n",
       "       'SEMIO_VERT', 'WOHNDAUER_2008', 'WOHNLAGE', 'W_KEIT_KIND_HH',\n",
       "       'RESPONSE'],\n",
       "      dtype='object', length=286)"
      ]
     },
     "execution_count": 173,
     "metadata": {},
     "output_type": "execute_result"
    }
   ],
   "source": [
    "df_clean_customer.columns"
   ]
  },
  {
   "cell_type": "code",
   "execution_count": 166,
   "metadata": {},
   "outputs": [],
   "source": [
    "# mailout_train_pca = pca.fit_transform(df_clean_customer)"
   ]
  },
  {
   "cell_type": "code",
   "execution_count": 169,
   "metadata": {},
   "outputs": [],
   "source": [
    "# df_mailout_train_clean = pd.DataFrame(data=mailout_train_pca)\n",
    "df_mailout_train_clean = df_clean_customer.copy()\n",
    "df_mailout_train_clean['RESPONSE'] = mailout_train['RESPONSE']"
   ]
  },
  {
   "cell_type": "code",
   "execution_count": 179,
   "metadata": {},
   "outputs": [],
   "source": [
    "pre_processing = Pipeline(steps=[\n",
    "('reduce_dimension', FeatureReduction(feat_summary, nan_threshold = 0.6, features_to_keep = features_to_keep)), \n",
    "('combined_pipe', combined_pipe)])"
   ]
  },
  {
   "cell_type": "code",
   "execution_count": 180,
   "metadata": {},
   "outputs": [],
   "source": [
    "df_mailout_train_clean.to_pickle('mail_out_cleaned_no_pca.pkl')"
   ]
  },
  {
   "cell_type": "markdown",
   "metadata": {},
   "source": [
    "# Part 3: Kaggle Competition\n",
    "\n",
    "Now that you've created a model to predict which individuals are most likely to respond to a mailout campaign, it's time to test that model in competition through Kaggle. If you click on the link [here](http://www.kaggle.com/t/21e6d45d4c574c7fa2d868f0e8c83140), you'll be taken to the competition page where, if you have a Kaggle account, you can enter. If you're one of the top performers, you may have the chance to be contacted by a hiring manager from Arvato or Bertelsmann for an interview!\n",
    "\n",
    "Your entry to the competition should be a CSV file with two columns. The first column should be a copy of \"LNR\", which acts as an ID number for each individual in the \"TEST\" partition. The second column, \"RESPONSE\", should be some measure of how likely each individual became a customer – this might not be a straightforward probability. As you should have found in Part 2, there is a large output class imbalance, where most individuals did not respond to the mailout. Thus, predicting individual classes and using accuracy does not seem to be an appropriate performance evaluation method. Instead, the competition will be using AUC to evaluate performance. The exact values of the \"RESPONSE\" column do not matter as much: only that the higher values try to capture as many of the actual customers as possible, early in the ROC curve sweep."
   ]
  },
  {
   "cell_type": "code",
   "execution_count": null,
   "metadata": {},
   "outputs": [],
   "source": [
    "mailout_test = pd.read_csv('../../data/Term2/capstone/arvato_data/Udacity_MAILOUT_052018_TEST.csv', sep=';')"
   ]
  },
  {
   "cell_type": "code",
   "execution_count": null,
   "metadata": {},
   "outputs": [],
   "source": []
  }
 ],
 "metadata": {
  "kernelspec": {
   "display_name": "Python 3",
   "language": "python",
   "name": "python3"
  },
  "language_info": {
   "codemirror_mode": {
    "name": "ipython",
    "version": 3
   },
   "file_extension": ".py",
   "mimetype": "text/x-python",
   "name": "python",
   "nbconvert_exporter": "python",
   "pygments_lexer": "ipython3",
   "version": "3.6.9"
  },
  "toc": {
   "base_numbering": 1,
   "nav_menu": {},
   "number_sections": true,
   "sideBar": true,
   "skip_h1_title": false,
   "title_cell": "Table of Contents",
   "title_sidebar": "Contents",
   "toc_cell": false,
   "toc_position": {
    "height": "calc(100% - 180px)",
    "left": "10px",
    "top": "150px",
    "width": "274px"
   },
   "toc_section_display": true,
   "toc_window_display": true
  }
 },
 "nbformat": 4,
 "nbformat_minor": 2
}

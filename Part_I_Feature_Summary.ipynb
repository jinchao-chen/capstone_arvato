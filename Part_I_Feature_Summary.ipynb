{
 "cells": [
  {
   "cell_type": "code",
   "execution_count": 1,
   "metadata": {},
   "outputs": [],
   "source": [
    "import pandas as pd\n",
    "import numpy as np\n",
    "from helper import *"
   ]
  },
  {
   "cell_type": "markdown",
   "metadata": {},
   "source": [
    "There are four data files associated with this project:\n",
    "\n",
    "- `Udacity_AZDIAS_052018.csv`: Demographics data for the general population of Germany; 891 211 persons (rows) x 366 features (columns).\n",
    "- `Udacity_CUSTOMERS_052018.csv`: Demographics data for customers of a mail-order company; 191 652 persons (rows) x 369 features (columns).\n",
    "- `Udacity_MAILOUT_052018_TRAIN.csv`: Demographics data for individuals who were targets of a marketing campaign; 42 982 persons (rows) x 367 (columns).\n",
    "- `Udacity_MAILOUT_052018_TEST.csv`: Demographics data for individuals who were targets of a marketing campaign; 42 833 persons (rows) x 366 (columns).\n",
    "\n",
    "Each row of the demographics files represents a single person, but also includes information outside of individuals, including information about their household, building, and neighborhood. Use the information from the first two files to figure out how customers (\"CUSTOMERS\") are similar to or differ from the general population at large (\"AZDIAS\"), then use your analysis to make predictions on the other two files (\"MAILOUT\"), predicting which recipients are most likely to become a customer for the mail-order company.\n",
    "\n",
    "The \"CUSTOMERS\" file contains three extra columns ('CUSTOMER_GROUP', 'ONLINE_PURCHASE', and 'PRODUCT_GROUP'), which provide broad information about the customers depicted in the file. The original \"MAILOUT\" file included one additional column, \"RESPONSE\", which indicated whether or not each recipient became a customer of the company. For the \"TRAIN\" subset, this column has been retained, but in the \"TEST\" subset it has been removed; it is against that withheld column that your final predictions will be assessed in the Kaggle competition.\n",
    "\n",
    "Otherwise, all of the remaining columns are the same between the three data files. For more information about the columns depicted in the files, you can refer to two Excel spreadsheets provided in the workspace. [One of them](./DIAS Information Levels - Attributes 2017.xlsx) is a top-level list of attributes and descriptions, organized by informational category. [The other](./DIAS Attributes - Values 2017.xlsx) is a detailed mapping of data values for each feature in alphabetical order."
   ]
  },
  {
   "cell_type": "markdown",
   "metadata": {},
   "source": [
    "As the first step I used the feature summary file (DIAS Attributes - Values 2017.xlsx) to understand the data, mainly:\n",
    "\n",
    "- what kind of information is provided in the dataset \n",
    "- how the values assigned to each attributes\n",
    "- data types of the features/attributes \n",
    "- missing values encoding"
   ]
  },
  {
   "cell_type": "code",
   "execution_count": 2,
   "metadata": {},
   "outputs": [],
   "source": [
    "df_features = pd.read_excel(\n",
    "    'DIAS Attributes - Values 2017.xlsx', header=[1], usecols=[1, 3, 4], index_col=[0, 1])\n",
    "df_features = df_features.reset_index()"
   ]
  },
  {
   "cell_type": "code",
   "execution_count": 3,
   "metadata": {},
   "outputs": [
    {
     "data": {
      "text/html": [
       "<div>\n",
       "<style scoped>\n",
       "    .dataframe tbody tr th:only-of-type {\n",
       "        vertical-align: middle;\n",
       "    }\n",
       "\n",
       "    .dataframe tbody tr th {\n",
       "        vertical-align: top;\n",
       "    }\n",
       "\n",
       "    .dataframe thead th {\n",
       "        text-align: right;\n",
       "    }\n",
       "</style>\n",
       "<table border=\"1\" class=\"dataframe\">\n",
       "  <thead>\n",
       "    <tr style=\"text-align: right;\">\n",
       "      <th></th>\n",
       "      <th>Attribute</th>\n",
       "      <th>Value</th>\n",
       "      <th>Meaning</th>\n",
       "    </tr>\n",
       "  </thead>\n",
       "  <tbody>\n",
       "    <tr>\n",
       "      <th>0</th>\n",
       "      <td>AGER_TYP</td>\n",
       "      <td>-1</td>\n",
       "      <td>unknown</td>\n",
       "    </tr>\n",
       "    <tr>\n",
       "      <th>1</th>\n",
       "      <td>AGER_TYP</td>\n",
       "      <td>0</td>\n",
       "      <td>no classification possible</td>\n",
       "    </tr>\n",
       "    <tr>\n",
       "      <th>2</th>\n",
       "      <td>AGER_TYP</td>\n",
       "      <td>1</td>\n",
       "      <td>passive elderly</td>\n",
       "    </tr>\n",
       "    <tr>\n",
       "      <th>3</th>\n",
       "      <td>AGER_TYP</td>\n",
       "      <td>2</td>\n",
       "      <td>cultural elderly</td>\n",
       "    </tr>\n",
       "    <tr>\n",
       "      <th>4</th>\n",
       "      <td>AGER_TYP</td>\n",
       "      <td>3</td>\n",
       "      <td>experience-driven elderly</td>\n",
       "    </tr>\n",
       "  </tbody>\n",
       "</table>\n",
       "</div>"
      ],
      "text/plain": [
       "  Attribute Value                     Meaning\n",
       "0  AGER_TYP    -1                     unknown\n",
       "1  AGER_TYP     0  no classification possible\n",
       "2  AGER_TYP     1             passive elderly\n",
       "3  AGER_TYP     2            cultural elderly\n",
       "4  AGER_TYP     3   experience-driven elderly"
      ]
     },
     "execution_count": 3,
     "metadata": {},
     "output_type": "execute_result"
    }
   ],
   "source": [
    "df_features.head(5)"
   ]
  },
  {
   "cell_type": "code",
   "execution_count": 4,
   "metadata": {},
   "outputs": [],
   "source": [
    "# \"CAMEO_INTL_2015\" in df_features.Attribute"
   ]
  },
  {
   "cell_type": "code",
   "execution_count": 5,
   "metadata": {},
   "outputs": [],
   "source": [
    "dtype={'CAMEO_DEUG_2015': 'object', 'CAMEO_INTL_2015': 'object'}\n",
    "azdias = pd.read_csv('./data/Udacity_AZDIAS_052018.csv',\n",
    "                     sep=';', dtype = dtype, nrows=5000 )\n",
    "del azdias['LNR'] \n",
    "\n",
    "attributes = list(set(np.concatenate([df_features.Attribute.unique(), azdias.columns])))\n"
   ]
  },
  {
   "cell_type": "code",
   "execution_count": 6,
   "metadata": {
    "scrolled": true
   },
   "outputs": [
    {
     "name": "stdout",
     "output_type": "stream",
     "text": [
      "93 features not explained in feature summary file:\n"
     ]
    }
   ],
   "source": [
    "fea_ = np.setdiff1d(azdias.columns, df_features.Attribute.unique())\n",
    "print('{:} features not explained in feature summary file:'.format(len(fea_)))\n",
    "# print(fea_)"
   ]
  },
  {
   "cell_type": "code",
   "execution_count": 7,
   "metadata": {},
   "outputs": [
    {
     "name": "stdout",
     "output_type": "stream",
     "text": [
      "42 features not in azdias file:\n"
     ]
    }
   ],
   "source": [
    "fea__ = np.setdiff1d( df_features.Attribute.unique(), azdias.columns)\n",
    "print('{:} features not in azdias file:'.format(len(fea__)))\n",
    "# print(fea__)"
   ]
  },
  {
   "cell_type": "markdown",
   "metadata": {},
   "source": [
    "From the comparison above, is noticed that there are 93 features not explained in the metadata file. We will need to figure out ourslves how these features are desribed in the general population dataset."
   ]
  },
  {
   "cell_type": "code",
   "execution_count": 8,
   "metadata": {
    "scrolled": true
   },
   "outputs": [],
   "source": [
    "# remove the ones not used in azdias file \n",
    "attributes = list(set(attributes) - set(fea__))"
   ]
  },
  {
   "cell_type": "code",
   "execution_count": 9,
   "metadata": {},
   "outputs": [
    {
     "name": "stdout",
     "output_type": "stream",
     "text": [
      "features in the customer, but not in the attribute list: ['CUSTOMER_GROUP' 'LNR' 'ONLINE_PURCHASE' 'PRODUCT_GROUP']\n",
      "features in the mailout, but not in the combined attribute list: ['LNR' 'RESPONSE']\n"
     ]
    }
   ],
   "source": [
    "customers = pd.read_csv(\n",
    "    './data/Udacity_CUSTOMERS_052018.csv', sep=';',  dtype= dtype)\n",
    "print('features in the customer, but not in the attribute list: {:}'.format(np.setdiff1d(customers.columns, attributes)))\n",
    "\n",
    "mailout_train = pd.read_csv('./data/Udacity_MAILOUT_052018_TRAIN.csv', sep=';', dtype = dtype)\n",
    "np.setdiff1d(mailout_train.columns, attributes)\n",
    "print('features in the mailout, but not in the combined attribute list: {:}'.format(np.setdiff1d(mailout_train.columns, attributes)))\n"
   ]
  },
  {
   "cell_type": "code",
   "execution_count": 10,
   "metadata": {
    "scrolled": true
   },
   "outputs": [
    {
     "name": "stdout",
     "output_type": "stream",
     "text": [
      "columns in df1 (customer) not in df2 (mailout_train)\n",
      "['CUSTOMER_GROUP' 'ONLINE_PURCHASE' 'PRODUCT_GROUP']\n",
      "columns in df2 (mailout_train) not in df1 (customer)\n",
      "['RESPONSE']\n"
     ]
    }
   ],
   "source": [
    "compare_dataframe_columns(df1 = customers, df2 = mailout_train, df1_name='customer', df2_name='mailout_train')"
   ]
  },
  {
   "cell_type": "code",
   "execution_count": 11,
   "metadata": {},
   "outputs": [
    {
     "data": {
      "text/plain": [
       "227"
      ]
     },
     "execution_count": 11,
     "metadata": {},
     "output_type": "execute_result"
    }
   ],
   "source": [
    "# Determine if the mailout_train is a subset of the customer\n",
    "df1 = customers.drop(columns=['CUSTOMER_GROUP', 'ONLINE_PURCHASE','PRODUCT_GROUP']).copy()\n",
    "df2 = mailout_train.drop(columns=['RESPONSE']).copy()\n",
    "\n",
    "df = pd.concat([df1, df2])\n",
    "df.duplicated().sum()"
   ]
  },
  {
   "cell_type": "code",
   "execution_count": 12,
   "metadata": {},
   "outputs": [
    {
     "name": "stdout",
     "output_type": "stream",
     "text": [
      "total number of features: 365\n",
      "total number of features in azdias: 365\n",
      "total number of features in customers: 369\n",
      "total number of features in training data: 367\n"
     ]
    }
   ],
   "source": [
    "## Summary section\n",
    "print('total number of features: {:}'.format(len(attributes))) \n",
    "print(\"total number of features in azdias: {:}\".format(np.shape(azdias)[1]))\n",
    "print(\"total number of features in customers: {:}\".format(np.shape(customers)[1]))\n",
    "print(\"total number of features in training data: {:}\".format(np.shape(mailout_train)[1]))"
   ]
  },
  {
   "cell_type": "markdown",
   "metadata": {},
   "source": [
    "## feature summary \n",
    "\n",
    "In this section, I will utilize information contained in 'DIAS Attributes - Values 2017.xlsx' to provide a summary on attributes values. \n",
    "\n",
    "A quick scan show that data in file is mostly ordinal. For example,\"D19_BANKEN_ANZ_12\" describes the frequency of transaction activity of the client. the values range from least frequent (0 = very low activity) to the most frequent (6 = very high activity). Since the values used to describe the feature is ranking based, i will treat it as ordinal. As most of features are ordinal, i will pre-assign feature type as 'ordinal'. If further analysis shows otherwise, I will update it  at a later time.\n"
   ]
  },
  {
   "cell_type": "code",
   "execution_count": 13,
   "metadata": {},
   "outputs": [
    {
     "data": {
      "text/html": [
       "<div>\n",
       "<style scoped>\n",
       "    .dataframe tbody tr th:only-of-type {\n",
       "        vertical-align: middle;\n",
       "    }\n",
       "\n",
       "    .dataframe tbody tr th {\n",
       "        vertical-align: top;\n",
       "    }\n",
       "\n",
       "    .dataframe thead th {\n",
       "        text-align: right;\n",
       "    }\n",
       "</style>\n",
       "<table border=\"1\" class=\"dataframe\">\n",
       "  <thead>\n",
       "    <tr style=\"text-align: right;\">\n",
       "      <th></th>\n",
       "      <th>Attribute</th>\n",
       "      <th>Value</th>\n",
       "      <th>Meaning</th>\n",
       "    </tr>\n",
       "  </thead>\n",
       "  <tbody>\n",
       "    <tr>\n",
       "      <th>138</th>\n",
       "      <td>D19_BANKEN_ANZ_12</td>\n",
       "      <td>0</td>\n",
       "      <td>no transactions known</td>\n",
       "    </tr>\n",
       "    <tr>\n",
       "      <th>139</th>\n",
       "      <td>D19_BANKEN_ANZ_12</td>\n",
       "      <td>1</td>\n",
       "      <td>very low activity</td>\n",
       "    </tr>\n",
       "    <tr>\n",
       "      <th>140</th>\n",
       "      <td>D19_BANKEN_ANZ_12</td>\n",
       "      <td>2</td>\n",
       "      <td>low activity</td>\n",
       "    </tr>\n",
       "    <tr>\n",
       "      <th>141</th>\n",
       "      <td>D19_BANKEN_ANZ_12</td>\n",
       "      <td>3</td>\n",
       "      <td>slightly increased activity</td>\n",
       "    </tr>\n",
       "    <tr>\n",
       "      <th>142</th>\n",
       "      <td>D19_BANKEN_ANZ_12</td>\n",
       "      <td>4</td>\n",
       "      <td>increased activity</td>\n",
       "    </tr>\n",
       "    <tr>\n",
       "      <th>143</th>\n",
       "      <td>D19_BANKEN_ANZ_12</td>\n",
       "      <td>5</td>\n",
       "      <td>high activity</td>\n",
       "    </tr>\n",
       "    <tr>\n",
       "      <th>144</th>\n",
       "      <td>D19_BANKEN_ANZ_12</td>\n",
       "      <td>6</td>\n",
       "      <td>very high activity</td>\n",
       "    </tr>\n",
       "  </tbody>\n",
       "</table>\n",
       "</div>"
      ],
      "text/plain": [
       "             Attribute Value                      Meaning\n",
       "138  D19_BANKEN_ANZ_12     0        no transactions known\n",
       "139  D19_BANKEN_ANZ_12     1            very low activity\n",
       "140  D19_BANKEN_ANZ_12     2                 low activity\n",
       "141  D19_BANKEN_ANZ_12     3  slightly increased activity\n",
       "142  D19_BANKEN_ANZ_12     4           increased activity\n",
       "143  D19_BANKEN_ANZ_12     5                high activity\n",
       "144  D19_BANKEN_ANZ_12     6           very high activity"
      ]
     },
     "execution_count": 13,
     "metadata": {},
     "output_type": "execute_result"
    }
   ],
   "source": [
    "df_features[df_features[\"Attribute\"] == 'D19_BANKEN_ANZ_12']"
   ]
  },
  {
   "cell_type": "code",
   "execution_count": 14,
   "metadata": {},
   "outputs": [],
   "source": [
    "# crate a dataframe for feature summary\n",
    "df_feat_summary = pd.DataFrame()\n",
    "df_feat_summary['Attribute'] = attributes\n",
    "df_feat_summary['type'] = 'ordinal' \n",
    "\n",
    "# create an empty list to contain cat/num features that need to be ajusted in the summary df\n",
    "cat_features = []\n",
    "num_features = []"
   ]
  },
  {
   "cell_type": "code",
   "execution_count": 15,
   "metadata": {
    "scrolled": true
   },
   "outputs": [
    {
     "data": {
      "text/plain": [
       "0    KBA13_KMH_140_210\n",
       "1        CJT_GESAMTTYP\n",
       "2     FINANZ_VORSORGER\n",
       "3           D19_GARTEN\n",
       "4           KBA05_CCM2\n",
       "Name: Attribute, dtype: object"
      ]
     },
     "execution_count": 15,
     "metadata": {},
     "output_type": "execute_result"
    }
   ],
   "source": [
    "df_feat_summary['Attribute'].head()"
   ]
  },
  {
   "cell_type": "markdown",
   "metadata": {},
   "source": [
    "Names of attributes in 'DIAS Attributes - Values 2017.xlsx' mostly compose of several parts. \n",
    "\n",
    "For example,  \"D19_NAHRUNGSERGAENZUNG_RZ\", the first part \"D19\" presents data source and the rest describe the attributes (NAHRUNGSERGAENZUN = FOOD SUPPLEMENT). As data from the same source tend to be encoded in a similar manner, i decided to split the attribute names and use the firt part (prefix) to investigate feature encoding in groups. "
   ]
  },
  {
   "cell_type": "markdown",
   "metadata": {},
   "source": [
    "### split attribute names"
   ]
  },
  {
   "cell_type": "code",
   "execution_count": 16,
   "metadata": {},
   "outputs": [],
   "source": [
    "df_features['attribute_prefix'] = df_features.Attribute.apply(attribute_group)"
   ]
  },
  {
   "cell_type": "code",
   "execution_count": 17,
   "metadata": {},
   "outputs": [],
   "source": [
    "# Count the sources of features, or the types of features.\n",
    "top_count_features = df_features.Attribute.drop_duplicates().apply(attribute_group).value_counts().head(10)"
   ]
  },
  {
   "cell_type": "code",
   "execution_count": 18,
   "metadata": {},
   "outputs": [
    {
     "data": {
      "text/plain": [
       "KBA13          108\n",
       "KBA05           65\n",
       "D19             61\n",
       "SEMIO           14\n",
       "PLZ8             7\n",
       "FINANZ           6\n",
       "LP               6\n",
       "ANZ              4\n",
       "CAMEO            3\n",
       "GEBAEUDETYP      2\n",
       "Name: Attribute, dtype: int64"
      ]
     },
     "execution_count": 18,
     "metadata": {},
     "output_type": "execute_result"
    }
   ],
   "source": [
    "top_count_features"
   ]
  },
  {
   "cell_type": "code",
   "execution_count": 19,
   "metadata": {},
   "outputs": [
    {
     "name": "stdout",
     "output_type": "stream",
     "text": [
      "features count, total: 314\n",
      "features count with a specified pre-fix: 276\n",
      "features count without a specified pre-fix: 38\n"
     ]
    }
   ],
   "source": [
    "feat_counts = df_features.Attribute.drop_duplicates().count()\n",
    "print('features count, total: {:}'.format(feat_counts))\n",
    "\n",
    "feat_anlyzed = top_count_features.sum()\n",
    "print('features count with a specified pre-fix: {:}'.format(feat_anlyzed))\n",
    "\n",
    "print('features count without a specified pre-fix: {:}'.format(feat_counts - feat_anlyzed))"
   ]
  },
  {
   "cell_type": "markdown",
   "metadata": {},
   "source": [
    "#### D19"
   ]
  },
  {
   "cell_type": "code",
   "execution_count": 20,
   "metadata": {},
   "outputs": [
    {
     "name": "stdout",
     "output_type": "stream",
     "text": [
      "['no transactions known' 'very low activity' 'low activity'\n",
      " 'slightly increased activity' 'increased activity' 'high activity'\n",
      " 'very high activity' 'highest activity within the last 12 months'\n",
      " 'very high activity within the last 12 months'\n",
      " 'high activity within the last 12 months'\n",
      " 'increased activity within the last 12 months'\n",
      " 'slightly increased activity within the last 12 months'\n",
      " 'activity elder than 1 year' 'activity elder than 1,5 years'\n",
      " 'activity elder than 2 years' 'activity elder than 3 years'\n",
      " 'no transaction known' 'Multibuyer 0-12 months' 'Doublebuyer 0-12 months'\n",
      " 'Singlebuyer 0-12 months' 'Multi-/Doublebuyer 13-24 months'\n",
      " 'Singlebuyer 13-24 months' 'Buyer > 24 months' 'Prospects > 24 months'\n",
      " 'activity elder than 12 months' 'activity elder than 18 months'\n",
      " 'activity elder than 24 months' 'activity elder than 36 months'\n",
      " 'no Online-transactions within the last 12 months'\n",
      " '10% Online-transactions within the last 12 months'\n",
      " '20% Online-transactions within the last 12 months'\n",
      " '30% Online-transactions within the last 12 months'\n",
      " '40% Online-transactions within the last 12 months'\n",
      " '50% Online-transactions within the last 12 months'\n",
      " '60% Online-transactions within the last 12 months'\n",
      " '70% Online-transactions within the last 12 months'\n",
      " '80% Online-transactions within the last 12 months'\n",
      " '90% Online-transactions within the last 12 months'\n",
      " '100% Online-transactions within the last 12 months' 'Universal'\n",
      " 'Versatile' 'Gourmet' 'Family' 'Informed ' 'Modern' 'Inactive' 'unknown'\n",
      " 'regular customer' 'active customer' 'new costumer' 'stray customer'\n",
      " 'inactive customer ' 'passive customer']\n"
     ]
    }
   ],
   "source": [
    "# D19 provides informat about trasaction activities, cat data\n",
    "# columns kept: D19_KONSUMTYP\n",
    "d19_attribute_meanings = attribute_meanings(df_features,'D19')"
   ]
  },
  {
   "cell_type": "markdown",
   "metadata": {},
   "source": [
    "D19 data describes the trascation activity. All features, except for \"D19_KONSUMTYP\" are ornidal data. \"D19_KONSUMTYP\" is catgorical, therefore it will be appended to the cat feature list. Missing vlaues or unknows are descrbied either as \"no transactions known\", or \"no transaction known\", or 'unknown', or unspecified in the information file. "
   ]
  },
  {
   "cell_type": "code",
   "execution_count": 21,
   "metadata": {},
   "outputs": [],
   "source": [
    "cat_features.extend(['D19_KONSUMTYP'])"
   ]
  },
  {
   "cell_type": "markdown",
   "metadata": {},
   "source": [
    "#### KBA05"
   ]
  },
  {
   "cell_type": "code",
   "execution_count": 22,
   "metadata": {},
   "outputs": [
    {
     "name": "stdout",
     "output_type": "stream",
     "text": [
      "['unknown' 'none' 'low' 'average' 'high' 'very high' 'very low' 'some'\n",
      " 'some more' 'very many' 'no 1-2 family homes'\n",
      " 'lower share of 1-2 family homes' 'average share of 1-2 family homes'\n",
      " 'high share of 1-2 family homes' 'very high share of 1-2 family homes'\n",
      " 'no 3-5 family homes' 'lower share of 3-5 family homes'\n",
      " 'average share of 3-5 family homes' 'high share of 3-5 family homes'\n",
      " 'very high share of 3-5 family homes' 'no 6-10 family homes'\n",
      " 'lower share of 6-10 family homes' 'average share of 6-10 family homes'\n",
      " 'high share of 6-10 family homes' 'no >10 family homes'\n",
      " 'lower share of >10 family homes' 'high share of >10 family homes'\n",
      " 'very low car quote' 'low car quote' 'average car quote' 'high car quote'\n",
      " 'very high car quote' 'mainly 1-2 family homes in the microcell'\n",
      " 'mainly 3-5 family homes in the microcell'\n",
      " 'mainly 6-10 family homes in the microcell'\n",
      " 'mainly>10 family homes in the microcell'\n",
      " 'mainly business buildings in the microcell' '1-2 buildings'\n",
      " '3-4 buildings' '5-16 buildings' '17-22 buildings' '>=23 buildings'\n",
      " 'promoted' 'stayed upper level' 'stayed lower/average level' 'demoted'\n",
      " 'new building' 'way below average' 'below average' 'above average'\n",
      " 'way above average' 'below 30 years' '30 - 40 years' '40 - 50 years'\n",
      " '50 - 60 years' 'elder than 60 years' 'before 1994' '1994 - 1997'\n",
      " '1998 - 2000' 'since 2001' 'Top-German' 'VW-Audi' 'Ford/Opel' 'European'\n",
      " 'Asian' 'small car' 'lower middleclass car' 'middle class car'\n",
      " 'upper class car' 'no preowner' '1 preowner' '2 or more preowner'\n",
      " 'very small engine' 'small engine' 'average engine' 'big engine']\n"
     ]
    }
   ],
   "source": [
    "# Family and cars, ordnial information, ordinal data\n",
    "kba_05_meanings  = attribute_meanings(df_features, 'KBA05') "
   ]
  },
  {
   "cell_type": "markdown",
   "metadata": {},
   "source": [
    "KBA05 data describes house and car the person owns."
   ]
  },
  {
   "cell_type": "code",
   "execution_count": 23,
   "metadata": {},
   "outputs": [
    {
     "data": {
      "text/html": [
       "<div>\n",
       "<style scoped>\n",
       "    .dataframe tbody tr th:only-of-type {\n",
       "        vertical-align: middle;\n",
       "    }\n",
       "\n",
       "    .dataframe tbody tr th {\n",
       "        vertical-align: top;\n",
       "    }\n",
       "\n",
       "    .dataframe thead th {\n",
       "        text-align: right;\n",
       "    }\n",
       "</style>\n",
       "<table border=\"1\" class=\"dataframe\">\n",
       "  <thead>\n",
       "    <tr style=\"text-align: right;\">\n",
       "      <th></th>\n",
       "      <th>Attribute</th>\n",
       "      <th>Value</th>\n",
       "      <th>Meaning</th>\n",
       "      <th>attribute_prefix</th>\n",
       "    </tr>\n",
       "  </thead>\n",
       "  <tbody>\n",
       "    <tr>\n",
       "      <th>822</th>\n",
       "      <td>KBA05_BAUMAX</td>\n",
       "      <td>-1, 0</td>\n",
       "      <td>unknown</td>\n",
       "      <td>KBA05</td>\n",
       "    </tr>\n",
       "    <tr>\n",
       "      <th>823</th>\n",
       "      <td>KBA05_BAUMAX</td>\n",
       "      <td>1</td>\n",
       "      <td>mainly 1-2 family homes in the microcell</td>\n",
       "      <td>KBA05</td>\n",
       "    </tr>\n",
       "    <tr>\n",
       "      <th>824</th>\n",
       "      <td>KBA05_BAUMAX</td>\n",
       "      <td>2</td>\n",
       "      <td>mainly 3-5 family homes in the microcell</td>\n",
       "      <td>KBA05</td>\n",
       "    </tr>\n",
       "    <tr>\n",
       "      <th>825</th>\n",
       "      <td>KBA05_BAUMAX</td>\n",
       "      <td>3</td>\n",
       "      <td>mainly 6-10 family homes in the microcell</td>\n",
       "      <td>KBA05</td>\n",
       "    </tr>\n",
       "    <tr>\n",
       "      <th>826</th>\n",
       "      <td>KBA05_BAUMAX</td>\n",
       "      <td>4</td>\n",
       "      <td>mainly&gt;10 family homes in the microcell</td>\n",
       "      <td>KBA05</td>\n",
       "    </tr>\n",
       "    <tr>\n",
       "      <th>827</th>\n",
       "      <td>KBA05_BAUMAX</td>\n",
       "      <td>5</td>\n",
       "      <td>mainly business buildings in the microcell</td>\n",
       "      <td>KBA05</td>\n",
       "    </tr>\n",
       "  </tbody>\n",
       "</table>\n",
       "</div>"
      ],
      "text/plain": [
       "        Attribute  Value                                     Meaning  \\\n",
       "822  KBA05_BAUMAX  -1, 0                                     unknown   \n",
       "823  KBA05_BAUMAX      1    mainly 1-2 family homes in the microcell   \n",
       "824  KBA05_BAUMAX      2    mainly 3-5 family homes in the microcell   \n",
       "825  KBA05_BAUMAX      3   mainly 6-10 family homes in the microcell   \n",
       "826  KBA05_BAUMAX      4     mainly>10 family homes in the microcell   \n",
       "827  KBA05_BAUMAX      5  mainly business buildings in the microcell   \n",
       "\n",
       "    attribute_prefix  \n",
       "822            KBA05  \n",
       "823            KBA05  \n",
       "824            KBA05  \n",
       "825            KBA05  \n",
       "826            KBA05  \n",
       "827            KBA05  "
      ]
     },
     "metadata": {},
     "output_type": "display_data"
    },
    {
     "data": {
      "text/html": [
       "<div>\n",
       "<style scoped>\n",
       "    .dataframe tbody tr th:only-of-type {\n",
       "        vertical-align: middle;\n",
       "    }\n",
       "\n",
       "    .dataframe tbody tr th {\n",
       "        vertical-align: top;\n",
       "    }\n",
       "\n",
       "    .dataframe thead th {\n",
       "        text-align: right;\n",
       "    }\n",
       "</style>\n",
       "<table border=\"1\" class=\"dataframe\">\n",
       "  <thead>\n",
       "    <tr style=\"text-align: right;\">\n",
       "      <th></th>\n",
       "      <th>Attribute</th>\n",
       "      <th>Value</th>\n",
       "      <th>Meaning</th>\n",
       "      <th>attribute_prefix</th>\n",
       "    </tr>\n",
       "  </thead>\n",
       "  <tbody>\n",
       "    <tr>\n",
       "      <th>905</th>\n",
       "      <td>KBA05_HERSTTEMP</td>\n",
       "      <td>-1, 9</td>\n",
       "      <td>unknown</td>\n",
       "      <td>KBA05</td>\n",
       "    </tr>\n",
       "    <tr>\n",
       "      <th>906</th>\n",
       "      <td>KBA05_HERSTTEMP</td>\n",
       "      <td>1</td>\n",
       "      <td>promoted</td>\n",
       "      <td>KBA05</td>\n",
       "    </tr>\n",
       "    <tr>\n",
       "      <th>907</th>\n",
       "      <td>KBA05_HERSTTEMP</td>\n",
       "      <td>2</td>\n",
       "      <td>stayed upper level</td>\n",
       "      <td>KBA05</td>\n",
       "    </tr>\n",
       "    <tr>\n",
       "      <th>908</th>\n",
       "      <td>KBA05_HERSTTEMP</td>\n",
       "      <td>3</td>\n",
       "      <td>stayed lower/average level</td>\n",
       "      <td>KBA05</td>\n",
       "    </tr>\n",
       "    <tr>\n",
       "      <th>909</th>\n",
       "      <td>KBA05_HERSTTEMP</td>\n",
       "      <td>4</td>\n",
       "      <td>demoted</td>\n",
       "      <td>KBA05</td>\n",
       "    </tr>\n",
       "    <tr>\n",
       "      <th>910</th>\n",
       "      <td>KBA05_HERSTTEMP</td>\n",
       "      <td>5</td>\n",
       "      <td>new building</td>\n",
       "      <td>KBA05</td>\n",
       "    </tr>\n",
       "  </tbody>\n",
       "</table>\n",
       "</div>"
      ],
      "text/plain": [
       "           Attribute  Value                     Meaning attribute_prefix\n",
       "905  KBA05_HERSTTEMP  -1, 9                     unknown            KBA05\n",
       "906  KBA05_HERSTTEMP      1                    promoted            KBA05\n",
       "907  KBA05_HERSTTEMP      2          stayed upper level            KBA05\n",
       "908  KBA05_HERSTTEMP      3  stayed lower/average level            KBA05\n",
       "909  KBA05_HERSTTEMP      4                     demoted            KBA05\n",
       "910  KBA05_HERSTTEMP      5                new building            KBA05"
      ]
     },
     "metadata": {},
     "output_type": "display_data"
    },
    {
     "data": {
      "text/html": [
       "<div>\n",
       "<style scoped>\n",
       "    .dataframe tbody tr th:only-of-type {\n",
       "        vertical-align: middle;\n",
       "    }\n",
       "\n",
       "    .dataframe tbody tr th {\n",
       "        vertical-align: top;\n",
       "    }\n",
       "\n",
       "    .dataframe thead th {\n",
       "        text-align: right;\n",
       "    }\n",
       "</style>\n",
       "<table border=\"1\" class=\"dataframe\">\n",
       "  <thead>\n",
       "    <tr style=\"text-align: right;\">\n",
       "      <th></th>\n",
       "      <th>Attribute</th>\n",
       "      <th>Value</th>\n",
       "      <th>Meaning</th>\n",
       "      <th>attribute_prefix</th>\n",
       "    </tr>\n",
       "  </thead>\n",
       "  <tbody>\n",
       "    <tr>\n",
       "      <th>980</th>\n",
       "      <td>KBA05_MAXHERST</td>\n",
       "      <td>-1, 9</td>\n",
       "      <td>unknown</td>\n",
       "      <td>KBA05</td>\n",
       "    </tr>\n",
       "    <tr>\n",
       "      <th>981</th>\n",
       "      <td>KBA05_MAXHERST</td>\n",
       "      <td>1</td>\n",
       "      <td>Top-German</td>\n",
       "      <td>KBA05</td>\n",
       "    </tr>\n",
       "    <tr>\n",
       "      <th>982</th>\n",
       "      <td>KBA05_MAXHERST</td>\n",
       "      <td>2</td>\n",
       "      <td>VW-Audi</td>\n",
       "      <td>KBA05</td>\n",
       "    </tr>\n",
       "    <tr>\n",
       "      <th>983</th>\n",
       "      <td>KBA05_MAXHERST</td>\n",
       "      <td>3</td>\n",
       "      <td>Ford/Opel</td>\n",
       "      <td>KBA05</td>\n",
       "    </tr>\n",
       "    <tr>\n",
       "      <th>984</th>\n",
       "      <td>KBA05_MAXHERST</td>\n",
       "      <td>4</td>\n",
       "      <td>European</td>\n",
       "      <td>KBA05</td>\n",
       "    </tr>\n",
       "    <tr>\n",
       "      <th>985</th>\n",
       "      <td>KBA05_MAXHERST</td>\n",
       "      <td>5</td>\n",
       "      <td>Asian</td>\n",
       "      <td>KBA05</td>\n",
       "    </tr>\n",
       "  </tbody>\n",
       "</table>\n",
       "</div>"
      ],
      "text/plain": [
       "          Attribute  Value     Meaning attribute_prefix\n",
       "980  KBA05_MAXHERST  -1, 9     unknown            KBA05\n",
       "981  KBA05_MAXHERST      1  Top-German            KBA05\n",
       "982  KBA05_MAXHERST      2     VW-Audi            KBA05\n",
       "983  KBA05_MAXHERST      3   Ford/Opel            KBA05\n",
       "984  KBA05_MAXHERST      4    European            KBA05\n",
       "985  KBA05_MAXHERST      5       Asian            KBA05"
      ]
     },
     "metadata": {},
     "output_type": "display_data"
    },
    {
     "data": {
      "text/html": [
       "<div>\n",
       "<style scoped>\n",
       "    .dataframe tbody tr th:only-of-type {\n",
       "        vertical-align: middle;\n",
       "    }\n",
       "\n",
       "    .dataframe tbody tr th {\n",
       "        vertical-align: top;\n",
       "    }\n",
       "\n",
       "    .dataframe thead th {\n",
       "        text-align: right;\n",
       "    }\n",
       "</style>\n",
       "<table border=\"1\" class=\"dataframe\">\n",
       "  <thead>\n",
       "    <tr style=\"text-align: right;\">\n",
       "      <th></th>\n",
       "      <th>Attribute</th>\n",
       "      <th>Value</th>\n",
       "      <th>Meaning</th>\n",
       "      <th>attribute_prefix</th>\n",
       "    </tr>\n",
       "  </thead>\n",
       "  <tbody>\n",
       "    <tr>\n",
       "      <th>986</th>\n",
       "      <td>KBA05_MAXSEG</td>\n",
       "      <td>-1, 9</td>\n",
       "      <td>unknown</td>\n",
       "      <td>KBA05</td>\n",
       "    </tr>\n",
       "    <tr>\n",
       "      <th>987</th>\n",
       "      <td>KBA05_MAXSEG</td>\n",
       "      <td>1</td>\n",
       "      <td>small car</td>\n",
       "      <td>KBA05</td>\n",
       "    </tr>\n",
       "    <tr>\n",
       "      <th>988</th>\n",
       "      <td>KBA05_MAXSEG</td>\n",
       "      <td>2</td>\n",
       "      <td>lower middleclass car</td>\n",
       "      <td>KBA05</td>\n",
       "    </tr>\n",
       "    <tr>\n",
       "      <th>989</th>\n",
       "      <td>KBA05_MAXSEG</td>\n",
       "      <td>3</td>\n",
       "      <td>middle class car</td>\n",
       "      <td>KBA05</td>\n",
       "    </tr>\n",
       "    <tr>\n",
       "      <th>990</th>\n",
       "      <td>KBA05_MAXSEG</td>\n",
       "      <td>4</td>\n",
       "      <td>upper class car</td>\n",
       "      <td>KBA05</td>\n",
       "    </tr>\n",
       "  </tbody>\n",
       "</table>\n",
       "</div>"
      ],
      "text/plain": [
       "        Attribute  Value                Meaning attribute_prefix\n",
       "986  KBA05_MAXSEG  -1, 9                unknown            KBA05\n",
       "987  KBA05_MAXSEG      1              small car            KBA05\n",
       "988  KBA05_MAXSEG      2  lower middleclass car            KBA05\n",
       "989  KBA05_MAXSEG      3       middle class car            KBA05\n",
       "990  KBA05_MAXSEG      4        upper class car            KBA05"
      ]
     },
     "metadata": {},
     "output_type": "display_data"
    },
    {
     "data": {
      "text/html": [
       "<div>\n",
       "<style scoped>\n",
       "    .dataframe tbody tr th:only-of-type {\n",
       "        vertical-align: middle;\n",
       "    }\n",
       "\n",
       "    .dataframe tbody tr th {\n",
       "        vertical-align: top;\n",
       "    }\n",
       "\n",
       "    .dataframe thead th {\n",
       "        text-align: right;\n",
       "    }\n",
       "</style>\n",
       "<table border=\"1\" class=\"dataframe\">\n",
       "  <thead>\n",
       "    <tr style=\"text-align: right;\">\n",
       "      <th></th>\n",
       "      <th>Attribute</th>\n",
       "      <th>Value</th>\n",
       "      <th>Meaning</th>\n",
       "      <th>attribute_prefix</th>\n",
       "    </tr>\n",
       "  </thead>\n",
       "  <tbody>\n",
       "    <tr>\n",
       "      <th>991</th>\n",
       "      <td>KBA05_MAXVORB</td>\n",
       "      <td>-1, 9</td>\n",
       "      <td>unknown</td>\n",
       "      <td>KBA05</td>\n",
       "    </tr>\n",
       "    <tr>\n",
       "      <th>992</th>\n",
       "      <td>KBA05_MAXVORB</td>\n",
       "      <td>1</td>\n",
       "      <td>no preowner</td>\n",
       "      <td>KBA05</td>\n",
       "    </tr>\n",
       "    <tr>\n",
       "      <th>993</th>\n",
       "      <td>KBA05_MAXVORB</td>\n",
       "      <td>2</td>\n",
       "      <td>1 preowner</td>\n",
       "      <td>KBA05</td>\n",
       "    </tr>\n",
       "    <tr>\n",
       "      <th>994</th>\n",
       "      <td>KBA05_MAXVORB</td>\n",
       "      <td>3</td>\n",
       "      <td>2 or more preowner</td>\n",
       "      <td>KBA05</td>\n",
       "    </tr>\n",
       "  </tbody>\n",
       "</table>\n",
       "</div>"
      ],
      "text/plain": [
       "         Attribute  Value             Meaning attribute_prefix\n",
       "991  KBA05_MAXVORB  -1, 9             unknown            KBA05\n",
       "992  KBA05_MAXVORB      1         no preowner            KBA05\n",
       "993  KBA05_MAXVORB      2          1 preowner            KBA05\n",
       "994  KBA05_MAXVORB      3  2 or more preowner            KBA05"
      ]
     },
     "metadata": {},
     "output_type": "display_data"
    },
    {
     "data": {
      "text/html": [
       "<div>\n",
       "<style scoped>\n",
       "    .dataframe tbody tr th:only-of-type {\n",
       "        vertical-align: middle;\n",
       "    }\n",
       "\n",
       "    .dataframe tbody tr th {\n",
       "        vertical-align: top;\n",
       "    }\n",
       "\n",
       "    .dataframe thead th {\n",
       "        text-align: right;\n",
       "    }\n",
       "</style>\n",
       "<table border=\"1\" class=\"dataframe\">\n",
       "  <thead>\n",
       "    <tr style=\"text-align: right;\">\n",
       "      <th></th>\n",
       "      <th>Attribute</th>\n",
       "      <th>Value</th>\n",
       "      <th>Meaning</th>\n",
       "      <th>attribute_prefix</th>\n",
       "    </tr>\n",
       "  </thead>\n",
       "  <tbody>\n",
       "    <tr>\n",
       "      <th>1031</th>\n",
       "      <td>KBA05_MOTOR</td>\n",
       "      <td>-1, 9</td>\n",
       "      <td>unknown</td>\n",
       "      <td>KBA05</td>\n",
       "    </tr>\n",
       "    <tr>\n",
       "      <th>1032</th>\n",
       "      <td>KBA05_MOTOR</td>\n",
       "      <td>1</td>\n",
       "      <td>very small engine</td>\n",
       "      <td>KBA05</td>\n",
       "    </tr>\n",
       "    <tr>\n",
       "      <th>1033</th>\n",
       "      <td>KBA05_MOTOR</td>\n",
       "      <td>2</td>\n",
       "      <td>small engine</td>\n",
       "      <td>KBA05</td>\n",
       "    </tr>\n",
       "    <tr>\n",
       "      <th>1034</th>\n",
       "      <td>KBA05_MOTOR</td>\n",
       "      <td>3</td>\n",
       "      <td>average engine</td>\n",
       "      <td>KBA05</td>\n",
       "    </tr>\n",
       "    <tr>\n",
       "      <th>1035</th>\n",
       "      <td>KBA05_MOTOR</td>\n",
       "      <td>4</td>\n",
       "      <td>big engine</td>\n",
       "      <td>KBA05</td>\n",
       "    </tr>\n",
       "  </tbody>\n",
       "</table>\n",
       "</div>"
      ],
      "text/plain": [
       "        Attribute  Value            Meaning attribute_prefix\n",
       "1031  KBA05_MOTOR  -1, 9            unknown            KBA05\n",
       "1032  KBA05_MOTOR      1  very small engine            KBA05\n",
       "1033  KBA05_MOTOR      2       small engine            KBA05\n",
       "1034  KBA05_MOTOR      3     average engine            KBA05\n",
       "1035  KBA05_MOTOR      4         big engine            KBA05"
      ]
     },
     "metadata": {},
     "output_type": "display_data"
    }
   ],
   "source": [
    "for att in [\"KBA05_BAUMAX\", \"KBA05_HERSTTEMP\", \\\n",
    "            \"KBA05_MAXHERST\",\"KBA05_MAXSEG\", \"KBA05_MAXVORB\", \"KBA05_MOTOR\"]:\n",
    "    display(df_features[df_features.Attribute == att])"
   ]
  },
  {
   "cell_type": "code",
   "execution_count": 24,
   "metadata": {},
   "outputs": [
    {
     "name": "stdout",
     "output_type": "stream",
     "text": [
      "['D19_KONSUMTYP', 'KBA05_BAUMAX', 'KBA05_HERSTTEMP', 'KBA05_MAXHERST', 'KBA05_MAXSEG', 'KBA05_MAXVORB', 'KBA05_MOTOR']\n"
     ]
    }
   ],
   "source": [
    "cat_features.extend([\"KBA05_BAUMAX\", \"KBA05_HERSTTEMP\", \\\n",
    "            \"KBA05_MAXHERST\",\"KBA05_MAXSEG\", \"KBA05_MAXVORB\", \"KBA05_MOTOR\"])\n",
    "print(cat_features)"
   ]
  },
  {
   "cell_type": "markdown",
   "metadata": {},
   "source": [
    "#### KBA13"
   ]
  },
  {
   "cell_type": "code",
   "execution_count": 25,
   "metadata": {
    "scrolled": true
   },
   "outputs": [],
   "source": [
    "# get_features(df_features, 'KBA13')"
   ]
  },
  {
   "cell_type": "code",
   "execution_count": 26,
   "metadata": {},
   "outputs": [
    {
     "name": "stdout",
     "output_type": "stream",
     "text": [
      "['unknown' 'none' 'very low' 'low' 'average' 'high' 'very high'\n",
      " 'numeric value' 'mainly small engines' 'mainly medium sized engines'\n",
      " 'mainly high engines' 'mainly very big engines']\n"
     ]
    }
   ],
   "source": [
    "# Familiy and cars of the neighbourhood, Ordinal information\n",
    "kba_05_meanings  = attribute_meanings(df_features, 'KBA13')"
   ]
  },
  {
   "cell_type": "code",
   "execution_count": 27,
   "metadata": {},
   "outputs": [
    {
     "data": {
      "text/html": [
       "<div>\n",
       "<style scoped>\n",
       "    .dataframe tbody tr th:only-of-type {\n",
       "        vertical-align: middle;\n",
       "    }\n",
       "\n",
       "    .dataframe tbody tr th {\n",
       "        vertical-align: top;\n",
       "    }\n",
       "\n",
       "    .dataframe thead th {\n",
       "        text-align: right;\n",
       "    }\n",
       "</style>\n",
       "<table border=\"1\" class=\"dataframe\">\n",
       "  <thead>\n",
       "    <tr style=\"text-align: right;\">\n",
       "      <th></th>\n",
       "      <th>Attribute</th>\n",
       "      <th>Value</th>\n",
       "      <th>Meaning</th>\n",
       "      <th>attribute_prefix</th>\n",
       "    </tr>\n",
       "  </thead>\n",
       "  <tbody>\n",
       "    <tr>\n",
       "      <th>1671</th>\n",
       "      <td>KBA13_MOTOR</td>\n",
       "      <td>-1</td>\n",
       "      <td>unknown</td>\n",
       "      <td>KBA13</td>\n",
       "    </tr>\n",
       "    <tr>\n",
       "      <th>1672</th>\n",
       "      <td>KBA13_MOTOR</td>\n",
       "      <td>0</td>\n",
       "      <td>none</td>\n",
       "      <td>KBA13</td>\n",
       "    </tr>\n",
       "    <tr>\n",
       "      <th>1673</th>\n",
       "      <td>KBA13_MOTOR</td>\n",
       "      <td>1</td>\n",
       "      <td>mainly small engines</td>\n",
       "      <td>KBA13</td>\n",
       "    </tr>\n",
       "    <tr>\n",
       "      <th>1674</th>\n",
       "      <td>KBA13_MOTOR</td>\n",
       "      <td>2</td>\n",
       "      <td>mainly medium sized engines</td>\n",
       "      <td>KBA13</td>\n",
       "    </tr>\n",
       "    <tr>\n",
       "      <th>1675</th>\n",
       "      <td>KBA13_MOTOR</td>\n",
       "      <td>3</td>\n",
       "      <td>mainly high engines</td>\n",
       "      <td>KBA13</td>\n",
       "    </tr>\n",
       "    <tr>\n",
       "      <th>1676</th>\n",
       "      <td>KBA13_MOTOR</td>\n",
       "      <td>4</td>\n",
       "      <td>mainly very big engines</td>\n",
       "      <td>KBA13</td>\n",
       "    </tr>\n",
       "  </tbody>\n",
       "</table>\n",
       "</div>"
      ],
      "text/plain": [
       "        Attribute Value                      Meaning attribute_prefix\n",
       "1671  KBA13_MOTOR    -1                      unknown            KBA13\n",
       "1672  KBA13_MOTOR     0                         none            KBA13\n",
       "1673  KBA13_MOTOR     1         mainly small engines            KBA13\n",
       "1674  KBA13_MOTOR     2  mainly medium sized engines            KBA13\n",
       "1675  KBA13_MOTOR     3          mainly high engines            KBA13\n",
       "1676  KBA13_MOTOR     4      mainly very big engines            KBA13"
      ]
     },
     "metadata": {},
     "output_type": "display_data"
    }
   ],
   "source": [
    "display(df_features[df_features.Attribute == \"KBA13_MOTOR\"])"
   ]
  },
  {
   "cell_type": "code",
   "execution_count": 28,
   "metadata": {},
   "outputs": [],
   "source": [
    "cat_features.extend([\"KBA13_MOTOR\"])"
   ]
  },
  {
   "cell_type": "markdown",
   "metadata": {},
   "source": [
    "#### LP "
   ]
  },
  {
   "cell_type": "code",
   "execution_count": 29,
   "metadata": {},
   "outputs": [
    {
     "name": "stdout",
     "output_type": "stream",
     "text": [
      "['single ' 'couple' 'young single parent ' 'single parent with teenager'\n",
      " 'single parent with child of full age' 'young family '\n",
      " 'family with teenager ' 'family with child of full age' 'shared flat'\n",
      " 'two-generational household' 'multi-generational household'\n",
      " 'single parent' nan 'family' 'multiperson household'\n",
      " 'single low-income earners of younger age'\n",
      " 'single low-income earners of middle age'\n",
      " 'single average earners of younger age '\n",
      " 'single average earners of middle age'\n",
      " 'single low-income earners of advanced age'\n",
      " 'single low-income earners at retirement age '\n",
      " 'single average earners of advanced age'\n",
      " 'single average earners at retirement age' 'single independant persons'\n",
      " 'wealthy single homeowners' 'single homeowners of advanced age'\n",
      " 'single homeowners at retirement age' 'single top earners of higher age '\n",
      " 'low-income- and average earner-couples of younger age'\n",
      " 'low-income earner-couples of higher age'\n",
      " 'average earner-couples of higher age ' 'independant couples'\n",
      " 'wealthy homeowner-couples of younger age '\n",
      " 'homeowner-couples of higher age' 'top earner-couples of higher age'\n",
      " 'single parent low-income earners' 'single parent average earners'\n",
      " 'single parent high-income earners' 'low-income earner-families'\n",
      " 'average earner-families ' 'independant families' 'homeowner-families'\n",
      " 'top earner-families'\n",
      " 'low-income earners of younger age from mulitperson households'\n",
      " 'average earners of younger age from mulitperson households'\n",
      " 'low-income earners of higher age from mulitperson households'\n",
      " 'average earners of higher age from mulitperson households'\n",
      " 'independant persons of younger age from mulitperson households'\n",
      " 'homeowners of younger age from mulitperson households'\n",
      " 'top earners of younger age from mulitperson households'\n",
      " 'independant persons of higher age from mulitperson households'\n",
      " 'homeowners of advanced age from mulitperson households'\n",
      " 'homeowners at retirement age from mulitperson households'\n",
      " 'top earners of middle age from mulitperson households'\n",
      " 'top earners at retirement age from mulitperson households'\n",
      " 'single low-income- and average earners of younger age '\n",
      " 'single low-income- and average earners of higher age '\n",
      " 'single high-income earners'\n",
      " 'single low-income- and average earner-couples '\n",
      " 'single high-income earner-couples' 'single parents'\n",
      " 'single low-income- and average earner-families'\n",
      " 'high-income earner-families'\n",
      " 'low-income- and average earners of higher age from mulitperson households'\n",
      " 'high-income earners of younger age from multiperson households'\n",
      " 'high-income earners of higher age from multiperson households'\n",
      " 'typical low-income earners' 'orientationseeking low-income earners'\n",
      " 'aspiring low-income earners ' 'villagers'\n",
      " 'minimalistic high-income earners' 'independant workers'\n",
      " 'title holder-households' 'new houseowners' 'houseowners' 'top earners '\n",
      " 'low-income earners' 'average earners' 'independants']\n"
     ]
    }
   ],
   "source": [
    "# Describes the family status of each person, categorical, to reduce the dimensions: keep only '_GROB'\n",
    "lp_meanings  = attribute_meanings(df_features, 'LP')"
   ]
  },
  {
   "cell_type": "markdown",
   "metadata": {},
   "source": [
    "all the data is nominal, and provided in both 'fein' (fine) and 'groub' (rough). "
   ]
  },
  {
   "cell_type": "code",
   "execution_count": 30,
   "metadata": {},
   "outputs": [],
   "source": [
    "def get_features(df_features, prefix):\n",
    "    \"\"\"Get all attributes with the same prefix\n",
    "    \"\"\"\n",
    "    feats = df_features.loc[df_features['attribute_prefix'] == prefix, 'Attribute'].unique()\n",
    "    return feats"
   ]
  },
  {
   "cell_type": "code",
   "execution_count": 31,
   "metadata": {},
   "outputs": [
    {
     "data": {
      "text/plain": [
       "array(['LP_FAMILIE_FEIN', 'LP_FAMILIE_GROB', 'LP_LEBENSPHASE_FEIN',\n",
       "       'LP_LEBENSPHASE_GROB', 'LP_STATUS_FEIN', 'LP_STATUS_GROB'],\n",
       "      dtype=object)"
      ]
     },
     "execution_count": 31,
     "metadata": {},
     "output_type": "execute_result"
    }
   ],
   "source": [
    "get_features(df_features, 'LP')"
   ]
  },
  {
   "cell_type": "code",
   "execution_count": 32,
   "metadata": {},
   "outputs": [],
   "source": [
    "cat_features.extend( get_features(df_features, 'LP'))\n",
    "# print(cat_features)"
   ]
  },
  {
   "cell_type": "markdown",
   "metadata": {},
   "source": [
    "#### FINANZ"
   ]
  },
  {
   "cell_type": "markdown",
   "metadata": {},
   "source": [
    "Features that contains 'FINANZ' in the names, describes the financial typology a savor or an investor). All the features, except for \"FINANZTYP\" (TYP- type) will be treated as ordinal data with 'unknown' encoded as [-1]. FINANZTYP best describes the financial type for the person. it will be treated as catogrical, with unkonwn treated as [-1]."
   ]
  },
  {
   "cell_type": "code",
   "execution_count": 33,
   "metadata": {},
   "outputs": [
    {
     "data": {
      "text/plain": [
       "array(['unknown', 'low finacial interest', 'money saver',\n",
       "       'main focus is the own house', 'be prepared', 'Investor',\n",
       "       'unremarkable', 'very high', 'high', 'average', 'low', 'very low'],\n",
       "      dtype=object)"
      ]
     },
     "execution_count": 33,
     "metadata": {},
     "output_type": "execute_result"
    }
   ],
   "source": [
    "# Describes the financial typology \n",
    "# mostly ordinal, except: FINANZTYP\n",
    "# Unknown is encoded as 'unknown'\n",
    "df_features.loc[df_features.Attribute.str.contains('FINANZ'), \"Meaning\"].unique()"
   ]
  },
  {
   "cell_type": "code",
   "execution_count": 34,
   "metadata": {},
   "outputs": [],
   "source": [
    "cat_features.extend(['FINANZTYP'])"
   ]
  },
  {
   "cell_type": "markdown",
   "metadata": {},
   "source": [
    "#### ANZ"
   ]
  },
  {
   "cell_type": "code",
   "execution_count": 35,
   "metadata": {},
   "outputs": [
    {
     "data": {
      "text/html": [
       "<div>\n",
       "<style scoped>\n",
       "    .dataframe tbody tr th:only-of-type {\n",
       "        vertical-align: middle;\n",
       "    }\n",
       "\n",
       "    .dataframe tbody tr th {\n",
       "        vertical-align: top;\n",
       "    }\n",
       "\n",
       "    .dataframe thead th {\n",
       "        text-align: right;\n",
       "    }\n",
       "</style>\n",
       "<table border=\"1\" class=\"dataframe\">\n",
       "  <thead>\n",
       "    <tr style=\"text-align: right;\">\n",
       "      <th></th>\n",
       "      <th>Attribute</th>\n",
       "      <th>Value</th>\n",
       "      <th>Meaning</th>\n",
       "      <th>attribute_prefix</th>\n",
       "    </tr>\n",
       "  </thead>\n",
       "  <tbody>\n",
       "    <tr>\n",
       "      <th>36</th>\n",
       "      <td>ANZ_HAUSHALTE_AKTIV</td>\n",
       "      <td>…</td>\n",
       "      <td>numeric value (typically coded from 1-10)</td>\n",
       "      <td>ANZ</td>\n",
       "    </tr>\n",
       "    <tr>\n",
       "      <th>37</th>\n",
       "      <td>ANZ_HH_TITEL</td>\n",
       "      <td>…</td>\n",
       "      <td>numeric value (typically coded from 1-10)</td>\n",
       "      <td>ANZ</td>\n",
       "    </tr>\n",
       "    <tr>\n",
       "      <th>38</th>\n",
       "      <td>ANZ_PERSONEN</td>\n",
       "      <td>…</td>\n",
       "      <td>numeric value (typically coded from 1-3)</td>\n",
       "      <td>ANZ</td>\n",
       "    </tr>\n",
       "    <tr>\n",
       "      <th>39</th>\n",
       "      <td>ANZ_TITEL</td>\n",
       "      <td>…</td>\n",
       "      <td>numeric value (typically coded from 1-10)</td>\n",
       "      <td>ANZ</td>\n",
       "    </tr>\n",
       "  </tbody>\n",
       "</table>\n",
       "</div>"
      ],
      "text/plain": [
       "              Attribute Value                                    Meaning  \\\n",
       "36  ANZ_HAUSHALTE_AKTIV     …  numeric value (typically coded from 1-10)   \n",
       "37         ANZ_HH_TITEL     …  numeric value (typically coded from 1-10)   \n",
       "38         ANZ_PERSONEN     …   numeric value (typically coded from 1-3)   \n",
       "39            ANZ_TITEL     …  numeric value (typically coded from 1-10)   \n",
       "\n",
       "   attribute_prefix  \n",
       "36              ANZ  \n",
       "37              ANZ  \n",
       "38              ANZ  \n",
       "39              ANZ  "
      ]
     },
     "execution_count": 35,
     "metadata": {},
     "output_type": "execute_result"
    }
   ],
   "source": [
    "## ANZ: all are numerical vlaues \n",
    "df_features[df_features['attribute_prefix'] == 'ANZ']"
   ]
  },
  {
   "cell_type": "code",
   "execution_count": 36,
   "metadata": {},
   "outputs": [],
   "source": [
    "num_features.extend(get_features(df_features, 'ANZ'))\n",
    "\n",
    "# print(list(set(num_features)))"
   ]
  },
  {
   "cell_type": "markdown",
   "metadata": {},
   "source": [
    "#### CAMEO Features"
   ]
  },
  {
   "cell_type": "code",
   "execution_count": 37,
   "metadata": {},
   "outputs": [
    {
     "data": {
      "text/plain": [
       "array(['unknown', 'upper class', 'upper middleclass',\n",
       "       'established middleclasse', 'consumption-oriented middleclass ',\n",
       "       'active middleclass ', 'low-consumption middleclass',\n",
       "       'lower middleclass', 'working class', 'urban working class',\n",
       "       'Work-Life-Balance', 'Wealthy Best Ager', 'Successful Songwriter',\n",
       "       'Old Nobility', 'City Nobility', 'Cottage Chic', 'Noble Jogger',\n",
       "       'Established gourmet', 'Fine Management', 'Career & Family',\n",
       "       'Powershopping Families', 'Rural Neighborhood',\n",
       "       'Secure Retirement', 'Family Starter', 'Family Life',\n",
       "       'String Trimmer', 'Empty Nest', 'Golden Ager', 'Younger Employees',\n",
       "       'Suddenly Family', 'Family First', 'Stock Market Junkies',\n",
       "       'Coffee Rider', 'Active Retirement', 'Jobstarter',\n",
       "       'Petty Bourgeois', 'Long-established', 'Sportgardener',\n",
       "       'Urban Parents', 'Frugal Aging', 'Journeymen', 'Mantaplatte',\n",
       "       'Factory Worker', 'Rear Window', 'Interested Retirees',\n",
       "       'Multi-culteral', 'Young & Mobile', 'Prefab', 'Town Seniors',\n",
       "       'First Shared Apartment', 'Temporary Workers',\n",
       "       'Afternoon Talk Show', 'Mini-Jobber', 'Socking Away',\n",
       "       'Wealthy Households-Pre-Family Couples & Singles',\n",
       "       'Wealthy Households-Young Couples With Children',\n",
       "       'Wealthy Households-Families With School Age Children',\n",
       "       'Wealthy Households-Older Families &  Mature Couples',\n",
       "       'Wealthy Households-Elders In Retirement',\n",
       "       'Prosperous Households-Pre-Family Couples & Singles',\n",
       "       'Prosperous Households-Young Couples With Children',\n",
       "       'Prosperous Households-Families With School Age Children',\n",
       "       'Prosperous Households-Older Families & Mature Couples',\n",
       "       'Prosperous Households-Elders In Retirement',\n",
       "       'Comfortable Households-Pre-Family Couples & Singles',\n",
       "       'Comfortable Households-Young Couples With Children',\n",
       "       'Comfortable Households-Families With School Age Children',\n",
       "       'Comfortable Households-Older Families & Mature Couples',\n",
       "       'Comfortable Households-Elders In Retirement',\n",
       "       'Less Affluent Households-Pre-Family Couples & Singles',\n",
       "       'Less Affluent Households-Young Couples With Children',\n",
       "       'Less Affluent Households-Families With School Age Children',\n",
       "       'Less Affluent Households-Older Families & Mature Couples',\n",
       "       'Less Affluent Households-Elders In Retirement',\n",
       "       'Poorer Households-Pre-Family Couples & Singles',\n",
       "       'Poorer Households-Young Couples With Children',\n",
       "       'Poorer Households-Families With School Age Children',\n",
       "       'Poorer Households-Older Families & Mature Couples',\n",
       "       'Poorer Households-Elders In Retirement'], dtype=object)"
      ]
     },
     "execution_count": 37,
     "metadata": {},
     "output_type": "execute_result"
    }
   ],
   "source": [
    "## CAMEO: all are numerical vlaues \n",
    "df_features.loc[df_features['attribute_prefix'] == 'CAMEO', 'Meaning'].unique()"
   ]
  },
  {
   "cell_type": "code",
   "execution_count": 38,
   "metadata": {},
   "outputs": [],
   "source": [
    "cat_mixed = ['CAMEO_DEUG_2015', 'CAMEO_DEUINTL_2015'] "
   ]
  },
  {
   "cell_type": "code",
   "execution_count": 39,
   "metadata": {},
   "outputs": [
    {
     "data": {
      "text/plain": [
       "array(['CAMEO_DEUG_2015', 'CAMEO_DEU_2015', 'CAMEO_DEUINTL_2015'],\n",
       "      dtype=object)"
      ]
     },
     "execution_count": 39,
     "metadata": {},
     "output_type": "execute_result"
    }
   ],
   "source": [
    "get_features(df_features, prefix='CAMEO')"
   ]
  },
  {
   "cell_type": "code",
   "execution_count": 40,
   "metadata": {},
   "outputs": [],
   "source": [
    "cat_features.extend(['CAMEO_DEUG_2015', 'CAMEO_DEU_2015', 'CAMEO_DEUINTL_2015', \"CAMEO_INTL_2015\"])"
   ]
  },
  {
   "cell_type": "markdown",
   "metadata": {},
   "source": [
    "- 'CAMEO_DEU_2015' includes 44 categories in total, requires further analyssi to decide how to treat it\n",
    "- 'CAMEO_DEUINTL_2015' provides information about the housing and family status. therefore it is decided to split the data into two, one for housing and the other for family statu"
   ]
  },
  {
   "cell_type": "markdown",
   "metadata": {},
   "source": [
    "#### GEBAEUDETYP "
   ]
  },
  {
   "cell_type": "code",
   "execution_count": 41,
   "metadata": {},
   "outputs": [],
   "source": [
    "GEBAEUDETYP_feats = get_features(df_features, prefix='GEBAEUDETYP')"
   ]
  },
  {
   "cell_type": "code",
   "execution_count": 42,
   "metadata": {},
   "outputs": [],
   "source": [
    "# GEBAEUDETYP_feats"
   ]
  },
  {
   "cell_type": "code",
   "execution_count": 43,
   "metadata": {},
   "outputs": [
    {
     "data": {
      "text/plain": [
       "array(['unknown', 'residental building',\n",
       "       'residental building buildings without actually known household',\n",
       "       'mixed (=residential and company) building ',\n",
       "       'mixed building without actually known household or comapny ',\n",
       "       'company building w/o known company ',\n",
       "       'mixed building without actually known household ',\n",
       "       'company building',\n",
       "       'mixed building without actually known company ', 'business cell',\n",
       "       'mixed cell with high business share',\n",
       "       'mixed cell with middle business share',\n",
       "       'mixed cell with low business share', 'residential cell'],\n",
       "      dtype=object)"
      ]
     },
     "execution_count": 43,
     "metadata": {},
     "output_type": "execute_result"
    }
   ],
   "source": [
    "# cat gorical data, keep both\n",
    "df_features.loc[df_features['attribute_prefix'] == 'GEBAEUDETYP', 'Meaning'].unique()"
   ]
  },
  {
   "cell_type": "code",
   "execution_count": 44,
   "metadata": {},
   "outputs": [],
   "source": [
    "cat_features.extend(['GEBAEUDETYP', 'GEBAEUDETYP_RASTER'])"
   ]
  },
  {
   "cell_type": "markdown",
   "metadata": {},
   "source": [
    "### Other features"
   ]
  },
  {
   "cell_type": "code",
   "execution_count": 45,
   "metadata": {},
   "outputs": [],
   "source": [
    "search_for = '|'.join(top_count_features.index.values)\n",
    "feat_to_analyze = df_feat_summary.loc[~df_feat_summary['Attribute'].str.contains(search_for, na=False), 'Attribute'].unique()"
   ]
  },
  {
   "cell_type": "code",
   "execution_count": 46,
   "metadata": {},
   "outputs": [],
   "source": [
    "# Include features not explained in the file\n",
    "feat_to_analyze = np.concatenate([feat_to_analyze, fea_])"
   ]
  },
  {
   "cell_type": "code",
   "execution_count": 47,
   "metadata": {},
   "outputs": [
    {
     "name": "stdout",
     "output_type": "stream",
     "text": [
      "['CJT_GESAMTTYP' 'RELAT_AB' 'CJT_TYP_5' 'CJT_TYP_2' 'CJT_TYP_6' 'DSL_FLAG'\n",
      " 'KOMBIALTER' 'GREEN_AVANTGARDE' 'CJT_TYP_1' 'UMFELD_ALT' 'VERS_TYP'\n",
      " 'MOBI_REGIO' 'WOHNDAUER_2008' 'VHN' 'KK_KUNDENTYP' 'WOHNLAGE'\n",
      " 'ALTERSKATEGORIE_GROB' 'KKK' 'FIRMENDICHTE' 'ALTER_KIND2' 'HEALTH_TYP'\n",
      " 'GEMEINDETYP' 'EXTSEL992' 'TITEL_KZ' 'EINGEZOGENAM_HH_JAHR'\n",
      " 'CJT_KATALOGNUTZER' 'PRAEGENDE_JUGENDJAHRE' 'KONSUMZELLE'\n",
      " 'RETOURTYP_BK_S' 'RT_UEBERGROESSE' 'AKT_DAT_KL' 'VK_ZG11' 'ANREDE_KZ'\n",
      " 'ZABEOTYP' 'UNGLEICHENN_FLAG' 'ALTER_KIND1' 'W_KEIT_KIND_HH'\n",
      " 'RT_KEIN_ANREIZ' 'MIN_GEBAEUDEJAHR' 'INNENSTADT' 'ALTERSKATEGORIE_FEIN'\n",
      " 'SOHO_KZ' 'ORTSGR_KLS9' 'EINGEFUEGT_AM' 'KONSUMNAEHE' 'ARBEIT' 'VK_DHT4A'\n",
      " 'VHA' 'HH_DELTA_FLAG' 'STRUKTURTYP' 'EWDICHTE' 'NATIONALITAET_KZ'\n",
      " 'ALTER_KIND4' 'REGIOTYP' 'ALTER_KIND3' 'RT_SCHNAEPPCHEN' 'AGER_TYP'\n",
      " 'CJT_TYP_4' 'MOBI_RASTER' 'UMFELD_JUNG' 'BALLRAUM' 'SHOPPER_TYP'\n",
      " 'OST_WEST_KZ' 'GEBURTSJAHR' 'HH_EINKOMMEN_SCORE' 'VERDICHTUNGSRAUM'\n",
      " 'ALTER_HH' 'ONLINE_AFFINITAET' 'GFK_URLAUBERTYP' 'CJT_TYP_3' 'AKT_DAT_KL'\n",
      " 'ALTERSKATEGORIE_FEIN' 'ALTER_KIND1' 'ALTER_KIND2' 'ALTER_KIND3'\n",
      " 'ALTER_KIND4' 'ANZ_KINDER' 'ANZ_STATISTISCHE_HAUSHALTE' 'ARBEIT'\n",
      " 'CAMEO_INTL_2015' 'CJT_KATALOGNUTZER' 'CJT_TYP_1' 'CJT_TYP_2' 'CJT_TYP_3'\n",
      " 'CJT_TYP_4' 'CJT_TYP_5' 'CJT_TYP_6' 'D19_BANKEN_DIREKT'\n",
      " 'D19_BANKEN_GROSS' 'D19_BANKEN_LOKAL' 'D19_BANKEN_REST'\n",
      " 'D19_BEKLEIDUNG_GEH' 'D19_BEKLEIDUNG_REST' 'D19_BILDUNG' 'D19_BIO_OEKO'\n",
      " 'D19_BUCH_CD' 'D19_DIGIT_SERV' 'D19_DROGERIEARTIKEL' 'D19_ENERGIE'\n",
      " 'D19_FREIZEIT' 'D19_GARTEN' 'D19_HANDWERK' 'D19_HAUS_DEKO'\n",
      " 'D19_KINDERARTIKEL' 'D19_KONSUMTYP_MAX' 'D19_KOSMETIK' 'D19_LEBENSMITTEL'\n",
      " 'D19_LETZTER_KAUF_BRANCHE' 'D19_LOTTO' 'D19_NAHRUNGSERGAENZUNG'\n",
      " 'D19_RATGEBER' 'D19_REISEN' 'D19_SAMMELARTIKEL' 'D19_SCHUHE'\n",
      " 'D19_SONSTIGE' 'D19_SOZIALES' 'D19_TECHNIK' 'D19_TELKO_MOBILE'\n",
      " 'D19_TELKO_ONLINE_QUOTE_12' 'D19_TELKO_REST' 'D19_TIERARTIKEL'\n",
      " 'D19_VERSAND_REST' 'D19_VERSICHERUNGEN' 'D19_VERSI_DATUM'\n",
      " 'D19_VERSI_OFFLINE_DATUM' 'D19_VERSI_ONLINE_DATUM'\n",
      " 'D19_VERSI_ONLINE_QUOTE_12' 'D19_VOLLSORTIMENT' 'D19_WEIN_FEINKOST'\n",
      " 'DSL_FLAG' 'EINGEFUEGT_AM' 'EINGEZOGENAM_HH_JAHR' 'EXTSEL992'\n",
      " 'FIRMENDICHTE' 'GEMEINDETYP' 'HH_DELTA_FLAG' 'KBA13_ANTG1' 'KBA13_ANTG2'\n",
      " 'KBA13_ANTG3' 'KBA13_ANTG4' 'KBA13_BAUMAX' 'KBA13_CCM_1401_2500'\n",
      " 'KBA13_GBZ' 'KBA13_HHZ' 'KBA13_KMH_210' 'KK_KUNDENTYP' 'KOMBIALTER'\n",
      " 'KONSUMZELLE' 'MOBI_RASTER' 'RT_KEIN_ANREIZ' 'RT_SCHNAEPPCHEN'\n",
      " 'RT_UEBERGROESSE' 'SOHO_KZ' 'STRUKTURTYP' 'UMFELD_ALT' 'UMFELD_JUNG'\n",
      " 'UNGLEICHENN_FLAG' 'VERDICHTUNGSRAUM' 'VHA' 'VHN' 'VK_DHT4A' 'VK_DISTANZ'\n",
      " 'VK_ZG11']\n"
     ]
    }
   ],
   "source": [
    "print(feat_to_analyze)"
   ]
  },
  {
   "cell_type": "markdown",
   "metadata": {},
   "source": [
    "#### categorical data contains 'TYP' in the names"
   ]
  },
  {
   "cell_type": "code",
   "execution_count": 48,
   "metadata": {},
   "outputs": [],
   "source": [
    "# I assume all the attributes with TYP in the name can be treated as cat data\n",
    "typ_ = [feat for feat in feat_to_analyze if 'TYP' in feat]\n",
    "cat_features.extend(typ_)"
   ]
  },
  {
   "cell_type": "markdown",
   "metadata": {},
   "source": [
    "#### D19"
   ]
  },
  {
   "cell_type": "code",
   "execution_count": 50,
   "metadata": {
    "scrolled": true
   },
   "outputs": [
    {
     "name": "stdout",
     "output_type": "stream",
     "text": [
      "['D19_BANKEN_DIREKT', 'D19_BANKEN_GROSS', 'D19_BANKEN_LOKAL', 'D19_BANKEN_REST', 'D19_BEKLEIDUNG_GEH', 'D19_BEKLEIDUNG_REST', 'D19_BILDUNG', 'D19_BIO_OEKO', 'D19_BUCH_CD', 'D19_DIGIT_SERV', 'D19_DROGERIEARTIKEL', 'D19_ENERGIE', 'D19_FREIZEIT', 'D19_GARTEN', 'D19_HANDWERK', 'D19_HAUS_DEKO', 'D19_KINDERARTIKEL', 'D19_KOSMETIK', 'D19_LEBENSMITTEL', 'D19_LETZTER_KAUF_BRANCHE', 'D19_LOTTO', 'D19_NAHRUNGSERGAENZUNG', 'D19_RATGEBER', 'D19_REISEN', 'D19_SAMMELARTIKEL', 'D19_SCHUHE', 'D19_SONSTIGE', 'D19_SOZIALES', 'D19_TECHNIK', 'D19_TELKO_MOBILE', 'D19_TELKO_ONLINE_QUOTE_12', 'D19_TELKO_REST', 'D19_TIERARTIKEL', 'D19_VERSAND_REST', 'D19_VERSICHERUNGEN', 'D19_VERSI_DATUM', 'D19_VERSI_OFFLINE_DATUM', 'D19_VERSI_ONLINE_DATUM', 'D19_VERSI_ONLINE_QUOTE_12', 'D19_VOLLSORTIMENT', 'D19_WEIN_FEINKOST']\n"
     ]
    },
    {
     "name": "stderr",
     "output_type": "stream",
     "text": [
      "C:\\ProgramData\\Anaconda3\\Lib\\site-packages\\matplotlib\\pyplot.py:514: RuntimeWarning: More than 20 figures have been opened. Figures created through the pyplot interface (`matplotlib.pyplot.figure`) are retained until explicitly closed and may consume too much memory. (To control this warning, see the rcParam `figure.max_open_warning`).\n",
      "  max_open_warning, RuntimeWarning)\n"
     ]
    },
    {
     "data": {
      "image/png": "[encoded data removed]",
      "text/plain": [
       "<Figure size 432x288 with 1 Axes>"
      ]
     },
     "metadata": {
      "needs_background": "light"
     },
     "output_type": "display_data"
    },
    {
     "data": {
      "image/png": "[encoded data removed]",
      "text/plain": [
       "<Figure size 432x288 with 1 Axes>"
      ]
     },
     "metadata": {
      "needs_background": "light"
     },
     "output_type": "display_data"
    },
    {
     "data": {
      "image/png": "[encoded data removed]",
      "text/plain": [
       "<Figure size 432x288 with 1 Axes>"
      ]
     },
     "metadata": {
      "needs_background": "light"
     },
     "output_type": "display_data"
    },
    {
     "data": {
      "image/png": "[encoded data removed]",
      "text/plain": [
       "<Figure size 432x288 with 1 Axes>"
      ]
     },
     "metadata": {
      "needs_background": "light"
     },
     "output_type": "display_data"
    },
    {
     "data": {
      "image/png": "[encoded data removed]",
      "text/plain": [
       "<Figure size 432x288 with 1 Axes>"
      ]
     },
     "metadata": {
      "needs_background": "light"
     },
     "output_type": "display_data"
    },
    {
     "data": {
      "image/png": "[encoded data removed]",
      "text/plain": [
       "<Figure size 432x288 with 1 Axes>"
      ]
     },
     "metadata": {
      "needs_background": "light"
     },
     "output_type": "display_data"
    },
    {
     "data": {
      "image/png": "[encoded data removed]",
      "text/plain": [
       "<Figure size 432x288 with 1 Axes>"
      ]
     },
     "metadata": {
      "needs_background": "light"
     },
     "output_type": "display_data"
    },
    {
     "data": {
      "image/png": "[encoded data removed]",
      "text/plain": [
       "<Figure size 432x288 with 1 Axes>"
      ]
     },
     "metadata": {
      "needs_background": "light"
     },
     "output_type": "display_data"
    },
    {
     "data": {
      "image/png": "[encoded data removed]",
      "text/plain": [
       "<Figure size 432x288 with 1 Axes>"
      ]
     },
     "metadata": {
      "needs_background": "light"
     },
     "output_type": "display_data"
    },
    {
     "data": {
      "image/png": "[encoded data removed]",
      "text/plain": [
       "<Figure size 432x288 with 1 Axes>"
      ]
     },
     "metadata": {
      "needs_background": "light"
     },
     "output_type": "display_data"
    },
    {
     "data": {
      "image/png": "[encoded data removed]",
      "text/plain": [
       "<Figure size 432x288 with 1 Axes>"
      ]
     },
     "metadata": {
      "needs_background": "light"
     },
     "output_type": "display_data"
    },
    {
     "data": {
      "image/png": "[encoded data removed]",
      "text/plain": [
       "<Figure size 432x288 with 1 Axes>"
      ]
     },
     "metadata": {
      "needs_background": "light"
     },
     "output_type": "display_data"
    },
    {
     "data": {
      "image/png": "[encoded data removed]",
      "text/plain": [
       "<Figure size 432x288 with 1 Axes>"
      ]
     },
     "metadata": {
      "needs_background": "light"
     },
     "output_type": "display_data"
    },
    {
     "data": {
      "image/png": "[encoded data removed]",
      "text/plain": [
       "<Figure size 432x288 with 1 Axes>"
      ]
     },
     "metadata": {
      "needs_background": "light"
     },
     "output_type": "display_data"
    },
    {
     "data": {
      "image/png": "[encoded data removed]",
      "text/plain": [
       "<Figure size 432x288 with 1 Axes>"
      ]
     },
     "metadata": {
      "needs_background": "light"
     },
     "output_type": "display_data"
    },
    {
     "data": {
      "image/png": "[encoded data removed]",
      "text/plain": [
       "<Figure size 432x288 with 1 Axes>"
      ]
     },
     "metadata": {
      "needs_background": "light"
     },
     "output_type": "display_data"
    },
    {
     "data": {
      "image/png": "[encoded data removed]",
      "text/plain": [
       "<Figure size 432x288 with 1 Axes>"
      ]
     },
     "metadata": {
      "needs_background": "light"
     },
     "output_type": "display_data"
    },
    {
     "data": {
      "image/png": "[encoded data removed]",
      "text/plain": [
       "<Figure size 432x288 with 1 Axes>"
      ]
     },
     "metadata": {
      "needs_background": "light"
     },
     "output_type": "display_data"
    },
    {
     "data": {
      "image/png": "[encoded data removed]",
      "text/plain": [
       "<Figure size 432x288 with 1 Axes>"
      ]
     },
     "metadata": {
      "needs_background": "light"
     },
     "output_type": "display_data"
    },
    {
     "data": {
      "image/png": "[encoded data removed]",
      "text/plain": [
       "<Figure size 432x288 with 1 Axes>"
      ]
     },
     "metadata": {
      "needs_background": "light"
     },
     "output_type": "display_data"
    },
    {
     "data": {
      "image/png": "[encoded data removed]",
      "text/plain": [
       "<Figure size 432x288 with 1 Axes>"
      ]
     },
     "metadata": {
      "needs_background": "light"
     },
     "output_type": "display_data"
    },
    {
     "data": {
      "image/png": "[encoded data removed]",
      "text/plain": [
       "<Figure size 432x288 with 1 Axes>"
      ]
     },
     "metadata": {
      "needs_background": "light"
     },
     "output_type": "display_data"
    },
    {
     "data": {
      "image/png": "[encoded data removed]",
      "text/plain": [
       "<Figure size 432x288 with 1 Axes>"
      ]
     },
     "metadata": {
      "needs_background": "light"
     },
     "output_type": "display_data"
    },
    {
     "data": {
      "image/png": "[encoded data removed]",
      "text/plain": [
       "<Figure size 432x288 with 1 Axes>"
      ]
     },
     "metadata": {
      "needs_background": "light"
     },
     "output_type": "display_data"
    },
    {
     "data": {
      "image/png": "[encoded data removed]",
      "text/plain": [
       "<Figure size 432x288 with 1 Axes>"
      ]
     },
     "metadata": {
      "needs_background": "light"
     },
     "output_type": "display_data"
    },
    {
     "data": {
      "image/png": "[encoded data removed]",
      "text/plain": [
       "<Figure size 432x288 with 1 Axes>"
      ]
     },
     "metadata": {
      "needs_background": "light"
     },
     "output_type": "display_data"
    },
    {
     "data": {
      "image/png": "[encoded data removed]",
      "text/plain": [
       "<Figure size 432x288 with 1 Axes>"
      ]
     },
     "metadata": {
      "needs_background": "light"
     },
     "output_type": "display_data"
    },
    {
     "data": {
      "image/png": "[encoded data removed]",
      "text/plain": [
       "<Figure size 432x288 with 1 Axes>"
      ]
     },
     "metadata": {
      "needs_background": "light"
     },
     "output_type": "display_data"
    },
    {
     "data": {
      "image/png": "[encoded data removed]",
      "text/plain": [
       "<Figure size 432x288 with 1 Axes>"
      ]
     },
     "metadata": {
      "needs_background": "light"
     },
     "output_type": "display_data"
    },
    {
     "data": {
      "image/png": "[encoded data removed]",
      "text/plain": [
       "<Figure size 432x288 with 1 Axes>"
      ]
     },
     "metadata": {
      "needs_background": "light"
     },
     "output_type": "display_data"
    },
    {
     "data": {
      "image/png": "[encoded data removed]",
      "text/plain": [
       "<Figure size 432x288 with 1 Axes>"
      ]
     },
     "metadata": {
      "needs_background": "light"
     },
     "output_type": "display_data"
    },
    {
     "data": {
      "image/png": "[encoded data removed]",
      "text/plain": [
       "<Figure size 432x288 with 1 Axes>"
      ]
     },
     "metadata": {
      "needs_background": "light"
     },
     "output_type": "display_data"
    },
    {
     "data": {
      "image/png": "[encoded data removed]",
      "text/plain": [
       "<Figure size 432x288 with 1 Axes>"
      ]
     },
     "metadata": {
      "needs_background": "light"
     },
     "output_type": "display_data"
    },
    {
     "data": {
      "image/png": "[encoded data removed]",
      "text/plain": [
       "<Figure size 432x288 with 1 Axes>"
      ]
     },
     "metadata": {
      "needs_background": "light"
     },
     "output_type": "display_data"
    },
    {
     "data": {
      "image/png": "[encoded data removed]",
      "text/plain": [
       "<Figure size 432x288 with 1 Axes>"
      ]
     },
     "metadata": {
      "needs_background": "light"
     },
     "output_type": "display_data"
    },
    {
     "data": {
      "image/png": "[encoded data removed]",
      "text/plain": [
       "<Figure size 432x288 with 1 Axes>"
      ]
     },
     "metadata": {
      "needs_background": "light"
     },
     "output_type": "display_data"
    },
    {
     "data": {
      "image/png": "[encoded data removed]",
      "text/plain": [
       "<Figure size 432x288 with 1 Axes>"
      ]
     },
     "metadata": {
      "needs_background": "light"
     },
     "output_type": "display_data"
    },
    {
     "data": {
      "image/png": "[encoded data removed]",
      "text/plain": [
       "<Figure size 432x288 with 1 Axes>"
      ]
     },
     "metadata": {
      "needs_background": "light"
     },
     "output_type": "display_data"
    },
    {
     "data": {
      "image/png": "[encoded data removed]",
      "text/plain": [
       "<Figure size 432x288 with 1 Axes>"
      ]
     },
     "metadata": {
      "needs_background": "light"
     },
     "output_type": "display_data"
    },
    {
     "data": {
      "image/png": "[encoded data removed]",
      "text/plain": [
       "<Figure size 432x288 with 1 Axes>"
      ]
     },
     "metadata": {
      "needs_background": "light"
     },
     "output_type": "display_data"
    },
    {
     "data": {
      "image/png": "[encoded data removed]",
      "text/plain": [
       "<Figure size 432x288 with 1 Axes>"
      ]
     },
     "metadata": {
      "needs_background": "light"
     },
     "output_type": "display_data"
    }
   ],
   "source": [
    "feat_ = []\n",
    "\n",
    "d19_ = [feat for feat in feat_to_analyze if 'D19' in feat and 'TYP' not in feat]\n",
    "print(d19_)\n",
    "\n",
    "for feat in d19_:\n",
    "    if feat not in df_features['Attribute'].values:\n",
    "#         print(\"{:} contains {:.2f}% na's\".format(feat, 100*azdias[feat].isna().mean()))\n",
    "        fig, ax = plt.subplots()\n",
    "        sns.countplot(azdias[feat])\n",
    "        feat_.append(feat)"
   ]
  },
  {
   "cell_type": "markdown",
   "metadata": {},
   "source": [
    "without much information available, i will assume all the above listed features are ordinal data"
   ]
  },
  {
   "cell_type": "code",
   "execution_count": 52,
   "metadata": {},
   "outputs": [],
   "source": [
    "cat_features.extend(['D19_LETZTER_KAUF_BRANCHE'])  # last purchase sector? the informatoin doesn't seem to be so relavent"
   ]
  },
  {
   "cell_type": "code",
   "execution_count": 53,
   "metadata": {},
   "outputs": [],
   "source": [
    "# azdias['D19_LETZTER_KAUF_BRANCHE'].unique()"
   ]
  },
  {
   "cell_type": "markdown",
   "metadata": {},
   "source": [
    "#### KBA05"
   ]
  },
  {
   "cell_type": "code",
   "execution_count": 54,
   "metadata": {},
   "outputs": [
    {
     "name": "stdout",
     "output_type": "stream",
     "text": [
      "[]\n"
     ]
    }
   ],
   "source": [
    "kba05_ = [feat for feat in feat_to_analyze if 'KBA05' in feat and 'TYP' not in feat]\n",
    "print(kba05_)"
   ]
  },
  {
   "cell_type": "markdown",
   "metadata": {},
   "source": [
    "#### KBA13"
   ]
  },
  {
   "cell_type": "code",
   "execution_count": 55,
   "metadata": {},
   "outputs": [
    {
     "name": "stdout",
     "output_type": "stream",
     "text": [
      "['KBA13_ANTG1', 'KBA13_ANTG2', 'KBA13_ANTG3', 'KBA13_ANTG4', 'KBA13_BAUMAX', 'KBA13_CCM_1401_2500', 'KBA13_GBZ', 'KBA13_HHZ', 'KBA13_KMH_210']\n"
     ]
    }
   ],
   "source": [
    "kba13_ = [feat for feat in feat_to_analyze if 'KBA13' in feat and 'TYP' not in feat]\n",
    "print(kba13_)"
   ]
  },
  {
   "cell_type": "code",
   "execution_count": 56,
   "metadata": {},
   "outputs": [
    {
     "data": {
      "image/png": "[encoded data removed]",
      "text/plain": [
       "<Figure size 432x288 with 1 Axes>"
      ]
     },
     "metadata": {
      "needs_background": "light"
     },
     "output_type": "display_data"
    },
    {
     "data": {
      "image/png": "[encoded data removed]",
      "text/plain": [
       "<Figure size 432x288 with 1 Axes>"
      ]
     },
     "metadata": {
      "needs_background": "light"
     },
     "output_type": "display_data"
    },
    {
     "data": {
      "image/png": "[encoded data removed]",
      "text/plain": [
       "<Figure size 432x288 with 1 Axes>"
      ]
     },
     "metadata": {
      "needs_background": "light"
     },
     "output_type": "display_data"
    },
    {
     "data": {
      "image/png": "[encoded data removed]",
      "text/plain": [
       "<Figure size 432x288 with 1 Axes>"
      ]
     },
     "metadata": {
      "needs_background": "light"
     },
     "output_type": "display_data"
    },
    {
     "data": {
      "image/png": "[encoded data removed]",
      "text/plain": [
       "<Figure size 432x288 with 1 Axes>"
      ]
     },
     "metadata": {
      "needs_background": "light"
     },
     "output_type": "display_data"
    },
    {
     "data": {
      "image/png": "[encoded data removed]",
      "text/plain": [
       "<Figure size 432x288 with 1 Axes>"
      ]
     },
     "metadata": {
      "needs_background": "light"
     },
     "output_type": "display_data"
    },
    {
     "data": {
      "image/png": "[encoded data removed]",
      "text/plain": [
       "<Figure size 432x288 with 1 Axes>"
      ]
     },
     "metadata": {
      "needs_background": "light"
     },
     "output_type": "display_data"
    },
    {
     "data": {
      "image/png": "[encoded data removed]",
      "text/plain": [
       "<Figure size 432x288 with 1 Axes>"
      ]
     },
     "metadata": {
      "needs_background": "light"
     },
     "output_type": "display_data"
    },
    {
     "data": {
      "image/png": "[encoded data removed]",
      "text/plain": [
       "<Figure size 432x288 with 1 Axes>"
      ]
     },
     "metadata": {
      "needs_background": "light"
     },
     "output_type": "display_data"
    }
   ],
   "source": [
    "for feat in kba13_:\n",
    "    if feat not in df_features['Attribute'].values:\n",
    "#         print(\"{:} contains {:.2f}% na's\".format(feat, 100*azdias[feat].isna().mean()))\n",
    "        fig, ax = plt.subplots()\n",
    "        sns.countplot(azdias[feat])\n",
    "        feat_.append(feat)"
   ]
  },
  {
   "cell_type": "markdown",
   "metadata": {},
   "source": [
    "KBA13 data is mostly ordinal, i will assume it to be ordinal"
   ]
  },
  {
   "cell_type": "markdown",
   "metadata": {},
   "source": [
    "#### LP"
   ]
  },
  {
   "cell_type": "code",
   "execution_count": 57,
   "metadata": {},
   "outputs": [
    {
     "name": "stdout",
     "output_type": "stream",
     "text": [
      "[]\n"
     ]
    }
   ],
   "source": [
    "lp_ = [feat for feat in feat_to_analyze if 'LP' in feat and 'TYP' not in feat]\n",
    "print(lp_)"
   ]
  },
  {
   "cell_type": "markdown",
   "metadata": {},
   "source": [
    "#### FINANZ"
   ]
  },
  {
   "cell_type": "code",
   "execution_count": 58,
   "metadata": {},
   "outputs": [
    {
     "name": "stdout",
     "output_type": "stream",
     "text": [
      "[]\n"
     ]
    }
   ],
   "source": [
    "finanz_ = [feat for feat in feat_to_analyze if 'FINANZ' in feat and 'TYP' not in feat]\n",
    "print(finanz_)"
   ]
  },
  {
   "cell_type": "markdown",
   "metadata": {},
   "source": [
    "#### ANZ"
   ]
  },
  {
   "cell_type": "code",
   "execution_count": 59,
   "metadata": {},
   "outputs": [
    {
     "name": "stdout",
     "output_type": "stream",
     "text": [
      "['ANZ_KINDER', 'ANZ_STATISTISCHE_HAUSHALTE', 'VK_DISTANZ']\n"
     ]
    }
   ],
   "source": [
    "anz_ = [feat for feat in feat_to_analyze if 'ANZ' in feat and 'TYP' not in feat]\n",
    "print(anz_)"
   ]
  },
  {
   "cell_type": "code",
   "execution_count": 60,
   "metadata": {},
   "outputs": [
    {
     "data": {
      "image/png": "[encoded data removed]",
      "text/plain": [
       "<Figure size 432x288 with 1 Axes>"
      ]
     },
     "metadata": {
      "needs_background": "light"
     },
     "output_type": "display_data"
    },
    {
     "data": {
      "image/png": "[encoded data removed]",
      "text/plain": [
       "<Figure size 432x288 with 1 Axes>"
      ]
     },
     "metadata": {
      "needs_background": "light"
     },
     "output_type": "display_data"
    },
    {
     "data": {
      "image/png": "[encoded data removed]",
      "text/plain": [
       "<Figure size 432x288 with 1 Axes>"
      ]
     },
     "metadata": {
      "needs_background": "light"
     },
     "output_type": "display_data"
    }
   ],
   "source": [
    "for feat in anz_:\n",
    "    if feat not in df_features['Attribute'].values:\n",
    "#         print(\"{:} contains {:.2f}% na's\".format(feat, 100*azdias[feat].isna().mean()))\n",
    "        fig, ax = plt.subplots()\n",
    "        sns.countplot(azdias[feat])\n",
    "        feat_.append(feat)"
   ]
  },
  {
   "cell_type": "code",
   "execution_count": 61,
   "metadata": {},
   "outputs": [],
   "source": [
    "num_features.extend(anz_)"
   ]
  },
  {
   "cell_type": "markdown",
   "metadata": {},
   "source": [
    "#### CAMEO "
   ]
  },
  {
   "cell_type": "code",
   "execution_count": 62,
   "metadata": {},
   "outputs": [
    {
     "name": "stdout",
     "output_type": "stream",
     "text": [
      "['CAMEO_INTL_2015']\n"
     ]
    }
   ],
   "source": [
    "cameo_ = [feat for feat in feat_to_analyze if 'CAMEO' in feat and 'TYP' not in feat]\n",
    "print(cameo_)"
   ]
  },
  {
   "cell_type": "code",
   "execution_count": 63,
   "metadata": {},
   "outputs": [],
   "source": [
    "cat_features.extend(cameo_)"
   ]
  },
  {
   "cell_type": "markdown",
   "metadata": {},
   "source": [
    "#### GEBAEUDETYP"
   ]
  },
  {
   "cell_type": "code",
   "execution_count": 64,
   "metadata": {},
   "outputs": [
    {
     "name": "stdout",
     "output_type": "stream",
     "text": [
      "[]\n"
     ]
    }
   ],
   "source": [
    "GEBAEUDETYP_ = [feat for feat in feat_to_analyze if 'GEBAEUDETYP' in feat and 'TYP' not in feat]\n",
    "print(GEBAEUDETYP_)"
   ]
  },
  {
   "cell_type": "markdown",
   "metadata": {},
   "source": [
    "####  analyze unexplored features"
   ]
  },
  {
   "cell_type": "code",
   "execution_count": 65,
   "metadata": {},
   "outputs": [],
   "source": [
    "remaining_feats = feat_to_analyze"
   ]
  },
  {
   "cell_type": "code",
   "execution_count": 66,
   "metadata": {},
   "outputs": [
    {
     "name": "stdout",
     "output_type": "stream",
     "text": [
      "there are in total 52 features remain to be examined manually/individually\n"
     ]
    }
   ],
   "source": [
    "for f in [d19_, kba05_, kba13_, lp_, finanz_, anz_, cameo_, GEBAEUDETYP_, typ_]:\n",
    "#     print(f)\n",
    "    remaining_feats = list (set(remaining_feats) - set(f))\n",
    "    \n",
    "print( 'there are in total {:} features remain to be examined manually/individually'.format(len(remaining_feats)))"
   ]
  },
  {
   "cell_type": "code",
   "execution_count": 67,
   "metadata": {},
   "outputs": [
    {
     "name": "stdout",
     "output_type": "stream",
     "text": [
      "['ALTER_KIND3', 'RT_UEBERGROESSE', 'BALLRAUM', 'ALTER_KIND2', 'RT_SCHNAEPPCHEN', 'RELAT_AB', 'W_KEIT_KIND_HH', 'AKT_DAT_KL', 'OST_WEST_KZ', 'RT_KEIN_ANREIZ', 'UMFELD_ALT', 'MIN_GEBAEUDEJAHR', 'VK_DHT4A', 'INNENSTADT', 'MOBI_REGIO', 'GEBURTSJAHR', 'HH_EINKOMMEN_SCORE', 'ALTERSKATEGORIE_FEIN', 'VHA', 'VERDICHTUNGSRAUM', 'WOHNDAUER_2008', 'VK_ZG11', 'VHN', 'EXTSEL992', 'HH_DELTA_FLAG', 'ALTER_HH', 'SOHO_KZ', 'TITEL_KZ', 'ORTSGR_KLS9', 'EINGEFUEGT_AM', 'EINGEZOGENAM_HH_JAHR', 'WOHNLAGE', 'CJT_KATALOGNUTZER', 'ANREDE_KZ', 'MOBI_RASTER', 'ALTERSKATEGORIE_GROB', 'UNGLEICHENN_FLAG', 'KOMBIALTER', 'DSL_FLAG', 'ALTER_KIND1', 'ONLINE_AFFINITAET', 'KONSUMNAEHE', 'EWDICHTE', 'UMFELD_JUNG', 'NATIONALITAET_KZ', 'KKK', 'PRAEGENDE_JUGENDJAHRE', 'FIRMENDICHTE', 'KONSUMZELLE', 'GREEN_AVANTGARDE', 'ALTER_KIND4', 'ARBEIT']\n"
     ]
    }
   ],
   "source": [
    "print(remaining_feats)"
   ]
  },
  {
   "cell_type": "code",
   "execution_count": null,
   "metadata": {},
   "outputs": [],
   "source": []
  },
  {
   "cell_type": "code",
   "execution_count": 68,
   "metadata": {
    "scrolled": true
   },
   "outputs": [
    {
     "name": "stdout",
     "output_type": "stream",
     "text": [
      "BALLRAUM\n"
     ]
    },
    {
     "data": {
      "text/html": [
       "<div>\n",
       "<style scoped>\n",
       "    .dataframe tbody tr th:only-of-type {\n",
       "        vertical-align: middle;\n",
       "    }\n",
       "\n",
       "    .dataframe tbody tr th {\n",
       "        vertical-align: top;\n",
       "    }\n",
       "\n",
       "    .dataframe thead th {\n",
       "        text-align: right;\n",
       "    }\n",
       "</style>\n",
       "<table border=\"1\" class=\"dataframe\">\n",
       "  <thead>\n",
       "    <tr style=\"text-align: right;\">\n",
       "      <th></th>\n",
       "      <th>Attribute</th>\n",
       "      <th>Value</th>\n",
       "      <th>Meaning</th>\n",
       "      <th>attribute_prefix</th>\n",
       "    </tr>\n",
       "  </thead>\n",
       "  <tbody>\n",
       "    <tr>\n",
       "      <th>40</th>\n",
       "      <td>BALLRAUM</td>\n",
       "      <td>-1</td>\n",
       "      <td>unknown</td>\n",
       "      <td>BALLRAUM</td>\n",
       "    </tr>\n",
       "    <tr>\n",
       "      <th>41</th>\n",
       "      <td>BALLRAUM</td>\n",
       "      <td>1</td>\n",
       "      <td>till 10 km</td>\n",
       "      <td>BALLRAUM</td>\n",
       "    </tr>\n",
       "    <tr>\n",
       "      <th>42</th>\n",
       "      <td>BALLRAUM</td>\n",
       "      <td>2</td>\n",
       "      <td>10 - 20 km</td>\n",
       "      <td>BALLRAUM</td>\n",
       "    </tr>\n",
       "    <tr>\n",
       "      <th>43</th>\n",
       "      <td>BALLRAUM</td>\n",
       "      <td>3</td>\n",
       "      <td>20 - 30 km</td>\n",
       "      <td>BALLRAUM</td>\n",
       "    </tr>\n",
       "    <tr>\n",
       "      <th>44</th>\n",
       "      <td>BALLRAUM</td>\n",
       "      <td>4</td>\n",
       "      <td>30 - 40 km</td>\n",
       "      <td>BALLRAUM</td>\n",
       "    </tr>\n",
       "    <tr>\n",
       "      <th>45</th>\n",
       "      <td>BALLRAUM</td>\n",
       "      <td>5</td>\n",
       "      <td>40 - 50 km</td>\n",
       "      <td>BALLRAUM</td>\n",
       "    </tr>\n",
       "    <tr>\n",
       "      <th>46</th>\n",
       "      <td>BALLRAUM</td>\n",
       "      <td>6</td>\n",
       "      <td>50-100 km</td>\n",
       "      <td>BALLRAUM</td>\n",
       "    </tr>\n",
       "    <tr>\n",
       "      <th>47</th>\n",
       "      <td>BALLRAUM</td>\n",
       "      <td>7</td>\n",
       "      <td>more than 100 km</td>\n",
       "      <td>BALLRAUM</td>\n",
       "    </tr>\n",
       "  </tbody>\n",
       "</table>\n",
       "</div>"
      ],
      "text/plain": [
       "   Attribute Value            Meaning attribute_prefix\n",
       "40  BALLRAUM    -1            unknown         BALLRAUM\n",
       "41  BALLRAUM     1         till 10 km         BALLRAUM\n",
       "42  BALLRAUM     2         10 - 20 km         BALLRAUM\n",
       "43  BALLRAUM     3         20 - 30 km         BALLRAUM\n",
       "44  BALLRAUM     4         30 - 40 km         BALLRAUM\n",
       "45  BALLRAUM     5         40 - 50 km         BALLRAUM\n",
       "46  BALLRAUM     6          50-100 km         BALLRAUM\n",
       "47  BALLRAUM     7  more than 100 km          BALLRAUM"
      ]
     },
     "metadata": {},
     "output_type": "display_data"
    },
    {
     "name": "stdout",
     "output_type": "stream",
     "text": [
      "RELAT_AB\n"
     ]
    },
    {
     "data": {
      "text/html": [
       "<div>\n",
       "<style scoped>\n",
       "    .dataframe tbody tr th:only-of-type {\n",
       "        vertical-align: middle;\n",
       "    }\n",
       "\n",
       "    .dataframe tbody tr th {\n",
       "        vertical-align: top;\n",
       "    }\n",
       "\n",
       "    .dataframe thead th {\n",
       "        text-align: right;\n",
       "    }\n",
       "</style>\n",
       "<table border=\"1\" class=\"dataframe\">\n",
       "  <thead>\n",
       "    <tr style=\"text-align: right;\">\n",
       "      <th></th>\n",
       "      <th>Attribute</th>\n",
       "      <th>Value</th>\n",
       "      <th>Meaning</th>\n",
       "      <th>attribute_prefix</th>\n",
       "    </tr>\n",
       "  </thead>\n",
       "  <tbody>\n",
       "    <tr>\n",
       "      <th>2078</th>\n",
       "      <td>RELAT_AB</td>\n",
       "      <td>1</td>\n",
       "      <td>very low</td>\n",
       "      <td>RELAT</td>\n",
       "    </tr>\n",
       "    <tr>\n",
       "      <th>2079</th>\n",
       "      <td>RELAT_AB</td>\n",
       "      <td>2</td>\n",
       "      <td>low</td>\n",
       "      <td>RELAT</td>\n",
       "    </tr>\n",
       "    <tr>\n",
       "      <th>2080</th>\n",
       "      <td>RELAT_AB</td>\n",
       "      <td>3</td>\n",
       "      <td>average</td>\n",
       "      <td>RELAT</td>\n",
       "    </tr>\n",
       "    <tr>\n",
       "      <th>2081</th>\n",
       "      <td>RELAT_AB</td>\n",
       "      <td>4</td>\n",
       "      <td>high</td>\n",
       "      <td>RELAT</td>\n",
       "    </tr>\n",
       "    <tr>\n",
       "      <th>2082</th>\n",
       "      <td>RELAT_AB</td>\n",
       "      <td>5</td>\n",
       "      <td>very high</td>\n",
       "      <td>RELAT</td>\n",
       "    </tr>\n",
       "    <tr>\n",
       "      <th>2083</th>\n",
       "      <td>RELAT_AB</td>\n",
       "      <td>-1, 9</td>\n",
       "      <td>unknown</td>\n",
       "      <td>RELAT</td>\n",
       "    </tr>\n",
       "  </tbody>\n",
       "</table>\n",
       "</div>"
      ],
      "text/plain": [
       "     Attribute  Value    Meaning attribute_prefix\n",
       "2078  RELAT_AB      1   very low            RELAT\n",
       "2079  RELAT_AB      2        low            RELAT\n",
       "2080  RELAT_AB      3    average            RELAT\n",
       "2081  RELAT_AB      4       high            RELAT\n",
       "2082  RELAT_AB      5  very high            RELAT\n",
       "2083  RELAT_AB  -1, 9    unknown            RELAT"
      ]
     },
     "metadata": {},
     "output_type": "display_data"
    },
    {
     "name": "stdout",
     "output_type": "stream",
     "text": [
      "W_KEIT_KIND_HH\n"
     ]
    },
    {
     "data": {
      "text/html": [
       "<div>\n",
       "<style scoped>\n",
       "    .dataframe tbody tr th:only-of-type {\n",
       "        vertical-align: middle;\n",
       "    }\n",
       "\n",
       "    .dataframe tbody tr th {\n",
       "        vertical-align: top;\n",
       "    }\n",
       "\n",
       "    .dataframe thead th {\n",
       "        text-align: right;\n",
       "    }\n",
       "</style>\n",
       "<table border=\"1\" class=\"dataframe\">\n",
       "  <thead>\n",
       "    <tr style=\"text-align: right;\">\n",
       "      <th></th>\n",
       "      <th>Attribute</th>\n",
       "      <th>Value</th>\n",
       "      <th>Meaning</th>\n",
       "      <th>attribute_prefix</th>\n",
       "    </tr>\n",
       "  </thead>\n",
       "  <tbody>\n",
       "    <tr>\n",
       "      <th>2244</th>\n",
       "      <td>W_KEIT_KIND_HH</td>\n",
       "      <td>-1, 0</td>\n",
       "      <td>unknown</td>\n",
       "      <td>W</td>\n",
       "    </tr>\n",
       "    <tr>\n",
       "      <th>2245</th>\n",
       "      <td>W_KEIT_KIND_HH</td>\n",
       "      <td>1</td>\n",
       "      <td>most likely</td>\n",
       "      <td>W</td>\n",
       "    </tr>\n",
       "    <tr>\n",
       "      <th>2246</th>\n",
       "      <td>W_KEIT_KIND_HH</td>\n",
       "      <td>2</td>\n",
       "      <td>very likely</td>\n",
       "      <td>W</td>\n",
       "    </tr>\n",
       "    <tr>\n",
       "      <th>2247</th>\n",
       "      <td>W_KEIT_KIND_HH</td>\n",
       "      <td>3</td>\n",
       "      <td>likely</td>\n",
       "      <td>W</td>\n",
       "    </tr>\n",
       "    <tr>\n",
       "      <th>2248</th>\n",
       "      <td>W_KEIT_KIND_HH</td>\n",
       "      <td>4</td>\n",
       "      <td>average</td>\n",
       "      <td>W</td>\n",
       "    </tr>\n",
       "    <tr>\n",
       "      <th>2249</th>\n",
       "      <td>W_KEIT_KIND_HH</td>\n",
       "      <td>5</td>\n",
       "      <td>unlikely</td>\n",
       "      <td>W</td>\n",
       "    </tr>\n",
       "    <tr>\n",
       "      <th>2250</th>\n",
       "      <td>W_KEIT_KIND_HH</td>\n",
       "      <td>6</td>\n",
       "      <td>very unlikely</td>\n",
       "      <td>W</td>\n",
       "    </tr>\n",
       "  </tbody>\n",
       "</table>\n",
       "</div>"
      ],
      "text/plain": [
       "           Attribute  Value        Meaning attribute_prefix\n",
       "2244  W_KEIT_KIND_HH  -1, 0        unknown                W\n",
       "2245  W_KEIT_KIND_HH      1    most likely                W\n",
       "2246  W_KEIT_KIND_HH      2    very likely                W\n",
       "2247  W_KEIT_KIND_HH      3         likely                W\n",
       "2248  W_KEIT_KIND_HH      4        average                W\n",
       "2249  W_KEIT_KIND_HH      5       unlikely                W\n",
       "2250  W_KEIT_KIND_HH      6  very unlikely                W"
      ]
     },
     "metadata": {},
     "output_type": "display_data"
    },
    {
     "name": "stdout",
     "output_type": "stream",
     "text": [
      "OST_WEST_KZ\n"
     ]
    },
    {
     "data": {
      "text/html": [
       "<div>\n",
       "<style scoped>\n",
       "    .dataframe tbody tr th:only-of-type {\n",
       "        vertical-align: middle;\n",
       "    }\n",
       "\n",
       "    .dataframe tbody tr th {\n",
       "        vertical-align: top;\n",
       "    }\n",
       "\n",
       "    .dataframe thead th {\n",
       "        text-align: right;\n",
       "    }\n",
       "</style>\n",
       "<table border=\"1\" class=\"dataframe\">\n",
       "  <thead>\n",
       "    <tr style=\"text-align: right;\">\n",
       "      <th></th>\n",
       "      <th>Attribute</th>\n",
       "      <th>Value</th>\n",
       "      <th>Meaning</th>\n",
       "      <th>attribute_prefix</th>\n",
       "    </tr>\n",
       "  </thead>\n",
       "  <tbody>\n",
       "    <tr>\n",
       "      <th>2013</th>\n",
       "      <td>OST_WEST_KZ</td>\n",
       "      <td>-1</td>\n",
       "      <td>unknown</td>\n",
       "      <td>OST</td>\n",
       "    </tr>\n",
       "    <tr>\n",
       "      <th>2014</th>\n",
       "      <td>OST_WEST_KZ</td>\n",
       "      <td>O</td>\n",
       "      <td>East (GDR)</td>\n",
       "      <td>OST</td>\n",
       "    </tr>\n",
       "    <tr>\n",
       "      <th>2015</th>\n",
       "      <td>OST_WEST_KZ</td>\n",
       "      <td>W</td>\n",
       "      <td>West (FRG)</td>\n",
       "      <td>OST</td>\n",
       "    </tr>\n",
       "  </tbody>\n",
       "</table>\n",
       "</div>"
      ],
      "text/plain": [
       "        Attribute Value     Meaning attribute_prefix\n",
       "2013  OST_WEST_KZ    -1     unknown              OST\n",
       "2014  OST_WEST_KZ     O  East (GDR)              OST\n",
       "2015  OST_WEST_KZ     W  West (FRG)              OST"
      ]
     },
     "metadata": {},
     "output_type": "display_data"
    },
    {
     "name": "stdout",
     "output_type": "stream",
     "text": [
      "MIN_GEBAEUDEJAHR\n"
     ]
    },
    {
     "data": {
      "text/html": [
       "<div>\n",
       "<style scoped>\n",
       "    .dataframe tbody tr th:only-of-type {\n",
       "        vertical-align: middle;\n",
       "    }\n",
       "\n",
       "    .dataframe tbody tr th {\n",
       "        vertical-align: top;\n",
       "    }\n",
       "\n",
       "    .dataframe thead th {\n",
       "        text-align: right;\n",
       "    }\n",
       "</style>\n",
       "<table border=\"1\" class=\"dataframe\">\n",
       "  <thead>\n",
       "    <tr style=\"text-align: right;\">\n",
       "      <th></th>\n",
       "      <th>Attribute</th>\n",
       "      <th>Value</th>\n",
       "      <th>Meaning</th>\n",
       "      <th>attribute_prefix</th>\n",
       "    </tr>\n",
       "  </thead>\n",
       "  <tbody>\n",
       "    <tr>\n",
       "      <th>1986</th>\n",
       "      <td>MIN_GEBAEUDEJAHR</td>\n",
       "      <td>…</td>\n",
       "      <td>numeric value</td>\n",
       "      <td>MIN</td>\n",
       "    </tr>\n",
       "  </tbody>\n",
       "</table>\n",
       "</div>"
      ],
      "text/plain": [
       "             Attribute Value        Meaning attribute_prefix\n",
       "1986  MIN_GEBAEUDEJAHR     …  numeric value              MIN"
      ]
     },
     "metadata": {},
     "output_type": "display_data"
    },
    {
     "name": "stdout",
     "output_type": "stream",
     "text": [
      "INNENSTADT\n"
     ]
    },
    {
     "data": {
      "text/html": [
       "<div>\n",
       "<style scoped>\n",
       "    .dataframe tbody tr th:only-of-type {\n",
       "        vertical-align: middle;\n",
       "    }\n",
       "\n",
       "    .dataframe tbody tr th {\n",
       "        vertical-align: top;\n",
       "    }\n",
       "\n",
       "    .dataframe thead th {\n",
       "        text-align: right;\n",
       "    }\n",
       "</style>\n",
       "<table border=\"1\" class=\"dataframe\">\n",
       "  <thead>\n",
       "    <tr style=\"text-align: right;\">\n",
       "      <th></th>\n",
       "      <th>Attribute</th>\n",
       "      <th>Value</th>\n",
       "      <th>Meaning</th>\n",
       "      <th>attribute_prefix</th>\n",
       "    </tr>\n",
       "  </thead>\n",
       "  <tbody>\n",
       "    <tr>\n",
       "      <th>756</th>\n",
       "      <td>INNENSTADT</td>\n",
       "      <td>-1</td>\n",
       "      <td>unknown</td>\n",
       "      <td>INNENSTADT</td>\n",
       "    </tr>\n",
       "    <tr>\n",
       "      <th>757</th>\n",
       "      <td>INNENSTADT</td>\n",
       "      <td>1</td>\n",
       "      <td>city centre</td>\n",
       "      <td>INNENSTADT</td>\n",
       "    </tr>\n",
       "    <tr>\n",
       "      <th>758</th>\n",
       "      <td>INNENSTADT</td>\n",
       "      <td>2</td>\n",
       "      <td>distance to the city centre 3 km</td>\n",
       "      <td>INNENSTADT</td>\n",
       "    </tr>\n",
       "    <tr>\n",
       "      <th>759</th>\n",
       "      <td>INNENSTADT</td>\n",
       "      <td>3</td>\n",
       "      <td>distance to the city centre 3-5 km</td>\n",
       "      <td>INNENSTADT</td>\n",
       "    </tr>\n",
       "    <tr>\n",
       "      <th>760</th>\n",
       "      <td>INNENSTADT</td>\n",
       "      <td>4</td>\n",
       "      <td>distance to the city centre 5-10 km</td>\n",
       "      <td>INNENSTADT</td>\n",
       "    </tr>\n",
       "    <tr>\n",
       "      <th>761</th>\n",
       "      <td>INNENSTADT</td>\n",
       "      <td>5</td>\n",
       "      <td>distance to the city centre 10-20 km</td>\n",
       "      <td>INNENSTADT</td>\n",
       "    </tr>\n",
       "    <tr>\n",
       "      <th>762</th>\n",
       "      <td>INNENSTADT</td>\n",
       "      <td>6</td>\n",
       "      <td>distance to the city centre 20-30 km</td>\n",
       "      <td>INNENSTADT</td>\n",
       "    </tr>\n",
       "    <tr>\n",
       "      <th>763</th>\n",
       "      <td>INNENSTADT</td>\n",
       "      <td>7</td>\n",
       "      <td>distance to the city centre 30-40 km</td>\n",
       "      <td>INNENSTADT</td>\n",
       "    </tr>\n",
       "    <tr>\n",
       "      <th>764</th>\n",
       "      <td>INNENSTADT</td>\n",
       "      <td>8</td>\n",
       "      <td>distance to the city centre &gt; 40 km</td>\n",
       "      <td>INNENSTADT</td>\n",
       "    </tr>\n",
       "  </tbody>\n",
       "</table>\n",
       "</div>"
      ],
      "text/plain": [
       "      Attribute Value                               Meaning attribute_prefix\n",
       "756  INNENSTADT    -1                               unknown       INNENSTADT\n",
       "757  INNENSTADT     1                           city centre       INNENSTADT\n",
       "758  INNENSTADT     2      distance to the city centre 3 km       INNENSTADT\n",
       "759  INNENSTADT     3    distance to the city centre 3-5 km       INNENSTADT\n",
       "760  INNENSTADT     4   distance to the city centre 5-10 km       INNENSTADT\n",
       "761  INNENSTADT     5  distance to the city centre 10-20 km       INNENSTADT\n",
       "762  INNENSTADT     6  distance to the city centre 20-30 km       INNENSTADT\n",
       "763  INNENSTADT     7  distance to the city centre 30-40 km       INNENSTADT\n",
       "764  INNENSTADT     8   distance to the city centre > 40 km       INNENSTADT"
      ]
     },
     "metadata": {},
     "output_type": "display_data"
    },
    {
     "name": "stdout",
     "output_type": "stream",
     "text": [
      "MOBI_REGIO\n"
     ]
    },
    {
     "data": {
      "text/html": [
       "<div>\n",
       "<style scoped>\n",
       "    .dataframe tbody tr th:only-of-type {\n",
       "        vertical-align: middle;\n",
       "    }\n",
       "\n",
       "    .dataframe tbody tr th {\n",
       "        vertical-align: top;\n",
       "    }\n",
       "\n",
       "    .dataframe thead th {\n",
       "        text-align: right;\n",
       "    }\n",
       "</style>\n",
       "<table border=\"1\" class=\"dataframe\">\n",
       "  <thead>\n",
       "    <tr style=\"text-align: right;\">\n",
       "      <th></th>\n",
       "      <th>Attribute</th>\n",
       "      <th>Value</th>\n",
       "      <th>Meaning</th>\n",
       "      <th>attribute_prefix</th>\n",
       "    </tr>\n",
       "  </thead>\n",
       "  <tbody>\n",
       "    <tr>\n",
       "      <th>1987</th>\n",
       "      <td>MOBI_REGIO</td>\n",
       "      <td>1</td>\n",
       "      <td>very high mobility</td>\n",
       "      <td>MOBI</td>\n",
       "    </tr>\n",
       "    <tr>\n",
       "      <th>1988</th>\n",
       "      <td>MOBI_REGIO</td>\n",
       "      <td>2</td>\n",
       "      <td>high mobility</td>\n",
       "      <td>MOBI</td>\n",
       "    </tr>\n",
       "    <tr>\n",
       "      <th>1989</th>\n",
       "      <td>MOBI_REGIO</td>\n",
       "      <td>3</td>\n",
       "      <td>middle mobility</td>\n",
       "      <td>MOBI</td>\n",
       "    </tr>\n",
       "    <tr>\n",
       "      <th>1990</th>\n",
       "      <td>MOBI_REGIO</td>\n",
       "      <td>4</td>\n",
       "      <td>low mobility</td>\n",
       "      <td>MOBI</td>\n",
       "    </tr>\n",
       "    <tr>\n",
       "      <th>1991</th>\n",
       "      <td>MOBI_REGIO</td>\n",
       "      <td>5</td>\n",
       "      <td>very low mobility</td>\n",
       "      <td>MOBI</td>\n",
       "    </tr>\n",
       "    <tr>\n",
       "      <th>1992</th>\n",
       "      <td>MOBI_REGIO</td>\n",
       "      <td>6</td>\n",
       "      <td>none</td>\n",
       "      <td>MOBI</td>\n",
       "    </tr>\n",
       "  </tbody>\n",
       "</table>\n",
       "</div>"
      ],
      "text/plain": [
       "       Attribute Value             Meaning attribute_prefix\n",
       "1987  MOBI_REGIO     1  very high mobility             MOBI\n",
       "1988  MOBI_REGIO     2       high mobility             MOBI\n",
       "1989  MOBI_REGIO     3     middle mobility             MOBI\n",
       "1990  MOBI_REGIO     4        low mobility             MOBI\n",
       "1991  MOBI_REGIO     5  very low mobility              MOBI\n",
       "1992  MOBI_REGIO     6                none             MOBI"
      ]
     },
     "metadata": {},
     "output_type": "display_data"
    },
    {
     "name": "stdout",
     "output_type": "stream",
     "text": [
      "GEBURTSJAHR\n"
     ]
    },
    {
     "data": {
      "text/html": [
       "<div>\n",
       "<style scoped>\n",
       "    .dataframe tbody tr th:only-of-type {\n",
       "        vertical-align: middle;\n",
       "    }\n",
       "\n",
       "    .dataframe tbody tr th {\n",
       "        vertical-align: top;\n",
       "    }\n",
       "\n",
       "    .dataframe thead th {\n",
       "        text-align: right;\n",
       "    }\n",
       "</style>\n",
       "<table border=\"1\" class=\"dataframe\">\n",
       "  <thead>\n",
       "    <tr style=\"text-align: right;\">\n",
       "      <th></th>\n",
       "      <th>Attribute</th>\n",
       "      <th>Value</th>\n",
       "      <th>Meaning</th>\n",
       "      <th>attribute_prefix</th>\n",
       "    </tr>\n",
       "  </thead>\n",
       "  <tbody>\n",
       "    <tr>\n",
       "      <th>711</th>\n",
       "      <td>GEBURTSJAHR</td>\n",
       "      <td>…</td>\n",
       "      <td>numeric value</td>\n",
       "      <td>GEBURTSJAHR</td>\n",
       "    </tr>\n",
       "  </tbody>\n",
       "</table>\n",
       "</div>"
      ],
      "text/plain": [
       "       Attribute Value        Meaning attribute_prefix\n",
       "711  GEBURTSJAHR     …  numeric value      GEBURTSJAHR"
      ]
     },
     "metadata": {},
     "output_type": "display_data"
    },
    {
     "name": "stdout",
     "output_type": "stream",
     "text": [
      "HH_EINKOMMEN_SCORE\n"
     ]
    },
    {
     "data": {
      "text/html": [
       "<div>\n",
       "<style scoped>\n",
       "    .dataframe tbody tr th:only-of-type {\n",
       "        vertical-align: middle;\n",
       "    }\n",
       "\n",
       "    .dataframe tbody tr th {\n",
       "        vertical-align: top;\n",
       "    }\n",
       "\n",
       "    .dataframe thead th {\n",
       "        text-align: right;\n",
       "    }\n",
       "</style>\n",
       "<table border=\"1\" class=\"dataframe\">\n",
       "  <thead>\n",
       "    <tr style=\"text-align: right;\">\n",
       "      <th></th>\n",
       "      <th>Attribute</th>\n",
       "      <th>Value</th>\n",
       "      <th>Meaning</th>\n",
       "      <th>attribute_prefix</th>\n",
       "    </tr>\n",
       "  </thead>\n",
       "  <tbody>\n",
       "    <tr>\n",
       "      <th>749</th>\n",
       "      <td>HH_EINKOMMEN_SCORE</td>\n",
       "      <td>-1, 0</td>\n",
       "      <td>unknown</td>\n",
       "      <td>HH</td>\n",
       "    </tr>\n",
       "    <tr>\n",
       "      <th>750</th>\n",
       "      <td>HH_EINKOMMEN_SCORE</td>\n",
       "      <td>1</td>\n",
       "      <td>highest income</td>\n",
       "      <td>HH</td>\n",
       "    </tr>\n",
       "    <tr>\n",
       "      <th>751</th>\n",
       "      <td>HH_EINKOMMEN_SCORE</td>\n",
       "      <td>2</td>\n",
       "      <td>very high income</td>\n",
       "      <td>HH</td>\n",
       "    </tr>\n",
       "    <tr>\n",
       "      <th>752</th>\n",
       "      <td>HH_EINKOMMEN_SCORE</td>\n",
       "      <td>3</td>\n",
       "      <td>high income</td>\n",
       "      <td>HH</td>\n",
       "    </tr>\n",
       "    <tr>\n",
       "      <th>753</th>\n",
       "      <td>HH_EINKOMMEN_SCORE</td>\n",
       "      <td>4</td>\n",
       "      <td>average income</td>\n",
       "      <td>HH</td>\n",
       "    </tr>\n",
       "    <tr>\n",
       "      <th>754</th>\n",
       "      <td>HH_EINKOMMEN_SCORE</td>\n",
       "      <td>5</td>\n",
       "      <td>lower income</td>\n",
       "      <td>HH</td>\n",
       "    </tr>\n",
       "    <tr>\n",
       "      <th>755</th>\n",
       "      <td>HH_EINKOMMEN_SCORE</td>\n",
       "      <td>6</td>\n",
       "      <td>very low income</td>\n",
       "      <td>HH</td>\n",
       "    </tr>\n",
       "  </tbody>\n",
       "</table>\n",
       "</div>"
      ],
      "text/plain": [
       "              Attribute  Value           Meaning attribute_prefix\n",
       "749  HH_EINKOMMEN_SCORE  -1, 0           unknown               HH\n",
       "750  HH_EINKOMMEN_SCORE      1    highest income               HH\n",
       "751  HH_EINKOMMEN_SCORE      2  very high income               HH\n",
       "752  HH_EINKOMMEN_SCORE      3       high income               HH\n",
       "753  HH_EINKOMMEN_SCORE      4    average income               HH\n",
       "754  HH_EINKOMMEN_SCORE      5      lower income               HH\n",
       "755  HH_EINKOMMEN_SCORE      6   very low income               HH"
      ]
     },
     "metadata": {},
     "output_type": "display_data"
    },
    {
     "name": "stdout",
     "output_type": "stream",
     "text": [
      "WOHNDAUER_2008\n"
     ]
    },
    {
     "data": {
      "text/html": [
       "<div>\n",
       "<style scoped>\n",
       "    .dataframe tbody tr th:only-of-type {\n",
       "        vertical-align: middle;\n",
       "    }\n",
       "\n",
       "    .dataframe tbody tr th {\n",
       "        vertical-align: top;\n",
       "    }\n",
       "\n",
       "    .dataframe thead th {\n",
       "        text-align: right;\n",
       "    }\n",
       "</style>\n",
       "<table border=\"1\" class=\"dataframe\">\n",
       "  <thead>\n",
       "    <tr style=\"text-align: right;\">\n",
       "      <th></th>\n",
       "      <th>Attribute</th>\n",
       "      <th>Value</th>\n",
       "      <th>Meaning</th>\n",
       "      <th>attribute_prefix</th>\n",
       "    </tr>\n",
       "  </thead>\n",
       "  <tbody>\n",
       "    <tr>\n",
       "      <th>2219</th>\n",
       "      <td>WOHNDAUER_2008</td>\n",
       "      <td>-1, 0</td>\n",
       "      <td>unknown</td>\n",
       "      <td>WOHNDAUER</td>\n",
       "    </tr>\n",
       "    <tr>\n",
       "      <th>2220</th>\n",
       "      <td>WOHNDAUER_2008</td>\n",
       "      <td>1</td>\n",
       "      <td>length of residence below 1 year</td>\n",
       "      <td>WOHNDAUER</td>\n",
       "    </tr>\n",
       "    <tr>\n",
       "      <th>2221</th>\n",
       "      <td>WOHNDAUER_2008</td>\n",
       "      <td>2</td>\n",
       "      <td>length of residence 1-2 years</td>\n",
       "      <td>WOHNDAUER</td>\n",
       "    </tr>\n",
       "    <tr>\n",
       "      <th>2222</th>\n",
       "      <td>WOHNDAUER_2008</td>\n",
       "      <td>3</td>\n",
       "      <td>length of residence 2-3 years</td>\n",
       "      <td>WOHNDAUER</td>\n",
       "    </tr>\n",
       "    <tr>\n",
       "      <th>2223</th>\n",
       "      <td>WOHNDAUER_2008</td>\n",
       "      <td>4</td>\n",
       "      <td>length of residence 3-4 years</td>\n",
       "      <td>WOHNDAUER</td>\n",
       "    </tr>\n",
       "    <tr>\n",
       "      <th>2224</th>\n",
       "      <td>WOHNDAUER_2008</td>\n",
       "      <td>5</td>\n",
       "      <td>length of residence 4-5 years</td>\n",
       "      <td>WOHNDAUER</td>\n",
       "    </tr>\n",
       "    <tr>\n",
       "      <th>2225</th>\n",
       "      <td>WOHNDAUER_2008</td>\n",
       "      <td>6</td>\n",
       "      <td>length of residence 5-6 years</td>\n",
       "      <td>WOHNDAUER</td>\n",
       "    </tr>\n",
       "    <tr>\n",
       "      <th>2226</th>\n",
       "      <td>WOHNDAUER_2008</td>\n",
       "      <td>7</td>\n",
       "      <td>length of residence 6-7 years</td>\n",
       "      <td>WOHNDAUER</td>\n",
       "    </tr>\n",
       "    <tr>\n",
       "      <th>2227</th>\n",
       "      <td>WOHNDAUER_2008</td>\n",
       "      <td>8</td>\n",
       "      <td>length of residence 7-10 years</td>\n",
       "      <td>WOHNDAUER</td>\n",
       "    </tr>\n",
       "    <tr>\n",
       "      <th>2228</th>\n",
       "      <td>WOHNDAUER_2008</td>\n",
       "      <td>9</td>\n",
       "      <td>length of residence more than 10 years</td>\n",
       "      <td>WOHNDAUER</td>\n",
       "    </tr>\n",
       "  </tbody>\n",
       "</table>\n",
       "</div>"
      ],
      "text/plain": [
       "           Attribute  Value                                 Meaning  \\\n",
       "2219  WOHNDAUER_2008  -1, 0                                 unknown   \n",
       "2220  WOHNDAUER_2008      1        length of residence below 1 year   \n",
       "2221  WOHNDAUER_2008      2           length of residence 1-2 years   \n",
       "2222  WOHNDAUER_2008      3           length of residence 2-3 years   \n",
       "2223  WOHNDAUER_2008      4           length of residence 3-4 years   \n",
       "2224  WOHNDAUER_2008      5           length of residence 4-5 years   \n",
       "2225  WOHNDAUER_2008      6           length of residence 5-6 years   \n",
       "2226  WOHNDAUER_2008      7           length of residence 6-7 years   \n",
       "2227  WOHNDAUER_2008      8          length of residence 7-10 years   \n",
       "2228  WOHNDAUER_2008      9  length of residence more than 10 years   \n",
       "\n",
       "     attribute_prefix  \n",
       "2219        WOHNDAUER  \n",
       "2220        WOHNDAUER  \n",
       "2221        WOHNDAUER  \n",
       "2222        WOHNDAUER  \n",
       "2223        WOHNDAUER  \n",
       "2224        WOHNDAUER  \n",
       "2225        WOHNDAUER  \n",
       "2226        WOHNDAUER  \n",
       "2227        WOHNDAUER  \n",
       "2228        WOHNDAUER  "
      ]
     },
     "metadata": {},
     "output_type": "display_data"
    },
    {
     "name": "stdout",
     "output_type": "stream",
     "text": [
      "ALTER_HH\n"
     ]
    },
    {
     "data": {
      "text/html": [
       "<div>\n",
       "<style scoped>\n",
       "    .dataframe tbody tr th:only-of-type {\n",
       "        vertical-align: middle;\n",
       "    }\n",
       "\n",
       "    .dataframe tbody tr th {\n",
       "        vertical-align: top;\n",
       "    }\n",
       "\n",
       "    .dataframe thead th {\n",
       "        text-align: right;\n",
       "    }\n",
       "</style>\n",
       "<table border=\"1\" class=\"dataframe\">\n",
       "  <thead>\n",
       "    <tr style=\"text-align: right;\">\n",
       "      <th></th>\n",
       "      <th>Attribute</th>\n",
       "      <th>Value</th>\n",
       "      <th>Meaning</th>\n",
       "      <th>attribute_prefix</th>\n",
       "    </tr>\n",
       "  </thead>\n",
       "  <tbody>\n",
       "    <tr>\n",
       "      <th>11</th>\n",
       "      <td>ALTER_HH</td>\n",
       "      <td>0</td>\n",
       "      <td>unknown / no main age detectable</td>\n",
       "      <td>ALTER</td>\n",
       "    </tr>\n",
       "    <tr>\n",
       "      <th>12</th>\n",
       "      <td>ALTER_HH</td>\n",
       "      <td>1</td>\n",
       "      <td>01.01.1895 bis 31.12.1899</td>\n",
       "      <td>ALTER</td>\n",
       "    </tr>\n",
       "    <tr>\n",
       "      <th>13</th>\n",
       "      <td>ALTER_HH</td>\n",
       "      <td>2</td>\n",
       "      <td>01.01.1900 bis 31.12.1904</td>\n",
       "      <td>ALTER</td>\n",
       "    </tr>\n",
       "    <tr>\n",
       "      <th>14</th>\n",
       "      <td>ALTER_HH</td>\n",
       "      <td>3</td>\n",
       "      <td>01.01.1905 bis 31.12.1909</td>\n",
       "      <td>ALTER</td>\n",
       "    </tr>\n",
       "    <tr>\n",
       "      <th>15</th>\n",
       "      <td>ALTER_HH</td>\n",
       "      <td>4</td>\n",
       "      <td>01.01.1910 bis 31.12.1914</td>\n",
       "      <td>ALTER</td>\n",
       "    </tr>\n",
       "    <tr>\n",
       "      <th>16</th>\n",
       "      <td>ALTER_HH</td>\n",
       "      <td>5</td>\n",
       "      <td>01.01.1915 bis 31.12.1919</td>\n",
       "      <td>ALTER</td>\n",
       "    </tr>\n",
       "    <tr>\n",
       "      <th>17</th>\n",
       "      <td>ALTER_HH</td>\n",
       "      <td>6</td>\n",
       "      <td>01.01.1920 bis 31.12.1924</td>\n",
       "      <td>ALTER</td>\n",
       "    </tr>\n",
       "    <tr>\n",
       "      <th>18</th>\n",
       "      <td>ALTER_HH</td>\n",
       "      <td>7</td>\n",
       "      <td>01.01.1925 bis 31.12.1929</td>\n",
       "      <td>ALTER</td>\n",
       "    </tr>\n",
       "    <tr>\n",
       "      <th>19</th>\n",
       "      <td>ALTER_HH</td>\n",
       "      <td>8</td>\n",
       "      <td>01.01.1930 bis 31.12.1934</td>\n",
       "      <td>ALTER</td>\n",
       "    </tr>\n",
       "    <tr>\n",
       "      <th>20</th>\n",
       "      <td>ALTER_HH</td>\n",
       "      <td>9</td>\n",
       "      <td>01.01.1935 bis 31.12.1939</td>\n",
       "      <td>ALTER</td>\n",
       "    </tr>\n",
       "    <tr>\n",
       "      <th>21</th>\n",
       "      <td>ALTER_HH</td>\n",
       "      <td>10</td>\n",
       "      <td>01.01.1940 bis 31.12.1944</td>\n",
       "      <td>ALTER</td>\n",
       "    </tr>\n",
       "    <tr>\n",
       "      <th>22</th>\n",
       "      <td>ALTER_HH</td>\n",
       "      <td>11</td>\n",
       "      <td>01.01.1945 bis 31.12.1949</td>\n",
       "      <td>ALTER</td>\n",
       "    </tr>\n",
       "    <tr>\n",
       "      <th>23</th>\n",
       "      <td>ALTER_HH</td>\n",
       "      <td>12</td>\n",
       "      <td>01.01.1950 bis 31.12.1954</td>\n",
       "      <td>ALTER</td>\n",
       "    </tr>\n",
       "    <tr>\n",
       "      <th>24</th>\n",
       "      <td>ALTER_HH</td>\n",
       "      <td>13</td>\n",
       "      <td>01.01.1955 bis 31.12.1959</td>\n",
       "      <td>ALTER</td>\n",
       "    </tr>\n",
       "    <tr>\n",
       "      <th>25</th>\n",
       "      <td>ALTER_HH</td>\n",
       "      <td>14</td>\n",
       "      <td>01.01.1960 bis 31.12.1964</td>\n",
       "      <td>ALTER</td>\n",
       "    </tr>\n",
       "    <tr>\n",
       "      <th>26</th>\n",
       "      <td>ALTER_HH</td>\n",
       "      <td>15</td>\n",
       "      <td>01.01.1965 bis 31.12.1969</td>\n",
       "      <td>ALTER</td>\n",
       "    </tr>\n",
       "    <tr>\n",
       "      <th>27</th>\n",
       "      <td>ALTER_HH</td>\n",
       "      <td>16</td>\n",
       "      <td>01.01.1970 bis 31.12.1974</td>\n",
       "      <td>ALTER</td>\n",
       "    </tr>\n",
       "    <tr>\n",
       "      <th>28</th>\n",
       "      <td>ALTER_HH</td>\n",
       "      <td>17</td>\n",
       "      <td>01.01.1975 bis 31.12.1979</td>\n",
       "      <td>ALTER</td>\n",
       "    </tr>\n",
       "    <tr>\n",
       "      <th>29</th>\n",
       "      <td>ALTER_HH</td>\n",
       "      <td>18</td>\n",
       "      <td>01.01.1980 bis 31.12.1984</td>\n",
       "      <td>ALTER</td>\n",
       "    </tr>\n",
       "    <tr>\n",
       "      <th>30</th>\n",
       "      <td>ALTER_HH</td>\n",
       "      <td>19</td>\n",
       "      <td>01.01.1985 bis 31.12.1989</td>\n",
       "      <td>ALTER</td>\n",
       "    </tr>\n",
       "    <tr>\n",
       "      <th>31</th>\n",
       "      <td>ALTER_HH</td>\n",
       "      <td>20</td>\n",
       "      <td>01.01.1990 bis 31.12.1994</td>\n",
       "      <td>ALTER</td>\n",
       "    </tr>\n",
       "    <tr>\n",
       "      <th>32</th>\n",
       "      <td>ALTER_HH</td>\n",
       "      <td>21</td>\n",
       "      <td>01.01.1995 bis 31.12.1999</td>\n",
       "      <td>ALTER</td>\n",
       "    </tr>\n",
       "  </tbody>\n",
       "</table>\n",
       "</div>"
      ],
      "text/plain": [
       "   Attribute Value                           Meaning attribute_prefix\n",
       "11  ALTER_HH     0  unknown / no main age detectable            ALTER\n",
       "12  ALTER_HH     1         01.01.1895 bis 31.12.1899            ALTER\n",
       "13  ALTER_HH     2         01.01.1900 bis 31.12.1904            ALTER\n",
       "14  ALTER_HH     3         01.01.1905 bis 31.12.1909            ALTER\n",
       "15  ALTER_HH     4         01.01.1910 bis 31.12.1914            ALTER\n",
       "16  ALTER_HH     5         01.01.1915 bis 31.12.1919            ALTER\n",
       "17  ALTER_HH     6         01.01.1920 bis 31.12.1924            ALTER\n",
       "18  ALTER_HH     7         01.01.1925 bis 31.12.1929            ALTER\n",
       "19  ALTER_HH     8         01.01.1930 bis 31.12.1934            ALTER\n",
       "20  ALTER_HH     9         01.01.1935 bis 31.12.1939            ALTER\n",
       "21  ALTER_HH    10         01.01.1940 bis 31.12.1944            ALTER\n",
       "22  ALTER_HH    11         01.01.1945 bis 31.12.1949            ALTER\n",
       "23  ALTER_HH    12         01.01.1950 bis 31.12.1954            ALTER\n",
       "24  ALTER_HH    13         01.01.1955 bis 31.12.1959            ALTER\n",
       "25  ALTER_HH    14         01.01.1960 bis 31.12.1964            ALTER\n",
       "26  ALTER_HH    15         01.01.1965 bis 31.12.1969            ALTER\n",
       "27  ALTER_HH    16         01.01.1970 bis 31.12.1974            ALTER\n",
       "28  ALTER_HH    17         01.01.1975 bis 31.12.1979            ALTER\n",
       "29  ALTER_HH    18         01.01.1980 bis 31.12.1984            ALTER\n",
       "30  ALTER_HH    19         01.01.1985 bis 31.12.1989            ALTER\n",
       "31  ALTER_HH    20         01.01.1990 bis 31.12.1994            ALTER\n",
       "32  ALTER_HH    21         01.01.1995 bis 31.12.1999            ALTER"
      ]
     },
     "metadata": {},
     "output_type": "display_data"
    },
    {
     "name": "stdout",
     "output_type": "stream",
     "text": [
      "TITEL_KZ\n"
     ]
    },
    {
     "data": {
      "text/html": [
       "<div>\n",
       "<style scoped>\n",
       "    .dataframe tbody tr th:only-of-type {\n",
       "        vertical-align: middle;\n",
       "    }\n",
       "\n",
       "    .dataframe tbody tr th {\n",
       "        vertical-align: top;\n",
       "    }\n",
       "\n",
       "    .dataframe thead th {\n",
       "        text-align: right;\n",
       "    }\n",
       "</style>\n",
       "<table border=\"1\" class=\"dataframe\">\n",
       "  <thead>\n",
       "    <tr style=\"text-align: right;\">\n",
       "      <th></th>\n",
       "      <th>Attribute</th>\n",
       "      <th>Value</th>\n",
       "      <th>Meaning</th>\n",
       "      <th>attribute_prefix</th>\n",
       "    </tr>\n",
       "  </thead>\n",
       "  <tbody>\n",
       "    <tr>\n",
       "      <th>2210</th>\n",
       "      <td>TITEL_KZ</td>\n",
       "      <td>-1, 0</td>\n",
       "      <td>unknown</td>\n",
       "      <td>TITEL</td>\n",
       "    </tr>\n",
       "    <tr>\n",
       "      <th>2211</th>\n",
       "      <td>TITEL_KZ</td>\n",
       "      <td>1</td>\n",
       "      <td>Dr.</td>\n",
       "      <td>TITEL</td>\n",
       "    </tr>\n",
       "    <tr>\n",
       "      <th>2212</th>\n",
       "      <td>TITEL_KZ</td>\n",
       "      <td>2</td>\n",
       "      <td>Dr. Dr.</td>\n",
       "      <td>TITEL</td>\n",
       "    </tr>\n",
       "    <tr>\n",
       "      <th>2213</th>\n",
       "      <td>TITEL_KZ</td>\n",
       "      <td>3</td>\n",
       "      <td>Prof.</td>\n",
       "      <td>TITEL</td>\n",
       "    </tr>\n",
       "    <tr>\n",
       "      <th>2214</th>\n",
       "      <td>TITEL_KZ</td>\n",
       "      <td>4</td>\n",
       "      <td>Prof. Dr.</td>\n",
       "      <td>TITEL</td>\n",
       "    </tr>\n",
       "    <tr>\n",
       "      <th>2215</th>\n",
       "      <td>TITEL_KZ</td>\n",
       "      <td>5</td>\n",
       "      <td>other</td>\n",
       "      <td>TITEL</td>\n",
       "    </tr>\n",
       "  </tbody>\n",
       "</table>\n",
       "</div>"
      ],
      "text/plain": [
       "     Attribute  Value    Meaning attribute_prefix\n",
       "2210  TITEL_KZ  -1, 0    unknown            TITEL\n",
       "2211  TITEL_KZ      1        Dr.            TITEL\n",
       "2212  TITEL_KZ      2    Dr. Dr.            TITEL\n",
       "2213  TITEL_KZ      3      Prof.            TITEL\n",
       "2214  TITEL_KZ      4  Prof. Dr.            TITEL\n",
       "2215  TITEL_KZ      5      other            TITEL"
      ]
     },
     "metadata": {},
     "output_type": "display_data"
    },
    {
     "name": "stdout",
     "output_type": "stream",
     "text": [
      "ORTSGR_KLS9\n"
     ]
    },
    {
     "data": {
      "text/html": [
       "<div>\n",
       "<style scoped>\n",
       "    .dataframe tbody tr th:only-of-type {\n",
       "        vertical-align: middle;\n",
       "    }\n",
       "\n",
       "    .dataframe tbody tr th {\n",
       "        vertical-align: top;\n",
       "    }\n",
       "\n",
       "    .dataframe thead th {\n",
       "        text-align: right;\n",
       "    }\n",
       "</style>\n",
       "<table border=\"1\" class=\"dataframe\">\n",
       "  <thead>\n",
       "    <tr style=\"text-align: right;\">\n",
       "      <th></th>\n",
       "      <th>Attribute</th>\n",
       "      <th>Value</th>\n",
       "      <th>Meaning</th>\n",
       "      <th>attribute_prefix</th>\n",
       "    </tr>\n",
       "  </thead>\n",
       "  <tbody>\n",
       "    <tr>\n",
       "      <th>2003</th>\n",
       "      <td>ORTSGR_KLS9</td>\n",
       "      <td>-1</td>\n",
       "      <td>unknown</td>\n",
       "      <td>ORTSGR</td>\n",
       "    </tr>\n",
       "    <tr>\n",
       "      <th>2004</th>\n",
       "      <td>ORTSGR_KLS9</td>\n",
       "      <td>1</td>\n",
       "      <td>&lt;= 2.000 inhabitants</td>\n",
       "      <td>ORTSGR</td>\n",
       "    </tr>\n",
       "    <tr>\n",
       "      <th>2005</th>\n",
       "      <td>ORTSGR_KLS9</td>\n",
       "      <td>2</td>\n",
       "      <td>2.001 to 5.000 inhabitants</td>\n",
       "      <td>ORTSGR</td>\n",
       "    </tr>\n",
       "    <tr>\n",
       "      <th>2006</th>\n",
       "      <td>ORTSGR_KLS9</td>\n",
       "      <td>3</td>\n",
       "      <td>5.001 to 10.000 inhabitants</td>\n",
       "      <td>ORTSGR</td>\n",
       "    </tr>\n",
       "    <tr>\n",
       "      <th>2007</th>\n",
       "      <td>ORTSGR_KLS9</td>\n",
       "      <td>4</td>\n",
       "      <td>10.001 to 20.000 inhabitants</td>\n",
       "      <td>ORTSGR</td>\n",
       "    </tr>\n",
       "    <tr>\n",
       "      <th>2008</th>\n",
       "      <td>ORTSGR_KLS9</td>\n",
       "      <td>5</td>\n",
       "      <td>20.001 to 50.000 inhabitants</td>\n",
       "      <td>ORTSGR</td>\n",
       "    </tr>\n",
       "    <tr>\n",
       "      <th>2009</th>\n",
       "      <td>ORTSGR_KLS9</td>\n",
       "      <td>6</td>\n",
       "      <td>50.001 to 100.000 inhabitants</td>\n",
       "      <td>ORTSGR</td>\n",
       "    </tr>\n",
       "    <tr>\n",
       "      <th>2010</th>\n",
       "      <td>ORTSGR_KLS9</td>\n",
       "      <td>7</td>\n",
       "      <td>100.001 to 300.000 inhabitants</td>\n",
       "      <td>ORTSGR</td>\n",
       "    </tr>\n",
       "    <tr>\n",
       "      <th>2011</th>\n",
       "      <td>ORTSGR_KLS9</td>\n",
       "      <td>8</td>\n",
       "      <td>300.001 to 700.000 inhabitants</td>\n",
       "      <td>ORTSGR</td>\n",
       "    </tr>\n",
       "    <tr>\n",
       "      <th>2012</th>\n",
       "      <td>ORTSGR_KLS9</td>\n",
       "      <td>9</td>\n",
       "      <td>&gt; 700.000  inhabitants</td>\n",
       "      <td>ORTSGR</td>\n",
       "    </tr>\n",
       "  </tbody>\n",
       "</table>\n",
       "</div>"
      ],
      "text/plain": [
       "        Attribute Value                         Meaning attribute_prefix\n",
       "2003  ORTSGR_KLS9    -1                         unknown           ORTSGR\n",
       "2004  ORTSGR_KLS9     1            <= 2.000 inhabitants           ORTSGR\n",
       "2005  ORTSGR_KLS9     2      2.001 to 5.000 inhabitants           ORTSGR\n",
       "2006  ORTSGR_KLS9     3     5.001 to 10.000 inhabitants           ORTSGR\n",
       "2007  ORTSGR_KLS9     4    10.001 to 20.000 inhabitants           ORTSGR\n",
       "2008  ORTSGR_KLS9     5    20.001 to 50.000 inhabitants           ORTSGR\n",
       "2009  ORTSGR_KLS9     6   50.001 to 100.000 inhabitants           ORTSGR\n",
       "2010  ORTSGR_KLS9     7  100.001 to 300.000 inhabitants           ORTSGR\n",
       "2011  ORTSGR_KLS9     8  300.001 to 700.000 inhabitants           ORTSGR\n",
       "2012  ORTSGR_KLS9     9          > 700.000  inhabitants           ORTSGR"
      ]
     },
     "metadata": {},
     "output_type": "display_data"
    },
    {
     "name": "stdout",
     "output_type": "stream",
     "text": [
      "WOHNLAGE\n"
     ]
    },
    {
     "data": {
      "text/html": [
       "<div>\n",
       "<style scoped>\n",
       "    .dataframe tbody tr th:only-of-type {\n",
       "        vertical-align: middle;\n",
       "    }\n",
       "\n",
       "    .dataframe tbody tr th {\n",
       "        vertical-align: top;\n",
       "    }\n",
       "\n",
       "    .dataframe thead th {\n",
       "        text-align: right;\n",
       "    }\n",
       "</style>\n",
       "<table border=\"1\" class=\"dataframe\">\n",
       "  <thead>\n",
       "    <tr style=\"text-align: right;\">\n",
       "      <th></th>\n",
       "      <th>Attribute</th>\n",
       "      <th>Value</th>\n",
       "      <th>Meaning</th>\n",
       "      <th>attribute_prefix</th>\n",
       "    </tr>\n",
       "  </thead>\n",
       "  <tbody>\n",
       "    <tr>\n",
       "      <th>2229</th>\n",
       "      <td>WOHNLAGE</td>\n",
       "      <td>-1</td>\n",
       "      <td>unknown</td>\n",
       "      <td>WOHNLAGE</td>\n",
       "    </tr>\n",
       "    <tr>\n",
       "      <th>2230</th>\n",
       "      <td>WOHNLAGE</td>\n",
       "      <td>0</td>\n",
       "      <td>no score calculated</td>\n",
       "      <td>WOHNLAGE</td>\n",
       "    </tr>\n",
       "    <tr>\n",
       "      <th>2231</th>\n",
       "      <td>WOHNLAGE</td>\n",
       "      <td>1</td>\n",
       "      <td>very good neighbourhood</td>\n",
       "      <td>WOHNLAGE</td>\n",
       "    </tr>\n",
       "    <tr>\n",
       "      <th>2232</th>\n",
       "      <td>WOHNLAGE</td>\n",
       "      <td>2</td>\n",
       "      <td>good neighbourhood</td>\n",
       "      <td>WOHNLAGE</td>\n",
       "    </tr>\n",
       "    <tr>\n",
       "      <th>2233</th>\n",
       "      <td>WOHNLAGE</td>\n",
       "      <td>3</td>\n",
       "      <td>average neighbourhood</td>\n",
       "      <td>WOHNLAGE</td>\n",
       "    </tr>\n",
       "    <tr>\n",
       "      <th>2234</th>\n",
       "      <td>WOHNLAGE</td>\n",
       "      <td>4</td>\n",
       "      <td>poor neighbourhood</td>\n",
       "      <td>WOHNLAGE</td>\n",
       "    </tr>\n",
       "    <tr>\n",
       "      <th>2235</th>\n",
       "      <td>WOHNLAGE</td>\n",
       "      <td>5</td>\n",
       "      <td>very poor neighbourhood</td>\n",
       "      <td>WOHNLAGE</td>\n",
       "    </tr>\n",
       "    <tr>\n",
       "      <th>2236</th>\n",
       "      <td>WOHNLAGE</td>\n",
       "      <td>7</td>\n",
       "      <td>rural neighbourhood</td>\n",
       "      <td>WOHNLAGE</td>\n",
       "    </tr>\n",
       "    <tr>\n",
       "      <th>2237</th>\n",
       "      <td>WOHNLAGE</td>\n",
       "      <td>8</td>\n",
       "      <td>new building in rural neighbourhood</td>\n",
       "      <td>WOHNLAGE</td>\n",
       "    </tr>\n",
       "  </tbody>\n",
       "</table>\n",
       "</div>"
      ],
      "text/plain": [
       "     Attribute Value                              Meaning attribute_prefix\n",
       "2229  WOHNLAGE    -1                              unknown         WOHNLAGE\n",
       "2230  WOHNLAGE     0                  no score calculated         WOHNLAGE\n",
       "2231  WOHNLAGE     1              very good neighbourhood         WOHNLAGE\n",
       "2232  WOHNLAGE     2                   good neighbourhood         WOHNLAGE\n",
       "2233  WOHNLAGE     3                average neighbourhood         WOHNLAGE\n",
       "2234  WOHNLAGE     4                   poor neighbourhood         WOHNLAGE\n",
       "2235  WOHNLAGE     5              very poor neighbourhood         WOHNLAGE\n",
       "2236  WOHNLAGE     7                  rural neighbourhood         WOHNLAGE\n",
       "2237  WOHNLAGE     8  new building in rural neighbourhood         WOHNLAGE"
      ]
     },
     "metadata": {},
     "output_type": "display_data"
    },
    {
     "name": "stdout",
     "output_type": "stream",
     "text": [
      "ANREDE_KZ\n"
     ]
    },
    {
     "data": {
      "text/html": [
       "<div>\n",
       "<style scoped>\n",
       "    .dataframe tbody tr th:only-of-type {\n",
       "        vertical-align: middle;\n",
       "    }\n",
       "\n",
       "    .dataframe tbody tr th {\n",
       "        vertical-align: top;\n",
       "    }\n",
       "\n",
       "    .dataframe thead th {\n",
       "        text-align: right;\n",
       "    }\n",
       "</style>\n",
       "<table border=\"1\" class=\"dataframe\">\n",
       "  <thead>\n",
       "    <tr style=\"text-align: right;\">\n",
       "      <th></th>\n",
       "      <th>Attribute</th>\n",
       "      <th>Value</th>\n",
       "      <th>Meaning</th>\n",
       "      <th>attribute_prefix</th>\n",
       "    </tr>\n",
       "  </thead>\n",
       "  <tbody>\n",
       "    <tr>\n",
       "      <th>33</th>\n",
       "      <td>ANREDE_KZ</td>\n",
       "      <td>-1, 0</td>\n",
       "      <td>unknown</td>\n",
       "      <td>ANREDE</td>\n",
       "    </tr>\n",
       "    <tr>\n",
       "      <th>34</th>\n",
       "      <td>ANREDE_KZ</td>\n",
       "      <td>1</td>\n",
       "      <td>male</td>\n",
       "      <td>ANREDE</td>\n",
       "    </tr>\n",
       "    <tr>\n",
       "      <th>35</th>\n",
       "      <td>ANREDE_KZ</td>\n",
       "      <td>2</td>\n",
       "      <td>female</td>\n",
       "      <td>ANREDE</td>\n",
       "    </tr>\n",
       "  </tbody>\n",
       "</table>\n",
       "</div>"
      ],
      "text/plain": [
       "    Attribute  Value  Meaning attribute_prefix\n",
       "33  ANREDE_KZ  -1, 0  unknown           ANREDE\n",
       "34  ANREDE_KZ      1     male           ANREDE\n",
       "35  ANREDE_KZ      2   female           ANREDE"
      ]
     },
     "metadata": {},
     "output_type": "display_data"
    },
    {
     "name": "stdout",
     "output_type": "stream",
     "text": [
      "ALTERSKATEGORIE_GROB\n"
     ]
    },
    {
     "data": {
      "text/html": [
       "<div>\n",
       "<style scoped>\n",
       "    .dataframe tbody tr th:only-of-type {\n",
       "        vertical-align: middle;\n",
       "    }\n",
       "\n",
       "    .dataframe tbody tr th {\n",
       "        vertical-align: top;\n",
       "    }\n",
       "\n",
       "    .dataframe thead th {\n",
       "        text-align: right;\n",
       "    }\n",
       "</style>\n",
       "<table border=\"1\" class=\"dataframe\">\n",
       "  <thead>\n",
       "    <tr style=\"text-align: right;\">\n",
       "      <th></th>\n",
       "      <th>Attribute</th>\n",
       "      <th>Value</th>\n",
       "      <th>Meaning</th>\n",
       "      <th>attribute_prefix</th>\n",
       "    </tr>\n",
       "  </thead>\n",
       "  <tbody>\n",
       "    <tr>\n",
       "      <th>5</th>\n",
       "      <td>ALTERSKATEGORIE_GROB</td>\n",
       "      <td>-1, 0</td>\n",
       "      <td>unknown</td>\n",
       "      <td>ALTERSKATEGORIE</td>\n",
       "    </tr>\n",
       "    <tr>\n",
       "      <th>6</th>\n",
       "      <td>ALTERSKATEGORIE_GROB</td>\n",
       "      <td>1</td>\n",
       "      <td>&lt; 30 years</td>\n",
       "      <td>ALTERSKATEGORIE</td>\n",
       "    </tr>\n",
       "    <tr>\n",
       "      <th>7</th>\n",
       "      <td>ALTERSKATEGORIE_GROB</td>\n",
       "      <td>2</td>\n",
       "      <td>30 - 45 years</td>\n",
       "      <td>ALTERSKATEGORIE</td>\n",
       "    </tr>\n",
       "    <tr>\n",
       "      <th>8</th>\n",
       "      <td>ALTERSKATEGORIE_GROB</td>\n",
       "      <td>3</td>\n",
       "      <td>46 - 60 years</td>\n",
       "      <td>ALTERSKATEGORIE</td>\n",
       "    </tr>\n",
       "    <tr>\n",
       "      <th>9</th>\n",
       "      <td>ALTERSKATEGORIE_GROB</td>\n",
       "      <td>4</td>\n",
       "      <td>&gt; 60 years</td>\n",
       "      <td>ALTERSKATEGORIE</td>\n",
       "    </tr>\n",
       "    <tr>\n",
       "      <th>10</th>\n",
       "      <td>ALTERSKATEGORIE_GROB</td>\n",
       "      <td>9</td>\n",
       "      <td>uniformly distributed</td>\n",
       "      <td>ALTERSKATEGORIE</td>\n",
       "    </tr>\n",
       "  </tbody>\n",
       "</table>\n",
       "</div>"
      ],
      "text/plain": [
       "               Attribute  Value                Meaning attribute_prefix\n",
       "5   ALTERSKATEGORIE_GROB  -1, 0                unknown  ALTERSKATEGORIE\n",
       "6   ALTERSKATEGORIE_GROB      1             < 30 years  ALTERSKATEGORIE\n",
       "7   ALTERSKATEGORIE_GROB      2          30 - 45 years  ALTERSKATEGORIE\n",
       "8   ALTERSKATEGORIE_GROB      3          46 - 60 years  ALTERSKATEGORIE\n",
       "9   ALTERSKATEGORIE_GROB      4             > 60 years  ALTERSKATEGORIE\n",
       "10  ALTERSKATEGORIE_GROB      9  uniformly distributed  ALTERSKATEGORIE"
      ]
     },
     "metadata": {},
     "output_type": "display_data"
    },
    {
     "name": "stdout",
     "output_type": "stream",
     "text": [
      "ONLINE_AFFINITAET\n"
     ]
    },
    {
     "data": {
      "text/html": [
       "<div>\n",
       "<style scoped>\n",
       "    .dataframe tbody tr th:only-of-type {\n",
       "        vertical-align: middle;\n",
       "    }\n",
       "\n",
       "    .dataframe tbody tr th {\n",
       "        vertical-align: top;\n",
       "    }\n",
       "\n",
       "    .dataframe thead th {\n",
       "        text-align: right;\n",
       "    }\n",
       "</style>\n",
       "<table border=\"1\" class=\"dataframe\">\n",
       "  <thead>\n",
       "    <tr style=\"text-align: right;\">\n",
       "      <th></th>\n",
       "      <th>Attribute</th>\n",
       "      <th>Value</th>\n",
       "      <th>Meaning</th>\n",
       "      <th>attribute_prefix</th>\n",
       "    </tr>\n",
       "  </thead>\n",
       "  <tbody>\n",
       "    <tr>\n",
       "      <th>1997</th>\n",
       "      <td>ONLINE_AFFINITAET</td>\n",
       "      <td>0</td>\n",
       "      <td>none</td>\n",
       "      <td>ONLINE</td>\n",
       "    </tr>\n",
       "    <tr>\n",
       "      <th>1998</th>\n",
       "      <td>ONLINE_AFFINITAET</td>\n",
       "      <td>1</td>\n",
       "      <td>low</td>\n",
       "      <td>ONLINE</td>\n",
       "    </tr>\n",
       "    <tr>\n",
       "      <th>1999</th>\n",
       "      <td>ONLINE_AFFINITAET</td>\n",
       "      <td>2</td>\n",
       "      <td>middle</td>\n",
       "      <td>ONLINE</td>\n",
       "    </tr>\n",
       "    <tr>\n",
       "      <th>2000</th>\n",
       "      <td>ONLINE_AFFINITAET</td>\n",
       "      <td>3</td>\n",
       "      <td>high</td>\n",
       "      <td>ONLINE</td>\n",
       "    </tr>\n",
       "    <tr>\n",
       "      <th>2001</th>\n",
       "      <td>ONLINE_AFFINITAET</td>\n",
       "      <td>4</td>\n",
       "      <td>very high</td>\n",
       "      <td>ONLINE</td>\n",
       "    </tr>\n",
       "    <tr>\n",
       "      <th>2002</th>\n",
       "      <td>ONLINE_AFFINITAET</td>\n",
       "      <td>5</td>\n",
       "      <td>highest</td>\n",
       "      <td>ONLINE</td>\n",
       "    </tr>\n",
       "  </tbody>\n",
       "</table>\n",
       "</div>"
      ],
      "text/plain": [
       "              Attribute Value    Meaning attribute_prefix\n",
       "1997  ONLINE_AFFINITAET     0       none           ONLINE\n",
       "1998  ONLINE_AFFINITAET     1        low           ONLINE\n",
       "1999  ONLINE_AFFINITAET     2     middle           ONLINE\n",
       "2000  ONLINE_AFFINITAET     3       high           ONLINE\n",
       "2001  ONLINE_AFFINITAET     4  very high           ONLINE\n",
       "2002  ONLINE_AFFINITAET     5  highest             ONLINE"
      ]
     },
     "metadata": {},
     "output_type": "display_data"
    },
    {
     "name": "stdout",
     "output_type": "stream",
     "text": [
      "KONSUMNAEHE\n"
     ]
    },
    {
     "data": {
      "text/html": [
       "<div>\n",
       "<style scoped>\n",
       "    .dataframe tbody tr th:only-of-type {\n",
       "        vertical-align: middle;\n",
       "    }\n",
       "\n",
       "    .dataframe tbody tr th {\n",
       "        vertical-align: top;\n",
       "    }\n",
       "\n",
       "    .dataframe thead th {\n",
       "        text-align: right;\n",
       "    }\n",
       "</style>\n",
       "<table border=\"1\" class=\"dataframe\">\n",
       "  <thead>\n",
       "    <tr style=\"text-align: right;\">\n",
       "      <th></th>\n",
       "      <th>Attribute</th>\n",
       "      <th>Value</th>\n",
       "      <th>Meaning</th>\n",
       "      <th>attribute_prefix</th>\n",
       "    </tr>\n",
       "  </thead>\n",
       "  <tbody>\n",
       "    <tr>\n",
       "      <th>1885</th>\n",
       "      <td>KONSUMNAEHE</td>\n",
       "      <td>1</td>\n",
       "      <td>building is located in a 125 x 125m-grid cell ...</td>\n",
       "      <td>KONSUMNAEHE</td>\n",
       "    </tr>\n",
       "    <tr>\n",
       "      <th>1886</th>\n",
       "      <td>KONSUMNAEHE</td>\n",
       "      <td>2</td>\n",
       "      <td>building is located in a 250 x 250m-grid cell,...</td>\n",
       "      <td>KONSUMNAEHE</td>\n",
       "    </tr>\n",
       "    <tr>\n",
       "      <th>1887</th>\n",
       "      <td>KONSUMNAEHE</td>\n",
       "      <td>3</td>\n",
       "      <td>building is located in a 500 x 500m-grid cell,...</td>\n",
       "      <td>KONSUMNAEHE</td>\n",
       "    </tr>\n",
       "    <tr>\n",
       "      <th>1888</th>\n",
       "      <td>KONSUMNAEHE</td>\n",
       "      <td>4</td>\n",
       "      <td>building is located in a 1 x 1km-grid cell, wh...</td>\n",
       "      <td>KONSUMNAEHE</td>\n",
       "    </tr>\n",
       "    <tr>\n",
       "      <th>1889</th>\n",
       "      <td>KONSUMNAEHE</td>\n",
       "      <td>5</td>\n",
       "      <td>building is located in a 2 x 2km-grid cell, wh...</td>\n",
       "      <td>KONSUMNAEHE</td>\n",
       "    </tr>\n",
       "    <tr>\n",
       "      <th>1890</th>\n",
       "      <td>KONSUMNAEHE</td>\n",
       "      <td>6</td>\n",
       "      <td>building is located in a 10 x 10km-grid cell, ...</td>\n",
       "      <td>KONSUMNAEHE</td>\n",
       "    </tr>\n",
       "    <tr>\n",
       "      <th>1891</th>\n",
       "      <td>KONSUMNAEHE</td>\n",
       "      <td>7</td>\n",
       "      <td>building is not located in a 10 x 10km-range t...</td>\n",
       "      <td>KONSUMNAEHE</td>\n",
       "    </tr>\n",
       "  </tbody>\n",
       "</table>\n",
       "</div>"
      ],
      "text/plain": [
       "        Attribute Value                                            Meaning  \\\n",
       "1885  KONSUMNAEHE     1  building is located in a 125 x 125m-grid cell ...   \n",
       "1886  KONSUMNAEHE     2  building is located in a 250 x 250m-grid cell,...   \n",
       "1887  KONSUMNAEHE     3  building is located in a 500 x 500m-grid cell,...   \n",
       "1888  KONSUMNAEHE     4  building is located in a 1 x 1km-grid cell, wh...   \n",
       "1889  KONSUMNAEHE     5  building is located in a 2 x 2km-grid cell, wh...   \n",
       "1890  KONSUMNAEHE     6  building is located in a 10 x 10km-grid cell, ...   \n",
       "1891  KONSUMNAEHE     7  building is not located in a 10 x 10km-range t...   \n",
       "\n",
       "     attribute_prefix  \n",
       "1885      KONSUMNAEHE  \n",
       "1886      KONSUMNAEHE  \n",
       "1887      KONSUMNAEHE  \n",
       "1888      KONSUMNAEHE  \n",
       "1889      KONSUMNAEHE  \n",
       "1890      KONSUMNAEHE  \n",
       "1891      KONSUMNAEHE  "
      ]
     },
     "metadata": {},
     "output_type": "display_data"
    },
    {
     "name": "stdout",
     "output_type": "stream",
     "text": [
      "EWDICHTE\n"
     ]
    },
    {
     "data": {
      "text/html": [
       "<div>\n",
       "<style scoped>\n",
       "    .dataframe tbody tr th:only-of-type {\n",
       "        vertical-align: middle;\n",
       "    }\n",
       "\n",
       "    .dataframe tbody tr th {\n",
       "        vertical-align: top;\n",
       "    }\n",
       "\n",
       "    .dataframe thead th {\n",
       "        text-align: right;\n",
       "    }\n",
       "</style>\n",
       "<table border=\"1\" class=\"dataframe\">\n",
       "  <thead>\n",
       "    <tr style=\"text-align: right;\">\n",
       "      <th></th>\n",
       "      <th>Attribute</th>\n",
       "      <th>Value</th>\n",
       "      <th>Meaning</th>\n",
       "      <th>attribute_prefix</th>\n",
       "    </tr>\n",
       "  </thead>\n",
       "  <tbody>\n",
       "    <tr>\n",
       "      <th>647</th>\n",
       "      <td>EWDICHTE</td>\n",
       "      <td>-1</td>\n",
       "      <td>unknown</td>\n",
       "      <td>EWDICHTE</td>\n",
       "    </tr>\n",
       "    <tr>\n",
       "      <th>648</th>\n",
       "      <td>EWDICHTE</td>\n",
       "      <td>1</td>\n",
       "      <td>less than 34 HH/km²</td>\n",
       "      <td>EWDICHTE</td>\n",
       "    </tr>\n",
       "    <tr>\n",
       "      <th>649</th>\n",
       "      <td>EWDICHTE</td>\n",
       "      <td>2</td>\n",
       "      <td>34 - 89 HH/km²</td>\n",
       "      <td>EWDICHTE</td>\n",
       "    </tr>\n",
       "    <tr>\n",
       "      <th>650</th>\n",
       "      <td>EWDICHTE</td>\n",
       "      <td>3</td>\n",
       "      <td>90 - 149 HH/km²</td>\n",
       "      <td>EWDICHTE</td>\n",
       "    </tr>\n",
       "    <tr>\n",
       "      <th>651</th>\n",
       "      <td>EWDICHTE</td>\n",
       "      <td>4</td>\n",
       "      <td>150 - 319 HH/km²</td>\n",
       "      <td>EWDICHTE</td>\n",
       "    </tr>\n",
       "    <tr>\n",
       "      <th>652</th>\n",
       "      <td>EWDICHTE</td>\n",
       "      <td>5</td>\n",
       "      <td>320 - 999 HH/km²</td>\n",
       "      <td>EWDICHTE</td>\n",
       "    </tr>\n",
       "    <tr>\n",
       "      <th>653</th>\n",
       "      <td>EWDICHTE</td>\n",
       "      <td>6</td>\n",
       "      <td>more than 999 HH/²</td>\n",
       "      <td>EWDICHTE</td>\n",
       "    </tr>\n",
       "  </tbody>\n",
       "</table>\n",
       "</div>"
      ],
      "text/plain": [
       "    Attribute Value              Meaning attribute_prefix\n",
       "647  EWDICHTE    -1              unknown         EWDICHTE\n",
       "648  EWDICHTE     1  less than 34 HH/km²         EWDICHTE\n",
       "649  EWDICHTE     2       34 - 89 HH/km²         EWDICHTE\n",
       "650  EWDICHTE     3      90 - 149 HH/km²         EWDICHTE\n",
       "651  EWDICHTE     4     150 - 319 HH/km²         EWDICHTE\n",
       "652  EWDICHTE     5     320 - 999 HH/km²         EWDICHTE\n",
       "653  EWDICHTE     6   more than 999 HH/²         EWDICHTE"
      ]
     },
     "metadata": {},
     "output_type": "display_data"
    },
    {
     "name": "stdout",
     "output_type": "stream",
     "text": [
      "NATIONALITAET_KZ\n"
     ]
    },
    {
     "data": {
      "text/html": [
       "<div>\n",
       "<style scoped>\n",
       "    .dataframe tbody tr th:only-of-type {\n",
       "        vertical-align: middle;\n",
       "    }\n",
       "\n",
       "    .dataframe tbody tr th {\n",
       "        vertical-align: top;\n",
       "    }\n",
       "\n",
       "    .dataframe thead th {\n",
       "        text-align: right;\n",
       "    }\n",
       "</style>\n",
       "<table border=\"1\" class=\"dataframe\">\n",
       "  <thead>\n",
       "    <tr style=\"text-align: right;\">\n",
       "      <th></th>\n",
       "      <th>Attribute</th>\n",
       "      <th>Value</th>\n",
       "      <th>Meaning</th>\n",
       "      <th>attribute_prefix</th>\n",
       "    </tr>\n",
       "  </thead>\n",
       "  <tbody>\n",
       "    <tr>\n",
       "      <th>1993</th>\n",
       "      <td>NATIONALITAET_KZ</td>\n",
       "      <td>-1, 0</td>\n",
       "      <td>unknown</td>\n",
       "      <td>NATIONALITAET</td>\n",
       "    </tr>\n",
       "    <tr>\n",
       "      <th>1994</th>\n",
       "      <td>NATIONALITAET_KZ</td>\n",
       "      <td>1</td>\n",
       "      <td>sounding german</td>\n",
       "      <td>NATIONALITAET</td>\n",
       "    </tr>\n",
       "    <tr>\n",
       "      <th>1995</th>\n",
       "      <td>NATIONALITAET_KZ</td>\n",
       "      <td>2</td>\n",
       "      <td>sounding foreign</td>\n",
       "      <td>NATIONALITAET</td>\n",
       "    </tr>\n",
       "    <tr>\n",
       "      <th>1996</th>\n",
       "      <td>NATIONALITAET_KZ</td>\n",
       "      <td>3</td>\n",
       "      <td>assimilated names</td>\n",
       "      <td>NATIONALITAET</td>\n",
       "    </tr>\n",
       "  </tbody>\n",
       "</table>\n",
       "</div>"
      ],
      "text/plain": [
       "             Attribute  Value            Meaning attribute_prefix\n",
       "1993  NATIONALITAET_KZ  -1, 0            unknown    NATIONALITAET\n",
       "1994  NATIONALITAET_KZ      1    sounding german    NATIONALITAET\n",
       "1995  NATIONALITAET_KZ      2   sounding foreign    NATIONALITAET\n",
       "1996  NATIONALITAET_KZ      3  assimilated names    NATIONALITAET"
      ]
     },
     "metadata": {},
     "output_type": "display_data"
    },
    {
     "name": "stdout",
     "output_type": "stream",
     "text": [
      "KKK\n"
     ]
    },
    {
     "data": {
      "text/html": [
       "<div>\n",
       "<style scoped>\n",
       "    .dataframe tbody tr th:only-of-type {\n",
       "        vertical-align: middle;\n",
       "    }\n",
       "\n",
       "    .dataframe tbody tr th {\n",
       "        vertical-align: top;\n",
       "    }\n",
       "\n",
       "    .dataframe thead th {\n",
       "        text-align: right;\n",
       "    }\n",
       "</style>\n",
       "<table border=\"1\" class=\"dataframe\">\n",
       "  <thead>\n",
       "    <tr style=\"text-align: right;\">\n",
       "      <th></th>\n",
       "      <th>Attribute</th>\n",
       "      <th>Value</th>\n",
       "      <th>Meaning</th>\n",
       "      <th>attribute_prefix</th>\n",
       "    </tr>\n",
       "  </thead>\n",
       "  <tbody>\n",
       "    <tr>\n",
       "      <th>1880</th>\n",
       "      <td>KKK</td>\n",
       "      <td>-1, 0</td>\n",
       "      <td>unknown</td>\n",
       "      <td>KKK</td>\n",
       "    </tr>\n",
       "    <tr>\n",
       "      <th>1881</th>\n",
       "      <td>KKK</td>\n",
       "      <td>1</td>\n",
       "      <td>very high</td>\n",
       "      <td>KKK</td>\n",
       "    </tr>\n",
       "    <tr>\n",
       "      <th>1882</th>\n",
       "      <td>KKK</td>\n",
       "      <td>2</td>\n",
       "      <td>high</td>\n",
       "      <td>KKK</td>\n",
       "    </tr>\n",
       "    <tr>\n",
       "      <th>1883</th>\n",
       "      <td>KKK</td>\n",
       "      <td>3</td>\n",
       "      <td>average</td>\n",
       "      <td>KKK</td>\n",
       "    </tr>\n",
       "    <tr>\n",
       "      <th>1884</th>\n",
       "      <td>KKK</td>\n",
       "      <td>4</td>\n",
       "      <td>low</td>\n",
       "      <td>KKK</td>\n",
       "    </tr>\n",
       "  </tbody>\n",
       "</table>\n",
       "</div>"
      ],
      "text/plain": [
       "     Attribute  Value    Meaning attribute_prefix\n",
       "1880       KKK  -1, 0    unknown              KKK\n",
       "1881       KKK      1  very high              KKK\n",
       "1882       KKK      2       high              KKK\n",
       "1883       KKK      3    average              KKK\n",
       "1884       KKK      4        low              KKK"
      ]
     },
     "metadata": {},
     "output_type": "display_data"
    },
    {
     "name": "stdout",
     "output_type": "stream",
     "text": [
      "PRAEGENDE_JUGENDJAHRE\n"
     ]
    },
    {
     "data": {
      "text/html": [
       "<div>\n",
       "<style scoped>\n",
       "    .dataframe tbody tr th:only-of-type {\n",
       "        vertical-align: middle;\n",
       "    }\n",
       "\n",
       "    .dataframe tbody tr th {\n",
       "        vertical-align: top;\n",
       "    }\n",
       "\n",
       "    .dataframe thead th {\n",
       "        text-align: right;\n",
       "    }\n",
       "</style>\n",
       "<table border=\"1\" class=\"dataframe\">\n",
       "  <thead>\n",
       "    <tr style=\"text-align: right;\">\n",
       "      <th></th>\n",
       "      <th>Attribute</th>\n",
       "      <th>Value</th>\n",
       "      <th>Meaning</th>\n",
       "      <th>attribute_prefix</th>\n",
       "    </tr>\n",
       "  </thead>\n",
       "  <tbody>\n",
       "    <tr>\n",
       "      <th>2054</th>\n",
       "      <td>PRAEGENDE_JUGENDJAHRE</td>\n",
       "      <td>-1, 0</td>\n",
       "      <td>unknown</td>\n",
       "      <td>PRAEGENDE</td>\n",
       "    </tr>\n",
       "    <tr>\n",
       "      <th>2055</th>\n",
       "      <td>PRAEGENDE_JUGENDJAHRE</td>\n",
       "      <td>1</td>\n",
       "      <td>40ies - war years (Mainstream, O+W)</td>\n",
       "      <td>PRAEGENDE</td>\n",
       "    </tr>\n",
       "    <tr>\n",
       "      <th>2056</th>\n",
       "      <td>PRAEGENDE_JUGENDJAHRE</td>\n",
       "      <td>2</td>\n",
       "      <td>40ies - reconstruction years (Avantgarde, O+W)</td>\n",
       "      <td>PRAEGENDE</td>\n",
       "    </tr>\n",
       "    <tr>\n",
       "      <th>2057</th>\n",
       "      <td>PRAEGENDE_JUGENDJAHRE</td>\n",
       "      <td>3</td>\n",
       "      <td>50ies - economic miracle (Mainstream, O+W)</td>\n",
       "      <td>PRAEGENDE</td>\n",
       "    </tr>\n",
       "    <tr>\n",
       "      <th>2058</th>\n",
       "      <td>PRAEGENDE_JUGENDJAHRE</td>\n",
       "      <td>4</td>\n",
       "      <td>50ies - milk bar / Individualisation (Avantgar...</td>\n",
       "      <td>PRAEGENDE</td>\n",
       "    </tr>\n",
       "    <tr>\n",
       "      <th>2059</th>\n",
       "      <td>PRAEGENDE_JUGENDJAHRE</td>\n",
       "      <td>5</td>\n",
       "      <td>60ies - economic miracle (Mainstream, O+W)</td>\n",
       "      <td>PRAEGENDE</td>\n",
       "    </tr>\n",
       "    <tr>\n",
       "      <th>2060</th>\n",
       "      <td>PRAEGENDE_JUGENDJAHRE</td>\n",
       "      <td>6</td>\n",
       "      <td>60ies - generation 68 / student protestors (Av...</td>\n",
       "      <td>PRAEGENDE</td>\n",
       "    </tr>\n",
       "    <tr>\n",
       "      <th>2061</th>\n",
       "      <td>PRAEGENDE_JUGENDJAHRE</td>\n",
       "      <td>7</td>\n",
       "      <td>60ies - opponents to the building of the Wall ...</td>\n",
       "      <td>PRAEGENDE</td>\n",
       "    </tr>\n",
       "    <tr>\n",
       "      <th>2062</th>\n",
       "      <td>PRAEGENDE_JUGENDJAHRE</td>\n",
       "      <td>8</td>\n",
       "      <td>70ies - family orientation (Mainstream, O+W)</td>\n",
       "      <td>PRAEGENDE</td>\n",
       "    </tr>\n",
       "    <tr>\n",
       "      <th>2063</th>\n",
       "      <td>PRAEGENDE_JUGENDJAHRE</td>\n",
       "      <td>9</td>\n",
       "      <td>70ies - peace movement (Avantgarde, O+W)</td>\n",
       "      <td>PRAEGENDE</td>\n",
       "    </tr>\n",
       "    <tr>\n",
       "      <th>2064</th>\n",
       "      <td>PRAEGENDE_JUGENDJAHRE</td>\n",
       "      <td>10</td>\n",
       "      <td>80ies - Generation Golf (Mainstream, W)</td>\n",
       "      <td>PRAEGENDE</td>\n",
       "    </tr>\n",
       "    <tr>\n",
       "      <th>2065</th>\n",
       "      <td>PRAEGENDE_JUGENDJAHRE</td>\n",
       "      <td>11</td>\n",
       "      <td>80ies - ecological awareness (Avantgarde, W)</td>\n",
       "      <td>PRAEGENDE</td>\n",
       "    </tr>\n",
       "    <tr>\n",
       "      <th>2066</th>\n",
       "      <td>PRAEGENDE_JUGENDJAHRE</td>\n",
       "      <td>12</td>\n",
       "      <td>80ies - FDJ / communist party youth organisati...</td>\n",
       "      <td>PRAEGENDE</td>\n",
       "    </tr>\n",
       "    <tr>\n",
       "      <th>2067</th>\n",
       "      <td>PRAEGENDE_JUGENDJAHRE</td>\n",
       "      <td>13</td>\n",
       "      <td>80ies - Swords into ploughshares (Avantgarde, O)</td>\n",
       "      <td>PRAEGENDE</td>\n",
       "    </tr>\n",
       "    <tr>\n",
       "      <th>2068</th>\n",
       "      <td>PRAEGENDE_JUGENDJAHRE</td>\n",
       "      <td>14</td>\n",
       "      <td>90ies - digital media kids (Mainstream, O+W)</td>\n",
       "      <td>PRAEGENDE</td>\n",
       "    </tr>\n",
       "    <tr>\n",
       "      <th>2069</th>\n",
       "      <td>PRAEGENDE_JUGENDJAHRE</td>\n",
       "      <td>15</td>\n",
       "      <td>90ies - ecological awareness (Avantgarde, O+W)</td>\n",
       "      <td>PRAEGENDE</td>\n",
       "    </tr>\n",
       "  </tbody>\n",
       "</table>\n",
       "</div>"
      ],
      "text/plain": [
       "                  Attribute  Value  \\\n",
       "2054  PRAEGENDE_JUGENDJAHRE  -1, 0   \n",
       "2055  PRAEGENDE_JUGENDJAHRE      1   \n",
       "2056  PRAEGENDE_JUGENDJAHRE      2   \n",
       "2057  PRAEGENDE_JUGENDJAHRE      3   \n",
       "2058  PRAEGENDE_JUGENDJAHRE      4   \n",
       "2059  PRAEGENDE_JUGENDJAHRE      5   \n",
       "2060  PRAEGENDE_JUGENDJAHRE      6   \n",
       "2061  PRAEGENDE_JUGENDJAHRE      7   \n",
       "2062  PRAEGENDE_JUGENDJAHRE      8   \n",
       "2063  PRAEGENDE_JUGENDJAHRE      9   \n",
       "2064  PRAEGENDE_JUGENDJAHRE     10   \n",
       "2065  PRAEGENDE_JUGENDJAHRE     11   \n",
       "2066  PRAEGENDE_JUGENDJAHRE     12   \n",
       "2067  PRAEGENDE_JUGENDJAHRE     13   \n",
       "2068  PRAEGENDE_JUGENDJAHRE     14   \n",
       "2069  PRAEGENDE_JUGENDJAHRE     15   \n",
       "\n",
       "                                                Meaning attribute_prefix  \n",
       "2054                                            unknown        PRAEGENDE  \n",
       "2055                40ies - war years (Mainstream, O+W)        PRAEGENDE  \n",
       "2056     40ies - reconstruction years (Avantgarde, O+W)        PRAEGENDE  \n",
       "2057         50ies - economic miracle (Mainstream, O+W)        PRAEGENDE  \n",
       "2058  50ies - milk bar / Individualisation (Avantgar...        PRAEGENDE  \n",
       "2059         60ies - economic miracle (Mainstream, O+W)        PRAEGENDE  \n",
       "2060  60ies - generation 68 / student protestors (Av...        PRAEGENDE  \n",
       "2061  60ies - opponents to the building of the Wall ...        PRAEGENDE  \n",
       "2062       70ies - family orientation (Mainstream, O+W)        PRAEGENDE  \n",
       "2063           70ies - peace movement (Avantgarde, O+W)        PRAEGENDE  \n",
       "2064            80ies - Generation Golf (Mainstream, W)        PRAEGENDE  \n",
       "2065       80ies - ecological awareness (Avantgarde, W)        PRAEGENDE  \n",
       "2066  80ies - FDJ / communist party youth organisati...        PRAEGENDE  \n",
       "2067   80ies - Swords into ploughshares (Avantgarde, O)        PRAEGENDE  \n",
       "2068       90ies - digital media kids (Mainstream, O+W)        PRAEGENDE  \n",
       "2069     90ies - ecological awareness (Avantgarde, O+W)        PRAEGENDE  "
      ]
     },
     "metadata": {},
     "output_type": "display_data"
    },
    {
     "name": "stdout",
     "output_type": "stream",
     "text": [
      "GREEN_AVANTGARDE\n"
     ]
    },
    {
     "data": {
      "text/html": [
       "<div>\n",
       "<style scoped>\n",
       "    .dataframe tbody tr th:only-of-type {\n",
       "        vertical-align: middle;\n",
       "    }\n",
       "\n",
       "    .dataframe tbody tr th {\n",
       "        vertical-align: top;\n",
       "    }\n",
       "\n",
       "    .dataframe thead th {\n",
       "        text-align: right;\n",
       "    }\n",
       "</style>\n",
       "<table border=\"1\" class=\"dataframe\">\n",
       "  <thead>\n",
       "    <tr style=\"text-align: right;\">\n",
       "      <th></th>\n",
       "      <th>Attribute</th>\n",
       "      <th>Value</th>\n",
       "      <th>Meaning</th>\n",
       "      <th>attribute_prefix</th>\n",
       "    </tr>\n",
       "  </thead>\n",
       "  <tbody>\n",
       "    <tr>\n",
       "      <th>732</th>\n",
       "      <td>GREEN_AVANTGARDE</td>\n",
       "      <td>0</td>\n",
       "      <td>doesn't belong to the green avantgarde</td>\n",
       "      <td>GREEN</td>\n",
       "    </tr>\n",
       "    <tr>\n",
       "      <th>733</th>\n",
       "      <td>GREEN_AVANTGARDE</td>\n",
       "      <td>1</td>\n",
       "      <td>belongs to the green avantgarde</td>\n",
       "      <td>GREEN</td>\n",
       "    </tr>\n",
       "  </tbody>\n",
       "</table>\n",
       "</div>"
      ],
      "text/plain": [
       "            Attribute Value                                 Meaning  \\\n",
       "732  GREEN_AVANTGARDE     0  doesn't belong to the green avantgarde   \n",
       "733  GREEN_AVANTGARDE     1         belongs to the green avantgarde   \n",
       "\n",
       "    attribute_prefix  \n",
       "732            GREEN  \n",
       "733            GREEN  "
      ]
     },
     "metadata": {},
     "output_type": "display_data"
    }
   ],
   "source": [
    "for feat in remaining_feats:\n",
    "    if feat in df_features['Attribute'].values:\n",
    "        print(feat)\n",
    "        display(df_features.loc[df_features.Attribute == feat])"
   ]
  },
  {
   "cell_type": "markdown",
   "metadata": {},
   "source": []
  },
  {
   "cell_type": "code",
   "execution_count": 69,
   "metadata": {},
   "outputs": [],
   "source": [
    "num_features.extend(['MIN_GEBAEUDEJAHR', 'GEBURTSJAHR', ])\n",
    "cat_features.extend(['GREEN_AVANTGARDE', 'OST_WEST_KZ',\n",
    "                     'TITEL_KZ', 'ALTERSKATEGORIE_GROB', 'NATIONALITAET_KZ', \n",
    "                     'ANREDE_KZ',  'PRAEGENDE_JUGENDJAHRE', \"WOHNLAGE\", \"ALTER\", \"ALTER_HH\", \n",
    "                     'KONSUMNAEHE', 'ORTSGR_KLS9', 'PRAEGENDE_JUGENDJAHRE', \n",
    "                    ])"
   ]
  },
  {
   "cell_type": "code",
   "execution_count": 70,
   "metadata": {},
   "outputs": [],
   "source": [
    "# remaining_feats"
   ]
  },
  {
   "cell_type": "code",
   "execution_count": 71,
   "metadata": {
    "scrolled": true
   },
   "outputs": [
    {
     "name": "stdout",
     "output_type": "stream",
     "text": [
      "ALTER_KIND3 contains 99.26% na's\n",
      "RT_UEBERGROESSE contains 8.96% na's\n",
      "ALTER_KIND2 contains 96.78% na's\n",
      "RT_SCHNAEPPCHEN contains 0.56% na's\n",
      "AKT_DAT_KL contains 12.40% na's\n",
      "RT_KEIN_ANREIZ contains 0.56% na's\n",
      "UMFELD_ALT contains 15.34% na's\n",
      "VK_DHT4A contains 12.66% na's\n",
      "ALTERSKATEGORIE_FEIN contains 33.60% na's\n",
      "VHA contains 12.40% na's\n",
      "VERDICHTUNGSRAUM contains 15.18% na's\n",
      "VK_ZG11 contains 12.66% na's\n",
      "VHN contains 17.98% na's\n",
      "EXTSEL992 contains 75.08% na's\n",
      "HH_DELTA_FLAG contains 16.24% na's\n",
      "SOHO_KZ contains 12.40% na's\n",
      "EINGEFUEGT_AM contains 14.66% na's\n",
      "EINGEZOGENAM_HH_JAHR contains 12.40% na's\n",
      "CJT_KATALOGNUTZER contains 0.56% na's\n",
      "MOBI_RASTER contains 14.66% na's\n",
      "UNGLEICHENN_FLAG contains 12.40% na's\n"
     ]
    },
    {
     "name": "stderr",
     "output_type": "stream",
     "text": [
      "C:\\ProgramData\\Anaconda3\\Lib\\site-packages\\matplotlib\\pyplot.py:514: RuntimeWarning: More than 20 figures have been opened. Figures created through the pyplot interface (`matplotlib.pyplot.figure`) are retained until explicitly closed and may consume too much memory. (To control this warning, see the rcParam `figure.max_open_warning`).\n",
      "  max_open_warning, RuntimeWarning)\n"
     ]
    },
    {
     "name": "stdout",
     "output_type": "stream",
     "text": [
      "KOMBIALTER contains 0.00% na's\n",
      "DSL_FLAG contains 14.66% na's\n",
      "ALTER_KIND1 contains 91.36% na's\n",
      "UMFELD_JUNG contains 15.34% na's\n",
      "FIRMENDICHTE contains 14.66% na's\n",
      "KONSUMZELLE contains 14.66% na's\n",
      "ALTER_KIND4 contains 99.98% na's\n",
      "ARBEIT contains 15.16% na's\n"
     ]
    },
    {
     "data": {
      "image/png": "[encoded data removed]",
      "text/plain": [
       "<Figure size 432x288 with 1 Axes>"
      ]
     },
     "metadata": {
      "needs_background": "light"
     },
     "output_type": "display_data"
    },
    {
     "data": {
      "image/png": "[encoded data removed]",
      "text/plain": [
       "<Figure size 432x288 with 1 Axes>"
      ]
     },
     "metadata": {
      "needs_background": "light"
     },
     "output_type": "display_data"
    },
    {
     "data": {
      "image/png": "[encoded data removed]",
      "text/plain": [
       "<Figure size 432x288 with 1 Axes>"
      ]
     },
     "metadata": {
      "needs_background": "light"
     },
     "output_type": "display_data"
    },
    {
     "data": {
      "image/png": "[encoded data removed]",
      "text/plain": [
       "<Figure size 432x288 with 1 Axes>"
      ]
     },
     "metadata": {
      "needs_background": "light"
     },
     "output_type": "display_data"
    },
    {
     "data": {
      "image/png": "[encoded data removed]",
      "text/plain": [
       "<Figure size 432x288 with 1 Axes>"
      ]
     },
     "metadata": {
      "needs_background": "light"
     },
     "output_type": "display_data"
    },
    {
     "data": {
      "image/png": "[encoded data removed]",
      "text/plain": [
       "<Figure size 432x288 with 1 Axes>"
      ]
     },
     "metadata": {
      "needs_background": "light"
     },
     "output_type": "display_data"
    },
    {
     "data": {
      "image/png": "[encoded data removed]",
      "text/plain": [
       "<Figure size 432x288 with 1 Axes>"
      ]
     },
     "metadata": {
      "needs_background": "light"
     },
     "output_type": "display_data"
    },
    {
     "data": {
      "image/png": "[encoded data removed]",
      "text/plain": [
       "<Figure size 432x288 with 1 Axes>"
      ]
     },
     "metadata": {
      "needs_background": "light"
     },
     "output_type": "display_data"
    },
    {
     "data": {
      "image/png": "[encoded data removed]",
      "text/plain": [
       "<Figure size 432x288 with 1 Axes>"
      ]
     },
     "metadata": {
      "needs_background": "light"
     },
     "output_type": "display_data"
    },
    {
     "data": {
      "image/png": "[encoded data removed]",
      "text/plain": [
       "<Figure size 432x288 with 1 Axes>"
      ]
     },
     "metadata": {
      "needs_background": "light"
     },
     "output_type": "display_data"
    },
    {
     "data": {
      "image/png": "[encoded data removed]",
      "text/plain": [
       "<Figure size 432x288 with 1 Axes>"
      ]
     },
     "metadata": {
      "needs_background": "light"
     },
     "output_type": "display_data"
    },
    {
     "data": {
      "image/png": "[encoded data removed]",
      "text/plain": [
       "<Figure size 432x288 with 1 Axes>"
      ]
     },
     "metadata": {
      "needs_background": "light"
     },
     "output_type": "display_data"
    },
    {
     "data": {
      "image/png": "[encoded data removed]",
      "text/plain": [
       "<Figure size 432x288 with 1 Axes>"
      ]
     },
     "metadata": {
      "needs_background": "light"
     },
     "output_type": "display_data"
    },
    {
     "data": {
      "image/png": "[encoded data removed]",
      "text/plain": [
       "<Figure size 432x288 with 1 Axes>"
      ]
     },
     "metadata": {
      "needs_background": "light"
     },
     "output_type": "display_data"
    },
    {
     "data": {
      "image/png": "[encoded data removed]",
      "text/plain": [
       "<Figure size 432x288 with 1 Axes>"
      ]
     },
     "metadata": {
      "needs_background": "light"
     },
     "output_type": "display_data"
    },
    {
     "data": {
      "image/png": "[encoded data removed]",
      "text/plain": [
       "<Figure size 432x288 with 1 Axes>"
      ]
     },
     "metadata": {
      "needs_background": "light"
     },
     "output_type": "display_data"
    },
    {
     "data": {
      "image/png": "[encoded data removed]",
      "text/plain": [
       "<Figure size 432x288 with 1 Axes>"
      ]
     },
     "metadata": {
      "needs_background": "light"
     },
     "output_type": "display_data"
    },
    {
     "data": {
      "image/png": "[encoded data removed]",
      "text/plain": [
       "<Figure size 432x288 with 1 Axes>"
      ]
     },
     "metadata": {
      "needs_background": "light"
     },
     "output_type": "display_data"
    },
    {
     "data": {
      "image/png": "[encoded data removed]",
      "text/plain": [
       "<Figure size 432x288 with 1 Axes>"
      ]
     },
     "metadata": {
      "needs_background": "light"
     },
     "output_type": "display_data"
    },
    {
     "data": {
      "image/png": "[encoded data removed]",
      "text/plain": [
       "<Figure size 432x288 with 1 Axes>"
      ]
     },
     "metadata": {
      "needs_background": "light"
     },
     "output_type": "display_data"
    },
    {
     "data": {
      "image/png": "[encoded data removed]",
      "text/plain": [
       "<Figure size 432x288 with 1 Axes>"
      ]
     },
     "metadata": {
      "needs_background": "light"
     },
     "output_type": "display_data"
    },
    {
     "data": {
      "image/png": "[encoded data removed]",
      "text/plain": [
       "<Figure size 432x288 with 1 Axes>"
      ]
     },
     "metadata": {
      "needs_background": "light"
     },
     "output_type": "display_data"
    },
    {
     "data": {
      "image/png": "[encoded data removed]",
      "text/plain": [
       "<Figure size 432x288 with 1 Axes>"
      ]
     },
     "metadata": {
      "needs_background": "light"
     },
     "output_type": "display_data"
    },
    {
     "data": {
      "image/png": "[encoded data removed]",
      "text/plain": [
       "<Figure size 432x288 with 1 Axes>"
      ]
     },
     "metadata": {
      "needs_background": "light"
     },
     "output_type": "display_data"
    },
    {
     "data": {
      "image/png": "[encoded data removed]",
      "text/plain": [
       "<Figure size 432x288 with 1 Axes>"
      ]
     },
     "metadata": {
      "needs_background": "light"
     },
     "output_type": "display_data"
    },
    {
     "data": {
      "image/png": "[encoded data removed]",
      "text/plain": [
       "<Figure size 432x288 with 1 Axes>"
      ]
     },
     "metadata": {
      "needs_background": "light"
     },
     "output_type": "display_data"
    },
    {
     "data": {
      "image/png": "[encoded data removed]",
      "text/plain": [
       "<Figure size 432x288 with 1 Axes>"
      ]
     },
     "metadata": {
      "needs_background": "light"
     },
     "output_type": "display_data"
    },
    {
     "data": {
      "image/png": "[encoded data removed]",
      "text/plain": [
       "<Figure size 432x288 with 1 Axes>"
      ]
     },
     "metadata": {
      "needs_background": "light"
     },
     "output_type": "display_data"
    },
    {
     "data": {
      "image/png": "[encoded data removed]",
      "text/plain": [
       "<Figure size 432x288 with 1 Axes>"
      ]
     },
     "metadata": {
      "needs_background": "light"
     },
     "output_type": "display_data"
    }
   ],
   "source": [
    "feat_ = []\n",
    "\n",
    "for feat in remaining_feats:\n",
    "    if feat not in df_features['Attribute'].values:\n",
    "        print(\"{:} contains {:.2f}% na's\".format(feat, 100*azdias[feat].isna().mean()))\n",
    "        \n",
    "        fig, ax = plt.subplots()\n",
    "        sns.countplot(azdias[feat])\n",
    "        feat_.append(feat)"
   ]
  },
  {
   "cell_type": "code",
   "execution_count": 72,
   "metadata": {},
   "outputs": [],
   "source": [
    "# I will drop theses columns either because they do not provides too much info (contains too many cats, or too many nan's)\n",
    "# to_drop = ['ALTER_KIND3', 'AKT_DAT_KL', 'ALTER_KIND1', 'VHA', \n",
    "#            'ALTER_KIND4','VERDICHTUNGSRAUM', 'EXTSEL992','ALTER_KIND2'] \n",
    "\n",
    "num_features.extend(['EINGEFUEGT_AM', \"ALTER_KIND3 \",\n",
    "                     'EINGEZOGENAM_HH_JAHR',\n",
    "                    'EXTSEL992',\n",
    "                    'VERDICHTUNGSRAUM',\n",
    "                    'ALTER_KIND2',\n",
    "                    'ALTER_KIND1',\n",
    "                    'ALTER_KIND4'])\n",
    "cat_features.extend(list(set(feat_) - set(['EINGEFUEGT_AM', \"ALTER_KIND3 \",\n",
    "                     'EINGEZOGENAM_HH_JAHR',\n",
    "                    'EXTSEL992',\n",
    "                    'VERDICHTUNGSRAUM',\n",
    "                    'ALTER_KIND2',\n",
    "                    'ALTER_KIND1',\n",
    "                    'ALTER_KIND4'])))\n"
   ]
  },
  {
   "cell_type": "code",
   "execution_count": null,
   "metadata": {
    "scrolled": false
   },
   "outputs": [],
   "source": []
  },
  {
   "cell_type": "code",
   "execution_count": null,
   "metadata": {},
   "outputs": [],
   "source": []
  },
  {
   "cell_type": "markdown",
   "metadata": {},
   "source": [
    "### update feature summary table\n",
    "\n",
    "#### update using data type"
   ]
  },
  {
   "cell_type": "code",
   "execution_count": 73,
   "metadata": {},
   "outputs": [],
   "source": [
    "for feat in cat_features:\n",
    "    df_feat_summary.loc[df_feat_summary['Attribute'] == feat, 'type'] = 'categorical'"
   ]
  },
  {
   "cell_type": "code",
   "execution_count": 74,
   "metadata": {},
   "outputs": [],
   "source": [
    "for feat in num_features:\n",
    "    df_feat_summary.loc[df_feat_summary['Attribute'] == feat, 'type'] = 'numerical'"
   ]
  },
  {
   "cell_type": "code",
   "execution_count": 75,
   "metadata": {},
   "outputs": [
    {
     "data": {
      "text/plain": [
       "ordinal        276\n",
       "categorical     73\n",
       "numerical       16\n",
       "Name: type, dtype: int64"
      ]
     },
     "execution_count": 75,
     "metadata": {},
     "output_type": "execute_result"
    }
   ],
   "source": [
    "df_feat_summary['type'].value_counts()"
   ]
  },
  {
   "cell_type": "markdown",
   "metadata": {},
   "source": [
    "###  update feature summary table\n",
    "#### include missing values encoding \n",
    "\n",
    "It is noticed from the analysis the some of values presents unknowns or missing data, Those valuse are normally described as 'no transactions', 'unknown', 'no transaction' in the informatoin file ('DIAS Attributes - Values 2017.xlsx'). I will serach for these key words in the df_features to get to know the values assigned to unknowns or missing values."
   ]
  },
  {
   "cell_type": "code",
   "execution_count": 76,
   "metadata": {},
   "outputs": [],
   "source": [
    "df_features_nan = unknown_encoding(\n",
    "    df_features, search_for='|'.join(['no transactions', 'unknown', 'no transaction']))"
   ]
  },
  {
   "cell_type": "code",
   "execution_count": 77,
   "metadata": {},
   "outputs": [
    {
     "data": {
      "text/plain": [
       "array(['unknown', 'unknown / no main age detectable',\n",
       "       'no transactions known', 'no transaction known'], dtype=object)"
      ]
     },
     "execution_count": 77,
     "metadata": {},
     "output_type": "execute_result"
    }
   ],
   "source": [
    "df_features_nan['Meaning'].unique()"
   ]
  },
  {
   "cell_type": "code",
   "execution_count": 78,
   "metadata": {},
   "outputs": [],
   "source": [
    "df_feat_summary = df_feat_summary.merge( df_features_nan,left_on='Attribute', right_on='Attribute', how = 'left')\n",
    "df_feat_summary.loc[df_feat_summary.type == 'numerical', \"Value\"] = [0]  # Numerical vlaues normally start from 1, if there is a zero, it means hte "
   ]
  },
  {
   "cell_type": "code",
   "execution_count": 79,
   "metadata": {},
   "outputs": [
    {
     "data": {
      "text/html": [
       "<div>\n",
       "<style scoped>\n",
       "    .dataframe tbody tr th:only-of-type {\n",
       "        vertical-align: middle;\n",
       "    }\n",
       "\n",
       "    .dataframe tbody tr th {\n",
       "        vertical-align: top;\n",
       "    }\n",
       "\n",
       "    .dataframe thead th {\n",
       "        text-align: right;\n",
       "    }\n",
       "</style>\n",
       "<table border=\"1\" class=\"dataframe\">\n",
       "  <thead>\n",
       "    <tr style=\"text-align: right;\">\n",
       "      <th></th>\n",
       "      <th>Attribute</th>\n",
       "      <th>type</th>\n",
       "      <th>Value</th>\n",
       "      <th>Meaning</th>\n",
       "      <th>attribute_prefix</th>\n",
       "    </tr>\n",
       "  </thead>\n",
       "  <tbody>\n",
       "    <tr>\n",
       "      <th>0</th>\n",
       "      <td>KBA13_KMH_140_210</td>\n",
       "      <td>ordinal</td>\n",
       "      <td>[-1]</td>\n",
       "      <td>unknown</td>\n",
       "      <td>KBA13</td>\n",
       "    </tr>\n",
       "    <tr>\n",
       "      <th>1</th>\n",
       "      <td>CJT_GESAMTTYP</td>\n",
       "      <td>categorical</td>\n",
       "      <td>[0]</td>\n",
       "      <td>unknown</td>\n",
       "      <td>CJT</td>\n",
       "    </tr>\n",
       "    <tr>\n",
       "      <th>2</th>\n",
       "      <td>FINANZ_VORSORGER</td>\n",
       "      <td>ordinal</td>\n",
       "      <td>[-1]</td>\n",
       "      <td>unknown</td>\n",
       "      <td>FINANZ</td>\n",
       "    </tr>\n",
       "    <tr>\n",
       "      <th>3</th>\n",
       "      <td>D19_GARTEN</td>\n",
       "      <td>ordinal</td>\n",
       "      <td>NaN</td>\n",
       "      <td>NaN</td>\n",
       "      <td>NaN</td>\n",
       "    </tr>\n",
       "    <tr>\n",
       "      <th>4</th>\n",
       "      <td>KBA05_CCM2</td>\n",
       "      <td>ordinal</td>\n",
       "      <td>[-1, 9]</td>\n",
       "      <td>unknown</td>\n",
       "      <td>KBA05</td>\n",
       "    </tr>\n",
       "    <tr>\n",
       "      <th>...</th>\n",
       "      <td>...</td>\n",
       "      <td>...</td>\n",
       "      <td>...</td>\n",
       "      <td>...</td>\n",
       "      <td>...</td>\n",
       "    </tr>\n",
       "    <tr>\n",
       "      <th>360</th>\n",
       "      <td>D19_ENERGIE</td>\n",
       "      <td>ordinal</td>\n",
       "      <td>NaN</td>\n",
       "      <td>NaN</td>\n",
       "      <td>NaN</td>\n",
       "    </tr>\n",
       "    <tr>\n",
       "      <th>361</th>\n",
       "      <td>KBA13_FORD</td>\n",
       "      <td>ordinal</td>\n",
       "      <td>[-1]</td>\n",
       "      <td>unknown</td>\n",
       "      <td>KBA13</td>\n",
       "    </tr>\n",
       "    <tr>\n",
       "      <th>362</th>\n",
       "      <td>VK_DISTANZ</td>\n",
       "      <td>numerical</td>\n",
       "      <td>0</td>\n",
       "      <td>NaN</td>\n",
       "      <td>NaN</td>\n",
       "    </tr>\n",
       "    <tr>\n",
       "      <th>363</th>\n",
       "      <td>CJT_TYP_3</td>\n",
       "      <td>categorical</td>\n",
       "      <td>NaN</td>\n",
       "      <td>NaN</td>\n",
       "      <td>NaN</td>\n",
       "    </tr>\n",
       "    <tr>\n",
       "      <th>364</th>\n",
       "      <td>KBA05_ZUL3</td>\n",
       "      <td>ordinal</td>\n",
       "      <td>[-1, 9]</td>\n",
       "      <td>unknown</td>\n",
       "      <td>KBA05</td>\n",
       "    </tr>\n",
       "  </tbody>\n",
       "</table>\n",
       "<p>365 rows × 5 columns</p>\n",
       "</div>"
      ],
      "text/plain": [
       "             Attribute         type    Value  Meaning attribute_prefix\n",
       "0    KBA13_KMH_140_210      ordinal     [-1]  unknown            KBA13\n",
       "1        CJT_GESAMTTYP  categorical      [0]  unknown              CJT\n",
       "2     FINANZ_VORSORGER      ordinal     [-1]  unknown           FINANZ\n",
       "3           D19_GARTEN      ordinal      NaN      NaN              NaN\n",
       "4           KBA05_CCM2      ordinal  [-1, 9]  unknown            KBA05\n",
       "..                 ...          ...      ...      ...              ...\n",
       "360        D19_ENERGIE      ordinal      NaN      NaN              NaN\n",
       "361         KBA13_FORD      ordinal     [-1]  unknown            KBA13\n",
       "362         VK_DISTANZ    numerical        0      NaN              NaN\n",
       "363          CJT_TYP_3  categorical      NaN      NaN              NaN\n",
       "364         KBA05_ZUL3      ordinal  [-1, 9]  unknown            KBA05\n",
       "\n",
       "[365 rows x 5 columns]"
      ]
     },
     "execution_count": 79,
     "metadata": {},
     "output_type": "execute_result"
    }
   ],
   "source": [
    "df_feat_summary"
   ]
  },
  {
   "cell_type": "code",
   "execution_count": 80,
   "metadata": {},
   "outputs": [],
   "source": [
    "df_feat_summary.drop(['Meaning', 'attribute_prefix'], axis=1, inplace=True)"
   ]
  },
  {
   "cell_type": "code",
   "execution_count": 83,
   "metadata": {},
   "outputs": [],
   "source": [
    "#  ['ANREDE_KZ','ALTERSKATEGORIE_GROB']"
   ]
  },
  {
   "cell_type": "code",
   "execution_count": 81,
   "metadata": {},
   "outputs": [],
   "source": [
    "df_feat_summary.to_csv('feat_summary.csv')\n",
    "df_feat_summary.to_pickle('feat_summary.pkl')"
   ]
  },
  {
   "cell_type": "code",
   "execution_count": 82,
   "metadata": {},
   "outputs": [],
   "source": [
    "# cat_features"
   ]
  },
  {
   "cell_type": "code",
   "execution_count": null,
   "metadata": {},
   "outputs": [],
   "source": []
  }
 ],
 "metadata": {
  "kernelspec": {
   "display_name": "Python 3",
   "language": "python",
   "name": "python3"
  },
  "language_info": {
   "codemirror_mode": {
    "name": "ipython",
    "version": 3
   },
   "file_extension": ".py",
   "mimetype": "text/x-python",
   "name": "python",
   "nbconvert_exporter": "python",
   "pygments_lexer": "ipython3",
   "version": "3.7.3"
  },
  "toc": {
   "base_numbering": 1,
   "nav_menu": {},
   "number_sections": true,
   "sideBar": true,
   "skip_h1_title": false,
   "title_cell": "Table of Contents",
   "title_sidebar": "Contents",
   "toc_cell": false,
   "toc_position": {
    "height": "calc(100% - 180px)",
    "left": "10px",
    "top": "150px",
    "width": "268.991px"
   },
   "toc_section_display": true,
   "toc_window_display": true
  }
 },
 "nbformat": 4,
 "nbformat_minor": 4
}

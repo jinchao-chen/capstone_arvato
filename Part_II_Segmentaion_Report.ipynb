{
 "cells": [
  {
   "cell_type": "markdown",
   "metadata": {},
   "source": []
  },
  {
   "cell_type": "code",
   "execution_count": 103,
   "metadata": {},
   "outputs": [],
   "source": [
    "import numpy as np\n",
    "import pandas as pd\n",
    "import matplotlib.pyplot as plt\n",
    "import seaborn as sns\n",
    "from helper import *\n",
    "from scipy import stats\n",
    "from sklearn import preprocessing\n",
    "from sklearn.impute import SimpleImputer\n",
    "\n",
    "%matplotlib inline"
   ]
  },
  {
   "cell_type": "markdown",
   "metadata": {},
   "source": [
    "# Select and Re-Encode Features"
   ]
  },
  {
   "cell_type": "code",
   "execution_count": 104,
   "metadata": {},
   "outputs": [],
   "source": [
    "dtype={'CAMEO_DEUG_2015': 'object', 'CAMEO_INTL_2015': 'object'}\n",
    "customers = pd.read_csv('./data/Udacity_CUSTOMERS_052018.csv', sep=';',  dtype= dtype, nrows = 5000)\n",
    "\n",
    "azdias = pd.read_csv('./data/Udacity_AZDIAS_052018.csv', sep=';', dtype = dtype, nrows = 5000)\n",
    "del azdias['LNR']"
   ]
  },
  {
   "cell_type": "code",
   "execution_count": 105,
   "metadata": {},
   "outputs": [],
   "source": [
    "cols_to_drop = np.setdiff1d(customers.columns, azdias.columns)\n",
    "customers.drop(cols_to_drop, axis=1, inplace=True)"
   ]
  },
  {
   "cell_type": "code",
   "execution_count": 106,
   "metadata": {},
   "outputs": [
    {
     "data": {
      "text/html": [
       "<div>\n",
       "<style scoped>\n",
       "    .dataframe tbody tr th:only-of-type {\n",
       "        vertical-align: middle;\n",
       "    }\n",
       "\n",
       "    .dataframe tbody tr th {\n",
       "        vertical-align: top;\n",
       "    }\n",
       "\n",
       "    .dataframe thead th {\n",
       "        text-align: right;\n",
       "    }\n",
       "</style>\n",
       "<table border=\"1\" class=\"dataframe\">\n",
       "  <thead>\n",
       "    <tr style=\"text-align: right;\">\n",
       "      <th></th>\n",
       "      <th>Attribute</th>\n",
       "      <th>type</th>\n",
       "      <th>Value</th>\n",
       "    </tr>\n",
       "  </thead>\n",
       "  <tbody>\n",
       "    <tr>\n",
       "      <th>0</th>\n",
       "      <td>KBA13_KMH_140_210</td>\n",
       "      <td>ordinal</td>\n",
       "      <td>[-1]</td>\n",
       "    </tr>\n",
       "    <tr>\n",
       "      <th>1</th>\n",
       "      <td>CJT_GESAMTTYP</td>\n",
       "      <td>categorical</td>\n",
       "      <td>[0]</td>\n",
       "    </tr>\n",
       "    <tr>\n",
       "      <th>2</th>\n",
       "      <td>FINANZ_VORSORGER</td>\n",
       "      <td>ordinal</td>\n",
       "      <td>[-1]</td>\n",
       "    </tr>\n",
       "    <tr>\n",
       "      <th>3</th>\n",
       "      <td>D19_GARTEN</td>\n",
       "      <td>ordinal</td>\n",
       "      <td>NaN</td>\n",
       "    </tr>\n",
       "    <tr>\n",
       "      <th>4</th>\n",
       "      <td>KBA05_CCM2</td>\n",
       "      <td>ordinal</td>\n",
       "      <td>[-1, 9]</td>\n",
       "    </tr>\n",
       "  </tbody>\n",
       "</table>\n",
       "</div>"
      ],
      "text/plain": [
       "           Attribute         type    Value\n",
       "0  KBA13_KMH_140_210      ordinal     [-1]\n",
       "1      CJT_GESAMTTYP  categorical      [0]\n",
       "2   FINANZ_VORSORGER      ordinal     [-1]\n",
       "3         D19_GARTEN      ordinal      NaN\n",
       "4         KBA05_CCM2      ordinal  [-1, 9]"
      ]
     },
     "execution_count": 106,
     "metadata": {},
     "output_type": "execute_result"
    }
   ],
   "source": [
    "feat_summary = pd.read_pickle('feat_summary.pkl')\n",
    "feat_summary.head()"
   ]
  },
  {
   "cell_type": "code",
   "execution_count": 107,
   "metadata": {},
   "outputs": [],
   "source": [
    "num_cols = get_features(feat_summary, typ=\"numerical\" )\n",
    "cat_cols = get_features(feat_summary, typ=\"categorical\")\n",
    "ord_cols = get_features(feat_summary, typ=\"ordinal\")"
   ]
  },
  {
   "cell_type": "markdown",
   "metadata": {},
   "source": [
    "## convert missing values or unknowns"
   ]
  },
  {
   "cell_type": "markdown",
   "metadata": {},
   "source": [
    "I noticed from the data set that unknows of some features are presented using more than one values, ('HH_EINKOMMEN_SCORE' : [-1, 0]). In this section, I will use information in the feature summary file (feat_summary.pkl), to re-assign a value to unknowns in the data. "
   ]
  },
  {
   "cell_type": "code",
   "execution_count": 108,
   "metadata": {
    "scrolled": false
   },
   "outputs": [
    {
     "data": {
      "text/plain": [
       "<matplotlib.axes._subplots.AxesSubplot at 0x1fc9acb84e0>"
      ]
     },
     "execution_count": 108,
     "metadata": {},
     "output_type": "execute_result"
    },
    {
     "data": {
      "image/png": "[encoded data removed]",
      "text/plain": [
       "<Figure size 432x288 with 1 Axes>"
      ]
     },
     "metadata": {
      "needs_background": "light"
     },
     "output_type": "display_data"
    }
   ],
   "source": [
    "# hist before updating the dataframe\n",
    "hist_nan(azdias, axis=0)"
   ]
  },
  {
   "cell_type": "code",
   "execution_count": 109,
   "metadata": {
    "scrolled": true
   },
   "outputs": [],
   "source": [
    "azdias = unkown_mapping(azdias, feat_summary)"
   ]
  },
  {
   "cell_type": "code",
   "execution_count": 110,
   "metadata": {},
   "outputs": [
    {
     "data": {
      "text/plain": [
       "<matplotlib.axes._subplots.AxesSubplot at 0x1fc9d59e1d0>"
      ]
     },
     "execution_count": 110,
     "metadata": {},
     "output_type": "execute_result"
    },
    {
     "data": {
      "image/png": "[encoded data removed]",
      "text/plain": [
       "<Figure size 432x288 with 1 Axes>"
      ]
     },
     "metadata": {
      "needs_background": "light"
     },
     "output_type": "display_data"
    }
   ],
   "source": [
    "hist_nan(azdias, axis=0)"
   ]
  },
  {
   "cell_type": "markdown",
   "metadata": {},
   "source": [
    "## outlier detection "
   ]
  },
  {
   "cell_type": "markdown",
   "metadata": {},
   "source": [
    "I will use a simple method to identify outlier: zscore. If any data has a zscore larger than 3, it will be treated as outlier. The columns with outlier will be further examined, and re-assigned with a data type if it is necessary."
   ]
  },
  {
   "cell_type": "code",
   "execution_count": 111,
   "metadata": {
    "scrolled": false
   },
   "outputs": [],
   "source": [
    "# # Check if the dataframe still contain any strings or any other non-numeric values \n",
    "# cols = []\n",
    "# for col in azdias.columns:\n",
    "#     if any(isinstance(y,(str)) for y in azdias[col].unique()):  \n",
    "#         print('{:}, {:}'.format( col , azdias[col].unique()))\n",
    "#         cols.append(col)"
   ]
  },
  {
   "cell_type": "code",
   "execution_count": 112,
   "metadata": {},
   "outputs": [],
   "source": [
    "# Unknown of some features are encoded as 'X' or 'XX', replace them as np.nan, we will convert the others \n",
    "azdias.replace(['X','XX'], np.nan, inplace=True)"
   ]
  },
  {
   "cell_type": "code",
   "execution_count": 113,
   "metadata": {
    "scrolled": false
   },
   "outputs": [
    {
     "name": "stdout",
     "output_type": "stream",
     "text": [
      "D19_GARTEN\n",
      "KBA13_KRSSEG_KLEIN\n",
      "D19_WEIN_FEINKOST\n",
      "D19_VERSAND_ANZ_12\n",
      "D19_TELKO_ANZ_12\n",
      "D19_BANKEN_REST\n",
      "D19_VERSAND_OFFLINE_DATUM\n",
      "D19_BILDUNG\n",
      "D19_SAMMELARTIKEL\n",
      "D19_BANKEN_DIREKT\n",
      "D19_BANKEN_ANZ_24\n",
      "D19_SCHUHE\n",
      "D19_VERSI_OFFLINE_DATUM\n",
      "PLZ8_ANTG2\n",
      "D19_DROGERIEARTIKEL\n",
      "WOHNDAUER_2008\n",
      "D19_BANKEN_LOKAL\n",
      "D19_TELKO_ONLINE_QUOTE_12\n",
      "D19_TELKO_ONLINE_DATUM\n",
      "D19_NAHRUNGSERGAENZUNG\n",
      "D19_TELKO_OFFLINE_DATUM\n",
      "KBA13_KRSSEG_OBER\n",
      "D19_TIERARTIKEL\n",
      "D19_RATGEBER\n",
      "KBA13_KRSHERST_BMW_BENZ\n",
      "D19_VERSI_ONLINE_DATUM\n",
      "D19_BANKEN_ONLINE_QUOTE_12\n",
      "D19_BIO_OEKO\n",
      "D19_HANDWERK\n",
      "D19_VERSI_ONLINE_QUOTE_12\n",
      "KBA13_KRSSEG_VAN\n",
      "D19_VERSI_DATUM\n",
      "D19_GESAMT_OFFLINE_DATUM\n",
      "D19_BANKEN_ANZ_12\n",
      "D19_FREIZEIT\n",
      "D19_BANKEN_GROSS\n",
      "KBA13_ANZAHL_PKW\n",
      "D19_TELKO_DATUM\n",
      "D19_VERSI_ANZ_12\n",
      "D19_VERSAND_REST\n",
      "D19_TELKO_ANZ_24\n",
      "D19_LEBENSMITTEL\n",
      "D19_VERSI_ANZ_24\n",
      "D19_BEKLEIDUNG_GEH\n",
      "D19_DIGIT_SERV\n",
      "D19_TELKO_REST\n",
      "D19_ENERGIE\n"
     ]
    }
   ],
   "source": [
    "column_with_outliers = []\n",
    "\n",
    "for col in ord_cols: \n",
    "    \n",
    "    values = azdias[col].dropna()\n",
    "    if (np.abs(stats.zscore(values)) > 3).any():\n",
    "#         fig, ax = plt.subplots()\n",
    "#         sns.countplot(values)\n",
    "        print(col)\n",
    "        column_with_outliers.append(col)"
   ]
  },
  {
   "cell_type": "code",
   "execution_count": 114,
   "metadata": {},
   "outputs": [
    {
     "data": {
      "text/plain": [
       "<matplotlib.axes._subplots.AxesSubplot at 0x1fc9d586160>"
      ]
     },
     "execution_count": 114,
     "metadata": {},
     "output_type": "execute_result"
    },
    {
     "data": {
      "image/png": "[encoded data removed]",
      "text/plain": [
       "<Figure size 432x288 with 1 Axes>"
      ]
     },
     "metadata": {
      "needs_background": "light"
     },
     "output_type": "display_data"
    }
   ],
   "source": [
    "sns.countplot(azdias[\"KBA13_ANZAHL_PKW\"])"
   ]
  },
  {
   "cell_type": "markdown",
   "metadata": {},
   "source": [
    "From the count plots above, it is concluded that columns with outliers are mostly the ones not explicitly explained the information file, and assumed to be ordinal information at earlier analysis. Since there isn't much information avaialbe about those data, I will asign a very simple rule to treat those columns, \n",
    "\n",
    "- for columns with small range, i will treat those as categorical. \n",
    "- for ones with a large range, I will treat them as numerical."
   ]
  },
  {
   "cell_type": "code",
   "execution_count": 115,
   "metadata": {},
   "outputs": [
    {
     "data": {
      "text/html": [
       "<div>\n",
       "<style scoped>\n",
       "    .dataframe tbody tr th:only-of-type {\n",
       "        vertical-align: middle;\n",
       "    }\n",
       "\n",
       "    .dataframe tbody tr th {\n",
       "        vertical-align: top;\n",
       "    }\n",
       "\n",
       "    .dataframe thead th {\n",
       "        text-align: right;\n",
       "    }\n",
       "</style>\n",
       "<table border=\"1\" class=\"dataframe\">\n",
       "  <thead>\n",
       "    <tr style=\"text-align: right;\">\n",
       "      <th></th>\n",
       "      <th>KBA13_ANZAHL_PKW</th>\n",
       "      <th>VERDICHTUNGSRAUM</th>\n",
       "    </tr>\n",
       "  </thead>\n",
       "  <tbody>\n",
       "    <tr>\n",
       "      <th>count</th>\n",
       "      <td>4187.000000</td>\n",
       "      <td>2230.000000</td>\n",
       "    </tr>\n",
       "    <tr>\n",
       "      <th>mean</th>\n",
       "      <td>626.002627</td>\n",
       "      <td>9.024215</td>\n",
       "    </tr>\n",
       "    <tr>\n",
       "      <th>std</th>\n",
       "      <td>349.657587</td>\n",
       "      <td>10.371448</td>\n",
       "    </tr>\n",
       "    <tr>\n",
       "      <th>min</th>\n",
       "      <td>0.000000</td>\n",
       "      <td>1.000000</td>\n",
       "    </tr>\n",
       "    <tr>\n",
       "      <th>25%</th>\n",
       "      <td>390.000000</td>\n",
       "      <td>1.000000</td>\n",
       "    </tr>\n",
       "    <tr>\n",
       "      <th>50%</th>\n",
       "      <td>554.000000</td>\n",
       "      <td>5.000000</td>\n",
       "    </tr>\n",
       "    <tr>\n",
       "      <th>75%</th>\n",
       "      <td>775.000000</td>\n",
       "      <td>13.000000</td>\n",
       "    </tr>\n",
       "    <tr>\n",
       "      <th>max</th>\n",
       "      <td>2300.000000</td>\n",
       "      <td>45.000000</td>\n",
       "    </tr>\n",
       "  </tbody>\n",
       "</table>\n",
       "</div>"
      ],
      "text/plain": [
       "       KBA13_ANZAHL_PKW  VERDICHTUNGSRAUM\n",
       "count       4187.000000       2230.000000\n",
       "mean         626.002627          9.024215\n",
       "std          349.657587         10.371448\n",
       "min            0.000000          1.000000\n",
       "25%          390.000000          1.000000\n",
       "50%          554.000000          5.000000\n",
       "75%          775.000000         13.000000\n",
       "max         2300.000000         45.000000"
      ]
     },
     "execution_count": 115,
     "metadata": {},
     "output_type": "execute_result"
    }
   ],
   "source": [
    "to_num = ['KBA13_ANZAHL_PKW', 'VERDICHTUNGSRAUM']\n",
    "azdias[to_num].describe()"
   ]
  },
  {
   "cell_type": "code",
   "execution_count": 116,
   "metadata": {},
   "outputs": [],
   "source": [
    "to_cat = np.setdiff1d(column_with_outliers, to_num)"
   ]
  },
  {
   "cell_type": "code",
   "execution_count": 117,
   "metadata": {},
   "outputs": [],
   "source": [
    "# update the feature summary\n",
    "cat_cols = np.concatenate([cat_cols, to_cat])\n",
    "# np.num_cols "
   ]
  },
  {
   "cell_type": "code",
   "execution_count": 118,
   "metadata": {},
   "outputs": [],
   "source": [
    "# update the feat_summary"
   ]
  },
  {
   "cell_type": "code",
   "execution_count": 119,
   "metadata": {},
   "outputs": [],
   "source": [
    "for col in to_num:\n",
    "    feat_summary.loc[feat_summary[\"Attribute\"] == col, 'type'] = 'numerical'"
   ]
  },
  {
   "cell_type": "code",
   "execution_count": 120,
   "metadata": {},
   "outputs": [],
   "source": [
    "for col in to_cat:\n",
    "    feat_summary.loc[feat_summary[\"Attribute\"] == col, 'type'] = 'categorical'"
   ]
  },
  {
   "cell_type": "markdown",
   "metadata": {},
   "source": [
    "##  Drop rows that have large number of missing"
   ]
  },
  {
   "cell_type": "markdown",
   "metadata": {},
   "source": [
    "distributions of non-missing features look similar between the data with many missing values and the data with few or no missing values, then we could argue that simply dropping those points from the analysis won't present a major issue. "
   ]
  },
  {
   "cell_type": "code",
   "execution_count": 121,
   "metadata": {
    "scrolled": true
   },
   "outputs": [
    {
     "name": "stdout",
     "output_type": "stream",
     "text": [
      "Demographics data file contains 365 features\n"
     ]
    }
   ],
   "source": [
    "threshold = 1.0\n",
    "azdias = drop_columns(azdias, threshold = threshold)\n",
    "azdias = drop_rows(azdias, threshold = threshold)\n",
    "feature_count(azdias)"
   ]
  },
  {
   "cell_type": "markdown",
   "metadata": {},
   "source": [
    "## Imputation"
   ]
  },
  {
   "cell_type": "code",
   "execution_count": 122,
   "metadata": {
    "scrolled": false
   },
   "outputs": [],
   "source": [
    "## Summary of nans for  each column\n",
    "# NaN count in columns where\n",
    "azdias_nan  = azdias.isna().mean() * 100 #portion of NaN\n",
    "azdias_nan_ = azdias_nan.loc[azdias_nan> 20]"
   ]
  },
  {
   "cell_type": "code",
   "execution_count": 123,
   "metadata": {
    "scrolled": false
   },
   "outputs": [
    {
     "data": {
      "text/plain": [
       "<matplotlib.axes._subplots.AxesSubplot at 0x1fc9df678d0>"
      ]
     },
     "execution_count": 123,
     "metadata": {},
     "output_type": "execute_result"
    },
    {
     "data": {
      "image/png": "[encoded data removed]",
      "text/plain": [
       "<Figure size 576x720 with 1 Axes>"
      ]
     },
     "metadata": {
      "needs_background": "light"
     },
     "output_type": "display_data"
    }
   ],
   "source": [
    "azdias_nan_.sort_values(ascending=True).plot(kind = 'barh', figsize = (8,10))"
   ]
  },
  {
   "cell_type": "markdown",
   "metadata": {},
   "source": [
    "## \n",
    "\n",
    "Checking for missing data isn't the only way in which you can prepare a dataset for analysis. Since the unsupervised learning techniques to be used will only work on data that is encoded numerically, you need to make a few encoding changes or additional assumptions to be able to make progress. In addition, while almost all of the values in the dataset are encoded using numbers, not all of them represent numeric values. \n",
    "\n",
    "- For numeric and interval data, these features needs to be scaled \n",
    "- Most of the variables in the dataset are ordinal in nature. While ordinal values may technically be non-linear in spacing, make the simplifying assumption that the ordinal variables can be treated as being interval in nature (that is, kept without any changes). -> to be scaled\n",
    "- Special handling may be necessary for the remaining two variable types: categorical\n",
    "- Mixed data is also treated the same way as cat-data"
   ]
  },
  {
   "cell_type": "code",
   "execution_count": 124,
   "metadata": {
    "scrolled": false
   },
   "outputs": [
    {
     "data": {
      "text/plain": [
       "<matplotlib.axes._subplots.AxesSubplot at 0x1fca20f4978>"
      ]
     },
     "execution_count": 124,
     "metadata": {},
     "output_type": "execute_result"
    },
    {
     "data": {
      "image/png": "[encoded data removed]",
      "text/plain": [
       "<Figure size 432x288 with 1 Axes>"
      ]
     },
     "metadata": {
      "needs_background": "light"
     },
     "output_type": "display_data"
    }
   ],
   "source": [
    "hist_nan(azdias)"
   ]
  },
  {
   "cell_type": "markdown",
   "metadata": {},
   "source": [
    "#### Imputing missing value"
   ]
  },
  {
   "cell_type": "code",
   "execution_count": 125,
   "metadata": {},
   "outputs": [
    {
     "data": {
      "text/html": [
       "<div>\n",
       "<style scoped>\n",
       "    .dataframe tbody tr th:only-of-type {\n",
       "        vertical-align: middle;\n",
       "    }\n",
       "\n",
       "    .dataframe tbody tr th {\n",
       "        vertical-align: top;\n",
       "    }\n",
       "\n",
       "    .dataframe thead th {\n",
       "        text-align: right;\n",
       "    }\n",
       "</style>\n",
       "<table border=\"1\" class=\"dataframe\">\n",
       "  <thead>\n",
       "    <tr style=\"text-align: right;\">\n",
       "      <th></th>\n",
       "      <th>AGER_TYP</th>\n",
       "      <th>AKT_DAT_KL</th>\n",
       "      <th>ALTER_HH</th>\n",
       "      <th>ALTER_KIND1</th>\n",
       "      <th>ALTER_KIND2</th>\n",
       "      <th>ALTER_KIND3</th>\n",
       "      <th>ALTER_KIND4</th>\n",
       "      <th>ALTERSKATEGORIE_FEIN</th>\n",
       "      <th>ANZ_HAUSHALTE_AKTIV</th>\n",
       "      <th>ANZ_HH_TITEL</th>\n",
       "      <th>...</th>\n",
       "      <th>VHN</th>\n",
       "      <th>VK_DHT4A</th>\n",
       "      <th>VK_DISTANZ</th>\n",
       "      <th>VK_ZG11</th>\n",
       "      <th>W_KEIT_KIND_HH</th>\n",
       "      <th>WOHNDAUER_2008</th>\n",
       "      <th>WOHNLAGE</th>\n",
       "      <th>ZABEOTYP</th>\n",
       "      <th>ANREDE_KZ</th>\n",
       "      <th>ALTERSKATEGORIE_GROB</th>\n",
       "    </tr>\n",
       "  </thead>\n",
       "  <tbody>\n",
       "    <tr>\n",
       "      <th>0</th>\n",
       "      <td>NaN</td>\n",
       "      <td>NaN</td>\n",
       "      <td>NaN</td>\n",
       "      <td>NaN</td>\n",
       "      <td>NaN</td>\n",
       "      <td>NaN</td>\n",
       "      <td>NaN</td>\n",
       "      <td>NaN</td>\n",
       "      <td>NaN</td>\n",
       "      <td>NaN</td>\n",
       "      <td>...</td>\n",
       "      <td>NaN</td>\n",
       "      <td>NaN</td>\n",
       "      <td>NaN</td>\n",
       "      <td>NaN</td>\n",
       "      <td>NaN</td>\n",
       "      <td>NaN</td>\n",
       "      <td>NaN</td>\n",
       "      <td>3</td>\n",
       "      <td>1</td>\n",
       "      <td>2</td>\n",
       "    </tr>\n",
       "    <tr>\n",
       "      <th>1</th>\n",
       "      <td>NaN</td>\n",
       "      <td>9.0</td>\n",
       "      <td>NaN</td>\n",
       "      <td>NaN</td>\n",
       "      <td>NaN</td>\n",
       "      <td>NaN</td>\n",
       "      <td>NaN</td>\n",
       "      <td>21.0</td>\n",
       "      <td>11.0</td>\n",
       "      <td>NaN</td>\n",
       "      <td>...</td>\n",
       "      <td>4.0</td>\n",
       "      <td>8.0</td>\n",
       "      <td>11.0</td>\n",
       "      <td>10.0</td>\n",
       "      <td>3.0</td>\n",
       "      <td>9.0</td>\n",
       "      <td>4.0</td>\n",
       "      <td>5</td>\n",
       "      <td>2</td>\n",
       "      <td>1</td>\n",
       "    </tr>\n",
       "    <tr>\n",
       "      <th>2</th>\n",
       "      <td>NaN</td>\n",
       "      <td>9.0</td>\n",
       "      <td>17.0</td>\n",
       "      <td>NaN</td>\n",
       "      <td>NaN</td>\n",
       "      <td>NaN</td>\n",
       "      <td>NaN</td>\n",
       "      <td>17.0</td>\n",
       "      <td>10.0</td>\n",
       "      <td>NaN</td>\n",
       "      <td>...</td>\n",
       "      <td>2.0</td>\n",
       "      <td>9.0</td>\n",
       "      <td>9.0</td>\n",
       "      <td>6.0</td>\n",
       "      <td>3.0</td>\n",
       "      <td>9.0</td>\n",
       "      <td>2.0</td>\n",
       "      <td>5</td>\n",
       "      <td>2</td>\n",
       "      <td>3</td>\n",
       "    </tr>\n",
       "    <tr>\n",
       "      <th>3</th>\n",
       "      <td>2.0</td>\n",
       "      <td>1.0</td>\n",
       "      <td>13.0</td>\n",
       "      <td>NaN</td>\n",
       "      <td>NaN</td>\n",
       "      <td>NaN</td>\n",
       "      <td>NaN</td>\n",
       "      <td>13.0</td>\n",
       "      <td>1.0</td>\n",
       "      <td>NaN</td>\n",
       "      <td>...</td>\n",
       "      <td>0.0</td>\n",
       "      <td>7.0</td>\n",
       "      <td>10.0</td>\n",
       "      <td>11.0</td>\n",
       "      <td>NaN</td>\n",
       "      <td>9.0</td>\n",
       "      <td>7.0</td>\n",
       "      <td>3</td>\n",
       "      <td>2</td>\n",
       "      <td>4</td>\n",
       "    </tr>\n",
       "    <tr>\n",
       "      <th>4</th>\n",
       "      <td>NaN</td>\n",
       "      <td>1.0</td>\n",
       "      <td>20.0</td>\n",
       "      <td>NaN</td>\n",
       "      <td>NaN</td>\n",
       "      <td>NaN</td>\n",
       "      <td>NaN</td>\n",
       "      <td>14.0</td>\n",
       "      <td>3.0</td>\n",
       "      <td>NaN</td>\n",
       "      <td>...</td>\n",
       "      <td>2.0</td>\n",
       "      <td>3.0</td>\n",
       "      <td>5.0</td>\n",
       "      <td>4.0</td>\n",
       "      <td>2.0</td>\n",
       "      <td>9.0</td>\n",
       "      <td>3.0</td>\n",
       "      <td>4</td>\n",
       "      <td>1</td>\n",
       "      <td>3</td>\n",
       "    </tr>\n",
       "    <tr>\n",
       "      <th>...</th>\n",
       "      <td>...</td>\n",
       "      <td>...</td>\n",
       "      <td>...</td>\n",
       "      <td>...</td>\n",
       "      <td>...</td>\n",
       "      <td>...</td>\n",
       "      <td>...</td>\n",
       "      <td>...</td>\n",
       "      <td>...</td>\n",
       "      <td>...</td>\n",
       "      <td>...</td>\n",
       "      <td>...</td>\n",
       "      <td>...</td>\n",
       "      <td>...</td>\n",
       "      <td>...</td>\n",
       "      <td>...</td>\n",
       "      <td>...</td>\n",
       "      <td>...</td>\n",
       "      <td>...</td>\n",
       "      <td>...</td>\n",
       "      <td>...</td>\n",
       "    </tr>\n",
       "    <tr>\n",
       "      <th>4995</th>\n",
       "      <td>NaN</td>\n",
       "      <td>4.0</td>\n",
       "      <td>19.0</td>\n",
       "      <td>NaN</td>\n",
       "      <td>NaN</td>\n",
       "      <td>NaN</td>\n",
       "      <td>NaN</td>\n",
       "      <td>19.0</td>\n",
       "      <td>2.0</td>\n",
       "      <td>NaN</td>\n",
       "      <td>...</td>\n",
       "      <td>1.0</td>\n",
       "      <td>2.0</td>\n",
       "      <td>3.0</td>\n",
       "      <td>7.0</td>\n",
       "      <td>6.0</td>\n",
       "      <td>4.0</td>\n",
       "      <td>3.0</td>\n",
       "      <td>4</td>\n",
       "      <td>2</td>\n",
       "      <td>1</td>\n",
       "    </tr>\n",
       "    <tr>\n",
       "      <th>4996</th>\n",
       "      <td>NaN</td>\n",
       "      <td>1.0</td>\n",
       "      <td>14.0</td>\n",
       "      <td>NaN</td>\n",
       "      <td>NaN</td>\n",
       "      <td>NaN</td>\n",
       "      <td>NaN</td>\n",
       "      <td>14.0</td>\n",
       "      <td>1.0</td>\n",
       "      <td>NaN</td>\n",
       "      <td>...</td>\n",
       "      <td>2.0</td>\n",
       "      <td>2.0</td>\n",
       "      <td>3.0</td>\n",
       "      <td>3.0</td>\n",
       "      <td>3.0</td>\n",
       "      <td>9.0</td>\n",
       "      <td>7.0</td>\n",
       "      <td>3</td>\n",
       "      <td>2</td>\n",
       "      <td>4</td>\n",
       "    </tr>\n",
       "    <tr>\n",
       "      <th>4997</th>\n",
       "      <td>NaN</td>\n",
       "      <td>9.0</td>\n",
       "      <td>15.0</td>\n",
       "      <td>16.0</td>\n",
       "      <td>NaN</td>\n",
       "      <td>NaN</td>\n",
       "      <td>NaN</td>\n",
       "      <td>15.0</td>\n",
       "      <td>2.0</td>\n",
       "      <td>NaN</td>\n",
       "      <td>...</td>\n",
       "      <td>4.0</td>\n",
       "      <td>3.0</td>\n",
       "      <td>6.0</td>\n",
       "      <td>4.0</td>\n",
       "      <td>1.0</td>\n",
       "      <td>9.0</td>\n",
       "      <td>1.0</td>\n",
       "      <td>1</td>\n",
       "      <td>1</td>\n",
       "      <td>3</td>\n",
       "    </tr>\n",
       "    <tr>\n",
       "      <th>4998</th>\n",
       "      <td>NaN</td>\n",
       "      <td>1.0</td>\n",
       "      <td>12.0</td>\n",
       "      <td>NaN</td>\n",
       "      <td>NaN</td>\n",
       "      <td>NaN</td>\n",
       "      <td>NaN</td>\n",
       "      <td>12.0</td>\n",
       "      <td>2.0</td>\n",
       "      <td>1.0</td>\n",
       "      <td>...</td>\n",
       "      <td>3.0</td>\n",
       "      <td>NaN</td>\n",
       "      <td>NaN</td>\n",
       "      <td>NaN</td>\n",
       "      <td>6.0</td>\n",
       "      <td>9.0</td>\n",
       "      <td>1.0</td>\n",
       "      <td>3</td>\n",
       "      <td>2</td>\n",
       "      <td>1</td>\n",
       "    </tr>\n",
       "    <tr>\n",
       "      <th>4999</th>\n",
       "      <td>NaN</td>\n",
       "      <td>1.0</td>\n",
       "      <td>18.0</td>\n",
       "      <td>NaN</td>\n",
       "      <td>NaN</td>\n",
       "      <td>NaN</td>\n",
       "      <td>NaN</td>\n",
       "      <td>16.0</td>\n",
       "      <td>1.0</td>\n",
       "      <td>NaN</td>\n",
       "      <td>...</td>\n",
       "      <td>1.0</td>\n",
       "      <td>4.0</td>\n",
       "      <td>7.0</td>\n",
       "      <td>6.0</td>\n",
       "      <td>3.0</td>\n",
       "      <td>6.0</td>\n",
       "      <td>2.0</td>\n",
       "      <td>2</td>\n",
       "      <td>1</td>\n",
       "      <td>4</td>\n",
       "    </tr>\n",
       "  </tbody>\n",
       "</table>\n",
       "<p>5000 rows × 365 columns</p>\n",
       "</div>"
      ],
      "text/plain": [
       "      AGER_TYP  AKT_DAT_KL  ALTER_HH  ALTER_KIND1  ALTER_KIND2  ALTER_KIND3  \\\n",
       "0          NaN         NaN       NaN          NaN          NaN          NaN   \n",
       "1          NaN         9.0       NaN          NaN          NaN          NaN   \n",
       "2          NaN         9.0      17.0          NaN          NaN          NaN   \n",
       "3          2.0         1.0      13.0          NaN          NaN          NaN   \n",
       "4          NaN         1.0      20.0          NaN          NaN          NaN   \n",
       "...        ...         ...       ...          ...          ...          ...   \n",
       "4995       NaN         4.0      19.0          NaN          NaN          NaN   \n",
       "4996       NaN         1.0      14.0          NaN          NaN          NaN   \n",
       "4997       NaN         9.0      15.0         16.0          NaN          NaN   \n",
       "4998       NaN         1.0      12.0          NaN          NaN          NaN   \n",
       "4999       NaN         1.0      18.0          NaN          NaN          NaN   \n",
       "\n",
       "      ALTER_KIND4  ALTERSKATEGORIE_FEIN  ANZ_HAUSHALTE_AKTIV  ANZ_HH_TITEL  \\\n",
       "0             NaN                   NaN                  NaN           NaN   \n",
       "1             NaN                  21.0                 11.0           NaN   \n",
       "2             NaN                  17.0                 10.0           NaN   \n",
       "3             NaN                  13.0                  1.0           NaN   \n",
       "4             NaN                  14.0                  3.0           NaN   \n",
       "...           ...                   ...                  ...           ...   \n",
       "4995          NaN                  19.0                  2.0           NaN   \n",
       "4996          NaN                  14.0                  1.0           NaN   \n",
       "4997          NaN                  15.0                  2.0           NaN   \n",
       "4998          NaN                  12.0                  2.0           1.0   \n",
       "4999          NaN                  16.0                  1.0           NaN   \n",
       "\n",
       "      ...  VHN  VK_DHT4A  VK_DISTANZ  VK_ZG11  W_KEIT_KIND_HH  WOHNDAUER_2008  \\\n",
       "0     ...  NaN       NaN         NaN      NaN             NaN             NaN   \n",
       "1     ...  4.0       8.0        11.0     10.0             3.0             9.0   \n",
       "2     ...  2.0       9.0         9.0      6.0             3.0             9.0   \n",
       "3     ...  0.0       7.0        10.0     11.0             NaN             9.0   \n",
       "4     ...  2.0       3.0         5.0      4.0             2.0             9.0   \n",
       "...   ...  ...       ...         ...      ...             ...             ...   \n",
       "4995  ...  1.0       2.0         3.0      7.0             6.0             4.0   \n",
       "4996  ...  2.0       2.0         3.0      3.0             3.0             9.0   \n",
       "4997  ...  4.0       3.0         6.0      4.0             1.0             9.0   \n",
       "4998  ...  3.0       NaN         NaN      NaN             6.0             9.0   \n",
       "4999  ...  1.0       4.0         7.0      6.0             3.0             6.0   \n",
       "\n",
       "     WOHNLAGE ZABEOTYP ANREDE_KZ  ALTERSKATEGORIE_GROB  \n",
       "0         NaN        3         1                     2  \n",
       "1         4.0        5         2                     1  \n",
       "2         2.0        5         2                     3  \n",
       "3         7.0        3         2                     4  \n",
       "4         3.0        4         1                     3  \n",
       "...       ...      ...       ...                   ...  \n",
       "4995      3.0        4         2                     1  \n",
       "4996      7.0        3         2                     4  \n",
       "4997      1.0        1         1                     3  \n",
       "4998      1.0        3         2                     1  \n",
       "4999      2.0        2         1                     4  \n",
       "\n",
       "[5000 rows x 365 columns]"
      ]
     },
     "execution_count": 125,
     "metadata": {},
     "output_type": "execute_result"
    }
   ],
   "source": [
    "azdias"
   ]
  },
  {
   "cell_type": "code",
   "execution_count": 126,
   "metadata": {},
   "outputs": [],
   "source": [
    "imp = SimpleImputer(missing_values=np.nan, strategy='most_frequent')\n",
    "azdias_transformed = pd.DataFrame(imp.fit_transform(azdias))"
   ]
  },
  {
   "cell_type": "code",
   "execution_count": 127,
   "metadata": {},
   "outputs": [],
   "source": [
    "# azdias"
   ]
  },
  {
   "cell_type": "code",
   "execution_count": 128,
   "metadata": {},
   "outputs": [],
   "source": [
    "# # Replace NaN using the most frequent item in each column\n",
    "# imp = SimpleImputer(missing_values=np.nan, strategy='most_frequent')\n",
    "# azdias_transformed = pd.DataFrame(imp.fit_transform(azdias))\n",
    "\n",
    "azdias_transformed.columns= azdias.columns\n",
    "azdias_transformed.index=azdias.index"
   ]
  },
  {
   "cell_type": "code",
   "execution_count": 129,
   "metadata": {},
   "outputs": [],
   "source": [
    "# azdias"
   ]
  },
  {
   "cell_type": "markdown",
   "metadata": {},
   "source": [
    "#### handle cat features"
   ]
  },
  {
   "cell_type": "code",
   "execution_count": 130,
   "metadata": {},
   "outputs": [],
   "source": [
    "to_label_encoder = [\"OST_WEST_KZ\",\"CAMEO_DEUG_2015\", \"CAMEO_DEU_2015\", \"CAMEO_INTL_2015\", 'D19_LETZTER_KAUF_BRANCHE']"
   ]
  },
  {
   "cell_type": "code",
   "execution_count": 131,
   "metadata": {},
   "outputs": [],
   "source": [
    "le = preprocessing.LabelEncoder()\n",
    "\n",
    "for col in to_label_encoder:\n",
    "    try:\n",
    "        azdias_transformed[col] = le.fit_transform(azdias_transformed[col])\n",
    "    except:\n",
    "        print('{:} not in dataframe'.format(col))"
   ]
  },
  {
   "cell_type": "code",
   "execution_count": 132,
   "metadata": {},
   "outputs": [],
   "source": [
    "# cat_cols"
   ]
  },
  {
   "cell_type": "code",
   "execution_count": 133,
   "metadata": {},
   "outputs": [],
   "source": [
    "cat_cols = np.intersect1d(cat_cols, azdias_transformed.columns)\n",
    "azdias_transformed[cat_cols] = azdias_transformed[cat_cols].astype('category')\n",
    "azdias_transformed = pd.get_dummies(azdias_transformed, drop_first= True, columns= cat_cols)"
   ]
  },
  {
   "cell_type": "code",
   "execution_count": 134,
   "metadata": {},
   "outputs": [],
   "source": [
    "# azdias"
   ]
  },
  {
   "cell_type": "markdown",
   "metadata": {},
   "source": [
    "## Feature Transformation\n",
    "\n",
    "Before we apply dimensionality reduction techniques to the data, we need to perform feature scaling so that the principal component vectors are not influenced by the natural differences in scale for features. Starting from this part of the project, you'll want to keep an eye on the API reference page for sklearn to help you navigate to all of the classes and functions that you'll need. In this substep, you'll need to check the following:\n",
    "sklearn requires that data not have missing values in order for its estimators to work properly. So, before applying the scaler to your data, make sure that you've cleaned the DataFrame of the remaining missing values. \n",
    "\n",
    "This can be as simple as just removing all data points with missing data, or applying an Imputer to replace all missing values. You might also try a more complicated procedure where you temporarily remove missing values in order to compute the scaling parameters before re-introducing those missing values and applying imputation. Think about how much missing data you have and what possible effects each approach might have on your analysis, and justify your decision in the discussion section below.\n",
    "\n",
    "For the actual scaling function, a StandardScaler instance is suggested, scaling each feature to mean 0 and standard deviation 1.\n",
    "\n",
    "For these classes, you can make use of the .fit_transform() method to both fit a procedure to the data as well as apply the transformation to the data at the same time. Don't forget to keep the fit sklearn objects handy, since you'll be applying them to the customer demographics data towards the end of the project."
   ]
  },
  {
   "cell_type": "markdown",
   "metadata": {},
   "source": [
    "apply feature scaling to the numeric columns. ordinal values converted to [0,1] already. therefore there is no need to convert those columns "
   ]
  },
  {
   "cell_type": "code",
   "execution_count": 135,
   "metadata": {},
   "outputs": [],
   "source": [
    "# pd.DatetimeIndex(azdias_transformed['EINGEFUEGT_AM']).year"
   ]
  },
  {
   "cell_type": "code",
   "execution_count": 136,
   "metadata": {},
   "outputs": [],
   "source": [
    "azdias_transformed['EINGEFUEGT_AM'] = pd.DatetimeIndex(azdias_transformed['EINGEFUEGT_AM']).year"
   ]
  },
  {
   "cell_type": "code",
   "execution_count": 137,
   "metadata": {},
   "outputs": [
    {
     "data": {
      "text/plain": [
       "array(['ANZ_KINDER', 'ALTER_KIND2', 'EXTSEL992', 'ANZ_PERSONEN',\n",
       "       'ANZ_HH_TITEL', 'EINGEZOGENAM_HH_JAHR', 'ANZ_HAUSHALTE_AKTIV',\n",
       "       'ANZ_TITEL', 'ALTER_KIND1', 'MIN_GEBAEUDEJAHR', 'EINGEFUEGT_AM',\n",
       "       'KBA13_ANZAHL_PKW', 'ALTER_KIND4', 'GEBURTSJAHR',\n",
       "       'VERDICHTUNGSRAUM', 'ANZ_STATISTISCHE_HAUSHALTE', 'VK_DISTANZ'],\n",
       "      dtype=object)"
      ]
     },
     "execution_count": 137,
     "metadata": {},
     "output_type": "execute_result"
    }
   ],
   "source": [
    "get_features(feat_summary, 'numerical' )"
   ]
  },
  {
   "cell_type": "code",
   "execution_count": 139,
   "metadata": {
    "scrolled": false
   },
   "outputs": [
    {
     "data": {
      "image/png": "[encoded data removed]",
      "text/plain": [
       "<Figure size 432x288 with 1 Axes>"
      ]
     },
     "metadata": {
      "needs_background": "light"
     },
     "output_type": "display_data"
    },
    {
     "data": {
      "image/png": "[encoded data removed]",
      "text/plain": [
       "<Figure size 432x288 with 1 Axes>"
      ]
     },
     "metadata": {
      "needs_background": "light"
     },
     "output_type": "display_data"
    },
    {
     "data": {
      "image/png": "[encoded data removed]",
      "text/plain": [
       "<Figure size 432x288 with 1 Axes>"
      ]
     },
     "metadata": {
      "needs_background": "light"
     },
     "output_type": "display_data"
    },
    {
     "data": {
      "image/png": "[encoded data removed]",
      "text/plain": [
       "<Figure size 432x288 with 1 Axes>"
      ]
     },
     "metadata": {
      "needs_background": "light"
     },
     "output_type": "display_data"
    },
    {
     "data": {
      "image/png": "[encoded data removed]",
      "text/plain": [
       "<Figure size 432x288 with 1 Axes>"
      ]
     },
     "metadata": {
      "needs_background": "light"
     },
     "output_type": "display_data"
    },
    {
     "data": {
      "image/png": "[encoded data removed]",
      "text/plain": [
       "<Figure size 432x288 with 1 Axes>"
      ]
     },
     "metadata": {
      "needs_background": "light"
     },
     "output_type": "display_data"
    },
    {
     "data": {
      "image/png": "[encoded data removed]",
      "text/plain": [
       "<Figure size 432x288 with 1 Axes>"
      ]
     },
     "metadata": {
      "needs_background": "light"
     },
     "output_type": "display_data"
    },
    {
     "data": {
      "image/png": "[encoded data removed]",
      "text/plain": [
       "<Figure size 432x288 with 1 Axes>"
      ]
     },
     "metadata": {
      "needs_background": "light"
     },
     "output_type": "display_data"
    },
    {
     "data": {
      "image/png": "[encoded data removed]",
      "text/plain": [
       "<Figure size 432x288 with 1 Axes>"
      ]
     },
     "metadata": {
      "needs_background": "light"
     },
     "output_type": "display_data"
    },
    {
     "data": {
      "image/png": "[encoded data removed]",
      "text/plain": [
       "<Figure size 432x288 with 1 Axes>"
      ]
     },
     "metadata": {
      "needs_background": "light"
     },
     "output_type": "display_data"
    },
    {
     "data": {
      "image/png": "[encoded data removed]",
      "text/plain": [
       "<Figure size 432x288 with 1 Axes>"
      ]
     },
     "metadata": {
      "needs_background": "light"
     },
     "output_type": "display_data"
    },
    {
     "data": {
      "image/png": "[encoded data removed]",
      "text/plain": [
       "<Figure size 432x288 with 1 Axes>"
      ]
     },
     "metadata": {
      "needs_background": "light"
     },
     "output_type": "display_data"
    },
    {
     "data": {
      "image/png": "[encoded data removed]",
      "text/plain": [
       "<Figure size 432x288 with 1 Axes>"
      ]
     },
     "metadata": {
      "needs_background": "light"
     },
     "output_type": "display_data"
    },
    {
     "data": {
      "image/png": "[encoded data removed]",
      "text/plain": [
       "<Figure size 432x288 with 1 Axes>"
      ]
     },
     "metadata": {
      "needs_background": "light"
     },
     "output_type": "display_data"
    },
    {
     "data": {
      "image/png": "[encoded data removed]",
      "text/plain": [
       "<Figure size 432x288 with 1 Axes>"
      ]
     },
     "metadata": {
      "needs_background": "light"
     },
     "output_type": "display_data"
    },
    {
     "data": {
      "image/png": "[encoded data removed]",
      "text/plain": [
       "<Figure size 432x288 with 1 Axes>"
      ]
     },
     "metadata": {
      "needs_background": "light"
     },
     "output_type": "display_data"
    },
    {
     "data": {
      "image/png": "[encoded data removed]",
      "text/plain": [
       "<Figure size 432x288 with 1 Axes>"
      ]
     },
     "metadata": {
      "needs_background": "light"
     },
     "output_type": "display_data"
    }
   ],
   "source": [
    "num_cols = get_features(feat_summary, 'numerical', azdias_transformed )\n",
    "azdias_transformed[num_cols] = azdias_transformed[num_cols].astype('int64')\n",
    "\n",
    "# print(num_cols)\n",
    "\n",
    "for col in num_cols:\n",
    "    fig, ax = plt.subplots()\n",
    "    plt.hist(azdias_transformed[col])\n",
    "    plt.title(col)"
   ]
  },
  {
   "cell_type": "code",
   "execution_count": 140,
   "metadata": {},
   "outputs": [],
   "source": [
    "num_cols_log_scale = ['ANZ_HAUSHALTE_AKTIV', 'ANZ_PERSONEN', 'ANZ_STATISTISCHE_HAUSHALTE', \"VERDICHTUNGSRAUM\"]\n",
    "num_cols_min_max_scale = np.setdiff1d(num_cols, num_cols_log_scale)"
   ]
  },
  {
   "cell_type": "code",
   "execution_count": 141,
   "metadata": {},
   "outputs": [],
   "source": [
    "a_test = azdias[['ANZ_HAUSHALTE_AKTIV', 'ANZ_PERSONEN',\n",
    "                 'ANZ_STATISTISCHE_HAUSHALTE', \"VERDICHTUNGSRAUM\"]].apply(np.log).copy()"
   ]
  },
  {
   "cell_type": "code",
   "execution_count": 142,
   "metadata": {},
   "outputs": [
    {
     "data": {
      "text/html": [
       "<div>\n",
       "<style scoped>\n",
       "    .dataframe tbody tr th:only-of-type {\n",
       "        vertical-align: middle;\n",
       "    }\n",
       "\n",
       "    .dataframe tbody tr th {\n",
       "        vertical-align: top;\n",
       "    }\n",
       "\n",
       "    .dataframe thead th {\n",
       "        text-align: right;\n",
       "    }\n",
       "</style>\n",
       "<table border=\"1\" class=\"dataframe\">\n",
       "  <thead>\n",
       "    <tr style=\"text-align: right;\">\n",
       "      <th></th>\n",
       "      <th>ANZ_HAUSHALTE_AKTIV</th>\n",
       "      <th>ANZ_PERSONEN</th>\n",
       "      <th>ANZ_STATISTISCHE_HAUSHALTE</th>\n",
       "      <th>VERDICHTUNGSRAUM</th>\n",
       "    </tr>\n",
       "  </thead>\n",
       "  <tbody>\n",
       "    <tr>\n",
       "      <th>count</th>\n",
       "      <td>4217.000000</td>\n",
       "      <td>4188.000000</td>\n",
       "      <td>4267.000000</td>\n",
       "      <td>2230.000000</td>\n",
       "    </tr>\n",
       "    <tr>\n",
       "      <th>mean</th>\n",
       "      <td>1.438365</td>\n",
       "      <td>0.428503</td>\n",
       "      <td>1.354217</td>\n",
       "      <td>1.539220</td>\n",
       "    </tr>\n",
       "    <tr>\n",
       "      <th>std</th>\n",
       "      <td>1.118893</td>\n",
       "      <td>0.522849</td>\n",
       "      <td>1.097671</td>\n",
       "      <td>1.195158</td>\n",
       "    </tr>\n",
       "    <tr>\n",
       "      <th>min</th>\n",
       "      <td>0.000000</td>\n",
       "      <td>0.000000</td>\n",
       "      <td>0.000000</td>\n",
       "      <td>0.000000</td>\n",
       "    </tr>\n",
       "    <tr>\n",
       "      <th>25%</th>\n",
       "      <td>0.693147</td>\n",
       "      <td>0.000000</td>\n",
       "      <td>0.000000</td>\n",
       "      <td>0.000000</td>\n",
       "    </tr>\n",
       "    <tr>\n",
       "      <th>50%</th>\n",
       "      <td>1.386294</td>\n",
       "      <td>0.000000</td>\n",
       "      <td>1.386294</td>\n",
       "      <td>1.609438</td>\n",
       "    </tr>\n",
       "    <tr>\n",
       "      <th>75%</th>\n",
       "      <td>2.302585</td>\n",
       "      <td>0.693147</td>\n",
       "      <td>2.197225</td>\n",
       "      <td>2.564949</td>\n",
       "    </tr>\n",
       "    <tr>\n",
       "      <th>max</th>\n",
       "      <td>5.605802</td>\n",
       "      <td>2.484907</td>\n",
       "      <td>5.676754</td>\n",
       "      <td>3.806662</td>\n",
       "    </tr>\n",
       "  </tbody>\n",
       "</table>\n",
       "</div>"
      ],
      "text/plain": [
       "       ANZ_HAUSHALTE_AKTIV  ANZ_PERSONEN  ANZ_STATISTISCHE_HAUSHALTE  \\\n",
       "count          4217.000000   4188.000000                 4267.000000   \n",
       "mean              1.438365      0.428503                    1.354217   \n",
       "std               1.118893      0.522849                    1.097671   \n",
       "min               0.000000      0.000000                    0.000000   \n",
       "25%               0.693147      0.000000                    0.000000   \n",
       "50%               1.386294      0.000000                    1.386294   \n",
       "75%               2.302585      0.693147                    2.197225   \n",
       "max               5.605802      2.484907                    5.676754   \n",
       "\n",
       "       VERDICHTUNGSRAUM  \n",
       "count       2230.000000  \n",
       "mean           1.539220  \n",
       "std            1.195158  \n",
       "min            0.000000  \n",
       "25%            0.000000  \n",
       "50%            1.609438  \n",
       "75%            2.564949  \n",
       "max            3.806662  "
      ]
     },
     "execution_count": 142,
     "metadata": {},
     "output_type": "execute_result"
    }
   ],
   "source": [
    "a_test.describe()"
   ]
  },
  {
   "cell_type": "code",
   "execution_count": 143,
   "metadata": {
    "scrolled": false
   },
   "outputs": [
    {
     "data": {
      "image/png": "[encoded data removed]",
      "text/plain": [
       "<Figure size 432x288 with 1 Axes>"
      ]
     },
     "metadata": {
      "needs_background": "light"
     },
     "output_type": "display_data"
    },
    {
     "data": {
      "image/png": "[encoded data removed]",
      "text/plain": [
       "<Figure size 432x288 with 1 Axes>"
      ]
     },
     "metadata": {
      "needs_background": "light"
     },
     "output_type": "display_data"
    },
    {
     "data": {
      "image/png": "[encoded data removed]",
      "text/plain": [
       "<Figure size 432x288 with 1 Axes>"
      ]
     },
     "metadata": {
      "needs_background": "light"
     },
     "output_type": "display_data"
    },
    {
     "data": {
      "image/png": "[encoded data removed]",
      "text/plain": [
       "<Figure size 432x288 with 1 Axes>"
      ]
     },
     "metadata": {
      "needs_background": "light"
     },
     "output_type": "display_data"
    }
   ],
   "source": [
    "for col in a_test.columns:\n",
    "    ax, figure = plt.subplots()\n",
    "    sns.countplot(a_test[col])"
   ]
  },
  {
   "cell_type": "markdown",
   "metadata": {},
   "source": [
    "From the histogram of the data, we notice that data is not normal distributed. it is therefore decided to use the min_max scaler to scale "
   ]
  },
  {
   "cell_type": "code",
   "execution_count": 144,
   "metadata": {
    "scrolled": false
   },
   "outputs": [],
   "source": [
    "from sklearn.preprocessing import MinMaxScaler, PowerTransformer\n",
    "scaler_1 = MinMaxScaler()\n",
    "scaler_2 = PowerTransformer(method='box-cox', standardize=True)\n",
    "a= scaler_1.fit_transform(azdias_transformed[num_cols_min_max_scale])\n",
    "b= scaler_2.fit_transform(azdias_transformed[num_cols_log_scale])"
   ]
  },
  {
   "cell_type": "code",
   "execution_count": 145,
   "metadata": {},
   "outputs": [
    {
     "data": {
      "text/plain": [
       "array([[-1.14216154, -0.76814045, -1.1254651 , -0.69178092],\n",
       "       [ 1.07180171,  1.06366928,  1.19244898, -0.69178092],\n",
       "       [ 1.00902523, -0.76814045,  0.82940341, -0.69178092],\n",
       "       ...,\n",
       "       [-0.34498279,  1.06366928, -1.1254651 , -0.69178092],\n",
       "       [-0.34498279,  1.06366928, -0.29075145, -0.69178092],\n",
       "       [-1.14216154,  1.06366928, -0.29075145, -0.69178092]])"
      ]
     },
     "execution_count": 145,
     "metadata": {},
     "output_type": "execute_result"
    }
   ],
   "source": [
    "b"
   ]
  },
  {
   "cell_type": "code",
   "execution_count": 146,
   "metadata": {},
   "outputs": [],
   "source": [
    "# azdias_transformed[num_cols]"
   ]
  },
  {
   "cell_type": "code",
   "execution_count": 147,
   "metadata": {},
   "outputs": [],
   "source": [
    "ord_cols = get_features( feat_summary, 'ordinal',azdias_transformed)"
   ]
  },
  {
   "cell_type": "code",
   "execution_count": 148,
   "metadata": {},
   "outputs": [],
   "source": [
    "# from sklearn.preprocessing import MinMaxScaler\n",
    "scaler = MinMaxScaler()\n",
    "azdias_transformed[ord_cols] = scaler.fit_transform(azdias_transformed[ord_cols])"
   ]
  },
  {
   "cell_type": "markdown",
   "metadata": {},
   "source": [
    "# Customer Segmentation Report\n",
    "\n",
    "The main bulk of your analysis will come in this part of the project. Here, you should use unsupervised learning techniques to describe the relationship between the demographics of the company's existing customers and the general population of Germany. By the end of this part, you should be able to describe parts of the general population that are more likely to be part of the mail-order company's main customer base, and which parts of the general population are less so."
   ]
  },
  {
   "cell_type": "markdown",
   "metadata": {},
   "source": [
    "## pre-processing pipeline"
   ]
  },
  {
   "cell_type": "code",
   "execution_count": 149,
   "metadata": {},
   "outputs": [],
   "source": [
    "def lable_encoding(azdias_transformed,\n",
    "                   to_label_encoder = [\"OST_WEST_KZ\", \"CAMEO_DEUG_2015\", \"CAMEO_DEU_2015\", \n",
    "                                       \"CAMEO_INTL_2015\", 'D19_LETZTER_KAUF_BRANCHE']):\n",
    "    \n",
    "    le = preprocessing.LabelEncoder()\n",
    "    for col in to_label_encoder:\n",
    "        try:\n",
    "            azdias_transformed[col].replace(np.nan, 'XXX', inplace = True)\n",
    "            azdias_transformed[col] = le.fit_transform(azdias_transformed[col])\n",
    "        except:\n",
    "            print('{:} not in dataframe'.format(col))\n",
    "    \n",
    "    return azdias_transformed"
   ]
  },
  {
   "cell_type": "code",
   "execution_count": 150,
   "metadata": {},
   "outputs": [],
   "source": [
    "from sklearn.base import BaseEstimator, TransformerMixin\n",
    "from sklearn.preprocessing import OneHotEncoder, StandardScaler\n",
    "from sklearn.impute import SimpleImputer\n",
    "from sklearn.pipeline import FeatureUnion, Pipeline \n",
    "from sklearn.compose import ColumnTransformer\n",
    "\n",
    "#Custom Transformer that extracts columns passed as argument to its constructor \n",
    "class FeatureReduction( BaseEstimator, TransformerMixin ):\n",
    "    #Class Constructor \n",
    "    def __init__( self, feat_summary, features_to_keep, nan_threshold):\n",
    "        self._feat_summary = feat_summary\n",
    "        self._nan_threshold = nan_threshold\n",
    "        self._features_to_keep = features_to_keep\n",
    "    \n",
    "    #Return self nothing else to do here    \n",
    "    def fit( self, X, y = None ):\n",
    "        return self \n",
    "    \n",
    "    #Method that describes what we need this transformer to do\n",
    "    def transform( self, X, y = None ):\n",
    "        df_transformed = data_cleaning(X, self._feat_summary,  self._features_to_keep, self._nan_threshold)\n",
    "        df_transformed = lable_encoding(df_transformed)\n",
    "        df_transformed['EINGEFUEGT_AM'] = pd.DatetimeIndex(df_transformed['EINGEFUEGT_AM']).year\n",
    "        df_transformed[['ANZ_HAUSHALTE_AKTIV', 'ANZ_PERSONEN',\n",
    "                 'ANZ_STATISTISCHE_HAUSHALTE', \"VERDICHTUNGSRAUM\"]]= df_transformed[['ANZ_HAUSHALTE_AKTIV', 'ANZ_PERSONEN',\n",
    "                 'ANZ_STATISTISCHE_HAUSHALTE', \"VERDICHTUNGSRAUM\"]].apply(np.log)\n",
    "        return df_transformed"
   ]
  },
  {
   "cell_type": "code",
   "execution_count": 151,
   "metadata": {},
   "outputs": [],
   "source": [
    "features_to_keep = azdias.columns.values"
   ]
  },
  {
   "cell_type": "code",
   "execution_count": 152,
   "metadata": {},
   "outputs": [],
   "source": [
    "def data_cleaning(df, feat_summary, features_to_keep = None, nan_threshold=0.90):\n",
    "    \"\"\"clean data frame, drop redundant columns/rows\n",
    "    Args: \n",
    "        df:  input data frame \n",
    "        feat_summary: meta data summary \n",
    "        nan_theshold (float): threshold for dropping rows and columns, if the ratio of nan exceedes it(<1)\n",
    "\n",
    "    Retruns:\n",
    "        df(pd.DataFrame): pandas dataframe withe reduced dimension\n",
    "    \"\"\"\n",
    "    print('# step 1: drop attributes')\n",
    "    if features_to_keep is not None:\n",
    "        df = df[features_to_keep].copy()\n",
    "    else:\n",
    "        df = df\n",
    "\n",
    "    print('# step 2: replace missing values or unknowns as np.nan')\n",
    "    df = unkown_mapping(df, feat_summary)\n",
    "    df.replace(['X', 'XX'], np.nan, inplace=True)\n",
    "\n",
    "    print('# step 3: drop columns/rows where the portion of NA exceeds the specified threshold')\n",
    "    df = drop_columns(df, threshold = nan_threshold)\n",
    "    df = drop_rows(df, threshold = nan_threshold)\n",
    "    # feature_count(azdias)\n",
    "\n",
    "    return df"
   ]
  },
  {
   "cell_type": "code",
   "execution_count": 153,
   "metadata": {},
   "outputs": [],
   "source": [
    "def get_features(feat_summary, typ, feat_to_keep=None):\n",
    "    \"\"\"Get a list of features according to the specifed feature type \n",
    "\n",
    "    Args:\n",
    "        feat_summary (dataframe): feature summary table\n",
    "        typ (str): feature type. allowable values: 'numerical', 'ordinal', 'categorical'\n",
    "        df (list, optional): . Defaults to None. if provided, return only the features contained in the list \n",
    "\n",
    "    Returns:\n",
    "        cols (list): list of the features\n",
    "    \"\"\"\n",
    "    cols = feat_summary.loc[feat_summary['type']\n",
    "                            == typ, 'Attribute'].values\n",
    "\n",
    "    if feat_to_keep is None:\n",
    "        cols = cols\n",
    "    else:\n",
    "        cols = np.intersect1d(cols, feat_to_keep)\n",
    "\n",
    "    return cols"
   ]
  },
  {
   "cell_type": "code",
   "execution_count": 154,
   "metadata": {},
   "outputs": [],
   "source": [
    "# Create a data processing pipeline for segmentation report.\n",
    "def data_cleaing_pipeline(feat_summary,  features_to_keep=None, nan_threshold=1.0):\n",
    "    \"\"\"[summary]\n",
    "    Args:\n",
    "        feat_summary (pd.df): info on features\n",
    "        features_to_keep (list): a list of features that will be processed/ to keep \n",
    "        nan_threshold (float): if the portion of nan exceeds, the row/column will be dropped\n",
    "\n",
    "    Returns:\n",
    "        data_cleaing_pipeline \n",
    "    \"\"\"\n",
    "    num_cols = get_features(feat_summary, typ=\"numerical\",\n",
    "                            feat_to_keep=features_to_keep)\n",
    "    cat_cols = get_features(feat_summary, typ=\"categorical\",\n",
    "                            feat_to_keep=features_to_keep)\n",
    "    ord_cols = get_features(feat_summary, typ=\"ordinal\",\n",
    "                            feat_to_keep=features_to_keep)\n",
    "\n",
    "    num_transformer = Pipeline(steps=[\n",
    "        ('imputer', SimpleImputer(missing_values=np.nan, strategy='median')),\n",
    "        ('scaler', MinMaxScaler())])\n",
    "\n",
    "    cat_transformer = Pipeline(steps=[\n",
    "        ('imputer', SimpleImputer(missing_values=np.nan, strategy='most_frequent')),\n",
    "        ('onehot', OneHotEncoder())])\n",
    "\n",
    "    ord_transformer = Pipeline(steps=[\n",
    "        ('imputer', SimpleImputer(missing_values=np.nan, strategy='median')),\n",
    "        ('scaler', MinMaxScaler())])\n",
    "\n",
    "    combined_pipe = ColumnTransformer(\n",
    "        transformers=[\n",
    "            ('num', num_transformer, num_cols),\n",
    "            ('cat', cat_transformer, cat_cols),\n",
    "            ('ord', ord_transformer, ord_cols)],\n",
    "        sparse_threshold=0)\n",
    "\n",
    "    data_cleaing_pipeline = Pipeline(steps=[\n",
    "        ('reduce_dimension', FeatureReduction(feat_summary,\n",
    "                                              features_to_keep=features_to_keep, nan_threshold=nan_threshold)),\n",
    "        ('combined_pipe', combined_pipe)])\n",
    "\n",
    "    return data_cleaing_pipeline"
   ]
  },
  {
   "cell_type": "code",
   "execution_count": 155,
   "metadata": {},
   "outputs": [],
   "source": [
    "dtype={'CAMEO_DEUG_2015': 'object', 'CAMEO_INTL_2015': 'object'}\n",
    "customers = pd.read_csv('./data/Udacity_CUSTOMERS_052018.csv', sep=';',  dtype= dtype)\n",
    "\n",
    "azdias = pd.read_csv('./data/Udacity_AZDIAS_052018.csv', sep=';', dtype = dtype)\n",
    "del azdias['LNR']"
   ]
  },
  {
   "cell_type": "code",
   "execution_count": 156,
   "metadata": {
    "scrolled": true
   },
   "outputs": [
    {
     "name": "stdout",
     "output_type": "stream",
     "text": [
      "# step 1: drop attributes\n",
      "# step 2: replace missing values or unknowns as np.nan\n",
      "# step 3: drop columns/rows where the portion of NA exceeds the specified threshold\n"
     ]
    }
   ],
   "source": [
    "# use azdias data to determine which are the features to keep (drop as per nan_threshold)\n",
    "ppl_test = data_cleaing_pipeline(\n",
    "    feat_summary, features_to_keep=None, nan_threshold=1.0)\n",
    "features_to_keep = ppl_test.named_steps['reduce_dimension'].fit_transform(\n",
    "    azdias).columns.values"
   ]
  },
  {
   "cell_type": "code",
   "execution_count": 157,
   "metadata": {},
   "outputs": [],
   "source": [
    "# update the pipeline, at this step nan_threshold is set at 1.0 (no other columns will be drops due to nan's)\n",
    "ppl = data_cleaing_pipeline(feat_summary, features_to_keep, nan_threshold=1.0)"
   ]
  },
  {
   "cell_type": "code",
   "execution_count": 158,
   "metadata": {
    "scrolled": false
   },
   "outputs": [
    {
     "name": "stdout",
     "output_type": "stream",
     "text": [
      "# step 1: drop attributes\n",
      "# step 2: replace missing values or unknowns as np.nan\n",
      "# step 3: drop columns/rows where the portion of NA exceeds the specified threshold\n",
      "# step 1: drop attributes\n",
      "# step 2: replace missing values or unknowns as np.nan\n",
      "# step 3: drop columns/rows where the portion of NA exceeds the specified threshold\n"
     ]
    }
   ],
   "source": [
    "customer_clean_data = ppl.fit_transform(customers)\n",
    "cat_cols_transformed_1 = ppl.named_steps['combined_pipe'].transformers_[1][1].named_steps['onehot']\\\n",
    "                   .get_feature_names(cat_cols)\n",
    "azdias_clean_data = ppl.fit_transform(azdias)\n",
    "cat_cols_transformed_2 = ppl.named_steps['combined_pipe'].transformers_[1][1].named_steps['onehot']\\\n",
    "                   .get_feature_names(cat_cols)"
   ]
  },
  {
   "cell_type": "code",
   "execution_count": 159,
   "metadata": {},
   "outputs": [],
   "source": [
    "num_cols_transformed = get_features(feat_summary, 'numerical', features_to_keep)\n",
    "ord_cols_transformed = get_features(feat_summary, 'ordinal', features_to_keep)"
   ]
  },
  {
   "cell_type": "code",
   "execution_count": 160,
   "metadata": {},
   "outputs": [],
   "source": [
    "customer_clean = pd.DataFrame(customer_clean_data, columns=np.concatenate([\n",
    "                                num_cols_transformed, cat_cols_transformed_1, ord_cols_transformed]))\n",
    "\n",
    "azdias_clean = pd.DataFrame(azdias_clean_data, columns=np.concatenate([\n",
    "                                num_cols_transformed, cat_cols_transformed_2, ord_cols_transformed]))"
   ]
  },
  {
   "cell_type": "code",
   "execution_count": 161,
   "metadata": {},
   "outputs": [
    {
     "name": "stdout",
     "output_type": "stream",
     "text": [
      "columns in df1 (None) not in df2 (None)\n",
      "[]\n",
      "columns in df2 (None) not in df1 (None)\n",
      "['ALTERSKATEGORIE_FEIN_1.0' 'ALTER_HH_1.0' 'ALTER_KIND3_4.0'\n",
      " 'D19_BANKEN_ONLINE_QUOTE_12_1.0' 'D19_TELKO_ONLINE_QUOTE_12_7.0'\n",
      " 'D19_VERSI_ONLINE_QUOTE_12_3.0' 'D19_VERSI_ONLINE_QUOTE_12_6.0'\n",
      " 'D19_VERSI_ONLINE_QUOTE_12_8.0' 'D19_VERSI_ONLINE_QUOTE_12_9.0'\n",
      " 'GEBAEUDETYP_5.0' 'KBA13_KRSHERST_BMW_BENZ_0.0' 'KBA13_KRSSEG_KLEIN_0.0'\n",
      " 'ORTSGR_KLS9_0.0' 'TITEL_KZ_2.0']\n"
     ]
    }
   ],
   "source": [
    "compare_dataframe_columns(customer_clean, azdias_clean)"
   ]
  },
  {
   "cell_type": "code",
   "execution_count": 162,
   "metadata": {
    "scrolled": false
   },
   "outputs": [],
   "source": [
    "# compare to see if the column number match\n",
    "col_to_add = list(set(cat_cols_transformed_2) - set(cat_cols_transformed_1)) \n",
    "customer_clean[col_to_add] = 0\n",
    "\n",
    "col_to_add = list(set(cat_cols_transformed_1) - set(cat_cols_transformed_2)) \n",
    "azdias_clean[col_to_add] = 0"
   ]
  },
  {
   "cell_type": "code",
   "execution_count": 163,
   "metadata": {},
   "outputs": [],
   "source": [
    "customer_clean=customer_clean.sort_index(axis=1)\n",
    "azdias_clean = azdias_clean.sort_index(axis=1)"
   ]
  },
  {
   "cell_type": "markdown",
   "metadata": {},
   "source": [
    "## PCA"
   ]
  },
  {
   "cell_type": "code",
   "execution_count": 164,
   "metadata": {},
   "outputs": [],
   "source": [
    "# Apply PCA to the data.\n",
    "from sklearn.decomposition import PCA\n",
    "\n",
    "pca = PCA()\n",
    "azdias_pca = pca.fit_transform(azdias_clean)"
   ]
  },
  {
   "cell_type": "code",
   "execution_count": 165,
   "metadata": {},
   "outputs": [
    {
     "data": {
      "text/plain": [
       "(0, 100)"
      ]
     },
     "execution_count": 165,
     "metadata": {},
     "output_type": "execute_result"
    },
    {
     "data": {
      "image/png": "[encoded data removed]",
      "text/plain": [
       "<Figure size 432x288 with 1 Axes>"
      ]
     },
     "metadata": {
      "needs_background": "light"
     },
     "output_type": "display_data"
    }
   ],
   "source": [
    "features = np.arange(pca.n_components_)\n",
    "plt.bar(features, pca.explained_variance_ratio_)\n",
    "plt.xlabel('PCA features')\n",
    "plt.ylabel('variance %')\n",
    "plt.xlim(left = 0, right = 100)"
   ]
  },
  {
   "cell_type": "code",
   "execution_count": 166,
   "metadata": {},
   "outputs": [
    {
     "data": {
      "image/png": "[encoded data removed]",
      "text/plain": [
       "<Figure size 720x432 with 1 Axes>"
      ]
     },
     "metadata": {
      "needs_background": "light"
     },
     "output_type": "display_data"
    }
   ],
   "source": [
    "n_components = 300\n",
    "ind = np.arange(pca.n_components_)\n",
    "vals = pca.explained_variance_ratio_\n",
    "plt.figure(figsize=(10, 6))\n",
    "\n",
    "\n",
    "ax = plt.subplot()\n",
    "cumvals = np.cumsum(vals)\n",
    "ax.bar(ind, vals)\n",
    "ax.plot(ind, cumvals)\n",
    "\n",
    "for i in range(n_components):\n",
    "    ax.set_xlabel(\"Principal Component\")\n",
    "    ax.set_ylabel(\"Variance Explained (%)\")"
   ]
  },
  {
   "cell_type": "code",
   "execution_count": 167,
   "metadata": {},
   "outputs": [],
   "source": [
    "fig = ax.get_figure()\n",
    "fig.savefig('./fig/pca_accumulated.png')"
   ]
  },
  {
   "cell_type": "code",
   "execution_count": 168,
   "metadata": {},
   "outputs": [],
   "source": [
    "# Re-apply PCA to the data while selecting for number of components to retain.\n",
    "n_components = features[cumvals > 0.80][0]  # determine the required principle componenth to retian 99% variance\n",
    "pca = PCA(n_components)\n",
    "azdias_pca = pca.fit_transform(azdias_transformed)"
   ]
  },
  {
   "cell_type": "code",
   "execution_count": 169,
   "metadata": {},
   "outputs": [
    {
     "name": "stdout",
     "output_type": "stream",
     "text": [
      "we will consider to include 227 PCA's in further analysis\n"
     ]
    }
   ],
   "source": [
    "print(\"we will consider to include {:} PCA\\'s in further analysis\".format(n_components))"
   ]
  },
  {
   "cell_type": "markdown",
   "metadata": {},
   "source": [
    "## Interpretation of the PCA"
   ]
  },
  {
   "cell_type": "code",
   "execution_count": 170,
   "metadata": {},
   "outputs": [],
   "source": [
    "pca_df = pd.DataFrame(pca.components_)\n",
    "pca_df.columns = azdias_transformed.columns"
   ]
  },
  {
   "cell_type": "code",
   "execution_count": 171,
   "metadata": {},
   "outputs": [
    {
     "data": {
      "text/html": [
       "<div>\n",
       "<style scoped>\n",
       "    .dataframe tbody tr th:only-of-type {\n",
       "        vertical-align: middle;\n",
       "    }\n",
       "\n",
       "    .dataframe tbody tr th {\n",
       "        vertical-align: top;\n",
       "    }\n",
       "\n",
       "    .dataframe thead th {\n",
       "        text-align: right;\n",
       "    }\n",
       "</style>\n",
       "<table border=\"1\" class=\"dataframe\">\n",
       "  <thead>\n",
       "    <tr style=\"text-align: right;\">\n",
       "      <th></th>\n",
       "      <th>ALTER_KIND1</th>\n",
       "      <th>ALTER_KIND2</th>\n",
       "      <th>ALTER_KIND4</th>\n",
       "      <th>ANZ_HAUSHALTE_AKTIV</th>\n",
       "      <th>ANZ_HH_TITEL</th>\n",
       "      <th>ANZ_KINDER</th>\n",
       "      <th>ANZ_PERSONEN</th>\n",
       "      <th>ANZ_STATISTISCHE_HAUSHALTE</th>\n",
       "      <th>ANZ_TITEL</th>\n",
       "      <th>BALLRAUM</th>\n",
       "      <th>...</th>\n",
       "      <th>WOHNLAGE_3.0</th>\n",
       "      <th>WOHNLAGE_4.0</th>\n",
       "      <th>WOHNLAGE_5.0</th>\n",
       "      <th>WOHNLAGE_7.0</th>\n",
       "      <th>WOHNLAGE_8.0</th>\n",
       "      <th>ZABEOTYP_2</th>\n",
       "      <th>ZABEOTYP_3</th>\n",
       "      <th>ZABEOTYP_4</th>\n",
       "      <th>ZABEOTYP_5</th>\n",
       "      <th>ZABEOTYP_6</th>\n",
       "    </tr>\n",
       "  </thead>\n",
       "  <tbody>\n",
       "    <tr>\n",
       "      <th>0</th>\n",
       "      <td>0.000084</td>\n",
       "      <td>-0.000011</td>\n",
       "      <td>6.466547e-33</td>\n",
       "      <td>-0.005952</td>\n",
       "      <td>-0.000013</td>\n",
       "      <td>-0.000004</td>\n",
       "      <td>-0.000254</td>\n",
       "      <td>-0.005250</td>\n",
       "      <td>1.103153e-08</td>\n",
       "      <td>0.000210</td>\n",
       "      <td>...</td>\n",
       "      <td>0.000297</td>\n",
       "      <td>-0.000140</td>\n",
       "      <td>-0.000079</td>\n",
       "      <td>-0.000031</td>\n",
       "      <td>-3.263118e-07</td>\n",
       "      <td>0.000005</td>\n",
       "      <td>0.000294</td>\n",
       "      <td>-0.000170</td>\n",
       "      <td>-0.000053</td>\n",
       "      <td>-0.000044</td>\n",
       "    </tr>\n",
       "    <tr>\n",
       "      <th>1</th>\n",
       "      <td>0.004256</td>\n",
       "      <td>0.001382</td>\n",
       "      <td>-1.680008e-18</td>\n",
       "      <td>0.718276</td>\n",
       "      <td>0.004730</td>\n",
       "      <td>-0.000584</td>\n",
       "      <td>-0.008690</td>\n",
       "      <td>0.683655</td>\n",
       "      <td>-7.676753e-06</td>\n",
       "      <td>-0.004294</td>\n",
       "      <td>...</td>\n",
       "      <td>-0.000360</td>\n",
       "      <td>0.002754</td>\n",
       "      <td>0.001505</td>\n",
       "      <td>-0.003187</td>\n",
       "      <td>-4.550510e-04</td>\n",
       "      <td>-0.000907</td>\n",
       "      <td>0.000438</td>\n",
       "      <td>0.000764</td>\n",
       "      <td>0.001338</td>\n",
       "      <td>0.001501</td>\n",
       "    </tr>\n",
       "    <tr>\n",
       "      <th>2</th>\n",
       "      <td>0.031379</td>\n",
       "      <td>0.007666</td>\n",
       "      <td>-1.949777e-17</td>\n",
       "      <td>0.038547</td>\n",
       "      <td>0.000545</td>\n",
       "      <td>-0.002410</td>\n",
       "      <td>0.001759</td>\n",
       "      <td>0.047198</td>\n",
       "      <td>1.917019e-05</td>\n",
       "      <td>0.000015</td>\n",
       "      <td>...</td>\n",
       "      <td>0.000388</td>\n",
       "      <td>-0.000310</td>\n",
       "      <td>-0.000283</td>\n",
       "      <td>0.000183</td>\n",
       "      <td>-1.275541e-04</td>\n",
       "      <td>-0.000312</td>\n",
       "      <td>0.012448</td>\n",
       "      <td>-0.006192</td>\n",
       "      <td>-0.008602</td>\n",
       "      <td>0.001150</td>\n",
       "    </tr>\n",
       "    <tr>\n",
       "      <th>3</th>\n",
       "      <td>-0.018829</td>\n",
       "      <td>-0.004214</td>\n",
       "      <td>7.107733e-18</td>\n",
       "      <td>0.055632</td>\n",
       "      <td>0.000847</td>\n",
       "      <td>0.002065</td>\n",
       "      <td>0.022144</td>\n",
       "      <td>0.056823</td>\n",
       "      <td>6.335333e-05</td>\n",
       "      <td>-0.000959</td>\n",
       "      <td>...</td>\n",
       "      <td>-0.003007</td>\n",
       "      <td>-0.000687</td>\n",
       "      <td>-0.000319</td>\n",
       "      <td>0.001291</td>\n",
       "      <td>5.244173e-04</td>\n",
       "      <td>0.001589</td>\n",
       "      <td>-0.007563</td>\n",
       "      <td>0.001335</td>\n",
       "      <td>0.002620</td>\n",
       "      <td>-0.001211</td>\n",
       "    </tr>\n",
       "    <tr>\n",
       "      <th>4</th>\n",
       "      <td>-0.002667</td>\n",
       "      <td>-0.003140</td>\n",
       "      <td>-7.672120e-18</td>\n",
       "      <td>-0.031414</td>\n",
       "      <td>-0.001010</td>\n",
       "      <td>0.000203</td>\n",
       "      <td>-0.005031</td>\n",
       "      <td>-0.028310</td>\n",
       "      <td>-1.311572e-05</td>\n",
       "      <td>0.004550</td>\n",
       "      <td>...</td>\n",
       "      <td>-0.001241</td>\n",
       "      <td>0.003604</td>\n",
       "      <td>0.000630</td>\n",
       "      <td>-0.005144</td>\n",
       "      <td>1.541023e-04</td>\n",
       "      <td>0.000219</td>\n",
       "      <td>-0.003752</td>\n",
       "      <td>0.001702</td>\n",
       "      <td>0.000948</td>\n",
       "      <td>0.001237</td>\n",
       "    </tr>\n",
       "    <tr>\n",
       "      <th>...</th>\n",
       "      <td>...</td>\n",
       "      <td>...</td>\n",
       "      <td>...</td>\n",
       "      <td>...</td>\n",
       "      <td>...</td>\n",
       "      <td>...</td>\n",
       "      <td>...</td>\n",
       "      <td>...</td>\n",
       "      <td>...</td>\n",
       "      <td>...</td>\n",
       "      <td>...</td>\n",
       "      <td>...</td>\n",
       "      <td>...</td>\n",
       "      <td>...</td>\n",
       "      <td>...</td>\n",
       "      <td>...</td>\n",
       "      <td>...</td>\n",
       "      <td>...</td>\n",
       "      <td>...</td>\n",
       "      <td>...</td>\n",
       "      <td>...</td>\n",
       "    </tr>\n",
       "    <tr>\n",
       "      <th>222</th>\n",
       "      <td>-0.003239</td>\n",
       "      <td>-0.012782</td>\n",
       "      <td>-1.767151e-17</td>\n",
       "      <td>-0.000531</td>\n",
       "      <td>-0.006415</td>\n",
       "      <td>-0.007628</td>\n",
       "      <td>0.043266</td>\n",
       "      <td>0.001029</td>\n",
       "      <td>-9.710154e-04</td>\n",
       "      <td>-0.053789</td>\n",
       "      <td>...</td>\n",
       "      <td>-0.023573</td>\n",
       "      <td>0.006667</td>\n",
       "      <td>0.059242</td>\n",
       "      <td>0.007959</td>\n",
       "      <td>-1.120096e-02</td>\n",
       "      <td>-0.004674</td>\n",
       "      <td>-0.006257</td>\n",
       "      <td>0.020894</td>\n",
       "      <td>0.023288</td>\n",
       "      <td>-0.066349</td>\n",
       "    </tr>\n",
       "    <tr>\n",
       "      <th>223</th>\n",
       "      <td>-0.011652</td>\n",
       "      <td>0.015833</td>\n",
       "      <td>4.816991e-18</td>\n",
       "      <td>-0.001539</td>\n",
       "      <td>-0.005616</td>\n",
       "      <td>0.032671</td>\n",
       "      <td>-0.014911</td>\n",
       "      <td>0.000731</td>\n",
       "      <td>4.213664e-04</td>\n",
       "      <td>0.006813</td>\n",
       "      <td>...</td>\n",
       "      <td>0.030172</td>\n",
       "      <td>0.000345</td>\n",
       "      <td>-0.022604</td>\n",
       "      <td>0.013036</td>\n",
       "      <td>1.213623e-02</td>\n",
       "      <td>0.010329</td>\n",
       "      <td>0.011539</td>\n",
       "      <td>-0.026720</td>\n",
       "      <td>0.002852</td>\n",
       "      <td>0.013601</td>\n",
       "    </tr>\n",
       "    <tr>\n",
       "      <th>224</th>\n",
       "      <td>-0.004945</td>\n",
       "      <td>-0.006002</td>\n",
       "      <td>-1.656281e-17</td>\n",
       "      <td>-0.001923</td>\n",
       "      <td>-0.005053</td>\n",
       "      <td>-0.001239</td>\n",
       "      <td>-0.024337</td>\n",
       "      <td>0.001378</td>\n",
       "      <td>1.329348e-03</td>\n",
       "      <td>-0.010584</td>\n",
       "      <td>...</td>\n",
       "      <td>0.012412</td>\n",
       "      <td>0.063860</td>\n",
       "      <td>-0.106693</td>\n",
       "      <td>0.028548</td>\n",
       "      <td>-1.221946e-02</td>\n",
       "      <td>-0.017056</td>\n",
       "      <td>-0.018814</td>\n",
       "      <td>-0.017453</td>\n",
       "      <td>0.053468</td>\n",
       "      <td>-0.038489</td>\n",
       "    </tr>\n",
       "    <tr>\n",
       "      <th>225</th>\n",
       "      <td>-0.008807</td>\n",
       "      <td>-0.007672</td>\n",
       "      <td>-4.926901e-17</td>\n",
       "      <td>-0.000423</td>\n",
       "      <td>-0.010344</td>\n",
       "      <td>-0.037697</td>\n",
       "      <td>-0.004490</td>\n",
       "      <td>0.000114</td>\n",
       "      <td>1.083509e-03</td>\n",
       "      <td>-0.013611</td>\n",
       "      <td>...</td>\n",
       "      <td>0.006668</td>\n",
       "      <td>-0.044552</td>\n",
       "      <td>0.033343</td>\n",
       "      <td>-0.015812</td>\n",
       "      <td>-8.709624e-04</td>\n",
       "      <td>0.002709</td>\n",
       "      <td>-0.002658</td>\n",
       "      <td>-0.007560</td>\n",
       "      <td>0.026490</td>\n",
       "      <td>-0.056950</td>\n",
       "    </tr>\n",
       "    <tr>\n",
       "      <th>226</th>\n",
       "      <td>0.002035</td>\n",
       "      <td>-0.015878</td>\n",
       "      <td>-1.439591e-17</td>\n",
       "      <td>0.000392</td>\n",
       "      <td>0.002025</td>\n",
       "      <td>-0.002466</td>\n",
       "      <td>-0.014072</td>\n",
       "      <td>-0.000646</td>\n",
       "      <td>9.698319e-04</td>\n",
       "      <td>0.004002</td>\n",
       "      <td>...</td>\n",
       "      <td>0.022819</td>\n",
       "      <td>0.048260</td>\n",
       "      <td>-0.077388</td>\n",
       "      <td>0.003753</td>\n",
       "      <td>-1.872990e-02</td>\n",
       "      <td>0.022180</td>\n",
       "      <td>0.038368</td>\n",
       "      <td>0.007354</td>\n",
       "      <td>-0.022189</td>\n",
       "      <td>-0.021194</td>\n",
       "    </tr>\n",
       "  </tbody>\n",
       "</table>\n",
       "<p>227 rows × 1009 columns</p>\n",
       "</div>"
      ],
      "text/plain": [
       "     ALTER_KIND1  ALTER_KIND2   ALTER_KIND4  ANZ_HAUSHALTE_AKTIV  \\\n",
       "0       0.000084    -0.000011  6.466547e-33            -0.005952   \n",
       "1       0.004256     0.001382 -1.680008e-18             0.718276   \n",
       "2       0.031379     0.007666 -1.949777e-17             0.038547   \n",
       "3      -0.018829    -0.004214  7.107733e-18             0.055632   \n",
       "4      -0.002667    -0.003140 -7.672120e-18            -0.031414   \n",
       "..           ...          ...           ...                  ...   \n",
       "222    -0.003239    -0.012782 -1.767151e-17            -0.000531   \n",
       "223    -0.011652     0.015833  4.816991e-18            -0.001539   \n",
       "224    -0.004945    -0.006002 -1.656281e-17            -0.001923   \n",
       "225    -0.008807    -0.007672 -4.926901e-17            -0.000423   \n",
       "226     0.002035    -0.015878 -1.439591e-17             0.000392   \n",
       "\n",
       "     ANZ_HH_TITEL  ANZ_KINDER  ANZ_PERSONEN  ANZ_STATISTISCHE_HAUSHALTE  \\\n",
       "0       -0.000013   -0.000004     -0.000254                   -0.005250   \n",
       "1        0.004730   -0.000584     -0.008690                    0.683655   \n",
       "2        0.000545   -0.002410      0.001759                    0.047198   \n",
       "3        0.000847    0.002065      0.022144                    0.056823   \n",
       "4       -0.001010    0.000203     -0.005031                   -0.028310   \n",
       "..            ...         ...           ...                         ...   \n",
       "222     -0.006415   -0.007628      0.043266                    0.001029   \n",
       "223     -0.005616    0.032671     -0.014911                    0.000731   \n",
       "224     -0.005053   -0.001239     -0.024337                    0.001378   \n",
       "225     -0.010344   -0.037697     -0.004490                    0.000114   \n",
       "226      0.002025   -0.002466     -0.014072                   -0.000646   \n",
       "\n",
       "        ANZ_TITEL  BALLRAUM  ...  WOHNLAGE_3.0  WOHNLAGE_4.0  WOHNLAGE_5.0  \\\n",
       "0    1.103153e-08  0.000210  ...      0.000297     -0.000140     -0.000079   \n",
       "1   -7.676753e-06 -0.004294  ...     -0.000360      0.002754      0.001505   \n",
       "2    1.917019e-05  0.000015  ...      0.000388     -0.000310     -0.000283   \n",
       "3    6.335333e-05 -0.000959  ...     -0.003007     -0.000687     -0.000319   \n",
       "4   -1.311572e-05  0.004550  ...     -0.001241      0.003604      0.000630   \n",
       "..            ...       ...  ...           ...           ...           ...   \n",
       "222 -9.710154e-04 -0.053789  ...     -0.023573      0.006667      0.059242   \n",
       "223  4.213664e-04  0.006813  ...      0.030172      0.000345     -0.022604   \n",
       "224  1.329348e-03 -0.010584  ...      0.012412      0.063860     -0.106693   \n",
       "225  1.083509e-03 -0.013611  ...      0.006668     -0.044552      0.033343   \n",
       "226  9.698319e-04  0.004002  ...      0.022819      0.048260     -0.077388   \n",
       "\n",
       "     WOHNLAGE_7.0  WOHNLAGE_8.0  ZABEOTYP_2  ZABEOTYP_3  ZABEOTYP_4  \\\n",
       "0       -0.000031 -3.263118e-07    0.000005    0.000294   -0.000170   \n",
       "1       -0.003187 -4.550510e-04   -0.000907    0.000438    0.000764   \n",
       "2        0.000183 -1.275541e-04   -0.000312    0.012448   -0.006192   \n",
       "3        0.001291  5.244173e-04    0.001589   -0.007563    0.001335   \n",
       "4       -0.005144  1.541023e-04    0.000219   -0.003752    0.001702   \n",
       "..            ...           ...         ...         ...         ...   \n",
       "222      0.007959 -1.120096e-02   -0.004674   -0.006257    0.020894   \n",
       "223      0.013036  1.213623e-02    0.010329    0.011539   -0.026720   \n",
       "224      0.028548 -1.221946e-02   -0.017056   -0.018814   -0.017453   \n",
       "225     -0.015812 -8.709624e-04    0.002709   -0.002658   -0.007560   \n",
       "226      0.003753 -1.872990e-02    0.022180    0.038368    0.007354   \n",
       "\n",
       "     ZABEOTYP_5  ZABEOTYP_6  \n",
       "0     -0.000053   -0.000044  \n",
       "1      0.001338    0.001501  \n",
       "2     -0.008602    0.001150  \n",
       "3      0.002620   -0.001211  \n",
       "4      0.000948    0.001237  \n",
       "..          ...         ...  \n",
       "222    0.023288   -0.066349  \n",
       "223    0.002852    0.013601  \n",
       "224    0.053468   -0.038489  \n",
       "225    0.026490   -0.056950  \n",
       "226   -0.022189   -0.021194  \n",
       "\n",
       "[227 rows x 1009 columns]"
      ]
     },
     "execution_count": 171,
     "metadata": {},
     "output_type": "execute_result"
    }
   ],
   "source": [
    "pca_df"
   ]
  },
  {
   "cell_type": "code",
   "execution_count": 172,
   "metadata": {},
   "outputs": [],
   "source": [
    "df_features = pd.read_excel(\n",
    "    'DIAS Information Levels - Attributes 2017.xlsx', header=[1], usecols=[2, 3], index_col=[0])\n",
    "df_features = df_features.reset_index()"
   ]
  },
  {
   "cell_type": "code",
   "execution_count": 173,
   "metadata": {},
   "outputs": [],
   "source": [
    "def print_pca(pca_df, pca_n, n, df_features):\n",
    "    \"\"\"based on the outcomes of PCA, print the mostly and least weighte of the i-th PCA\n",
    "\n",
    "    Args: \n",
    "        pca_df (dataframe): outcomes of PCA with pca in rows and features in columns \n",
    "        pca_n (int): the (i+1)-th component to print\n",
    "        n (int): features to include in summary table \n",
    "\n",
    "    Returns:\n",
    "        None\n",
    "    \"\"\"\n",
    "\n",
    "   # Highest\n",
    "    print(\"PCA {:}\".format(pca_n))\n",
    "#     print(\"{:} attributes with the HIGHEST weight\".format(n))\n",
    "    pca1 = pca_df.loc[pca_n].sort_values(\n",
    "        ascending=False).head(n).reset_index().copy()\n",
    "    pca1.columns = ['Attribute', 'Weight']\n",
    "\n",
    "#     try:\n",
    "    pca1['Description'] = pca1['Attribute'].apply(\n",
    "            lambda x: lookup_description(df_features, x))\n",
    "#     except:\n",
    "#         pca1['Description'] = 'not availalbe'\n",
    "\n",
    "    display(pca1)"
   ]
  },
  {
   "cell_type": "code",
   "execution_count": 174,
   "metadata": {},
   "outputs": [],
   "source": [
    "def lookup_description(df_features, key):\n",
    "    try:\n",
    "        description = df_features.loc[df_features[\"Attribute\"] == key, \"Description\"].values[0]\n",
    "    except:\n",
    "        # For dummied value, split and remove the suffix in the dummies \n",
    "        try:\n",
    "            key = '_'.join(key.split(\"_\")[:-1])\n",
    "            description = df_features.loc[df_features[\"Attribute\"] == key, \"Description\"].values[0]\n",
    "        except:\n",
    "            description = 'not available'\n",
    "    return description"
   ]
  },
  {
   "cell_type": "code",
   "execution_count": 175,
   "metadata": {},
   "outputs": [],
   "source": [
    "# lookup_description(df_features, 'KBA13_ANZAHL_PKW')"
   ]
  },
  {
   "cell_type": "code",
   "execution_count": 205,
   "metadata": {
    "scrolled": false
   },
   "outputs": [
    {
     "name": "stdout",
     "output_type": "stream",
     "text": [
      "PCA 0\n"
     ]
    },
    {
     "data": {
      "text/html": [
       "<div>\n",
       "<style scoped>\n",
       "    .dataframe tbody tr th:only-of-type {\n",
       "        vertical-align: middle;\n",
       "    }\n",
       "\n",
       "    .dataframe tbody tr th {\n",
       "        vertical-align: top;\n",
       "    }\n",
       "\n",
       "    .dataframe thead th {\n",
       "        text-align: right;\n",
       "    }\n",
       "</style>\n",
       "<table border=\"1\" class=\"dataframe\">\n",
       "  <thead>\n",
       "    <tr style=\"text-align: right;\">\n",
       "      <th></th>\n",
       "      <th>Attribute</th>\n",
       "      <th>Weight</th>\n",
       "      <th>Description</th>\n",
       "    </tr>\n",
       "  </thead>\n",
       "  <tbody>\n",
       "    <tr>\n",
       "      <th>0</th>\n",
       "      <td>KBA13_ANZAHL_PKW</td>\n",
       "      <td>0.999946</td>\n",
       "      <td>number of cars in the PLZ8</td>\n",
       "    </tr>\n",
       "    <tr>\n",
       "      <th>1</th>\n",
       "      <td>EXTSEL992</td>\n",
       "      <td>0.001984</td>\n",
       "      <td>not available</td>\n",
       "    </tr>\n",
       "    <tr>\n",
       "      <th>2</th>\n",
       "      <td>VK_DISTANZ</td>\n",
       "      <td>0.000797</td>\n",
       "      <td>not available</td>\n",
       "    </tr>\n",
       "    <tr>\n",
       "      <th>3</th>\n",
       "      <td>CAMEO_DEU_2015_25</td>\n",
       "      <td>0.000498</td>\n",
       "      <td>CAMEO_4.0: specific group</td>\n",
       "    </tr>\n",
       "  </tbody>\n",
       "</table>\n",
       "</div>"
      ],
      "text/plain": [
       "           Attribute    Weight                 Description\n",
       "0   KBA13_ANZAHL_PKW  0.999946  number of cars in the PLZ8\n",
       "1          EXTSEL992  0.001984               not available\n",
       "2         VK_DISTANZ  0.000797               not available\n",
       "3  CAMEO_DEU_2015_25  0.000498   CAMEO_4.0: specific group"
      ]
     },
     "metadata": {},
     "output_type": "display_data"
    },
    {
     "name": "stdout",
     "output_type": "stream",
     "text": [
      "PCA 1\n"
     ]
    },
    {
     "data": {
      "text/html": [
       "<div>\n",
       "<style scoped>\n",
       "    .dataframe tbody tr th:only-of-type {\n",
       "        vertical-align: middle;\n",
       "    }\n",
       "\n",
       "    .dataframe tbody tr th {\n",
       "        vertical-align: top;\n",
       "    }\n",
       "\n",
       "    .dataframe thead th {\n",
       "        text-align: right;\n",
       "    }\n",
       "</style>\n",
       "<table border=\"1\" class=\"dataframe\">\n",
       "  <thead>\n",
       "    <tr style=\"text-align: right;\">\n",
       "      <th></th>\n",
       "      <th>Attribute</th>\n",
       "      <th>Weight</th>\n",
       "      <th>Description</th>\n",
       "    </tr>\n",
       "  </thead>\n",
       "  <tbody>\n",
       "    <tr>\n",
       "      <th>0</th>\n",
       "      <td>ANZ_HAUSHALTE_AKTIV</td>\n",
       "      <td>0.718276</td>\n",
       "      <td>number of households known in this building</td>\n",
       "    </tr>\n",
       "    <tr>\n",
       "      <th>1</th>\n",
       "      <td>ANZ_STATISTISCHE_HAUSHALTE</td>\n",
       "      <td>0.683655</td>\n",
       "      <td>not available</td>\n",
       "    </tr>\n",
       "    <tr>\n",
       "      <th>2</th>\n",
       "      <td>EXTSEL992</td>\n",
       "      <td>0.087512</td>\n",
       "      <td>not available</td>\n",
       "    </tr>\n",
       "    <tr>\n",
       "      <th>3</th>\n",
       "      <td>EINGEZOGENAM_HH_JAHR</td>\n",
       "      <td>0.067769</td>\n",
       "      <td>not available</td>\n",
       "    </tr>\n",
       "  </tbody>\n",
       "</table>\n",
       "</div>"
      ],
      "text/plain": [
       "                    Attribute    Weight  \\\n",
       "0         ANZ_HAUSHALTE_AKTIV  0.718276   \n",
       "1  ANZ_STATISTISCHE_HAUSHALTE  0.683655   \n",
       "2                   EXTSEL992  0.087512   \n",
       "3        EINGEZOGENAM_HH_JAHR  0.067769   \n",
       "\n",
       "                                   Description  \n",
       "0  number of households known in this building  \n",
       "1                                not available  \n",
       "2                                not available  \n",
       "3                                not available  "
      ]
     },
     "metadata": {},
     "output_type": "display_data"
    },
    {
     "name": "stdout",
     "output_type": "stream",
     "text": [
      "PCA 2\n"
     ]
    },
    {
     "data": {
      "text/html": [
       "<div>\n",
       "<style scoped>\n",
       "    .dataframe tbody tr th:only-of-type {\n",
       "        vertical-align: middle;\n",
       "    }\n",
       "\n",
       "    .dataframe tbody tr th {\n",
       "        vertical-align: top;\n",
       "    }\n",
       "\n",
       "    .dataframe thead th {\n",
       "        text-align: right;\n",
       "    }\n",
       "</style>\n",
       "<table border=\"1\" class=\"dataframe\">\n",
       "  <thead>\n",
       "    <tr style=\"text-align: right;\">\n",
       "      <th></th>\n",
       "      <th>Attribute</th>\n",
       "      <th>Weight</th>\n",
       "      <th>Description</th>\n",
       "    </tr>\n",
       "  </thead>\n",
       "  <tbody>\n",
       "    <tr>\n",
       "      <th>0</th>\n",
       "      <td>ANZ_STATISTISCHE_HAUSHALTE</td>\n",
       "      <td>0.047198</td>\n",
       "      <td>not available</td>\n",
       "    </tr>\n",
       "    <tr>\n",
       "      <th>1</th>\n",
       "      <td>ANZ_HAUSHALTE_AKTIV</td>\n",
       "      <td>0.038547</td>\n",
       "      <td>number of households known in this building</td>\n",
       "    </tr>\n",
       "    <tr>\n",
       "      <th>2</th>\n",
       "      <td>ALTER_KIND1</td>\n",
       "      <td>0.031379</td>\n",
       "      <td>not available</td>\n",
       "    </tr>\n",
       "    <tr>\n",
       "      <th>3</th>\n",
       "      <td>KOMBIALTER_4</td>\n",
       "      <td>0.019245</td>\n",
       "      <td>not available</td>\n",
       "    </tr>\n",
       "  </tbody>\n",
       "</table>\n",
       "</div>"
      ],
      "text/plain": [
       "                    Attribute    Weight  \\\n",
       "0  ANZ_STATISTISCHE_HAUSHALTE  0.047198   \n",
       "1         ANZ_HAUSHALTE_AKTIV  0.038547   \n",
       "2                 ALTER_KIND1  0.031379   \n",
       "3                KOMBIALTER_4  0.019245   \n",
       "\n",
       "                                   Description  \n",
       "0                                not available  \n",
       "1  number of households known in this building  \n",
       "2                                not available  \n",
       "3                                not available  "
      ]
     },
     "metadata": {},
     "output_type": "display_data"
    },
    {
     "name": "stdout",
     "output_type": "stream",
     "text": [
      "PCA 3\n"
     ]
    },
    {
     "data": {
      "text/html": [
       "<div>\n",
       "<style scoped>\n",
       "    .dataframe tbody tr th:only-of-type {\n",
       "        vertical-align: middle;\n",
       "    }\n",
       "\n",
       "    .dataframe tbody tr th {\n",
       "        vertical-align: top;\n",
       "    }\n",
       "\n",
       "    .dataframe thead th {\n",
       "        text-align: right;\n",
       "    }\n",
       "</style>\n",
       "<table border=\"1\" class=\"dataframe\">\n",
       "  <thead>\n",
       "    <tr style=\"text-align: right;\">\n",
       "      <th></th>\n",
       "      <th>Attribute</th>\n",
       "      <th>Weight</th>\n",
       "      <th>Description</th>\n",
       "    </tr>\n",
       "  </thead>\n",
       "  <tbody>\n",
       "    <tr>\n",
       "      <th>0</th>\n",
       "      <td>GEBURTSJAHR</td>\n",
       "      <td>0.336789</td>\n",
       "      <td>year of birth</td>\n",
       "    </tr>\n",
       "    <tr>\n",
       "      <th>1</th>\n",
       "      <td>ANZ_STATISTISCHE_HAUSHALTE</td>\n",
       "      <td>0.056823</td>\n",
       "      <td>not available</td>\n",
       "    </tr>\n",
       "    <tr>\n",
       "      <th>2</th>\n",
       "      <td>ANZ_HAUSHALTE_AKTIV</td>\n",
       "      <td>0.055632</td>\n",
       "      <td>number of households known in this building</td>\n",
       "    </tr>\n",
       "    <tr>\n",
       "      <th>3</th>\n",
       "      <td>EINGEFUEGT_AM</td>\n",
       "      <td>0.023218</td>\n",
       "      <td>not available</td>\n",
       "    </tr>\n",
       "  </tbody>\n",
       "</table>\n",
       "</div>"
      ],
      "text/plain": [
       "                    Attribute    Weight  \\\n",
       "0                 GEBURTSJAHR  0.336789   \n",
       "1  ANZ_STATISTISCHE_HAUSHALTE  0.056823   \n",
       "2         ANZ_HAUSHALTE_AKTIV  0.055632   \n",
       "3               EINGEFUEGT_AM  0.023218   \n",
       "\n",
       "                                   Description  \n",
       "0                                year of birth  \n",
       "1                                not available  \n",
       "2  number of households known in this building  \n",
       "3                                not available  "
      ]
     },
     "metadata": {},
     "output_type": "display_data"
    },
    {
     "name": "stdout",
     "output_type": "stream",
     "text": [
      "PCA 4\n"
     ]
    },
    {
     "data": {
      "text/html": [
       "<div>\n",
       "<style scoped>\n",
       "    .dataframe tbody tr th:only-of-type {\n",
       "        vertical-align: middle;\n",
       "    }\n",
       "\n",
       "    .dataframe tbody tr th {\n",
       "        vertical-align: top;\n",
       "    }\n",
       "\n",
       "    .dataframe thead th {\n",
       "        text-align: right;\n",
       "    }\n",
       "</style>\n",
       "<table border=\"1\" class=\"dataframe\">\n",
       "  <thead>\n",
       "    <tr style=\"text-align: right;\">\n",
       "      <th></th>\n",
       "      <th>Attribute</th>\n",
       "      <th>Weight</th>\n",
       "      <th>Description</th>\n",
       "    </tr>\n",
       "  </thead>\n",
       "  <tbody>\n",
       "    <tr>\n",
       "      <th>0</th>\n",
       "      <td>VERDICHTUNGSRAUM</td>\n",
       "      <td>0.970666</td>\n",
       "      <td>not available</td>\n",
       "    </tr>\n",
       "    <tr>\n",
       "      <th>1</th>\n",
       "      <td>EINGEZOGENAM_HH_JAHR</td>\n",
       "      <td>0.212208</td>\n",
       "      <td>not available</td>\n",
       "    </tr>\n",
       "    <tr>\n",
       "      <th>2</th>\n",
       "      <td>EINGEFUEGT_AM</td>\n",
       "      <td>0.050753</td>\n",
       "      <td>not available</td>\n",
       "    </tr>\n",
       "    <tr>\n",
       "      <th>3</th>\n",
       "      <td>MIN_GEBAEUDEJAHR</td>\n",
       "      <td>0.039851</td>\n",
       "      <td>year the building was first mentioned in our d...</td>\n",
       "    </tr>\n",
       "  </tbody>\n",
       "</table>\n",
       "</div>"
      ],
      "text/plain": [
       "              Attribute    Weight  \\\n",
       "0      VERDICHTUNGSRAUM  0.970666   \n",
       "1  EINGEZOGENAM_HH_JAHR  0.212208   \n",
       "2         EINGEFUEGT_AM  0.050753   \n",
       "3      MIN_GEBAEUDEJAHR  0.039851   \n",
       "\n",
       "                                         Description  \n",
       "0                                      not available  \n",
       "1                                      not available  \n",
       "2                                      not available  \n",
       "3  year the building was first mentioned in our d...  "
      ]
     },
     "metadata": {},
     "output_type": "display_data"
    },
    {
     "name": "stdout",
     "output_type": "stream",
     "text": [
      "PCA 5\n"
     ]
    },
    {
     "data": {
      "text/html": [
       "<div>\n",
       "<style scoped>\n",
       "    .dataframe tbody tr th:only-of-type {\n",
       "        vertical-align: middle;\n",
       "    }\n",
       "\n",
       "    .dataframe tbody tr th {\n",
       "        vertical-align: top;\n",
       "    }\n",
       "\n",
       "    .dataframe thead th {\n",
       "        text-align: right;\n",
       "    }\n",
       "</style>\n",
       "<table border=\"1\" class=\"dataframe\">\n",
       "  <thead>\n",
       "    <tr style=\"text-align: right;\">\n",
       "      <th></th>\n",
       "      <th>Attribute</th>\n",
       "      <th>Weight</th>\n",
       "      <th>Description</th>\n",
       "    </tr>\n",
       "  </thead>\n",
       "  <tbody>\n",
       "    <tr>\n",
       "      <th>0</th>\n",
       "      <td>EINGEZOGENAM_HH_JAHR</td>\n",
       "      <td>0.898357</td>\n",
       "      <td>not available</td>\n",
       "    </tr>\n",
       "    <tr>\n",
       "      <th>1</th>\n",
       "      <td>EINGEFUEGT_AM</td>\n",
       "      <td>0.228965</td>\n",
       "      <td>not available</td>\n",
       "    </tr>\n",
       "    <tr>\n",
       "      <th>2</th>\n",
       "      <td>MIN_GEBAEUDEJAHR</td>\n",
       "      <td>0.191747</td>\n",
       "      <td>year the building was first mentioned in our d...</td>\n",
       "    </tr>\n",
       "    <tr>\n",
       "      <th>3</th>\n",
       "      <td>KBA05_HERSTTEMP_5.0</td>\n",
       "      <td>0.012879</td>\n",
       "      <td>Development of the most common car manufacture...</td>\n",
       "    </tr>\n",
       "  </tbody>\n",
       "</table>\n",
       "</div>"
      ],
      "text/plain": [
       "              Attribute    Weight  \\\n",
       "0  EINGEZOGENAM_HH_JAHR  0.898357   \n",
       "1         EINGEFUEGT_AM  0.228965   \n",
       "2      MIN_GEBAEUDEJAHR  0.191747   \n",
       "3   KBA05_HERSTTEMP_5.0  0.012879   \n",
       "\n",
       "                                         Description  \n",
       "0                                      not available  \n",
       "1                                      not available  \n",
       "2  year the building was first mentioned in our d...  \n",
       "3  Development of the most common car manufacture...  "
      ]
     },
     "metadata": {},
     "output_type": "display_data"
    }
   ],
   "source": [
    "for pca_n in np.arange(6):\n",
    "    print_pca(pca_df, pca_n,  4, df_features)"
   ]
  },
  {
   "cell_type": "markdown",
   "metadata": {},
   "source": [
    "## clustering"
   ]
  },
  {
   "cell_type": "code",
   "execution_count": 177,
   "metadata": {},
   "outputs": [],
   "source": [
    "from sklearn.cluster import KMeans\n",
    "\n",
    "clusters = 20\n",
    "\n",
    "scores = [KMeans(n_clusters=i+2).fit(azdias_pca).inertia_ for i in range(clusters)]\n"
   ]
  },
  {
   "cell_type": "code",
   "execution_count": 178,
   "metadata": {},
   "outputs": [
    {
     "data": {
      "image/png": "[encoded data removed]",
      "text/plain": [
       "<Figure size 720x432 with 1 Axes>"
      ]
     },
     "metadata": {
      "needs_background": "light"
     },
     "output_type": "display_data"
    }
   ],
   "source": [
    "plt.figure(figsize=(10, 6))\n",
    "\n",
    "sns.lineplot(np.arange(clusters) + 2, scores)\n",
    "plt.xlabel('Number of clusters')\n",
    "plt.ylabel(\"Inertia\")\n",
    "plt.title(\"Inertia of KMeans versus number of clusters\");\n",
    "plt.savefig('./fig/knmeans.png')"
   ]
  },
  {
   "cell_type": "markdown",
   "metadata": {},
   "source": [
    "## unsuperivised learning pipeline"
   ]
  },
  {
   "cell_type": "code",
   "execution_count": 206,
   "metadata": {},
   "outputs": [],
   "source": [
    "pca_n = n_components \n",
    "n_clusters = 10"
   ]
  },
  {
   "cell_type": "code",
   "execution_count": 207,
   "metadata": {},
   "outputs": [],
   "source": [
    "clustering_pipeline = Pipeline([\n",
    "    ('pca', PCA(n_components)),\n",
    "    ('kmeans', KMeans(n_clusters=n_clusters))])"
   ]
  },
  {
   "cell_type": "code",
   "execution_count": 208,
   "metadata": {},
   "outputs": [],
   "source": [
    "clustering_pipeline.fit(azdias_clean)\n",
    "pop_cluster = clustering_pipeline.predict(azdias_clean)\n",
    "cust_cluster = clustering_pipeline.predict(customer_clean)"
   ]
  },
  {
   "cell_type": "code",
   "execution_count": 209,
   "metadata": {},
   "outputs": [],
   "source": [
    "# compare_dataframe_columns(azdias_clean, customer_clean)"
   ]
  },
  {
   "cell_type": "code",
   "execution_count": 210,
   "metadata": {},
   "outputs": [
    {
     "data": {
      "image/png": "[encoded data removed]",
      "text/plain": [
       "<Figure size 720x432 with 1 Axes>"
      ]
     },
     "metadata": {
      "needs_background": "light"
     },
     "output_type": "display_data"
    }
   ],
   "source": [
    "df_cust = pd.DataFrame()\n",
    "df_cust['cluster'] = cust_cluster\n",
    "df_cust['group'] = 'customers'\n",
    "\n",
    "df_pop = pd.DataFrame()\n",
    "df_pop['cluster'] = pop_cluster\n",
    "df_pop['group'] = 'general_population'\n",
    "\n",
    "df = pd.concat([df_cust, df_pop])\n",
    "\n",
    "x, y = 'group', 'cluster'\n",
    "df1 = df.groupby(x)[y].value_counts(normalize=True).mul(100)\n",
    "df1 = df1.rename('percent').reset_index()\n",
    "\n",
    "g = sns.catplot(x=y,y='percent',hue=x, kind='bar',data=df1, legend=True, legend_out=False)\n",
    "g.fig.set_size_inches(10,6)\n",
    "\n",
    "ax = g.axes.flatten()[0]\n",
    "ax.set_ylabel('propotion [%]')\n",
    "ax.set_title('distribution of general population and customer');\n",
    "# ax.legend(bbox_to_anchor=(1.0, 1.00))\n",
    "\n",
    "fig = ax.get_figure()\n",
    "fig.savefig('./fig/cluster_compare.png')"
   ]
  },
  {
   "cell_type": "code",
   "execution_count": 211,
   "metadata": {},
   "outputs": [
    {
     "data": {
      "text/plain": [
       "<pandas.core.groupby.generic.SeriesGroupBy object at 0x000001FCA03DF240>"
      ]
     },
     "execution_count": 211,
     "metadata": {},
     "output_type": "execute_result"
    }
   ],
   "source": [
    "df1.sort_values('cluster').groupby(by='group')['percent']"
   ]
  },
  {
   "cell_type": "code",
   "execution_count": 212,
   "metadata": {},
   "outputs": [
    {
     "data": {
      "text/html": [
       "<div>\n",
       "<style scoped>\n",
       "    .dataframe tbody tr th:only-of-type {\n",
       "        vertical-align: middle;\n",
       "    }\n",
       "\n",
       "    .dataframe tbody tr th {\n",
       "        vertical-align: top;\n",
       "    }\n",
       "\n",
       "    .dataframe thead th {\n",
       "        text-align: right;\n",
       "    }\n",
       "</style>\n",
       "<table border=\"1\" class=\"dataframe\">\n",
       "  <thead>\n",
       "    <tr style=\"text-align: right;\">\n",
       "      <th>group</th>\n",
       "      <th>customers</th>\n",
       "      <th>general_population</th>\n",
       "    </tr>\n",
       "    <tr>\n",
       "      <th>cluster</th>\n",
       "      <th></th>\n",
       "      <th></th>\n",
       "    </tr>\n",
       "  </thead>\n",
       "  <tbody>\n",
       "    <tr>\n",
       "      <th>0</th>\n",
       "      <td>3.131718</td>\n",
       "      <td>11.182748</td>\n",
       "    </tr>\n",
       "    <tr>\n",
       "      <th>1</th>\n",
       "      <td>10.861875</td>\n",
       "      <td>7.913301</td>\n",
       "    </tr>\n",
       "    <tr>\n",
       "      <th>2</th>\n",
       "      <td>23.755557</td>\n",
       "      <td>8.585525</td>\n",
       "    </tr>\n",
       "    <tr>\n",
       "      <th>3</th>\n",
       "      <td>2.987707</td>\n",
       "      <td>10.511198</td>\n",
       "    </tr>\n",
       "    <tr>\n",
       "      <th>4</th>\n",
       "      <td>0.861457</td>\n",
       "      <td>13.086541</td>\n",
       "    </tr>\n",
       "    <tr>\n",
       "      <th>5</th>\n",
       "      <td>0.678313</td>\n",
       "      <td>11.948103</td>\n",
       "    </tr>\n",
       "    <tr>\n",
       "      <th>6</th>\n",
       "      <td>3.183374</td>\n",
       "      <td>10.061477</td>\n",
       "    </tr>\n",
       "    <tr>\n",
       "      <th>7</th>\n",
       "      <td>30.386325</td>\n",
       "      <td>7.053582</td>\n",
       "    </tr>\n",
       "    <tr>\n",
       "      <th>8</th>\n",
       "      <td>9.076347</td>\n",
       "      <td>10.182435</td>\n",
       "    </tr>\n",
       "    <tr>\n",
       "      <th>9</th>\n",
       "      <td>15.077328</td>\n",
       "      <td>9.475091</td>\n",
       "    </tr>\n",
       "  </tbody>\n",
       "</table>\n",
       "</div>"
      ],
      "text/plain": [
       "group    customers  general_population\n",
       "cluster                               \n",
       "0         3.131718           11.182748\n",
       "1        10.861875            7.913301\n",
       "2        23.755557            8.585525\n",
       "3         2.987707           10.511198\n",
       "4         0.861457           13.086541\n",
       "5         0.678313           11.948103\n",
       "6         3.183374           10.061477\n",
       "7        30.386325            7.053582\n",
       "8         9.076347           10.182435\n",
       "9        15.077328            9.475091"
      ]
     },
     "execution_count": 212,
     "metadata": {},
     "output_type": "execute_result"
    }
   ],
   "source": [
    "df1.pivot('cluster', 'group', 'percent')"
   ]
  },
  {
   "cell_type": "markdown",
   "metadata": {},
   "source": [
    "### difference between two data groups"
   ]
  },
  {
   "cell_type": "code",
   "execution_count": 213,
   "metadata": {},
   "outputs": [],
   "source": [
    "df_diff = df1.pivot('cluster', 'group', 'percent').assign(diff = lambda x: x.customers - x.general_population).reset_index()"
   ]
  },
  {
   "cell_type": "code",
   "execution_count": 214,
   "metadata": {},
   "outputs": [
    {
     "data": {
      "image/png": "[encoded data removed]",
      "text/plain": [
       "<Figure size 720x432 with 1 Axes>"
      ]
     },
     "metadata": {
      "needs_background": "light"
     },
     "output_type": "display_data"
    }
   ],
   "source": [
    "ax = sns.barplot(x = 'cluster', y = 'diff', data = df_diff)\n",
    "fig = ax.get_figure()\n",
    "fig.set_size_inches(10,6)\n",
    "# ax.set_size_inches(10,6)\n",
    "ax.set_title('difference in proportion, between customer and general polulation');\n",
    "fig = ax.get_figure()\n",
    "fig.savefig('./fig/cluster_group_differnce.png')"
   ]
  },
  {
   "cell_type": "code",
   "execution_count": 215,
   "metadata": {},
   "outputs": [],
   "source": [
    "# extract distrance to center for the first 10 principle components\n",
    "cluster_df = pd.DataFrame(clustering_pipeline.named_steps['kmeans'].cluster_centers_[:,:10])"
   ]
  },
  {
   "cell_type": "code",
   "execution_count": 216,
   "metadata": {},
   "outputs": [],
   "source": [
    "# cluster centers shows how each gathers around for each centers at each dimension. meaning data points of this cluster will have a value close to the center of this diemnsion"
   ]
  },
  {
   "cell_type": "markdown",
   "metadata": {},
   "source": [
    "### heatmap for pca"
   ]
  },
  {
   "cell_type": "code",
   "execution_count": 217,
   "metadata": {},
   "outputs": [
    {
     "data": {
      "text/html": [
       "<div>\n",
       "<style scoped>\n",
       "    .dataframe tbody tr th:only-of-type {\n",
       "        vertical-align: middle;\n",
       "    }\n",
       "\n",
       "    .dataframe tbody tr th {\n",
       "        vertical-align: top;\n",
       "    }\n",
       "\n",
       "    .dataframe thead th {\n",
       "        text-align: right;\n",
       "    }\n",
       "</style>\n",
       "<table border=\"1\" class=\"dataframe\">\n",
       "  <thead>\n",
       "    <tr style=\"text-align: right;\">\n",
       "      <th></th>\n",
       "      <th>0</th>\n",
       "      <th>1</th>\n",
       "      <th>2</th>\n",
       "      <th>3</th>\n",
       "      <th>4</th>\n",
       "      <th>5</th>\n",
       "      <th>6</th>\n",
       "      <th>7</th>\n",
       "      <th>8</th>\n",
       "      <th>9</th>\n",
       "    </tr>\n",
       "  </thead>\n",
       "  <tbody>\n",
       "    <tr>\n",
       "      <th>0</th>\n",
       "      <td>1.754407</td>\n",
       "      <td>-0.726692</td>\n",
       "      <td>-2.246991</td>\n",
       "      <td>0.470690</td>\n",
       "      <td>-0.099339</td>\n",
       "      <td>-0.459415</td>\n",
       "      <td>-0.021220</td>\n",
       "      <td>0.043574</td>\n",
       "      <td>-0.057727</td>\n",
       "      <td>0.158846</td>\n",
       "    </tr>\n",
       "    <tr>\n",
       "      <th>1</th>\n",
       "      <td>1.501233</td>\n",
       "      <td>1.457668</td>\n",
       "      <td>1.778729</td>\n",
       "      <td>-0.953107</td>\n",
       "      <td>-0.644084</td>\n",
       "      <td>-0.912421</td>\n",
       "      <td>-0.123106</td>\n",
       "      <td>0.565875</td>\n",
       "      <td>-0.059085</td>\n",
       "      <td>0.059317</td>\n",
       "    </tr>\n",
       "    <tr>\n",
       "      <th>2</th>\n",
       "      <td>-2.869546</td>\n",
       "      <td>4.123500</td>\n",
       "      <td>-1.630659</td>\n",
       "      <td>1.043134</td>\n",
       "      <td>-0.108878</td>\n",
       "      <td>0.274897</td>\n",
       "      <td>0.151819</td>\n",
       "      <td>0.104334</td>\n",
       "      <td>0.102420</td>\n",
       "      <td>-0.053810</td>\n",
       "    </tr>\n",
       "    <tr>\n",
       "      <th>3</th>\n",
       "      <td>-1.241839</td>\n",
       "      <td>-1.477141</td>\n",
       "      <td>1.158765</td>\n",
       "      <td>0.329143</td>\n",
       "      <td>0.102731</td>\n",
       "      <td>1.619737</td>\n",
       "      <td>0.249909</td>\n",
       "      <td>-0.012302</td>\n",
       "      <td>-0.009228</td>\n",
       "      <td>-0.030522</td>\n",
       "    </tr>\n",
       "    <tr>\n",
       "      <th>4</th>\n",
       "      <td>-2.100539</td>\n",
       "      <td>-2.201461</td>\n",
       "      <td>-0.744268</td>\n",
       "      <td>0.197486</td>\n",
       "      <td>-0.140367</td>\n",
       "      <td>-0.746478</td>\n",
       "      <td>-0.029996</td>\n",
       "      <td>0.101409</td>\n",
       "      <td>0.079375</td>\n",
       "      <td>-0.141179</td>\n",
       "    </tr>\n",
       "    <tr>\n",
       "      <th>5</th>\n",
       "      <td>-0.510106</td>\n",
       "      <td>-0.367781</td>\n",
       "      <td>-1.336712</td>\n",
       "      <td>-1.572683</td>\n",
       "      <td>0.398258</td>\n",
       "      <td>-0.720045</td>\n",
       "      <td>-0.133962</td>\n",
       "      <td>-0.317023</td>\n",
       "      <td>-0.018814</td>\n",
       "      <td>-0.048649</td>\n",
       "    </tr>\n",
       "    <tr>\n",
       "      <th>6</th>\n",
       "      <td>0.636733</td>\n",
       "      <td>0.366082</td>\n",
       "      <td>0.297159</td>\n",
       "      <td>-1.301551</td>\n",
       "      <td>0.267922</td>\n",
       "      <td>1.476982</td>\n",
       "      <td>0.080055</td>\n",
       "      <td>-0.148021</td>\n",
       "      <td>0.104462</td>\n",
       "      <td>0.036805</td>\n",
       "    </tr>\n",
       "    <tr>\n",
       "      <th>7</th>\n",
       "      <td>2.001215</td>\n",
       "      <td>0.851732</td>\n",
       "      <td>1.536494</td>\n",
       "      <td>0.667584</td>\n",
       "      <td>1.291226</td>\n",
       "      <td>-0.780794</td>\n",
       "      <td>0.161486</td>\n",
       "      <td>-0.733711</td>\n",
       "      <td>0.117931</td>\n",
       "      <td>-0.204061</td>\n",
       "    </tr>\n",
       "    <tr>\n",
       "      <th>8</th>\n",
       "      <td>-0.809820</td>\n",
       "      <td>0.002082</td>\n",
       "      <td>2.859262</td>\n",
       "      <td>0.615657</td>\n",
       "      <td>-0.479384</td>\n",
       "      <td>-0.682158</td>\n",
       "      <td>-0.218561</td>\n",
       "      <td>0.108913</td>\n",
       "      <td>-0.269385</td>\n",
       "      <td>0.189868</td>\n",
       "    </tr>\n",
       "    <tr>\n",
       "      <th>9</th>\n",
       "      <td>2.903125</td>\n",
       "      <td>0.022030</td>\n",
       "      <td>-0.460887</td>\n",
       "      <td>0.864117</td>\n",
       "      <td>-0.399245</td>\n",
       "      <td>0.942299</td>\n",
       "      <td>-0.047124</td>\n",
       "      <td>0.241196</td>\n",
       "      <td>0.039797</td>\n",
       "      <td>0.010716</td>\n",
       "    </tr>\n",
       "  </tbody>\n",
       "</table>\n",
       "</div>"
      ],
      "text/plain": [
       "          0         1         2         3         4         5         6  \\\n",
       "0  1.754407 -0.726692 -2.246991  0.470690 -0.099339 -0.459415 -0.021220   \n",
       "1  1.501233  1.457668  1.778729 -0.953107 -0.644084 -0.912421 -0.123106   \n",
       "2 -2.869546  4.123500 -1.630659  1.043134 -0.108878  0.274897  0.151819   \n",
       "3 -1.241839 -1.477141  1.158765  0.329143  0.102731  1.619737  0.249909   \n",
       "4 -2.100539 -2.201461 -0.744268  0.197486 -0.140367 -0.746478 -0.029996   \n",
       "5 -0.510106 -0.367781 -1.336712 -1.572683  0.398258 -0.720045 -0.133962   \n",
       "6  0.636733  0.366082  0.297159 -1.301551  0.267922  1.476982  0.080055   \n",
       "7  2.001215  0.851732  1.536494  0.667584  1.291226 -0.780794  0.161486   \n",
       "8 -0.809820  0.002082  2.859262  0.615657 -0.479384 -0.682158 -0.218561   \n",
       "9  2.903125  0.022030 -0.460887  0.864117 -0.399245  0.942299 -0.047124   \n",
       "\n",
       "          7         8         9  \n",
       "0  0.043574 -0.057727  0.158846  \n",
       "1  0.565875 -0.059085  0.059317  \n",
       "2  0.104334  0.102420 -0.053810  \n",
       "3 -0.012302 -0.009228 -0.030522  \n",
       "4  0.101409  0.079375 -0.141179  \n",
       "5 -0.317023 -0.018814 -0.048649  \n",
       "6 -0.148021  0.104462  0.036805  \n",
       "7 -0.733711  0.117931 -0.204061  \n",
       "8  0.108913 -0.269385  0.189868  \n",
       "9  0.241196  0.039797  0.010716  "
      ]
     },
     "execution_count": 217,
     "metadata": {},
     "output_type": "execute_result"
    }
   ],
   "source": [
    "cluster_df"
   ]
  },
  {
   "cell_type": "code",
   "execution_count": 218,
   "metadata": {},
   "outputs": [
    {
     "data": {
      "image/png": "[encoded data removed]",
      "text/plain": [
       "<Figure size 720x432 with 2 Axes>"
      ]
     },
     "metadata": {
      "needs_background": "light"
     },
     "output_type": "display_data"
    }
   ],
   "source": [
    "plt.figure(figsize=(10, 6))\n",
    "\n",
    "cmap = sns.diverging_palette(220, 20, as_cmap=True)\n",
    "ax = sns.heatmap(cluster_df, annot=True, cmap = cmap,fmt='0.1f')\n",
    "ax.axes.set_xlabel('PCA')\n",
    "ax.axes.set_ylabel('clusters')\n",
    "fig = ax.get_figure()\n",
    "fig.savefig('./fig/cluster_heatmap.png')"
   ]
  },
  {
   "cell_type": "code",
   "execution_count": null,
   "metadata": {
    "scrolled": false
   },
   "outputs": [],
   "source": []
  },
  {
   "cell_type": "markdown",
   "metadata": {},
   "source": [
    "# Supervised Learning Model\n",
    "\n",
    "Now that you've found which parts of the population are more likely to be customers of the mail-order company, it's time to build a prediction model. Each of the rows in the \"MAILOUT\" data files represents an individual that was targeted for a mailout campaign. Ideally, we should be able to use the demographic information from each individual to decide whether or not it will be worth it to include that person in the campaign.\n",
    "\n",
    "The \"MAILOUT\" data has been split into two approximately equal parts, each with almost 43 000 data rows. In this part, you can verify your model with the \"TRAIN\" partition, which includes a column, \"RESPONSE\", that states whether or not a person became a customer of the company following the campaign. In the next part, you'll need to create predictions on the \"TEST\" partition, where the \"RESPONSE\" column has been withheld."
   ]
  },
  {
   "cell_type": "code",
   "execution_count": 192,
   "metadata": {},
   "outputs": [],
   "source": [
    "#Custom Transformer that extracts columns passed as argument to its constructor \n",
    "class FeatureReduction_2( BaseEstimator, TransformerMixin ):\n",
    "    #Class Constructor \n",
    "    def __init__( self, feat_summary):\n",
    "        self._feat_summary = feat_summary\n",
    "#         self._nan_threshold = nan_threshold\n",
    "#         self._features_to_keep = features_to_keep\n",
    "    \n",
    "    #Return self nothing else to do here    \n",
    "    def fit( self, X, y = None ):\n",
    "        return self \n",
    "    \n",
    "    #Method that describes what we need this transformer to do\n",
    "    def transform( self, X, y = None ):\n",
    "        df_transformed = data_cleaning_2(X, self._feat_summary)\n",
    "        df_transformed = lable_encoding(df_transformed)\n",
    "        df_transformed['EINGEFUEGT_AM'] = pd.DatetimeIndex(df_transformed['EINGEFUEGT_AM']).year\n",
    "        return df_transformed"
   ]
  },
  {
   "cell_type": "code",
   "execution_count": 193,
   "metadata": {},
   "outputs": [],
   "source": [
    "def data_cleaning_2(df, feat_summary):\n",
    "    \"\"\"clean data frame, drop redundant columns/rows\n",
    "    Args: \n",
    "        df:  input data frame \n",
    "        feat_summary: meta data summary \n",
    "        nan_theshold (float): threshold for dropping rows and columns, if the ratio of nan exceedes it(<1)\n",
    "\n",
    "    Retruns:\n",
    "        df(pd.DataFrame): pandas dataframe withe reduced dimension\n",
    "    \"\"\"\n",
    "    \n",
    "    print('# step 1: replace missing values or unknowns as np.nan')\n",
    "    df = unkown_mapping(df, feat_summary)\n",
    "    df.replace(['X', 'XX'], np.nan, inplace=True)\n",
    "    \n",
    "    return df"
   ]
  },
  {
   "cell_type": "code",
   "execution_count": 194,
   "metadata": {},
   "outputs": [],
   "source": [
    "def data_cleaing_pipeline_2(feat_summary, num_cols, cat_cols, ord_cols):\n",
    "    \"\"\"[summary]\n",
    "    Args:\n",
    "        feat_summary (pd.df): info on features\n",
    "        nan_threshold (float): if the portion of nan exceeds, the row/column will be dropped\n",
    "\n",
    "    Returns:\n",
    "        data_cleaing_pipeline \n",
    "    \"\"\"\n",
    "    num_transformer = Pipeline(steps=[\n",
    "        ('imputer', SimpleImputer(missing_values=np.nan, strategy='median')),\n",
    "        ('scaler', MinMaxScaler())\n",
    "    ])\n",
    "\n",
    "    cat_transformer = Pipeline(steps=[\n",
    "        ('imputer', SimpleImputer(missing_values=np.nan, strategy='most_frequent')),\n",
    "        ('onehot', OneHotEncoder())])\n",
    "\n",
    "    ord_transformer = Pipeline(steps=[\n",
    "        ('imputer', SimpleImputer(missing_values=np.nan, strategy='median')),\n",
    "        ('scaler', MinMaxScaler())\n",
    "    ])\n",
    "\n",
    "    combined_pipe = ColumnTransformer(\n",
    "        transformers=[\n",
    "            ('num', num_transformer, num_cols),\n",
    "            ('cat', cat_transformer, cat_cols),\n",
    "            ('ord', ord_transformer, ord_cols)],\n",
    "        sparse_threshold=0)\n",
    "\n",
    "    data_cleaing_pipeline = Pipeline(steps=[\n",
    "        ('reduce_dimension', FeatureReduction_2(feat_summary)),\n",
    "        ('combined_pipe', combined_pipe)])\n",
    "\n",
    "    return data_cleaing_pipeline"
   ]
  },
  {
   "cell_type": "code",
   "execution_count": 195,
   "metadata": {},
   "outputs": [],
   "source": [
    "mailout_train = pd.read_csv('./data/Udacity_MAILOUT_052018_TRAIN.csv', sep=';', dtype = dtype)\n",
    "mailout_test = pd.read_csv('./data/Udacity_MAILOUT_052018_TEST.csv', sep=';', dtype = dtype)"
   ]
  },
  {
   "cell_type": "code",
   "execution_count": 196,
   "metadata": {
    "scrolled": true
   },
   "outputs": [
    {
     "name": "stdout",
     "output_type": "stream",
     "text": [
      "total records: 42962\n",
      "who became customers: 532\n",
      "who did not become customers: 42430\n",
      "na's in the RESPONSE column: 0\n",
      "portion of response: 1.24%\n"
     ]
    }
   ],
   "source": [
    "mailout_train.groupby(by ='RESPONSE')['RESPONSE'].count()/len(mailout_train)*100\n",
    "n_records = len(mailout_train)\n",
    "n_customer = (mailout_train['RESPONSE'] ==1).sum()\n",
    "n_not_customer =  (mailout_train['RESPONSE'] ==0).sum()\n",
    "n_na =  mailout_train[\"RESPONSE\"].isna().sum()\n",
    "customer_perc = n_customer/n_records*100\n",
    "\n",
    "# Print the results\n",
    "print(\"total records: {:}\".format(n_records))\n",
    "print(\"who became customers: {:}\".format(n_customer))\n",
    "print(\"who did not become customers: {:}\".format(n_not_customer))\n",
    "print(\"na\\'s in the RESPONSE column: {:}\".format(n_na))\n",
    "print(\"portion of response: {:0.2f}%\".format(customer_perc))"
   ]
  },
  {
   "cell_type": "markdown",
   "metadata": {},
   "source": [
    "### use pipeline to clean the data"
   ]
  },
  {
   "cell_type": "code",
   "execution_count": 197,
   "metadata": {},
   "outputs": [],
   "source": [
    "df = drop_columns(mailout_train.drop(['LNR','RESPONSE'], axis=1), threshold = 0.99)\n",
    "features_to_keep = df.columns\n",
    "num_cols = get_features(feat_summary, typ=\"numerical\" , feat_to_keep=features_to_keep)\n",
    "cat_cols = get_features(feat_summary, typ=\"categorical\", feat_to_keep=features_to_keep)\n",
    "ord_cols = get_features(feat_summary, typ=\"ordinal\", feat_to_keep=features_to_keep)"
   ]
  },
  {
   "cell_type": "code",
   "execution_count": 198,
   "metadata": {},
   "outputs": [],
   "source": [
    "cat_cols = np.concatenate([cat_cols, ['D19_SOZIALES']])"
   ]
  },
  {
   "cell_type": "code",
   "execution_count": 199,
   "metadata": {},
   "outputs": [],
   "source": [
    "ord_cols = np.setdiff1d(ord_cols, 'D19_SOZIALES')"
   ]
  },
  {
   "cell_type": "code",
   "execution_count": 200,
   "metadata": {},
   "outputs": [
    {
     "name": "stdout",
     "output_type": "stream",
     "text": [
      "# step 1: replace missing values or unknowns as np.nan\n"
     ]
    }
   ],
   "source": [
    "# ppl_train_test = data_cleaning(feat_summary, features_to_keep)\n",
    "ppl_train = data_cleaing_pipeline_2(feat_summary, num_cols, cat_cols, ord_cols)\n",
    "transformed_data = ppl_train.fit_transform(mailout_train)\n",
    "cat_cols_transformed = ppl_train.named_steps['combined_pipe'].transformers_[1][1].named_steps['onehot']\\\n",
    "    .get_feature_names(cat_cols)\n",
    "\n",
    "df_mailout_train_clean = pd.DataFrame(transformed_data, columns=np.concatenate([\n",
    "                                 num_cols, cat_cols_transformed, ord_cols]))\n",
    "# df_mailout_train_clean = df_clean_customer.copy()\n",
    "df_mailout_train_clean['RESPONSE'] = mailout_train['RESPONSE']\n",
    "df_mailout_train_clean.to_pickle('mailout_train_cleaned.pkl')"
   ]
  },
  {
   "cell_type": "code",
   "execution_count": 201,
   "metadata": {},
   "outputs": [
    {
     "name": "stdout",
     "output_type": "stream",
     "text": [
      "# step 1: replace missing values or unknowns as np.nan\n"
     ]
    }
   ],
   "source": [
    "ppl_test = data_cleaing_pipeline_2(feat_summary, num_cols, cat_cols, ord_cols)\n",
    "transformed_data_test = ppl_test.fit_transform(mailout_test)\n",
    "cat_cols_transformed = ppl_test.named_steps['combined_pipe'].transformers_[1][1].named_steps['onehot']\\\n",
    "    .get_feature_names(cat_cols)\n",
    "\n",
    "df_mailout_test_clean = pd.DataFrame(transformed_data_test, columns=np.concatenate([\n",
    "                                 num_cols, cat_cols_transformed, ord_cols]))\n",
    "# df_mailout_test_clean['RESPONSE'] = mailout_test['RESPONSE']\n",
    "df_mailout_test_clean.to_pickle('mailout_test_cleaned.pkl')"
   ]
  }
 ],
 "metadata": {
  "kernelspec": {
   "display_name": "Python 3",
   "language": "python",
   "name": "python3"
  },
  "language_info": {
   "codemirror_mode": {
    "name": "ipython",
    "version": 3
   },
   "file_extension": ".py",
   "mimetype": "text/x-python",
   "name": "python",
   "nbconvert_exporter": "python",
   "pygments_lexer": "ipython3",
   "version": "3.7.3"
  },
  "toc": {
   "base_numbering": 1,
   "nav_menu": {},
   "number_sections": true,
   "sideBar": true,
   "skip_h1_title": false,
   "title_cell": "Table of Contents",
   "title_sidebar": "Contents",
   "toc_cell": false,
   "toc_position": {
    "height": "calc(100% - 180px)",
    "left": "10px",
    "top": "150px",
    "width": "259.983px"
   },
   "toc_section_display": true,
   "toc_window_display": true
  }
 },
 "nbformat": 4,
 "nbformat_minor": 2
}
